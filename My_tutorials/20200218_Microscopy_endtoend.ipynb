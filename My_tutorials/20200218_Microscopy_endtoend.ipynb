{
 "cells": [
  {
   "cell_type": "markdown",
   "metadata": {},
   "source": [
    "# Navigate\n",
    "\n",
    "- Import functions and modules\n",
    "- What type of microscopy do I need?\n",
    "- Selecting optimal fluorophores\n",
    "    - Bleedthrough/crosstalk/crossover\n",
    "    - Plot the spectra of different fluorophores to select ones that don't overlap:\n",
    "        - https://www.bio-rad-antibodies.com/spectraviewer.html\n",
    "- Choosing the best imaging parameters\n",
    "    - Epifluorescent\n",
    "        - Magnification\n",
    "        - Turrets/filters/wheels etc.\n",
    "        - Excitation time:\n",
    "        - ND filter\n",
    "        - EM gain\n",
    "        - Binning\n",
    "    - Confocal\n",
    "        - Pinhole\n",
    "        - Gain:\n",
    "        - Offset:\n",
    "        - Line average...\n",
    "        - good resource for leica: https://www.zmbh.uniheidelberg.de/Central_Services/Imaging_Facility/info/SP5.pdf\n",
    "    - STED\n",
    "- Troubleshooting during acquisition:\n",
    "    - Confocal:\n",
    "        - Ripple in image"
   ]
  },
  {
   "cell_type": "code",
   "execution_count": null,
   "metadata": {},
   "outputs": [],
   "source": []
  },
  {
   "cell_type": "markdown",
   "metadata": {},
   "source": [
    "## Import functions and modules"
   ]
  },
  {
   "cell_type": "code",
   "execution_count": null,
   "metadata": {},
   "outputs": [],
   "source": []
  },
  {
   "cell_type": "markdown",
   "metadata": {},
   "source": [
    "## "
   ]
  },
  {
   "cell_type": "code",
   "execution_count": null,
   "metadata": {},
   "outputs": [],
   "source": []
  },
  {
   "cell_type": "markdown",
   "metadata": {},
   "source": [
    "## Troubleshooting\n",
    "- Confocal\n",
    "    - Ripple in image:\n",
    "        - Check the bandwidth of the emission filter (PMT/APD) - It could be that it is also covering the excitation wavelength, and as a result excitation light which is reflected off of the glass is reaching the detector (and forming a large airy disk)"
   ]
  }
 ],
 "metadata": {
  "kernelspec": {
   "display_name": "Python 3",
   "language": "python",
   "name": "python3"
  },
  "language_info": {
   "codemirror_mode": {
    "name": "ipython",
    "version": 3
   },
   "file_extension": ".py",
   "mimetype": "text/x-python",
   "name": "python",
   "nbconvert_exporter": "python",
   "pygments_lexer": "ipython3",
   "version": "3.7.1"
  }
 },
 "nbformat": 4,
 "nbformat_minor": 2
}
