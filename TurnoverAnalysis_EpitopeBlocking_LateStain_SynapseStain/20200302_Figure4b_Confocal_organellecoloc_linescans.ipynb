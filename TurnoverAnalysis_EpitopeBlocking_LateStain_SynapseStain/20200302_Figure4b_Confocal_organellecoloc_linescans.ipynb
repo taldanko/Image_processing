{
 "cells": [
  {
   "cell_type": "markdown",
   "metadata": {},
   "source": [
    "## Import modules and functions"
   ]
  },
  {
   "cell_type": "code",
   "execution_count": 7,
   "metadata": {},
   "outputs": [],
   "source": [
    "import numpy as np\n",
    "import os\n",
    "from nd2reader import ND2Reader\n",
    "import matplotlib.pyplot as plt\n",
    "import matplotlib.cm as cm\n",
    "from matplotlib_scalebar.scalebar import ScaleBar\n",
    "import scipy.ndimage as ndi\n",
    "from skimage.filters import rank \n",
    "from scipy.signal import butter, lfilter\n",
    "import scipy.misc as misc\n",
    "from skimage import exposure\n",
    "from PIL import Image\n",
    "import colorcet as cc\n",
    "from scipy.misc import toimage\n",
    "import matplotlib.colors as clr\n",
    "import pandas as pd\n",
    "import seaborn as sns\n",
    "from scipy import stats\n",
    "import cv2\n",
    "from pyspark import SparkContext, SparkConf\n",
    "import skimage\n",
    "from pathlib import Path\n",
    "\n",
    "def mean2(x):\n",
    "    y = np.sum(x) / np.size(x);\n",
    "    return y\n",
    "def corr2(a,b):\n",
    "    a = a - mean2(a)\n",
    "    b = b - mean2(b)\n",
    "\n",
    "    r = (a*b).sum() / np.sqrt((a*a).sum() * (b*b).sum());\n",
    "    return r\n",
    "from copy import deepcopy\n",
    "from skimage.filters import threshold_otsu,threshold_li\n",
    "import glob\n",
    "from IPython.display import clear_output\n",
    "import scipy.io as spio\n",
    "import pims\n",
    "from skimage.measure import label, regionprops\n",
    "from skimage.color import label2rgb\n",
    "import scipy\n",
    "\n",
    "import warnings\n",
    "warnings.filterwarnings('ignore')"
   ]
  },
  {
   "cell_type": "markdown",
   "metadata": {},
   "source": [
    "## Specify experiment directory"
   ]
  },
  {
   "cell_type": "code",
   "execution_count": 8,
   "metadata": {},
   "outputs": [],
   "source": [
    "expdir='/Volumes/ukps-all$/user/tdanko/Imaging/1_ECM/Fixed culture/Leica confocal/'"
   ]
  },
  {
   "cell_type": "markdown",
   "metadata": {},
   "source": [
    "## Read normalized correlation linescans made in Matlab linescan GUI"
   ]
  },
  {
   "cell_type": "code",
   "execution_count": 9,
   "metadata": {},
   "outputs": [],
   "source": [
    "results = {\"filename\":[],\n",
    "          \"exp condition\":[],\n",
    "          \"mean correlation\":[],\n",
    "          \"correlation\":[]}\n",
    "path = os.path.dirname(expdir)  \n",
    "outputFolder = os.path.dirname(expdir + \"/new/\")\n",
    "filelist = []\n",
    "for root, _, filenames in os.walk(path):\n",
    "     for filename in filenames:\n",
    "         filelist.append(os.path.join(root, filename))      \n",
    "for i in range(0,len(filelist)):\n",
    "    if \"_analyse\" in str(filelist[i]):\n",
    "        if \"normal_corrs_all\" in str(filelist[i]):\n",
    "            #if (\"neg\" in str(filelist[i]))==False:\n",
    "                if (\"averageprojection\" in str(filelist[i]))==False:\n",
    "                    if filelist[i].endswith(\".txt\"): \n",
    "                        if str(filelist[i][:-12]) not in str(results[\"filename\"]):\n",
    "                            results[\"filename\"].append(filelist[i])\n",
    "                            if \"maxproj\" in str(filelist[i]):\n",
    "                                results[\"exp condition\"].append(filelist[i].split('/')[-3])\n",
    "                            else:\n",
    "                                results[\"exp condition\"].append(filelist[i].split('/')[-2])\n",
    "                            results[\"mean correlation\"].append(np.loadtxt(filelist[i]).mean())\n",
    "                            results[\"correlation\"].append(np.loadtxt(filelist[i]))"
   ]
  },
  {
   "cell_type": "markdown",
   "metadata": {},
   "source": [
    "## Read randomized correlations from Matlab linescan GUI"
   ]
  },
  {
   "cell_type": "code",
   "execution_count": 10,
   "metadata": {},
   "outputs": [],
   "source": [
    "newdf=pd.DataFrame(results)\n",
    "\n",
    "newdf['Protein']='None'\n",
    "\n",
    "newdf.loc[(newdf['filename'].str.contains('nt'))&(newdf['filename'].str.contains('12')), 'Protein'] = 'Int1b, all TNR Blk+12, stripped'\n",
    "newdf.loc[(newdf['filename'].str.contains('nt'))&(newdf['filename'].str.contains('surface')), 'Protein'] = 'Int1b Blk/TNR Blk, +0, surface'\n",
    "newdf.loc[newdf['filename'].str.contains('tgn'), 'Protein'] = 'TGN38/ TNR Blk, +12'\n",
    "newdf.loc[newdf['filename'].str.contains('rab11'), 'Protein'] = 'Rab11a/ TNR Blk, +12'\n",
    "newdf.loc[newdf['filename'].str.contains('cav'), 'Protein'] = 'Cav1/ TNR Blk'\n",
    "newdf.loc[newdf['filename'].str.contains('negctrl'), 'Protein'] = 'Neg ctrl vAchT'\n",
    "newdf.loc[newdf['filename'].str.contains('positivecontrol'), 'Protein'] = 'Pos ctrl 2 secondaries'\n",
    "newdf.loc[newdf['filename'].str.contains('rab7'), 'Protein'] = 'Rab7/ TNR Blk, +12'\n",
    "newdf.loc[newdf['filename'].str.contains('rab5'), 'Protein'] = 'Rab5/ TNR Blk, +12'\n",
    "newdf.loc[newdf['filename'].str.contains('lamp'), 'Protein'] = 'lamp1/ TNR Blk, +12'\n",
    "newdf.loc[(newdf['filename'].str.contains('calreticulin'))&(newdf['filename'].str.contains('maxprojection')),'Protein'] = 'Calreticulin/ TNR Blk, +12, max proj'\n",
    "newdf.loc[(newdf['filename'].str.contains('calreticulin'))&(newdf['filename'].str.contains('averageprojection')),'Protein'] = 'Calreticulin/ TNR Blk, +12, mean proj'\n",
    "newdf.loc[(newdf['filename'].str.contains('calnexin'))&(newdf['filename'].str.contains('maxprojection')),'Protein'] = 'Calnexin/ TNR Blk, +12, max proj'\n",
    "newdf.loc[(newdf['filename'].str.contains('calnexin'))&(newdf['filename'].str.contains('averageprojection')),'Protein'] = 'Calnexin/ TNR Blk, +12, mean proj'\n",
    "\n",
    "newdf[\"exp\"]=''\n",
    "newdf.loc[(newdf['filename'].str.contains('20190515_TNR550_Int1beta_stripped')),'exp'] = '20190515_TNR550_Int1beta_stripped'\n",
    "newdf.loc[(newdf['filename'].str.contains('20190605_tnr647blockplus12_int1fitc_contactincy3')),'exp'] = '20190605_tnr647blockplus12_int1fitc_contactincy3'\n",
    "newdf.loc[(newdf['filename'].str.contains('20190515_tnr550blocked_int1fitcblocked_plus0h_onlysurface_analyse')),'exp'] = '20190515_tnr550blocked_int1fitcblocked_plus0h_onlysurface_analyse'\n",
    "newdf.loc[(newdf['filename'].str.contains('20190526_tnr550blocked_int1fitcblocked_plus0h_surfaceimaging')),'exp'] = '20190526_tnr550blocked_int1fitcblocked_plus0h_surfaceimaging'\n",
    "\n",
    "newdf.loc[(newdf['filename'].str.contains('20190612_tnr647_blkplus12_intfitc_ctccy3_stripped')),'exp'] = '20190612_tnr647_blkplus12_intfitc_ctccy3_stripped'\n",
    "newdf.loc[(newdf['filename'].str.contains('20190611__tnr550blocked_int1fitcblocked_vglut635p_ctc1AMCA_plus0h_onlysurface_analyse')),'exp'] = '20190611__tnr550blocked_int1fitcblocked_vglut635p_ctc1AMCA_plus0h_onlysurface_analyse'"
   ]
  },
  {
   "cell_type": "markdown",
   "metadata": {},
   "source": [
    "## Make dataframe of % with correlation of > 0.7, mean % for each experiment"
   ]
  },
  {
   "cell_type": "code",
   "execution_count": 11,
   "metadata": {},
   "outputs": [
    {
     "ename": "NameError",
     "evalue": "name 'df_all' is not defined",
     "output_type": "error",
     "traceback": [
      "\u001b[0;31m---------------------------------------------------------------------------\u001b[0m",
      "\u001b[0;31mNameError\u001b[0m                                 Traceback (most recent call last)",
      "\u001b[0;32m<ipython-input-11-9b571d537658>\u001b[0m in \u001b[0;36m<module>\u001b[0;34m\u001b[0m\n\u001b[1;32m      1\u001b[0m results_allprot={\"Protein\":[],\"expnumber\":[],\"perc_over\":[],\n\u001b[1;32m      2\u001b[0m                 \"perc_over norm2posctrl\":[]}\n\u001b[0;32m----> 3\u001b[0;31m \u001b[0mmean_posctrl\u001b[0m\u001b[0;34m=\u001b[0m\u001b[0mdf_all\u001b[0m\u001b[0;34m[\u001b[0m\u001b[0mdf_all\u001b[0m\u001b[0;34m[\u001b[0m\u001b[0;34m\"Protein\"\u001b[0m\u001b[0;34m]\u001b[0m\u001b[0;34m==\u001b[0m\u001b[0;34m\"Pos ctrl 2 secondaries\"\u001b[0m\u001b[0;34m]\u001b[0m\u001b[0;34m[\u001b[0m\u001b[0;34m\"perc_over\"\u001b[0m\u001b[0;34m]\u001b[0m\u001b[0;34m.\u001b[0m\u001b[0mmean\u001b[0m\u001b[0;34m(\u001b[0m\u001b[0;34m)\u001b[0m\u001b[0;34m\u001b[0m\u001b[0;34m\u001b[0m\u001b[0m\n\u001b[0m\u001b[1;32m      4\u001b[0m \u001b[0;34m\u001b[0m\u001b[0m\n\u001b[1;32m      5\u001b[0m \u001b[0;32mfor\u001b[0m \u001b[0mprotein\u001b[0m \u001b[0;32min\u001b[0m \u001b[0mnewdf\u001b[0m\u001b[0;34m[\u001b[0m\u001b[0;34m\"Protein\"\u001b[0m\u001b[0;34m]\u001b[0m\u001b[0;34m.\u001b[0m\u001b[0munique\u001b[0m\u001b[0;34m(\u001b[0m\u001b[0;34m)\u001b[0m\u001b[0;34m:\u001b[0m\u001b[0;34m\u001b[0m\u001b[0;34m\u001b[0m\u001b[0m\n",
      "\u001b[0;31mNameError\u001b[0m: name 'df_all' is not defined"
     ]
    }
   ],
   "source": [
    "results_allprot={\"Protein\":[],\"expnumber\":[],\"perc_over\":[],\n",
    "                \"perc_over norm2posctrl\":[]}\n",
    "mean_posctrl=df_all[df_all[\"Protein\"]==\"Pos ctrl 2 secondaries\"][\"perc_over\"].mean()\n",
    "\n",
    "for protein in newdf[\"Protein\"].unique():\n",
    "    dfprot=newdf[newdf[\"Protein\"]==protein]\n",
    "    dfprot=dfprot.reset_index()\n",
    "    percentages=[]\n",
    "    expi=[]\n",
    "    count=1\n",
    "    for exp in dfprot[\"exp condition\"].unique():\n",
    "        dfexp=dfprot[dfprot[\"exp condition\"]==exp]\n",
    "        a=np.sum(dfexp[\"correlation\"].values[0]>0.7)/len(dfexp[\"correlation\"].values[0])*100\n",
    "        percentages.append(a)\n",
    "        expi.append(exp)\n",
    "        results_allprot[\"Protein\"].append(protein)\n",
    "        results_allprot[\"expnumber\"].append(count)\n",
    "        results_allprot[\"perc_over\"].append(a)\n",
    "        results_allprot[\"perc_over norm2posctrl\"].append(a/mean_posctrl*100)\n",
    "        count+=1\n",
    "df_all=pd.DataFrame(results_allprot)"
   ]
  },
  {
   "cell_type": "code",
   "execution_count": 6,
   "metadata": {},
   "outputs": [
    {
     "ename": "NameError",
     "evalue": "name 'df_all' is not defined",
     "output_type": "error",
     "traceback": [
      "\u001b[0;31m---------------------------------------------------------------------------\u001b[0m",
      "\u001b[0;31mNameError\u001b[0m                                 Traceback (most recent call last)",
      "\u001b[0;32m<ipython-input-6-8744af1e6cc3>\u001b[0m in \u001b[0;36m<module>\u001b[0;34m\u001b[0m\n\u001b[0;32m----> 1\u001b[0;31m \u001b[0mdf_all\u001b[0m\u001b[0;34m\u001b[0m\u001b[0;34m\u001b[0m\u001b[0m\n\u001b[0m",
      "\u001b[0;31mNameError\u001b[0m: name 'df_all' is not defined"
     ]
    }
   ],
   "source": [
    "df_all"
   ]
  },
  {
   "cell_type": "code",
   "execution_count": 55,
   "metadata": {},
   "outputs": [],
   "source": [
    "df_all.to_csv(\"/Volumes/Macintosh HD/Users/taldankovich/Downloads/allvals.csv\",sep=';')"
   ]
  },
  {
   "cell_type": "markdown",
   "metadata": {},
   "source": [
    "## Read csv - percentages corrected to posctrl"
   ]
  },
  {
   "cell_type": "code",
   "execution_count": 12,
   "metadata": {},
   "outputs": [],
   "source": [
    "organelledf=pd.read_csv(filepath_or_buffer=expdir+'Organelle_coloc_analysis/20190910_organelle_vals_for_anova.csv',\n",
    "                       sep=';')"
   ]
  },
  {
   "cell_type": "code",
   "execution_count": 21,
   "metadata": {},
   "outputs": [
    {
     "data": {
      "image/png": "[encoded data removed]",
      "text/plain": [
       "<Figure size 648x432 with 1 Axes>"
      ]
     },
     "metadata": {},
     "output_type": "display_data"
    }
   ],
   "source": [
    "sns.set(font_scale=2.5)\n",
    "sns.set_style(\"ticks\")\n",
    "sns.set_palette(\"Set2\")\n",
    "from matplotlib import ticker\n",
    "\n",
    "df2plot=organelledf\n",
    "var=\"corrected perc\"\n",
    "fig=plt.figure(figsize=(9,6))\n",
    "\n",
    "order=['Neg ctrl vAchT','Rab5/ TNR Blk, +12',\n",
    "      'Rab7/ TNR Blk, +12','Rab11a/ TNR Blk, +12','Cav1/ TNR Blk','lamp1/ TNR Blk, +12',\n",
    "       'TGN38/ TNR Blk, +12',\n",
    "       'Calreticulin/ TNR Blk, +12, max proj','Calnexin/ TNR Blk, +12, max proj'\n",
    "       ]\n",
    "\n",
    "paletteswarm ={'Neg ctrl vAchT':\"#333333\",\n",
    "               'Rab5/ TNR Blk, +12':\"#2F67F8\",\n",
    "      'Rab7/ TNR Blk, +12':\"#2F67F8\",\n",
    "               'Rab11a/ TNR Blk, +12':\"#2F67F8\",\n",
    "               'Cav1/ TNR Blk':\"#2F67F8\",\n",
    "               'lamp1/ TNR Blk, +12':\"#2F67F8\",\n",
    "               'TGN38/ TNR Blk, +12':\"#2F67F8\",\n",
    "               'Calreticulin/ TNR Blk, +12, max proj':\"#2F67F8\",\n",
    "               'Calnexin/ TNR Blk, +12, max proj':\"#2F67F8\"}\n",
    "palette={'Neg ctrl vAchT':\"#adadad\",\n",
    "               'Rab5/ TNR Blk, +12':\"#abc2fc\",\n",
    "      'Rab7/ TNR Blk, +12':\"#abc2fc\",\n",
    "               'Rab11a/ TNR Blk, +12':\"#abc2fc\",\n",
    "               'Cav1/ TNR Blk':\"#abc2fc\",\n",
    "               'lamp1/ TNR Blk, +12':\"#abc2fc\",\n",
    "               'TGN38/ TNR Blk, +12':\"#abc2fc\",\n",
    "               'Calreticulin/ TNR Blk, +12, max proj':\"#abc2fc\",\n",
    "               'Calnexin/ TNR Blk, +12, max proj':\"#abc2fc\"}\n",
    "\n",
    "g=sns.barplot(data=df2plot,y=var,x=\"Protein\"\n",
    "            ,order=order,palette=palette,ci=None)\n",
    "g=sns.swarmplot(data=df2plot,y=var,x=\"Protein\",palette=paletteswarm,order=order,size=8)\n",
    "\n",
    "def change_width(ax, new_value) :\n",
    "    for patch in ax.patches :\n",
    "        current_width = patch.get_width()\n",
    "        diff = current_width - new_value\n",
    "        # we change the bar width\n",
    "        patch.set_width(new_value)\n",
    "        # we recenter the bar\n",
    "        patch.set_x(patch.get_x() + diff * .5)\n",
    "\n",
    "change_width(g, .8)\n",
    "\n",
    "plt.errorbar(x=np.arange(0,len(order)),\n",
    "             y=[df2plot[df2plot[\"Protein\"]==condtype][var].mean() for condtype in order],\n",
    "             yerr=[df2plot[df2plot[\"Protein\"]==condtype][var].sem() for condtype in order],\n",
    "             xerr=None,ecolor='black',fmt='none',capsize=10,linewidth=3,\n",
    "             capthick=3,zorder=10,\n",
    "            alpha=1)\n",
    "\n",
    "plt.axhline(0, color='#333333',alpha=1,linewidth=4)\n",
    "g.xaxis.set_tick_params(width=4)\n",
    "g.yaxis.set_tick_params(width=4)\n",
    "plt.rcParams['font.sans-serif'] = 'Helvetica'\n",
    "g.set_ylabel('')\n",
    "g.set_xlabel('',color='#333333',alpha=.7)\n",
    "g.grid(False)\n",
    "for axis in ['top','bottom','left','right']:\n",
    "  g.spines[axis].set_linewidth(4)\n",
    "  g.spines[axis].set_color('#333333')\n",
    "  g.spines[axis].set_alpha(1)\n",
    "plt.xticks(g.get_xticks(),['Neg ctrl','Rab5',\n",
    "      'Rab7','Rab11a','Cav1','LAMP1',\n",
    "       'TGN38','Calreticulin',\n",
    "       'Calnexin'\n",
    "       ],\n",
    "           rotation=70,size=24)\n",
    "offsets={\"left\":10,\"bottom\":0}\n",
    "trims={\"left\":True,\"bottom\":False,\"right\":False}\n",
    "sns.despine(ax=g,right=True,top=True,bottom=True,trim=trims,offset=offsets)\n",
    "plt.yticks([0,2,4,6,8,10,12],fontsize=22,color='#333333')\n",
    "plt.ylim([0,12.5])\n",
    "\n",
    "plt.text(7, 10.8, \"*\", ha='center', va='bottom', color=col,size=24, weight='bold')\n",
    "plt.text(6, 10.8, \"*\", ha='center', va='bottom', color=col,size=24, weight='bold')\n",
    "\n",
    "plt.text(5, 10.8, \"**\", ha='center', va='bottom', color=col,size=24, weight='bold')\n",
    "plt.text(8, 10.8, \"**\", ha='center', va='bottom', color=col,size=24, weight='bold')\n",
    "\n",
    "\n",
    "\n",
    "\n",
    "\n",
    "diri=\"/Volumes/Macintosh HD/Users/taldankovich/Downloads/figures/\"\n",
    "fig.savefig(diri+'4b_confocal_colocs.svg', bbox_inches='tight', format='svg')"
   ]
  },
  {
   "cell_type": "markdown",
   "metadata": {},
   "source": [
    "## Stats (done in Matlab)\n",
    "- Kruskal Wallis \n",
    "- Followed by Tukey\n",
    "- See csv file for details\n",
    "- script used: sven.m in exp directory"
   ]
  }
 ],
 "metadata": {
  "kernelspec": {
   "display_name": "Python 3",
   "language": "python",
   "name": "python3"
  },
  "language_info": {
   "codemirror_mode": {
    "name": "ipython",
    "version": 3
   },
   "file_extension": ".py",
   "mimetype": "text/x-python",
   "name": "python",
   "nbconvert_exporter": "python",
   "pygments_lexer": "ipython3",
   "version": "3.7.1"
  }
 },
 "nbformat": 4,
 "nbformat_minor": 2
}
