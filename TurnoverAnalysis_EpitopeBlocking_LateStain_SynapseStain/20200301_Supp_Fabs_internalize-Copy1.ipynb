{
 "cells": [
  {
   "cell_type": "markdown",
   "metadata": {},
   "source": [
    "## Import modules and functions"
   ]
  },
  {
   "cell_type": "code",
   "execution_count": 1,
   "metadata": {},
   "outputs": [],
   "source": [
    "import numpy as np\n",
    "import os\n",
    "from nd2reader import ND2Reader\n",
    "import matplotlib.pyplot as plt\n",
    "import matplotlib.cm as cm\n",
    "from matplotlib_scalebar.scalebar import ScaleBar\n",
    "import scipy.ndimage as ndi\n",
    "from skimage.filters import rank \n",
    "from scipy.signal import butter, lfilter\n",
    "import scipy.misc as misc\n",
    "from skimage import exposure\n",
    "from PIL import Image\n",
    "import colorcet as cc\n",
    "from scipy.misc import toimage\n",
    "import matplotlib.colors as clr\n",
    "import pandas as pd\n",
    "import seaborn as sns\n",
    "from scipy import stats\n",
    "import cv2\n",
    "from pyspark import SparkContext, SparkConf\n",
    "import skimage\n",
    "from pathlib import Path\n",
    "\n",
    "def mean2(x):\n",
    "    y = np.sum(x) / np.size(x);\n",
    "    return y\n",
    "def corr2(a,b):\n",
    "    a = a - mean2(a)\n",
    "    b = b - mean2(b)\n",
    "\n",
    "    r = (a*b).sum() / np.sqrt((a*a).sum() * (b*b).sum());\n",
    "    return r\n",
    "from copy import deepcopy\n",
    "from skimage.filters import threshold_otsu,threshold_li\n",
    "import glob\n",
    "from IPython.display import clear_output\n",
    "import scipy.io as spio\n",
    "import matplotlib.ticker as ticker"
   ]
  },
  {
   "cell_type": "markdown",
   "metadata": {},
   "source": [
    "## Specify experiment directory"
   ]
  },
  {
   "cell_type": "code",
   "execution_count": 12,
   "metadata": {},
   "outputs": [],
   "source": [
    "file2read='/Volumes/ukps-all$/user/tdanko/Imaging/1_ECM/Live Culture/Antibody Stripping/2020_livestrippingfab_100x/20200302_silvioanalysis/values.CSV' #master folder"
   ]
  },
  {
   "cell_type": "markdown",
   "metadata": {},
   "source": [
    "## Read csv file containing the final ratios - before/after\n",
    "- the ratios for each exp are normalized to day 0"
   ]
  },
  {
   "cell_type": "code",
   "execution_count": 19,
   "metadata": {},
   "outputs": [],
   "source": [
    "df=pd.read_csv(file2read,sep=';',header=None)"
   ]
  },
  {
   "cell_type": "code",
   "execution_count": 20,
   "metadata": {},
   "outputs": [
    {
     "data": {
      "text/html": [
       "<div>\n",
       "<style scoped>\n",
       "    .dataframe tbody tr th:only-of-type {\n",
       "        vertical-align: middle;\n",
       "    }\n",
       "\n",
       "    .dataframe tbody tr th {\n",
       "        vertical-align: top;\n",
       "    }\n",
       "\n",
       "    .dataframe thead th {\n",
       "        text-align: right;\n",
       "    }\n",
       "</style>\n",
       "<table border=\"1\" class=\"dataframe\">\n",
       "  <thead>\n",
       "    <tr style=\"text-align: right;\">\n",
       "      <th></th>\n",
       "      <th>0</th>\n",
       "      <th>1</th>\n",
       "      <th>2</th>\n",
       "    </tr>\n",
       "  </thead>\n",
       "  <tbody>\n",
       "    <tr>\n",
       "      <th>0</th>\n",
       "      <td>new before</td>\n",
       "      <td>31.856</td>\n",
       "      <td>1</td>\n",
       "    </tr>\n",
       "    <tr>\n",
       "      <th>1</th>\n",
       "      <td>new before</td>\n",
       "      <td>27.896</td>\n",
       "      <td>1</td>\n",
       "    </tr>\n",
       "    <tr>\n",
       "      <th>2</th>\n",
       "      <td>new before</td>\n",
       "      <td>40.266</td>\n",
       "      <td>1</td>\n",
       "    </tr>\n",
       "    <tr>\n",
       "      <th>3</th>\n",
       "      <td>new before</td>\n",
       "      <td>49.386</td>\n",
       "      <td>1</td>\n",
       "    </tr>\n",
       "    <tr>\n",
       "      <th>4</th>\n",
       "      <td>new before</td>\n",
       "      <td>32.766</td>\n",
       "      <td>1</td>\n",
       "    </tr>\n",
       "  </tbody>\n",
       "</table>\n",
       "</div>"
      ],
      "text/plain": [
       "            0       1  2\n",
       "0  new before  31.856  1\n",
       "1  new before  27.896  1\n",
       "2  new before  40.266  1\n",
       "3  new before  49.386  1\n",
       "4  new before  32.766  1"
      ]
     },
     "execution_count": 20,
     "metadata": {},
     "output_type": "execute_result"
    }
   ],
   "source": [
    "df.head()"
   ]
  },
  {
   "cell_type": "code",
   "execution_count": 21,
   "metadata": {},
   "outputs": [],
   "source": [
    "df.columns=['Condition','value','exp']"
   ]
  },
  {
   "cell_type": "code",
   "execution_count": 77,
   "metadata": {},
   "outputs": [
    {
     "data": {
      "image/png": "[encoded data removed]",
      "text/plain": [
       "<Figure size 360x432 with 1 Axes>"
      ]
     },
     "metadata": {},
     "output_type": "display_data"
    }
   ],
   "source": [
    "df2=df\n",
    "sns.set(font_scale=2.5)\n",
    "sns.set_style(\"ticks\")\n",
    "sns.set_palette(\"Set2\")\n",
    "from matplotlib import ticker\n",
    "var=\"value\"\n",
    "fig=plt.figure(figsize=(5,6))\n",
    "\n",
    "\n",
    "order=['new before','new after','ctrl before','ctrl after']\n",
    "\n",
    "paletteswarm ={\"Atto647@mouse\":\"#2F67F8\",\n",
    "               'PFA fixed':\"#2F67F8\",\n",
    "               \"Methanol fixed\":\"#2F67F8\",\n",
    "               \"chABC - treated\":\"#2F67F8\",\n",
    "               \"No Blocking\":\"#333333\"}\n",
    "palette ={\"Atto647@mouse\":\"#abc2fc\",\n",
    "               'PFA fixed':\"#abc2fc\",\n",
    "               \"Methanol fixed\":\"#abc2fc\",\n",
    "               \"chABC - treated\":\"#abc2fc\",\n",
    "               \"No Blocking\":\"#adadad\"}\n",
    "\n",
    "\n",
    "\n",
    "g=sns.barplot(x=\"Condition\",y=\"value\",data=df2\n",
    "            ,order=order,color=\"#abc2fc\",ci=None)\n",
    "\n",
    "#g=sns.swarmplot(x=\"Condition\",y=\"value\",data=df2\n",
    "#            ,order=order,color=\"#2F67F8\",size=8)\n",
    "\n",
    "def change_width(ax, new_value) :\n",
    "    for patch in ax.patches :\n",
    "        current_width = patch.get_width()\n",
    "        diff = current_width - new_value\n",
    "        \n",
    "        # we change the bar width\n",
    "        patch.set_width(new_value)\n",
    "\n",
    "        # we recenter the bar\n",
    "        patch.set_x(patch.get_x() + diff * .5)\n",
    "        \n",
    "change_width(g, .8)\n",
    "\n",
    "plt.errorbar(x=np.arange(0,len(order)),\n",
    "             y=[df2[df2[\"Condition\"]==condtype][var].mean() for condtype in order],\n",
    "             yerr=[df2[df2[\"Condition\"]==condtype][var].sem() for condtype in order],\n",
    "             xerr=None,ecolor='black',fmt='none',capsize=10,linewidth=3,\n",
    "             capthick=3,zorder=10,\n",
    "            alpha=1)\n",
    "\n",
    "plt.axhline(0, color='#333333',alpha=1,linewidth=4)\n",
    "\n",
    "\n",
    "\n",
    "plt.axhline(0, color='#333333',alpha=1,linewidth=4)\n",
    "\n",
    "g.xaxis.set_tick_params(width=4)\n",
    "g.yaxis.set_tick_params(width=4)\n",
    "\n",
    "plt.rcParams['font.sans-serif'] = 'Helvetica'\n",
    "\n",
    "\n",
    "g.set_ylabel('')\n",
    "g.set_xlabel('',color='#333333',alpha=.7)\n",
    "\n",
    "\n",
    "g.grid(False)\n",
    "\n",
    "\n",
    "for axis in ['top','bottom','left','right']:\n",
    "  g.spines[axis].set_linewidth(4)\n",
    "  g.spines[axis].set_color('#333333')\n",
    "  g.spines[axis].set_alpha(1)\n",
    "\n",
    "plt.xticks(g.get_xticks(),['Before',\n",
    "       'After',\"Before\",\"After\"\n",
    "       ],\n",
    "           rotation=75,size=24)\n",
    "offsets={\"left\":10,\"bottom\":0}\n",
    "trims={\"left\":True,\"bottom\":False,\"right\":False}\n",
    "sns.despine(ax=g,right=True,top=True,bottom=True,trim=trims,offset=offsets)\n",
    "\n",
    "plt.ylim([0,30])\n",
    "plt.yticks([0,10,20,30],fontsize=22,color='#333333')\n",
    "\n",
    "\n",
    "scale_x=10\n",
    "ticks_y=ticker.FuncFormatter(lambda x, pos: '{0:g}' .format(x/scale_x))\n",
    "g=plt.gca()\n",
    "g.yaxis.set_major_formatter(ticks_y)\n",
    "\n",
    "\n",
    "'''x1, x2 = 0,4\n",
    "y= 640\n",
    "h=10\n",
    "col='black'\n",
    "plt.plot([x1, x1, x2, x2], [y, y+h, y+h, y], lw=3.5, c=col)\n",
    "plt.text((x1+x2)*.5, y+h, \"***\", ha='center', va='bottom', color=col,size=24, weight='bold')\n",
    "\n",
    "x1, x2 = 1,4\n",
    "y= 640\n",
    "h=10\n",
    "col='black'\n",
    "plt.plot([x1, x1, x2, x2], [y, y+h, y+h, y], lw=3.5, c=col)\n",
    "plt.text((x1+x2)*.5, y+h, \"\", ha='center', va='bottom', color=col,size=24, weight='bold')\n",
    "\n",
    "x1, x2 = 2,4\n",
    "y= 640\n",
    "h=10\n",
    "col='black'\n",
    "plt.plot([x1, x1, x2, x2], [y, y+h, y+h, y], lw=3.5, c=col)\n",
    "plt.text((x1+x2)*.5, y+h, \"\", ha='center', va='bottom', color=col,size=24, weight='bold')\n",
    "\n",
    "x1, x2 = 3,4\n",
    "y= 640\n",
    "h=10\n",
    "col='black'\n",
    "plt.plot([x1, x1, x2, x2], [y, y+h, y+h, y], lw=3.5, c=col)\n",
    "plt.text((x1+x2)*.5, y+h, \"\", ha='center', va='bottom', color=col,size=24, weight='bold')'''\n",
    "\n",
    "#for number in range(4):\n",
    "#    plt.text(number, 230, \"***\", ha='center', va='bottom', color=col,size=20, weight='bold')\n",
    "\n",
    "x1, x2 = 0,1\n",
    "y= 27\n",
    "h=0.8\n",
    "col='black'\n",
    "plt.plot([x1, x1, x2, x2], [y, y+h, y+h, y], lw=3.5, c=col)\n",
    "plt.text((x1+x2)*.5, y+h, \"***\", ha='center', va='bottom', color=col,size=24, weight='bold')\n",
    "\n",
    "x1, x2 = 2,3\n",
    "y= 10\n",
    "h=0.8\n",
    "col='black'\n",
    "plt.plot([x1, x1, x2, x2], [y, y+h, y+h, y], lw=3.5, c=col)\n",
    "plt.text((x1+x2)*.5, y+h, \"ns\", ha='center', va='bottom', color=col,size=24, weight='bold')\n",
    "\n",
    "x1, x2 = 1,3\n",
    "y= 15\n",
    "h=0.8\n",
    "col='black'\n",
    "plt.plot([x1, x1, x2, x2], [y, y+h, y+h, y], lw=3.5, c=col)\n",
    "plt.text((x1+x2)*.5, y+h, \"*\", ha='center', va='bottom', color=col,size=24, weight='bold')\n",
    "\n",
    "\n",
    "\n",
    "diri=\"/Volumes/Macintosh HD/Users/taldankovich/Downloads/figures/\"\n",
    "\n",
    "fig.savefig(diri+'supp_fabsinternalize.svg', bbox_inches='tight', format='svg')"
   ]
  },
  {
   "cell_type": "markdown",
   "metadata": {},
   "source": [
    "## stats"
   ]
  },
  {
   "cell_type": "code",
   "execution_count": 48,
   "metadata": {},
   "outputs": [
    {
     "name": "stdout",
     "output_type": "stream",
     "text": [
      "5.025127486747364e-07\n"
     ]
    }
   ],
   "source": [
    "newbefore=df[df[\"Condition\"]==\"new before\"][\"value\"].values\n",
    "newafter=df[df[\"Condition\"]==\"new after\"][\"value\"].values\n",
    "\n",
    "[statii,pval]=stats.ttest_ind(newbefore,newafter)\n",
    "print(pval*3)"
   ]
  },
  {
   "cell_type": "code",
   "execution_count": 49,
   "metadata": {},
   "outputs": [
    {
     "name": "stdout",
     "output_type": "stream",
     "text": [
      "1.1949076545087818\n"
     ]
    }
   ],
   "source": [
    "allbefore=df[df[\"Condition\"]==\"ctrl before\"][\"value\"].values\n",
    "allafter=df[df[\"Condition\"]==\"ctrl after\"][\"value\"].values\n",
    "\n",
    "[statii,pval]=stats.ttest_ind(allbefore,allafter)\n",
    "print(pval*3)"
   ]
  },
  {
   "cell_type": "code",
   "execution_count": 51,
   "metadata": {},
   "outputs": [
    {
     "name": "stdout",
     "output_type": "stream",
     "text": [
      "0.03203238796514149\n"
     ]
    }
   ],
   "source": [
    "newafter=df[df[\"Condition\"]==\"new after\"][\"value\"].values\n",
    "\n",
    "allafter=df[df[\"Condition\"]==\"ctrl after\"][\"value\"].values\n",
    "\n",
    "[statii,pval]=stats.ttest_ind(newafter,allafter)\n",
    "print(pval*3)"
   ]
  },
  {
   "cell_type": "markdown",
   "metadata": {},
   "source": [
    "## unblocked"
   ]
  },
  {
   "cell_type": "code",
   "execution_count": 75,
   "metadata": {},
   "outputs": [
    {
     "data": {
      "image/png": "[encoded data removed]",
      "text/plain": [
       "<Figure size 216x432 with 1 Axes>"
      ]
     },
     "metadata": {},
     "output_type": "display_data"
    }
   ],
   "source": [
    "df2=df\n",
    "sns.set(font_scale=2.5)\n",
    "sns.set_style(\"ticks\")\n",
    "sns.set_palette(\"Set2\")\n",
    "from matplotlib import ticker\n",
    "var=\"value\"\n",
    "fig=plt.figure(figsize=(3,6))\n",
    "\n",
    "\n",
    "order=['all before','all after']\n",
    "\n",
    "paletteswarm ={\"Atto647@mouse\":\"#2F67F8\",\n",
    "               'PFA fixed':\"#2F67F8\",\n",
    "               \"Methanol fixed\":\"#2F67F8\",\n",
    "               \"chABC - treated\":\"#2F67F8\",\n",
    "               \"No Blocking\":\"#333333\"}\n",
    "palette ={\"Atto647@mouse\":\"#abc2fc\",\n",
    "               'PFA fixed':\"#abc2fc\",\n",
    "               \"Methanol fixed\":\"#abc2fc\",\n",
    "               \"chABC - treated\":\"#abc2fc\",\n",
    "               \"No Blocking\":\"#adadad\"}\n",
    "\n",
    "\n",
    "\n",
    "g=sns.barplot(x=\"Condition\",y=\"value\",data=df2\n",
    "            ,order=order,color=\"#abc2fc\",ci=None)\n",
    "\n",
    "#g=sns.swarmplot(x=\"Condition\",y=\"value\",data=df2\n",
    "#            ,order=order,color=\"#2F67F8\",size=8)\n",
    "\n",
    "def change_width(ax, new_value) :\n",
    "    for patch in ax.patches :\n",
    "        current_width = patch.get_width()\n",
    "        diff = current_width - new_value\n",
    "        \n",
    "        # we change the bar width\n",
    "        patch.set_width(new_value)\n",
    "\n",
    "        # we recenter the bar\n",
    "        patch.set_x(patch.get_x() + diff * .5)\n",
    "        \n",
    "change_width(g, .8)\n",
    "\n",
    "plt.errorbar(x=np.arange(0,len(order)),\n",
    "             y=[df2[df2[\"Condition\"]==condtype][var].mean() for condtype in order],\n",
    "             yerr=[df2[df2[\"Condition\"]==condtype][var].sem() for condtype in order],\n",
    "             xerr=None,ecolor='black',fmt='none',capsize=10,linewidth=3,\n",
    "             capthick=3,zorder=10,\n",
    "            alpha=1)\n",
    "\n",
    "plt.axhline(0, color='#333333',alpha=1,linewidth=4)\n",
    "\n",
    "\n",
    "\n",
    "plt.axhline(0, color='#333333',alpha=1,linewidth=4)\n",
    "\n",
    "g.xaxis.set_tick_params(width=4)\n",
    "g.yaxis.set_tick_params(width=4)\n",
    "\n",
    "plt.rcParams['font.sans-serif'] = 'Helvetica'\n",
    "\n",
    "\n",
    "g.set_ylabel('')\n",
    "g.set_xlabel('',color='#333333',alpha=.7)\n",
    "\n",
    "\n",
    "g.grid(False)\n",
    "\n",
    "\n",
    "for axis in ['top','bottom','left','right']:\n",
    "  g.spines[axis].set_linewidth(4)\n",
    "  g.spines[axis].set_color('#333333')\n",
    "  g.spines[axis].set_alpha(1)\n",
    "\n",
    "plt.xticks(g.get_xticks(),['Before',\n",
    "       'After',\"Before\",\"After\"\n",
    "       ],\n",
    "           rotation=75,size=24)\n",
    "offsets={\"left\":10,\"bottom\":0}\n",
    "trims={\"left\":True,\"bottom\":False,\"right\":False}\n",
    "sns.despine(ax=g,right=True,top=True,bottom=True,trim=trims,offset=offsets)\n",
    "\n",
    "plt.ylim([0,150])\n",
    "plt.yticks([0,50,100,150],fontsize=22,color='#333333')\n",
    "\n",
    "\n",
    "scale_x=10\n",
    "ticks_y=ticker.FuncFormatter(lambda x, pos: '{0:g}' .format(x/scale_x))\n",
    "g=plt.gca()\n",
    "g.yaxis.set_major_formatter(ticks_y)\n",
    "\n",
    "\n",
    "'''x1, x2 = 0,4\n",
    "y= 640\n",
    "h=10\n",
    "col='black'\n",
    "plt.plot([x1, x1, x2, x2], [y, y+h, y+h, y], lw=3.5, c=col)\n",
    "plt.text((x1+x2)*.5, y+h, \"***\", ha='center', va='bottom', color=col,size=24, weight='bold')\n",
    "\n",
    "x1, x2 = 1,4\n",
    "y= 640\n",
    "h=10\n",
    "col='black'\n",
    "plt.plot([x1, x1, x2, x2], [y, y+h, y+h, y], lw=3.5, c=col)\n",
    "plt.text((x1+x2)*.5, y+h, \"\", ha='center', va='bottom', color=col,size=24, weight='bold')\n",
    "\n",
    "x1, x2 = 2,4\n",
    "y= 640\n",
    "h=10\n",
    "col='black'\n",
    "plt.plot([x1, x1, x2, x2], [y, y+h, y+h, y], lw=3.5, c=col)\n",
    "plt.text((x1+x2)*.5, y+h, \"\", ha='center', va='bottom', color=col,size=24, weight='bold')\n",
    "\n",
    "x1, x2 = 3,4\n",
    "y= 640\n",
    "h=10\n",
    "col='black'\n",
    "plt.plot([x1, x1, x2, x2], [y, y+h, y+h, y], lw=3.5, c=col)\n",
    "plt.text((x1+x2)*.5, y+h, \"\", ha='center', va='bottom', color=col,size=24, weight='bold')'''\n",
    "\n",
    "#for number in range(4):\n",
    "#    plt.text(number, 230, \"***\", ha='center', va='bottom', color=col,size=20, weight='bold')\n",
    "\n",
    "x1, x2 = 0,1\n",
    "y= 148\n",
    "h=0.8\n",
    "col='black'\n",
    "plt.plot([x1, x1, x2, x2], [y, y+h, y+h, y], lw=3.5, c=col)\n",
    "plt.text((x1+x2)*.5, y+h, \"***\", ha='center', va='bottom', color=col,size=24, weight='bold')\n",
    "\n",
    "\n",
    "diri=\"/Volumes/Macintosh HD/Users/taldankovich/Downloads/figures/\"\n",
    "\n",
    "fig.savefig(diri+'supp_fabsinternalize_allepis.svg', bbox_inches='tight', format='svg')"
   ]
  },
  {
   "cell_type": "code",
   "execution_count": 76,
   "metadata": {},
   "outputs": [
    {
     "name": "stdout",
     "output_type": "stream",
     "text": [
      "3.146319667196975e-35\n"
     ]
    }
   ],
   "source": [
    "newafter=df[df[\"Condition\"]==\"all after\"][\"value\"].values\n",
    "\n",
    "allafter=df[df[\"Condition\"]==\"all before\"][\"value\"].values\n",
    "\n",
    "[statii,pval]=stats.ttest_ind(newafter,allafter)\n",
    "print(pval*3)"
   ]
  },
  {
   "cell_type": "code",
   "execution_count": null,
   "metadata": {},
   "outputs": [],
   "source": []
  }
 ],
 "metadata": {
  "kernelspec": {
   "display_name": "Python 3",
   "language": "python",
   "name": "python3"
  },
  "language_info": {
   "codemirror_mode": {
    "name": "ipython",
    "version": 3
   },
   "file_extension": ".py",
   "mimetype": "text/x-python",
   "name": "python",
   "nbconvert_exporter": "python",
   "pygments_lexer": "ipython3",
   "version": "3.7.1"
  }
 },
 "nbformat": 4,
 "nbformat_minor": 2
}
