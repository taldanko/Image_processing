{
 "cells": [
  {
   "cell_type": "markdown",
   "metadata": {},
   "source": [
    "## Import modules and functions"
   ]
  },
  {
   "cell_type": "code",
   "execution_count": 6,
   "metadata": {},
   "outputs": [],
   "source": [
    "import numpy as np\n",
    "import os\n",
    "from nd2reader import ND2Reader\n",
    "import matplotlib.pyplot as plt\n",
    "import matplotlib.cm as cm\n",
    "from matplotlib_scalebar.scalebar import ScaleBar\n",
    "import scipy.ndimage as ndi\n",
    "from skimage.filters import rank \n",
    "from scipy.signal import butter, lfilter\n",
    "import scipy.misc as misc\n",
    "from skimage import exposure\n",
    "from PIL import Image\n",
    "import colorcet as cc\n",
    "import matplotlib.colors as clr\n",
    "import pandas as pd\n",
    "import seaborn as sns\n",
    "from scipy import stats\n",
    "import cv2\n",
    "from pyspark import SparkContext, SparkConf\n",
    "import skimage\n",
    "from pathlib import Path\n",
    "\n",
    "def mean2(x):\n",
    "    y = np.sum(x) / np.size(x);\n",
    "    return y\n",
    "def corr2(a,b):\n",
    "    a = a - mean2(a)\n",
    "    b = b - mean2(b)\n",
    "\n",
    "    r = (a*b).sum() / np.sqrt((a*a).sum() * (b*b).sum());\n",
    "    return r\n",
    "from copy import deepcopy\n",
    "from skimage.filters import threshold_otsu,threshold_li\n",
    "import glob\n",
    "from IPython.display import clear_output\n",
    "import scipy.io as spio\n",
    "import matplotlib.ticker as ticker"
   ]
  },
  {
   "cell_type": "markdown",
   "metadata": {},
   "source": [
    "## Specify experiment directory"
   ]
  },
  {
   "cell_type": "code",
   "execution_count": 7,
   "metadata": {},
   "outputs": [],
   "source": [
    "expdir='/Volumes/ukps-all$/user/tdanko/Imaging/1_ECM/Fixed culture/Golgi_block/' #master folder\n",
    "protein=\"TNR\" #TNR,Agg,WFA,HABP"
   ]
  },
  {
   "cell_type": "markdown",
   "metadata": {},
   "source": [
    "## Make a dictionary to store the results"
   ]
  },
  {
   "cell_type": "code",
   "execution_count": 5,
   "metadata": {},
   "outputs": [
    {
     "ename": "KeyboardInterrupt",
     "evalue": "",
     "output_type": "error",
     "traceback": [
      "\u001b[0;31m---------------------------------------------------------------------------\u001b[0m",
      "\u001b[0;31mStopIteration\u001b[0m                             Traceback (most recent call last)",
      "\u001b[0;32m~/anaconda3/lib/python3.7/os.py\u001b[0m in \u001b[0;36mwalk\u001b[0;34m(top, topdown, onerror, followlinks)\u001b[0m\n\u001b[1;32m    358\u001b[0m                 \u001b[0;32mtry\u001b[0m\u001b[0;34m:\u001b[0m\u001b[0;34m\u001b[0m\u001b[0;34m\u001b[0m\u001b[0m\n\u001b[0;32m--> 359\u001b[0;31m                     \u001b[0mentry\u001b[0m \u001b[0;34m=\u001b[0m \u001b[0mnext\u001b[0m\u001b[0;34m(\u001b[0m\u001b[0mscandir_it\u001b[0m\u001b[0;34m)\u001b[0m\u001b[0;34m\u001b[0m\u001b[0;34m\u001b[0m\u001b[0m\n\u001b[0m\u001b[1;32m    360\u001b[0m                 \u001b[0;32mexcept\u001b[0m \u001b[0mStopIteration\u001b[0m\u001b[0;34m:\u001b[0m\u001b[0;34m\u001b[0m\u001b[0;34m\u001b[0m\u001b[0m\n",
      "\u001b[0;31mStopIteration\u001b[0m: ",
      "\nDuring handling of the above exception, another exception occurred:\n",
      "\u001b[0;31mKeyboardInterrupt\u001b[0m                         Traceback (most recent call last)",
      "\u001b[0;32m<ipython-input-5-ef769ec61c78>\u001b[0m in \u001b[0;36m<module>\u001b[0;34m\u001b[0m\n\u001b[1;32m      7\u001b[0m \u001b[0moutputFolder\u001b[0m \u001b[0;34m=\u001b[0m \u001b[0mos\u001b[0m\u001b[0;34m.\u001b[0m\u001b[0mpath\u001b[0m\u001b[0;34m.\u001b[0m\u001b[0mdirname\u001b[0m\u001b[0;34m(\u001b[0m\u001b[0mexpdir\u001b[0m \u001b[0;34m+\u001b[0m \u001b[0;34m\"/new/\"\u001b[0m\u001b[0;34m)\u001b[0m\u001b[0;34m\u001b[0m\u001b[0;34m\u001b[0m\u001b[0m\n\u001b[1;32m      8\u001b[0m \u001b[0mfilelist\u001b[0m \u001b[0;34m=\u001b[0m \u001b[0;34m[\u001b[0m\u001b[0;34m]\u001b[0m\u001b[0;34m\u001b[0m\u001b[0;34m\u001b[0m\u001b[0m\n\u001b[0;32m----> 9\u001b[0;31m \u001b[0;32mfor\u001b[0m \u001b[0mroot\u001b[0m\u001b[0;34m,\u001b[0m \u001b[0m_\u001b[0m\u001b[0;34m,\u001b[0m \u001b[0mfilenames\u001b[0m \u001b[0;32min\u001b[0m \u001b[0mos\u001b[0m\u001b[0;34m.\u001b[0m\u001b[0mwalk\u001b[0m\u001b[0;34m(\u001b[0m\u001b[0mpath\u001b[0m\u001b[0;34m)\u001b[0m\u001b[0;34m:\u001b[0m\u001b[0;34m\u001b[0m\u001b[0;34m\u001b[0m\u001b[0m\n\u001b[0m\u001b[1;32m     10\u001b[0m      \u001b[0;32mfor\u001b[0m \u001b[0mfilename\u001b[0m \u001b[0;32min\u001b[0m \u001b[0mfilenames\u001b[0m\u001b[0;34m:\u001b[0m\u001b[0;34m\u001b[0m\u001b[0;34m\u001b[0m\u001b[0m\n\u001b[1;32m     11\u001b[0m          \u001b[0mfilelist\u001b[0m\u001b[0;34m.\u001b[0m\u001b[0mappend\u001b[0m\u001b[0;34m(\u001b[0m\u001b[0mos\u001b[0m\u001b[0;34m.\u001b[0m\u001b[0mpath\u001b[0m\u001b[0;34m.\u001b[0m\u001b[0mjoin\u001b[0m\u001b[0;34m(\u001b[0m\u001b[0mroot\u001b[0m\u001b[0;34m,\u001b[0m \u001b[0mfilename\u001b[0m\u001b[0;34m)\u001b[0m\u001b[0;34m)\u001b[0m\u001b[0;34m\u001b[0m\u001b[0;34m\u001b[0m\u001b[0m\n",
      "\u001b[0;32m~/anaconda3/lib/python3.7/os.py\u001b[0m in \u001b[0;36mwalk\u001b[0;34m(top, topdown, onerror, followlinks)\u001b[0m\n\u001b[1;32m    408\u001b[0m             \u001b[0;31m# above.\u001b[0m\u001b[0;34m\u001b[0m\u001b[0;34m\u001b[0m\u001b[0;34m\u001b[0m\u001b[0m\n\u001b[1;32m    409\u001b[0m             \u001b[0;32mif\u001b[0m \u001b[0mfollowlinks\u001b[0m \u001b[0;32mor\u001b[0m \u001b[0;32mnot\u001b[0m \u001b[0mislink\u001b[0m\u001b[0;34m(\u001b[0m\u001b[0mnew_path\u001b[0m\u001b[0;34m)\u001b[0m\u001b[0;34m:\u001b[0m\u001b[0;34m\u001b[0m\u001b[0;34m\u001b[0m\u001b[0m\n\u001b[0;32m--> 410\u001b[0;31m                 \u001b[0;32myield\u001b[0m \u001b[0;32mfrom\u001b[0m \u001b[0mwalk\u001b[0m\u001b[0;34m(\u001b[0m\u001b[0mnew_path\u001b[0m\u001b[0;34m,\u001b[0m \u001b[0mtopdown\u001b[0m\u001b[0;34m,\u001b[0m \u001b[0monerror\u001b[0m\u001b[0;34m,\u001b[0m \u001b[0mfollowlinks\u001b[0m\u001b[0;34m)\u001b[0m\u001b[0;34m\u001b[0m\u001b[0;34m\u001b[0m\u001b[0m\n\u001b[0m\u001b[1;32m    411\u001b[0m     \u001b[0;32melse\u001b[0m\u001b[0;34m:\u001b[0m\u001b[0;34m\u001b[0m\u001b[0;34m\u001b[0m\u001b[0m\n\u001b[1;32m    412\u001b[0m         \u001b[0;31m# Recurse into sub-directories\u001b[0m\u001b[0;34m\u001b[0m\u001b[0;34m\u001b[0m\u001b[0;34m\u001b[0m\u001b[0m\n",
      "\u001b[0;32m~/anaconda3/lib/python3.7/os.py\u001b[0m in \u001b[0;36mwalk\u001b[0;34m(top, topdown, onerror, followlinks)\u001b[0m\n\u001b[1;32m    408\u001b[0m             \u001b[0;31m# above.\u001b[0m\u001b[0;34m\u001b[0m\u001b[0;34m\u001b[0m\u001b[0;34m\u001b[0m\u001b[0m\n\u001b[1;32m    409\u001b[0m             \u001b[0;32mif\u001b[0m \u001b[0mfollowlinks\u001b[0m \u001b[0;32mor\u001b[0m \u001b[0;32mnot\u001b[0m \u001b[0mislink\u001b[0m\u001b[0;34m(\u001b[0m\u001b[0mnew_path\u001b[0m\u001b[0;34m)\u001b[0m\u001b[0;34m:\u001b[0m\u001b[0;34m\u001b[0m\u001b[0;34m\u001b[0m\u001b[0m\n\u001b[0;32m--> 410\u001b[0;31m                 \u001b[0;32myield\u001b[0m \u001b[0;32mfrom\u001b[0m \u001b[0mwalk\u001b[0m\u001b[0;34m(\u001b[0m\u001b[0mnew_path\u001b[0m\u001b[0;34m,\u001b[0m \u001b[0mtopdown\u001b[0m\u001b[0;34m,\u001b[0m \u001b[0monerror\u001b[0m\u001b[0;34m,\u001b[0m \u001b[0mfollowlinks\u001b[0m\u001b[0;34m)\u001b[0m\u001b[0;34m\u001b[0m\u001b[0;34m\u001b[0m\u001b[0m\n\u001b[0m\u001b[1;32m    411\u001b[0m     \u001b[0;32melse\u001b[0m\u001b[0;34m:\u001b[0m\u001b[0;34m\u001b[0m\u001b[0;34m\u001b[0m\u001b[0m\n\u001b[1;32m    412\u001b[0m         \u001b[0;31m# Recurse into sub-directories\u001b[0m\u001b[0;34m\u001b[0m\u001b[0;34m\u001b[0m\u001b[0;34m\u001b[0m\u001b[0m\n",
      "\u001b[0;32m~/anaconda3/lib/python3.7/os.py\u001b[0m in \u001b[0;36mwalk\u001b[0;34m(top, topdown, onerror, followlinks)\u001b[0m\n\u001b[1;32m    408\u001b[0m             \u001b[0;31m# above.\u001b[0m\u001b[0;34m\u001b[0m\u001b[0;34m\u001b[0m\u001b[0;34m\u001b[0m\u001b[0m\n\u001b[1;32m    409\u001b[0m             \u001b[0;32mif\u001b[0m \u001b[0mfollowlinks\u001b[0m \u001b[0;32mor\u001b[0m \u001b[0;32mnot\u001b[0m \u001b[0mislink\u001b[0m\u001b[0;34m(\u001b[0m\u001b[0mnew_path\u001b[0m\u001b[0;34m)\u001b[0m\u001b[0;34m:\u001b[0m\u001b[0;34m\u001b[0m\u001b[0;34m\u001b[0m\u001b[0m\n\u001b[0;32m--> 410\u001b[0;31m                 \u001b[0;32myield\u001b[0m \u001b[0;32mfrom\u001b[0m \u001b[0mwalk\u001b[0m\u001b[0;34m(\u001b[0m\u001b[0mnew_path\u001b[0m\u001b[0;34m,\u001b[0m \u001b[0mtopdown\u001b[0m\u001b[0;34m,\u001b[0m \u001b[0monerror\u001b[0m\u001b[0;34m,\u001b[0m \u001b[0mfollowlinks\u001b[0m\u001b[0;34m)\u001b[0m\u001b[0;34m\u001b[0m\u001b[0;34m\u001b[0m\u001b[0m\n\u001b[0m\u001b[1;32m    411\u001b[0m     \u001b[0;32melse\u001b[0m\u001b[0;34m:\u001b[0m\u001b[0;34m\u001b[0m\u001b[0;34m\u001b[0m\u001b[0m\n\u001b[1;32m    412\u001b[0m         \u001b[0;31m# Recurse into sub-directories\u001b[0m\u001b[0;34m\u001b[0m\u001b[0;34m\u001b[0m\u001b[0;34m\u001b[0m\u001b[0m\n",
      "\u001b[0;32m~/anaconda3/lib/python3.7/os.py\u001b[0m in \u001b[0;36mwalk\u001b[0;34m(top, topdown, onerror, followlinks)\u001b[0m\n\u001b[1;32m    357\u001b[0m             \u001b[0;32mtry\u001b[0m\u001b[0;34m:\u001b[0m\u001b[0;34m\u001b[0m\u001b[0;34m\u001b[0m\u001b[0m\n\u001b[1;32m    358\u001b[0m                 \u001b[0;32mtry\u001b[0m\u001b[0;34m:\u001b[0m\u001b[0;34m\u001b[0m\u001b[0;34m\u001b[0m\u001b[0m\n\u001b[0;32m--> 359\u001b[0;31m                     \u001b[0mentry\u001b[0m \u001b[0;34m=\u001b[0m \u001b[0mnext\u001b[0m\u001b[0;34m(\u001b[0m\u001b[0mscandir_it\u001b[0m\u001b[0;34m)\u001b[0m\u001b[0;34m\u001b[0m\u001b[0;34m\u001b[0m\u001b[0m\n\u001b[0m\u001b[1;32m    360\u001b[0m                 \u001b[0;32mexcept\u001b[0m \u001b[0mStopIteration\u001b[0m\u001b[0;34m:\u001b[0m\u001b[0;34m\u001b[0m\u001b[0;34m\u001b[0m\u001b[0m\n\u001b[1;32m    361\u001b[0m                     \u001b[0;32mbreak\u001b[0m\u001b[0;34m\u001b[0m\u001b[0;34m\u001b[0m\u001b[0m\n",
      "\u001b[0;31mKeyboardInterrupt\u001b[0m: "
     ]
    }
   ],
   "source": [
    "results = {\"filename\":[],\n",
    "           \"ecmchannelno\":[],\n",
    "           \"Manual neurites mask from matlab GUI\":[],\n",
    "           \"exp condition\":[],\n",
    "           \"ECM mean intensity after bg subtraction: matlab manual neurites mask only\":[]}\n",
    "path = os.path.dirname(expdir)  \n",
    "outputFolder = os.path.dirname(expdir + \"/new/\")\n",
    "filelist = []\n",
    "for root, _, filenames in os.walk(path):\n",
    "     for filename in filenames:\n",
    "         filelist.append(os.path.join(root, filename))      \n",
    "for i in range(0,len(filelist)):\n",
    "    if (\"homer\" in str(filelist[i]))==False:\n",
    "        #if (\"647\" in str(filelist[i]))==False:\n",
    "            #if (\"580\" in str(filelist[i]))==False:\n",
    "                if (\"635\" in str(filelist[i]))==False:\n",
    "                    if (\"Soma_v_dendrite_analysis\" in str(filelist[i]))==False:\n",
    "                        if filelist[i].endswith(\".nd2\"): \n",
    "                            results[\"filename\"].append(filelist[i])\n",
    "                            results[\"exp condition\"].append(filelist[i].split('/')[-2])\n",
    "                            results[\"ecmchannelno\"].append(1)    "
   ]
  },
  {
   "cell_type": "markdown",
   "metadata": {},
   "source": [
    "## Display random image"
   ]
  },
  {
   "cell_type": "code",
   "execution_count": null,
   "metadata": {},
   "outputs": [],
   "source": [
    "randomno=np.random.randint(1,len(results[\"filename\"]))\n",
    "ecm_channel_no=results[\"ecmchannelno\"][randomno]\n",
    "\n",
    "with ND2Reader(results[\"filename\"][randomno]) as images:\n",
    "    print(\"Image name:\",results[\"filename\"][randomno].split('/')[-1])\n",
    "    print(\"Experimental condition:\",results[\"exp condition\"][randomno])\n",
    "    ecm_image=images[ecm_channel_no-1]\n",
    "    synapse_image=images[ecm_channel_no-1]\n",
    "\n",
    "figure=plt.figure(figsize=(15,15))\n",
    "figure.add_subplot(131)\n",
    "plt.imshow(ecm_image,interpolation='none',cmap='hot')\n",
    "plt.title('ECM raw')\n",
    "plt.grid(visible=False)\n",
    "plt.xticks(visible=False)\n",
    "plt.yticks(visible=False)"
   ]
  },
  {
   "cell_type": "markdown",
   "metadata": {},
   "source": [
    "## Load manual masks from Matlab GUI"
   ]
  },
  {
   "cell_type": "code",
   "execution_count": null,
   "metadata": {},
   "outputs": [],
   "source": [
    "for im in range(0,len(results[\"filename\"])): \n",
    "    file=results[\"filename\"][im][:-4]+'_dendritemask.mat'\n",
    "    from pathlib import Path\n",
    "    my_file = Path(file)\n",
    "    if my_file.exists():\n",
    "        print(file)\n",
    "        mat = spio.loadmat(file, squeeze_me=True)\n",
    "        mask=mat['totMask']>0.99\n",
    "        results[\"Manual neurites mask from matlab GUI\"].append(mask)\n",
    "    else:\n",
    "        results[\"Manual neurites mask from matlab GUI\"].append(np.nan)\n",
    "clear_output()        \n",
    "print(\"Done!\")"
   ]
  },
  {
   "cell_type": "markdown",
   "metadata": {},
   "source": [
    "## Batch analysis"
   ]
  },
  {
   "cell_type": "code",
   "execution_count": null,
   "metadata": {},
   "outputs": [],
   "source": [
    "print('Total number of images: ' + str(len(results['filename'])))\n",
    "\n",
    "for i in range(0,len(results[\"filename\"])): \n",
    "    print('Calculating image no ' + str(i+1) + ' out of' + str(len(results[\"filename\"])))\n",
    "    #read the image\n",
    "    ecm_channel_no=results[\"ecmchannelno\"][i]\n",
    "    with ND2Reader(results[\"filename\"][i]) as images:\n",
    "        ecm_image=images[ecm_channel_no-1]\n",
    "    #convert to numpy array - a format easier to manipunuclei with code\n",
    "    ecm_image=ecm_image.astype(np.int16)\n",
    "    \n",
    "    \n",
    "    ###################analyses for the raw images -before processing##############\n",
    "    #read masks\n",
    "    matlab_dendritesmask=results[\"Manual neurites mask from matlab GUI\"][i]\n",
    "    if type(matlab_dendritesmask)==np.ndarray:\n",
    "        flag=True\n",
    "    #images after background subtraction\n",
    "    #for ecm image\n",
    "    if flag==True:\n",
    "        ecm_matlabdendritesmasked_bgreduced=deepcopy(ecm_image)\n",
    "        bg_matlabdendritesmask=np.mean(ndi.median_filter(ecm_image[matlab_dendritesmask],size=5))+0*np.std(ndi.median_filter(ecm_image[matlab_dendritesmask],size=5))\n",
    "        ecm_matlabdendritesmasked_bgreduced=np.subtract(ecm_matlabdendritesmasked_bgreduced,bg_matlabdendritesmask)\n",
    "        ecm_matlabdendritesmasked_bgreduced[ecm_matlabdendritesmasked_bgreduced<0]=0\n",
    "        ecm_matlabdendritesmasked_bgreduced[~matlab_dendritesmask]=0\n",
    "    ##################################################################################    \n",
    "\n",
    "#append the final results to the dictionary:\n",
    "    if flag==True:\n",
    "        results[\"ECM mean intensity after bg subtraction: matlab manual neurites mask only\"].append(np.nanmean(ecm_matlabdendritesmasked_bgreduced[matlab_dendritesmask]))\n",
    "    clear_output()\n",
    "    flag=False\n",
    "os.system('say \"Finished batch analyzing\"')\n",
    "print('Done!')"
   ]
  },
  {
   "cell_type": "markdown",
   "metadata": {},
   "source": [
    "## Make dataframe"
   ]
  },
  {
   "cell_type": "code",
   "execution_count": null,
   "metadata": {},
   "outputs": [],
   "source": [
    "df=pd.DataFrame(results)"
   ]
  },
  {
   "cell_type": "markdown",
   "metadata": {},
   "source": [
    "## Add columns with labels"
   ]
  },
  {
   "cell_type": "code",
   "execution_count": null,
   "metadata": {},
   "outputs": [],
   "source": [
    "df2=deepcopy(df)\n",
    "df2.loc[df2['exp condition'].str.contains('refeldin'), 'Drug'] = 'Brefeldin'\n",
    "df2.loc[df2['exp condition'].str.contains('DMSO'), 'Drug'] = 'DMSO'\n",
    "df2.loc[df2['exp condition'].str.contains('dmso'), 'Drug'] = 'DMSO'\n",
    "df2.loc[df2['exp condition'].str.contains('onensin'), 'Drug'] = 'Monensin'\n",
    "\n",
    "df2[\"Dye\"]='None'\n",
    "df2.loc[df['filename'].str.contains('550'),\"Dye\"]='Atto 550'\n",
    "df2.loc[df['filename'].str.contains('647'),\"Dye\"]='Atto 647N'\n",
    "df2.loc[df['filename'].str.contains('580'),\"Dye\"]='STAR 580'\n",
    "df2[\"expname\"]=\"None\"\n",
    "for i in range(0,len(df2)):\n",
    "    df2[\"expname\"][i]=df2[\"filename\"][i].split(\"/\")[:-2][-1]"
   ]
  },
  {
   "cell_type": "markdown",
   "metadata": {},
   "source": [
    "## Backup"
   ]
  },
  {
   "cell_type": "code",
   "execution_count": 14,
   "metadata": {},
   "outputs": [],
   "source": [
    "df2.to_pickle(expdir+'20191119_golgiblock_df2.pkl')"
   ]
  },
  {
   "cell_type": "code",
   "execution_count": 8,
   "metadata": {},
   "outputs": [],
   "source": [
    "df2=pd.read_pickle(expdir+'20191119_golgiblock_df2.pkl')"
   ]
  },
  {
   "cell_type": "markdown",
   "metadata": {},
   "source": [
    "## Dataframe with means of each experiment"
   ]
  },
  {
   "cell_type": "code",
   "execution_count": 9,
   "metadata": {},
   "outputs": [],
   "source": [
    "var=\"ECM mean intensity after bg subtraction: matlab manual neurites mask only\"\n",
    "\n",
    "means={\"expname\":[],\"drug\":[],\"0 to 1 intensity normd to dio mean\":[]}\n",
    "\n",
    "dfonlyorange=df2#[df2[\"Dye\"]!=\"Atto 647N\"]\n",
    "for exp in dfonlyorange[\"expname\"].unique():\n",
    "    dfcalc=dfonlyorange[dfonlyorange[\"expname\"]==exp]\n",
    "    \n",
    "    means[\"expname\"].append(exp)\n",
    "    means[\"drug\"].append('DMSO')\n",
    "    dfcalc2=dfcalc[dfcalc[\"Drug\"]==\"DMSO\"]\n",
    "    diomean=dfcalc2[var].mean()\n",
    "    means[\"0 to 1 intensity normd to dio mean\"].append(1)\n",
    "    \n",
    "    means[\"expname\"].append(exp)\n",
    "    means[\"drug\"].append('Monensin')\n",
    "    dfcalc2=dfcalc[dfcalc[\"Drug\"]==\"Monensin\"]\n",
    "    means[\"0 to 1 intensity normd to dio mean\"].append(dfcalc2[var].mean()/diomean)\n",
    "    \n",
    "    means[\"expname\"].append(exp)\n",
    "    means[\"drug\"].append('Brefeldin')\n",
    "    dfcalc2=dfcalc[dfcalc[\"Drug\"]==\"Brefeldin\"]\n",
    "    means[\"0 to 1 intensity normd to dio mean\"].append(dfcalc2[var].mean()/diomean)\n",
    "dfmeans=pd.DataFrame(means)"
   ]
  },
  {
   "cell_type": "code",
   "execution_count": 10,
   "metadata": {},
   "outputs": [],
   "source": [
    "d={}\n",
    "for drug in dfmeans[\"drug\"].unique():\n",
    "    d[\"string{0}\".format(drug)]=dfmeans[dfmeans[\"drug\"]==drug][\"0 to 1 intensity normd to dio mean\"].values\n",
    "d=pd.DataFrame(d)\n",
    "d.to_csv(\"/Volumes/Macintosh HD/Users/taldankovich/Downloads/csvs/dfmeans.csv\") "
   ]
  },
  {
   "cell_type": "markdown",
   "metadata": {},
   "source": [
    "## ttests"
   ]
  },
  {
   "cell_type": "code",
   "execution_count": 6,
   "metadata": {},
   "outputs": [
    {
     "name": "stdout",
     "output_type": "stream",
     "text": [
      "0.00023765286386387148\n",
      "4.4108815642786815e-06\n"
     ]
    }
   ],
   "source": [
    "var=\"0 to 1 intensity normd to dio mean\"\n",
    "\n",
    "dmso=dfmeans[dfmeans[\"drug\"]==\"DMSO\"][var].dropna()\n",
    "monensin=dfmeans[dfmeans[\"drug\"]==\"Monensin\"][var].dropna()\n",
    "brefeldin=dfmeans[dfmeans[\"drug\"]==\"Brefeldin\"][var].dropna()\n",
    "\n",
    "[stat,pval_dmso_monen]=stats.ttest_ind(monensin.dropna(), dmso.dropna())\n",
    "[stat,pval_dmso_bref]=stats.ttest_ind(brefeldin.dropna(), dmso.dropna())\n",
    "[stat,pval_monen_bref]=stats.ttest_ind(brefeldin.dropna(), monensin.dropna())\n",
    "\n",
    "pval_dmso_monen=pval_dmso_monen*3\n",
    "pval_dmso_bref=pval_dmso_bref*3\n",
    "\n",
    "print(pval_dmso_monen)\n",
    "print(pval_dmso_bref)"
   ]
  },
  {
   "cell_type": "code",
   "execution_count": 12,
   "metadata": {},
   "outputs": [
    {
     "data": {
      "text/plain": [
       "0.0036"
      ]
     },
     "execution_count": 12,
     "metadata": {},
     "output_type": "execute_result"
    }
   ],
   "source": [
    "0.0018*2"
   ]
  },
  {
   "cell_type": "markdown",
   "metadata": {},
   "source": [
    "## Plot"
   ]
  },
  {
   "cell_type": "code",
   "execution_count": 9,
   "metadata": {},
   "outputs": [
    {
     "data": {
      "image/png": "[encoded data removed]",
      "text/plain": [
       "<Figure size 288x360 with 1 Axes>"
      ]
     },
     "metadata": {},
     "output_type": "display_data"
    }
   ],
   "source": [
    "sns.set(font_scale=2.5)\n",
    "sns.set_style(\"ticks\")\n",
    "sns.set_palette(\"Set2\")\n",
    "from matplotlib import ticker\n",
    "\n",
    "y=\"0 to 1 intensity normd to dio mean\"\n",
    "fig=plt.figure(figsize=(4,5))\n",
    "palette={\"Monensin\": \"#adadad\",\n",
    "         \"All, flat\": \"#adadad\",\n",
    "         \"New, dmso, mushroom\":\"#adadad\",\n",
    "         \"New, dmso, flat\":\"#adadad\",\n",
    "        \"New, bic, mushroom\":\"#abc2fc\",\n",
    "         \"New, bic, flat\":\"#abc2fc\"}\n",
    "order=[\"DMSO\",\"Monensin\",\"Brefeldin\"]\n",
    "\n",
    "g=sns.barplot(x=\"drug\",y=y,data=dfmeans,\n",
    "            order=order,color=\"#abc2fc\",ci=None)\n",
    "\n",
    "g=sns.swarmplot(x=\"drug\",y=y,data=dfmeans,size=10,color=\"#2F67F8\",linewidth=1)\n",
    "\n",
    "def change_width(ax, new_value) :\n",
    "    for patch in ax.patches :\n",
    "        current_width = patch.get_width()\n",
    "        diff = current_width - new_value        \n",
    "        # we change the bar width\n",
    "        patch.set_width(new_value)\n",
    "        # we recenter the bar\n",
    "        patch.set_x(patch.get_x() + diff * .5)\n",
    "change_width(g, .7)\n",
    "\n",
    "plt.errorbar(x=[1,2],\n",
    "             y=[\n",
    "             dfmeans[dfmeans[\"drug\"]==\"Monensin\"][y].mean(),\n",
    "             dfmeans[dfmeans[\"drug\"]==\"Brefeldin\"][y].mean()],\n",
    "             yerr=[\n",
    "             dfmeans[dfmeans[\"drug\"]==\"Monensin\"][y].sem(),\n",
    "             dfmeans[dfmeans[\"drug\"]==\"Brefeldin\"][y].sem()],\n",
    "             xerr=None,ecolor='black',fmt='none',capsize=10,linewidth=3,\n",
    "             capthick=3,zorder=10,\n",
    "            alpha=1)\n",
    "plt.rcParams['font.sans-serif'] = 'Helvetica'\n",
    "\n",
    "\n",
    "plt.ylim([0,1.5])\n",
    "plt.axhline(0, color='#333333',alpha=1,linewidth=10)\n",
    "g.xaxis.set_tick_params(width=4)\n",
    "g.yaxis.set_tick_params(width=4)\n",
    "plt.rcParams['font.sans-serif'] = 'Helvetica'\n",
    "for axis in ['top','bottom','left','right']:\n",
    "  g.spines[axis].set_linewidth(4)\n",
    "  g.spines[axis].set_color('#333333')\n",
    "  g.spines[axis].set_alpha(1)\n",
    "offsets={\"left\":10,\"bottom\":0}\n",
    "trims={\"left\":True,\"bottom\":False,\"right\":False}\n",
    "sns.despine(ax=g,right=True,top=True,bottom=True,trim=trims,offset=offsets)\n",
    "g.set_ylabel('')\n",
    "g.set_xlabel('',color='#333333',alpha=.7)\n",
    "plt.xticks(g.get_xticks(),['Control','Monensin','Brefeldin'],\n",
    "           rotation=45,size=20)\n",
    "plt.yticks(g.get_yticks(),size=24,color='#333333')\n",
    "g.grid(False)\n",
    "\n",
    "x1, x2 = 0,1\n",
    "y= 1.2\n",
    "h=0.02\n",
    "col='black'\n",
    "plt.plot([x1, x1, x2, x2], [y, y+h, y+h, y], lw=3.5, c=col)\n",
    "plt.text((x1+x2)*.5, y+h, \"***\", ha='center', va='bottom', color=col,size=24, weight='bold')\n",
    "\n",
    "x1, x2 = 0,2\n",
    "y= 1.4\n",
    "h=0.02\n",
    "col='black'\n",
    "plt.plot([x1, x1, x2, x2], [y, y+h, y+h, y], lw=3.5, c=col)\n",
    "plt.text((x1+x2)*.5, y+h, \"***\", ha='center', va='bottom', color=col,size=24, weight='bold')\n",
    "\n",
    "diri=\"/Volumes/Macintosh HD/Users/taldankovich/Downloads/figures/\"\n",
    "fig.savefig(diri+'SuppFig9_golgiblock.svg', bbox_inches='tight', format='svg')"
   ]
  },
  {
   "cell_type": "code",
   "execution_count": null,
   "metadata": {},
   "outputs": [],
   "source": []
  }
 ],
 "metadata": {
  "kernelspec": {
   "display_name": "Python 3",
   "language": "python",
   "name": "python3"
  },
  "language_info": {
   "codemirror_mode": {
    "name": "ipython",
    "version": 3
   },
   "file_extension": ".py",
   "mimetype": "text/x-python",
   "name": "python",
   "nbconvert_exporter": "python",
   "pygments_lexer": "ipython3",
   "version": "3.7.1"
  }
 },
 "nbformat": 4,
 "nbformat_minor": 2
}
