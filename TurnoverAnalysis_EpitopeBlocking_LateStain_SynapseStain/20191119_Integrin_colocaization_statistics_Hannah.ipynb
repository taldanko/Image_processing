{
 "cells": [
  {
   "cell_type": "markdown",
   "metadata": {},
   "source": [
    "## Import modules and functions\n",
    "Unlike Matlab which has in-built functions, in Python people/groups make packages where they write functions for different purposes (e.g. image processing, statistics, plotting etc.). Here we import different packages are functions that have been made for the analyses that we need to run.\n",
    "Some of these are not used, but I was lazy to sift through it."
   ]
  },
  {
   "cell_type": "code",
   "execution_count": 1,
   "metadata": {},
   "outputs": [],
   "source": [
    "import numpy as np\n",
    "import os\n",
    "from nd2reader import ND2Reader\n",
    "import matplotlib.pyplot as plt\n",
    "import matplotlib.cm as cm\n",
    "from matplotlib_scalebar.scalebar import ScaleBar\n",
    "import scipy.ndimage as ndi\n",
    "from skimage.filters import rank \n",
    "from scipy.signal import butter, lfilter\n",
    "import scipy.misc as misc\n",
    "from skimage import exposure\n",
    "from PIL import Image\n",
    "import colorcet as cc\n",
    "from scipy.misc import toimage\n",
    "import matplotlib.colors as clr\n",
    "import pandas as pd\n",
    "import seaborn as sns\n",
    "from scipy import stats\n",
    "import cv2\n",
    "from pyspark import SparkContext, SparkConf\n",
    "import skimage\n",
    "from pathlib import Path\n",
    "\n",
    "def mean2(x):\n",
    "    y = np.sum(x) / np.size(x);\n",
    "    return y\n",
    "def corr2(a,b):\n",
    "    a = a - mean2(a)\n",
    "    b = b - mean2(b)\n",
    "\n",
    "    r = (a*b).sum() / np.sqrt((a*a).sum() * (b*b).sum());\n",
    "    return r\n",
    "from copy import deepcopy\n",
    "from skimage.filters import threshold_otsu,threshold_li\n",
    "import glob\n",
    "from IPython.display import clear_output\n",
    "import scipy.io as spio\n",
    "import pims\n",
    "from skimage.measure import label, regionprops\n",
    "from skimage.color import label2rgb\n",
    "import scipy\n",
    "\n",
    "import warnings\n",
    "warnings.filterwarnings('ignore')"
   ]
  },
  {
   "cell_type": "markdown",
   "metadata": {},
   "source": [
    "## Specify the directory to read the files from\n",
    "This is the folder where all of your integrin imaging folders are"
   ]
  },
  {
   "cell_type": "code",
   "execution_count": 3,
   "metadata": {},
   "outputs": [],
   "source": [
    "expdir='/Volumes/ukps-all$/user/tdanko/Imaging/1_ECM/Fixed culture/Leica confocal/'\n",
    "protein=\"TNR\" #TNR,Agg,WFA,HABP"
   ]
  },
  {
   "cell_type": "markdown",
   "metadata": {},
   "source": [
    "## Read the correlations calculated in Matlab\n",
    "In Matlab, each of your clicks drew a line in the organelle channel and at the same location in the integrin channel. The correlation between the intensity values in both channels was calculated (look up 'Pearson's correlation coefficient). In each folder, a file is created called 'normal_corrs_all.txt' which contains a list where each value is the average correlation coefficient for one image in the folder.\n",
    "\n",
    "Running the code below will make something called a 'dictionary' for storing the results (imagine it like an excel worksheet with column headings, and values filling these columns). We will call this dictionary 'results' and the column heading: \n",
    "- 'filename' (for storing the filename of the normal-corrs-all.txt filename\n",
    "- 'exp condition' (for storing the name of the containing folder, which is essentially, the name of the protein we're looking at)"
   ]
  },
  {
   "cell_type": "code",
   "execution_count": null,
   "metadata": {},
   "outputs": [],
   "source": [
    "results = {\"filename\":[],\n",
    "          \"exp condition\":[],\n",
    "          \"mean correlation\":[],\n",
    "          \"correlation\":[]}\n",
    "path = os.path.dirname(expdir)  \n",
    "outputFolder = os.path.dirname(expdir + \"/new/\")\n",
    "filelist = []\n",
    "for root, _, filenames in os.walk(path):\n",
    "     for filename in filenames:\n",
    "         filelist.append(os.path.join(root, filename))      \n",
    "for i in range(0,len(filelist)):\n",
    "    if \"_analyse\" in str(filelist[i]):\n",
    "        if \"normal_corrs_all\" in str(filelist[i]):\n",
    "            if filelist[i].endswith(\".txt\"): \n",
    "                if str(filelist[i][:-12]) not in str(results[\"filename\"]):\n",
    "                    results[\"filename\"].append(filelist[i])\n",
    "                    results[\"exp condition\"].append(filelist[i].split('/')[-2])\n",
    "                    results[\"correlation\"].append(np.loadtxt(filelist[i]))"
   ]
  },
  {
   "cell_type": "markdown",
   "metadata": {},
   "source": [
    "## Make a dataframe of the results\n",
    "We will convert the 'dictionary' that we made above with the results into another Python file format called a 'dataframe'. This is really like an excel sheet, and the main advantage is that there is an entire Python package called 'Pandas' (cute, right? :) ) which was written specifically for data analysis and which lets you do all kinds of analyses very easily and automatically with this file type.\n",
    "\n",
    "We'll also make a new column called 'Protein' to the dataframe to make things nicer and more readable"
   ]
  },
  {
   "cell_type": "code",
   "execution_count": null,
   "metadata": {},
   "outputs": [],
   "source": [
    "newdf=pd.DataFrame(results)\n",
    "\n",
    "newdf['Protein']='None'\n",
    "\n",
    "newdf.loc[(newdf['filename'].str.contains('nt'))&(newdf['filename'].str.contains('12')), 'Protein'] = 'Int1b, all TNR Blk+12, stripped'\n",
    "newdf.loc[(newdf['filename'].str.contains('nt'))&(newdf['filename'].str.contains('surface')), 'Protein'] = 'Int1b Blk/TNR Blk, +0, surface'\n",
    "newdf.loc[newdf['filename'].str.contains('tgn'), 'Protein'] = 'TGN38/ TNR Blk, +12'\n",
    "newdf.loc[newdf['filename'].str.contains('rab11'), 'Protein'] = 'Rab11a/ TNR Blk, +12'\n",
    "newdf.loc[newdf['filename'].str.contains('cav'), 'Protein'] = 'Cav1/ TNR Blk'\n",
    "newdf.loc[newdf['filename'].str.contains('negctrl'), 'Protein'] = 'Neg ctrl vAchT'\n",
    "newdf.loc[newdf['filename'].str.contains('positivecontrol'), 'Protein'] = 'Pos ctrl 2 secondaries'\n",
    "newdf.loc[newdf['filename'].str.contains('rab7'), 'Protein'] = 'Rab7/ TNR Blk, +12'\n",
    "newdf.loc[newdf['filename'].str.contains('rab5'), 'Protein'] = 'Rab5/ TNR Blk, +12'\n",
    "newdf.loc[newdf['filename'].str.contains('lamp'), 'Protein'] = 'lamp1/ TNR Blk, +12'\n",
    "newdf.loc[(newdf['filename'].str.contains('calreticulin'))&(newdf['filename'].str.contains('maxprojection')),'Protein'] = 'Calreticulin/ TNR Blk, +12, max proj'\n",
    "newdf.loc[(newdf['filename'].str.contains('calreticulin'))&(newdf['filename'].str.contains('averageprojection')),'Protein'] = 'Calreticulin/ TNR Blk, +12, mean proj'\n",
    "newdf.loc[(newdf['filename'].str.contains('calnexin'))&(newdf['filename'].str.contains('maxprojection')),'Protein'] = 'Calnexin/ TNR Blk, +12, max proj'\n",
    "newdf.loc[(newdf['filename'].str.contains('calnexin'))&(newdf['filename'].str.contains('averageprojection')),'Protein'] = 'Calnexin/ TNR Blk, +12, mean proj'"
   ]
  },
  {
   "cell_type": "markdown",
   "metadata": {},
   "source": [
    "## Make dataframe which contains the mean correlation for each separate experiment\n",
    "It's common when doing statistics for experiments to group an entire experiment into one single datapoint (this reduces the variability of the results). So, we will make a new dataframe which has the columns:\n",
    "- expnumber: the number of the experiment for a specific organelle (ideally, this should be 3-4)\n",
    "- protein: which organelle is it\n",
    "- perc_over: from previous experiments that people in our group have done, it seems that a correlation of > 0.7 is considered a good colocalization. So, for each protein, for each experiment, we will calculate the percent of images with a mean correlation value of > 0.7.\n",
    "- perc_over_norm2posctrl: i've already done a positive control (for tnr, but i don't think there's a need to repeat this for the time being) where i stained with tnr, and then with two secondary antibodies directed against mouse, with different colours. In theory the two antibodies should colocalize very well. In practice it's not 100%. Therefore, it makes sense to normalize all of the other correlations by this positive control value, since this is the maximum they could hope to reach (the 'real' 100%)."
   ]
  },
  {
   "cell_type": "code",
   "execution_count": null,
   "metadata": {},
   "outputs": [],
   "source": [
    "results_allprot={\"expnumber\":[],\"Protein\":[],\"perc_over\":[],\n",
    "                \"perc_over norm2posctrl\":[]}\n",
    "mean_posctrl=df_all[df_all[\"Protein\"]==\"Pos ctrl 2 secondaries\"][\"perc_over\"].mean()\n",
    "\n",
    "for protein in newdf[\"Protein\"].unique():\n",
    "    dfprot=newdf[newdf[\"Protein\"]==protein]\n",
    "    dfprot=dfprot.reset_index()\n",
    "    percentages=[]\n",
    "    expi=[]\n",
    "    count=1\n",
    "    for exp in dfprot[\"exp condition\"].unique():\n",
    "        dfexp=dfprot[dfprot[\"exp condition\"]==exp]\n",
    "        a=np.sum(dfexp[\"correlation\"].values[0]>0.7)/len(dfexp[\"correlation\"].values[0])*100\n",
    "        percentages.append(a)\n",
    "        expi.append(exp)\n",
    "        results_allprot[\"Protein\"].append(protein)\n",
    "        results_allprot[\"expnumber\"].append(count)\n",
    "        results_allprot[\"perc_over\"].append(a)\n",
    "        results_allprot[\"perc_over norm2posctrl\"].append(a/mean_posctrl*100)\n",
    "        count+=1\n",
    "df_all=pd.DataFrame(results_allprot)"
   ]
  },
  {
   "cell_type": "markdown",
   "metadata": {},
   "source": [
    "## Take a look at the dataframe\n",
    "If you want :P"
   ]
  },
  {
   "cell_type": "code",
   "execution_count": null,
   "metadata": {},
   "outputs": [],
   "source": [
    "df_all"
   ]
  },
  {
   "cell_type": "markdown",
   "metadata": {},
   "source": [
    "## Read csv - percentages corrected to posctrl"
   ]
  },
  {
   "cell_type": "code",
   "execution_count": 4,
   "metadata": {},
   "outputs": [],
   "source": [
    "organelledf=pd.read_csv(filepath_or_buffer=expdir+'Organelle_coloc_analysis/201908_Coloc_linescan_calculationsfromSilvio_Integrins.csv',\n",
    "                       sep=';')"
   ]
  },
  {
   "cell_type": "markdown",
   "metadata": {},
   "source": [
    "## Plot"
   ]
  },
  {
   "cell_type": "code",
   "execution_count": 4,
   "metadata": {},
   "outputs": [
    {
     "data": {
      "image/png": "[encoded data removed]",
      "text/plain": [
       "<Figure size 288x432 with 1 Axes>"
      ]
     },
     "metadata": {},
     "output_type": "display_data"
    }
   ],
   "source": [
    "sns.set(font_scale=2.5)\n",
    "sns.set_style(\"ticks\")\n",
    "sns.set_palette(\"Set2\")\n",
    "from matplotlib import ticker\n",
    "\n",
    "\n",
    "df2plot=organelledf\n",
    "order=df2plot[\"Protein\"].unique()\n",
    "var=\"corrected perc\"\n",
    "fig=plt.figure(figsize=(4,6))\n",
    "\n",
    "g=sns.barplot(data=df2plot,y=var,x=\"Protein\",\n",
    "            color=\"#abc2fc\",ci=None)\n",
    "\n",
    "def change_width(ax, new_value) :\n",
    "    for patch in ax.patches :\n",
    "        current_width = patch.get_width()\n",
    "        diff = current_width - new_value\n",
    "        # we change the bar width\n",
    "        patch.set_width(new_value)\n",
    "        # we recenter the bar\n",
    "        patch.set_x(patch.get_x() + diff * .5)\n",
    "change_width(g, .7)\n",
    "\n",
    "g=sns.swarmplot(data=df2plot,y=var,x=\"Protein\",color=\"#2F67F8\",size=8)\n",
    "\n",
    "\n",
    "plt.errorbar(x=np.arange(0,len(order)),\n",
    "             y=[df2plot[df2plot[\"Protein\"]==condtype][var].mean() for condtype in order],\n",
    "             yerr=[df2plot[df2plot[\"Protein\"]==condtype][var].sem() for condtype in order],\n",
    "             xerr=None,ecolor='black',fmt='none',capsize=10,linewidth=3,\n",
    "             capthick=3,zorder=10,\n",
    "            alpha=1)\n",
    "\n",
    "\n",
    "plt.axhline(-2, color='#333333',alpha=1,linewidth=4)\n",
    "g.xaxis.set_tick_params(width=4)\n",
    "g.yaxis.set_tick_params(width=4)\n",
    "plt.rcParams['font.sans-serif'] = 'Helvetica'\n",
    "g.set_ylabel('')\n",
    "g.set_xlabel('',color='#333333',alpha=.7)\n",
    "plt.xticks(g.get_xticks(),['Internal\\nafter 12h',\n",
    "      'New surface\\nepitopes','Neg Ctrl'],\n",
    "           rotation=70,size=20)\n",
    "\n",
    "g.grid(False)\n",
    "for axis in ['top','bottom','left','right']:\n",
    "  g.spines[axis].set_linewidth(4)\n",
    "  g.spines[axis].set_color('#333333')\n",
    "  g.spines[axis].set_alpha(1)\n",
    "\n",
    "\n",
    "offsets={\"left\":10,\"bottom\":0}\n",
    "trims={\"left\":True,\"bottom\":False,\"right\":False}\n",
    "sns.despine(ax=g,right=True,top=True,bottom=True,trim=trims,offset=offsets)\n",
    "\n",
    "plt.yticks([0,10,20,30,40],fontsize=20,color='#333333')\n",
    "\n",
    "plt.ylim([-5,50])\n",
    "\n",
    "#diri=\"/Volumes/Macintosh HD/Users/taldankovich/Downloads/figures/\"\n",
    "\n",
    "#fig.savefig(diri+'5b_confocal_colocs_integrins.svg', bbox_inches='tight', format='svg')"
   ]
  }
 ],
 "metadata": {
  "kernelspec": {
   "display_name": "Python 3",
   "language": "python",
   "name": "python3"
  },
  "language_info": {
   "codemirror_mode": {
    "name": "ipython",
    "version": 3
   },
   "file_extension": ".py",
   "mimetype": "text/x-python",
   "name": "python",
   "nbconvert_exporter": "python",
   "pygments_lexer": "ipython3",
   "version": "3.7.1"
  }
 },
 "nbformat": 4,
 "nbformat_minor": 2
}
