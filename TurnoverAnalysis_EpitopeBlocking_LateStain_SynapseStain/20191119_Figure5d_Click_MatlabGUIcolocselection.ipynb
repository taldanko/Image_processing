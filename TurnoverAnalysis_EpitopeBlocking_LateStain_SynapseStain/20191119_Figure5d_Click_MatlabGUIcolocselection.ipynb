{
 "cells": [
  {
   "cell_type": "markdown",
   "metadata": {},
   "source": [
    "## Import modules and functions"
   ]
  },
  {
   "cell_type": "code",
   "execution_count": 3,
   "metadata": {},
   "outputs": [],
   "source": [
    "import numpy as np\n",
    "import os\n",
    "from nd2reader import ND2Reader\n",
    "import matplotlib.pyplot as plt\n",
    "import matplotlib.cm as cm\n",
    "from matplotlib_scalebar.scalebar import ScaleBar\n",
    "import scipy.ndimage as ndi\n",
    "from skimage.filters import rank \n",
    "from scipy.signal import butter, lfilter\n",
    "import scipy.misc as misc\n",
    "from skimage import exposure\n",
    "from PIL import Image\n",
    "import colorcet as cc\n",
    "\n",
    "import matplotlib.colors as clr\n",
    "import pandas as pd\n",
    "import seaborn as sns\n",
    "from scipy import stats\n",
    "import cv2\n",
    "from pyspark import SparkContext, SparkConf\n",
    "import skimage\n",
    "from pathlib import Path\n",
    "\n",
    "def mean2(x):\n",
    "    y = np.sum(x) / np.size(x);\n",
    "    return y\n",
    "def corr2(a,b):\n",
    "    a = a - mean2(a)\n",
    "    b = b - mean2(b)\n",
    "\n",
    "    r = (a*b).sum() / np.sqrt((a*a).sum() * (b*b).sum());\n",
    "    return r\n",
    "from copy import deepcopy\n",
    "from skimage.filters import threshold_otsu,threshold_li\n",
    "import glob\n",
    "from IPython.display import clear_output\n",
    "import scipy.io as spio\n",
    "import pims\n",
    "from skimage.measure import label, regionprops\n",
    "from skimage.color import label2rgb\n",
    "import scipy\n",
    "\n",
    "import warnings\n",
    "warnings.filterwarnings('ignore')\n",
    "from pathlib import Path"
   ]
  },
  {
   "cell_type": "markdown",
   "metadata": {},
   "source": [
    "## Specify experiment directory"
   ]
  },
  {
   "cell_type": "code",
   "execution_count": 4,
   "metadata": {},
   "outputs": [],
   "source": [
    "expdir='/Volumes/ukps-all$/user/tdanko/Imaging/1_ECM/Culture_ClickChemistry/'\n",
    "protein=\"TNR\" #TNR,Agg,WFA,HABP"
   ]
  },
  {
   "cell_type": "markdown",
   "metadata": {},
   "source": [
    "## Make dictionary to store results from Matlab GUI"
   ]
  },
  {
   "cell_type": "code",
   "execution_count": 5,
   "metadata": {},
   "outputs": [],
   "source": [
    "results = {\"filename\":[],\n",
    "          \"exp condition\":[],\n",
    "          \"number colocalized\":[],\n",
    "           \"percent colocalized\":[],\n",
    "           \"number not colocalized\":[],\n",
    "           \"percent not colocalized\":[]}\n",
    "          \n",
    "path = os.path.dirname(expdir)  \n",
    "outputFolder = os.path.dirname(expdir + \"/new/\")\n",
    "filelist = []\n",
    "for root, _, filenames in os.walk(path):\n",
    "     for filename in filenames:\n",
    "         filelist.append(os.path.join(root, filename))      \n",
    "for i in range(0,len(filelist)):\n",
    "    if \"pointcount_colocfirst_noncolocsecond\" in str(filelist[i]):\n",
    "        if str(filelist[i][:-12]) not in str(results[\"filename\"]):\n",
    "            results[\"filename\"].append(filelist[i])\n",
    "            my_file = Path(filelist[i])\n",
    "            if my_file.exists():\n",
    "                mat=spio.loadmat(my_file, squeeze_me=True)\n",
    "            results[\"exp condition\"].append(filelist[i].split('/')[8])\n",
    "            coloc=mat[\"countpoints\"][0]\n",
    "            noncoloc=mat[\"countpoints\"][1]\n",
    "            results[\"number colocalized\"].append(coloc)\n",
    "            results[\"number not colocalized\"].append(noncoloc)\n",
    "            results[\"percent colocalized\"].append(coloc/(coloc+noncoloc)*100)\n",
    "            results[\"percent not colocalized\"].append(noncoloc/(coloc+noncoloc)*100)"
   ]
  },
  {
   "cell_type": "markdown",
   "metadata": {},
   "source": [
    "## Make dataframe"
   ]
  },
  {
   "cell_type": "code",
   "execution_count": 6,
   "metadata": {},
   "outputs": [],
   "source": [
    "dfnew2=pd.DataFrame(results)\n",
    "dfnew2['Protein']='None'\n",
    "\n",
    "dfnew2.loc[dfnew2['filename'].str.contains('glc4hrs'), 'Protein'] = 'GlcNAz 4h'\n",
    "dfnew2.loc[dfnew2['filename'].str.contains('gal4hrs'), 'Protein'] = 'GalNAz 4h'\n",
    "dfnew2.loc[dfnew2['filename'].str.contains('glc24hrs'), 'Protein'] = 'GlcNAz 24h'\n",
    "dfnew2.loc[dfnew2['filename'].str.contains('gal24hrs'), 'Protein'] = 'GalNAz 24h'\n",
    "dfnew2.loc[dfnew2['filename'].str.contains('glcgal24hrs'), 'Protein'] = 'Glc+Gal 24h'\n",
    "dfnew2.loc[dfnew2['filename'].str.contains('glcgal4hrs'), 'Protein'] = 'Glc+Gal 4h'\n",
    "\n",
    "dfnew2.loc[dfnew2['filename'].str.contains('glcgal4hrs'), 'Protein'] = 'Glc+Gal 4h'\n",
    "dfnew2.loc[(dfnew2['filename'].str.contains('0502'))&(dfnew2['filename'].str.contains('blocked')), 'Protein'] = 'AHA'\n",
    "dfnew2.loc[(dfnew2['filename'].str.contains('0522'))&(dfnew2['filename'].str.contains('acth')), 'Protein'] = 'Neg ctrl AchT'\n",
    "dfnew2.loc[(dfnew2['filename'].str.contains('0522'))&(dfnew2['filename'].str.contains('635')), 'Protein'] = 'Pos ctrl nb635'\n",
    "dfnew2.loc[(dfnew2['filename'].str.contains('0522'))&(dfnew2['filename'].str.contains('_analyse/funcat')), 'Protein'] = 'AHA'\n",
    "dfnew2.loc[(dfnew2['filename'].str.contains('0605'))&(dfnew2['filename'].str.contains('withgreenchannel/funcat')), 'Protein'] = 'AHA'\n",
    "dfnew2.loc[(dfnew2['filename'].str.contains('0605'))&(dfnew2['filename'].str.contains('635')), 'Protein'] = 'Pos ctrl nb635'\n",
    "dfnew2.loc[(dfnew2['filename'].str.contains('0605'))&(dfnew2['filename'].str.contains('acht')), 'Protein'] = 'Neg ctrl AchT'\n",
    "dfnew2.loc[(dfnew2['filename'].str.contains('0612'))&(dfnew2['filename'].str.contains('acht')), 'Protein'] = 'Neg ctrl AchT'\n",
    "dfnew2.loc[(dfnew2['filename'].str.contains('0612'))&(dfnew2['filename'].str.contains('635')), 'Protein'] = 'Pos ctrl nb635'\n",
    "dfnew2.loc[(dfnew2['filename'].str.contains('0612'))&(dfnew2['filename'].str.contains('aha')), 'Protein'] = 'AHA'\n",
    "dfnew2.loc[(dfnew2['filename'].str.contains('0612'))&(dfnew2['filename'].str.contains('aha')), 'Protein'] = 'AHA'\n",
    "dfnew2.loc[(dfnew2['filename'].str.contains('aha')), 'Protein'] = 'AHA'\n",
    "dfnew2.loc[(dfnew2['filename'].str.contains('vacht')), 'Protein'] = 'Neg ctrl AchT'\n",
    "\n",
    "\n",
    "dfnew2.loc[dfnew2['filename'].str.contains('positivectrl'), 'Protein'] = 'Pos ctrl 2 secondaries'\n",
    "\n",
    "dfnew2[\"exp name\"]='None'\n",
    "dfnew2.loc[dfnew2['filename'].str.contains('0502'),'exp name']='0502'\n",
    "dfnew2.loc[dfnew2['filename'].str.contains('0522'),'exp name']='0522'\n",
    "dfnew2.loc[dfnew2['filename'].str.contains('0605'),'exp name']='0605'\n",
    "dfnew2.loc[dfnew2['filename'].str.contains('0612'),'exp name']='0612'\n",
    "dfnew2.loc[dfnew2['filename'].str.contains('0627'),'exp name']='0627'\n",
    "dfnew2.loc[dfnew2['filename'].str.contains('0703'),'exp name']='0703'\n",
    "dfnew2.loc[dfnew2['filename'].str.contains('0716'),'exp name']='0716'\n",
    "dfnew2.loc[dfnew2['filename'].str.contains('0723'),'exp name']='0723'\n",
    "dfnew2.loc[dfnew2['filename'].str.contains('0801'),'exp name']='0801'\n",
    "dfnew2.loc[dfnew2['filename'].str.contains('0813'),'exp name']='0813'\n",
    "\n",
    "dfnew2.loc[dfnew2['filename'].str.contains('culture2'),'exp name']='posctrlculture2'"
   ]
  },
  {
   "cell_type": "markdown",
   "metadata": {},
   "source": [
    "## Save to pickle"
   ]
  },
  {
   "cell_type": "code",
   "execution_count": 8,
   "metadata": {},
   "outputs": [],
   "source": [
    "dfnew2.to_pickle(expdir+'click_annalysis_coloc_frommatlabclicking.pkl')"
   ]
  },
  {
   "cell_type": "markdown",
   "metadata": {},
   "source": [
    "## Recover"
   ]
  },
  {
   "cell_type": "code",
   "execution_count": null,
   "metadata": {},
   "outputs": [],
   "source": [
    "dfnew2=pd.from_pickle(expdir+'click_annalysis_coloc_frommatlabclicking.pkl')"
   ]
  },
  {
   "cell_type": "markdown",
   "metadata": {},
   "source": [
    "## Dataframe"
   ]
  },
  {
   "cell_type": "code",
   "execution_count": 9,
   "metadata": {},
   "outputs": [],
   "source": [
    "dfexps2={\"expname\":[],\"protein\":[],\"percent coloc\":[]}\n",
    "for exp in dfnew2[\"exp name\"].unique():\n",
    "    dfexp=dfnew2[dfnew2[\"exp name\"]==exp]\n",
    "    for protein in dfexp[\"Protein\"].unique():\n",
    "        dfprot=dfexp[dfexp[\"Protein\"]==protein]\n",
    "        dfexps2[\"expname\"].append(exp)\n",
    "        dfexps2[\"protein\"].append(protein)\n",
    "        dfexps2[\"percent coloc\"].append(dfprot[\"percent colocalized\"].mean())\n",
    "        \n",
    "dfexpsi=pd.DataFrame(dfexps2)    "
   ]
  },
  {
   "cell_type": "markdown",
   "metadata": {},
   "source": [
    "## Clean up df - remove 24 hours and neg ctrl"
   ]
  },
  {
   "cell_type": "code",
   "execution_count": 10,
   "metadata": {},
   "outputs": [],
   "source": [
    "dfexpsi=dfexpsi[dfexpsi[\"protein\"]!=\"Pos ctrl nb635\"]\n",
    "dfexpsi=dfexpsi[dfexpsi[\"protein\"].str.contains(\"24\")==False]"
   ]
  },
  {
   "cell_type": "markdown",
   "metadata": {},
   "source": [
    "## Save neg ctrl mean for subtracting"
   ]
  },
  {
   "cell_type": "code",
   "execution_count": 11,
   "metadata": {},
   "outputs": [],
   "source": [
    "negctrlmean=dfexpsi[dfexpsi[\"protein\"]==\"Neg ctrl AchT\"][\"percent coloc\"].mean()"
   ]
  },
  {
   "cell_type": "markdown",
   "metadata": {},
   "source": [
    "## make df without negctrl\n"
   ]
  },
  {
   "cell_type": "code",
   "execution_count": 12,
   "metadata": {},
   "outputs": [],
   "source": [
    "dfexpsi2=dfexpsi[dfexpsi[\"protein\"]!=\"Neg ctrl AchT\"]\n",
    "dfexpsi2=dfexpsi2.reset_index()\n",
    "dfexpsi2=dfexpsi2[dfexpsi2[\"protein\"]!=\"Pos ctrl 2 secondaries\"]\n",
    "dfexpsi2=dfexpsi2.reset_index()"
   ]
  },
  {
   "cell_type": "code",
   "execution_count": 13,
   "metadata": {},
   "outputs": [
    {
     "data": {
      "text/plain": [
       "18.6614927649498"
      ]
     },
     "execution_count": 13,
     "metadata": {},
     "output_type": "execute_result"
    }
   ],
   "source": [
    "negctrlmean"
   ]
  },
  {
   "cell_type": "markdown",
   "metadata": {},
   "source": [
    "## Subtract neg ctrl mean from other vals"
   ]
  },
  {
   "cell_type": "code",
   "execution_count": 14,
   "metadata": {},
   "outputs": [],
   "source": [
    "dfexpsi2[\"percent coloc\"]-=negctrlmean"
   ]
  },
  {
   "cell_type": "markdown",
   "metadata": {},
   "source": [
    "## plot"
   ]
  },
  {
   "cell_type": "code",
   "execution_count": 15,
   "metadata": {},
   "outputs": [],
   "source": [
    "dfexpsi2.loc[dfexpsi2[\"percent coloc\"]<0,\"percent coloc\"]=0"
   ]
  },
  {
   "cell_type": "code",
   "execution_count": 17,
   "metadata": {},
   "outputs": [],
   "source": [
    "dfexpsi2.to_csv(\"/Volumes/Macintosh HD/Users/taldankovich/Downloads/csvs/df2.csv\") "
   ]
  },
  {
   "cell_type": "code",
   "execution_count": 24,
   "metadata": {},
   "outputs": [
    {
     "data": {
      "image/png": "[encoded data removed]",
      "text/plain": [
       "<Figure size 432x360 with 1 Axes>"
      ]
     },
     "metadata": {},
     "output_type": "display_data"
    }
   ],
   "source": [
    "sns.set(font_scale=2.5)\n",
    "sns.set_style(\"ticks\")\n",
    "sns.set_palette(\"Set2\")\n",
    "from matplotlib import ticker\n",
    "\n",
    "var=\"percent coloc\"\n",
    "fig=plt.figure(figsize=(6,5))\n",
    "\n",
    "order=dfexpsi2.groupby(\"protein\").mean().sort_values(\"percent coloc\",ascending=False).index\n",
    "\n",
    "g=sns.swarmplot(data=dfexpsi2,y=var,x=\"protein\",color=\"#2F67F8\",order=order,size=8)\n",
    "\n",
    "g=sns.barplot(data=dfexpsi2,y=var,x=\"protein\"\n",
    "            ,order=order,color=\"#abc2fc\",ci=None)\n",
    "\n",
    "def change_width(ax, new_value) :\n",
    "    for patch in ax.patches :\n",
    "        current_width = patch.get_width()\n",
    "        diff = current_width - new_value\n",
    "        # we change the bar width\n",
    "        patch.set_width(new_value)\n",
    "        # we recenter the bar\n",
    "        patch.set_x(patch.get_x() + diff * .5)\n",
    "change_width(g, .7)\n",
    "\n",
    "plt.errorbar(x=np.arange(0,len(order)),\n",
    "             y=[dfexpsi2[dfexpsi2[\"protein\"]==condtype][var].mean() for condtype in order],\n",
    "             yerr=[dfexpsi2[dfexpsi2[\"protein\"]==condtype][var].sem() for condtype in order],\n",
    "             xerr=None,ecolor='black',fmt='none',capsize=10,linewidth=3,\n",
    "             capthick=3,zorder=10,\n",
    "            alpha=1)\n",
    "\n",
    "plt.axhline(0, color='#333333',alpha=1,linewidth=10)\n",
    "g.xaxis.set_tick_params(width=4)\n",
    "g.yaxis.set_tick_params(width=4)\n",
    "g.set_ylabel('')\n",
    "g.set_xlabel('',color='#333333',alpha=.7)\n",
    "plt.xticks(g.get_xticks(),order,\n",
    "           rotation=90,size=20)\n",
    "plt.yticks([0,20,40,60,80],size=20,color='#333333')\n",
    "g.grid(False)\n",
    "plt.ylim([0,40])\n",
    "plt.xlim([-1,len(order)])\n",
    "\n",
    "for axis in ['top','bottom','left','right']:\n",
    "  g.spines[axis].set_linewidth(4)\n",
    "  g.spines[axis].set_color('#333333')\n",
    "  g.spines[axis].set_alpha(1)\n",
    "\n",
    "\n",
    "\n",
    "x1, x2 = 0,3\n",
    "y= 34\n",
    "h=1\n",
    "col='black'\n",
    "plt.plot([x1, x1, x2, x2], [y, y+h, y+h, y], lw=3.5, c=col)\n",
    "plt.text((x1+x2)*.5, y+h, \"*\", ha='center', va='bottom', color=col,size=24, weight='bold')\n",
    "\n",
    "x1, x2 = 1,3\n",
    "y= 28\n",
    "h=1\n",
    "col='black'\n",
    "plt.plot([x1, x1, x2, x2], [y, y+h, y+h, y], lw=3.5, c=col)\n",
    "plt.text((x1+x2)*.5, y+h, \"*\", ha='center', va='bottom', color=col,size=24, weight='bold')\n",
    "offsets={\"left\":10,\"bottom\":0}\n",
    "trims={\"left\":True,\"bottom\":False,\"right\":False}\n",
    "sns.despine(ax=g,right=True,top=True,bottom=True,trim=trims,offset=offsets)\n",
    "\n",
    "plt.xticks(g.get_xticks(),['Gal','Gal + Glc','Glc','AHA'], rotation=65,size=24)\n",
    "\n",
    "diri=\"/Volumes/Macintosh HD/Users/taldankovich/Downloads/figures/\"\n",
    "\n",
    "fig.savefig(diri+'figure5_clickanalysis.svg', bbox_inches='tight', format='svg')"
   ]
  },
  {
   "cell_type": "markdown",
   "metadata": {},
   "source": [
    "## stats"
   ]
  },
  {
   "cell_type": "markdown",
   "metadata": {},
   "source": [
    "## anova"
   ]
  },
  {
   "cell_type": "code",
   "execution_count": 28,
   "metadata": {},
   "outputs": [],
   "source": [
    "d={}\n",
    "for protein in order:\n",
    "    d[\"protein{0}\".format(protein)]=dfexpsi2[dfexpsi2[\"protein\"]==protein][var].values"
   ]
  },
  {
   "cell_type": "code",
   "execution_count": 29,
   "metadata": {},
   "outputs": [],
   "source": [
    "vals=[]\n",
    "prots=[]\n",
    "for key, value in d.items():\n",
    "    vals.append(value)\n",
    "    prots.append(key)"
   ]
  },
  {
   "cell_type": "code",
   "execution_count": 33,
   "metadata": {},
   "outputs": [
    {
     "data": {
      "text/plain": [
       "F_onewayResult(statistic=6.303160589115086, pvalue=0.008197103137175874)"
      ]
     },
     "execution_count": 33,
     "metadata": {},
     "output_type": "execute_result"
    }
   ],
   "source": [
    "stats.f_oneway(vals[1],vals[2],vals[3],vals[0])"
   ]
  },
  {
   "cell_type": "markdown",
   "metadata": {},
   "source": [
    "### tukey compare to AHA"
   ]
  },
  {
   "cell_type": "code",
   "execution_count": 34,
   "metadata": {},
   "outputs": [
    {
     "data": {
      "text/html": [
       "<div>\n",
       "<style scoped>\n",
       "    .dataframe tbody tr th:only-of-type {\n",
       "        vertical-align: middle;\n",
       "    }\n",
       "\n",
       "    .dataframe tbody tr th {\n",
       "        vertical-align: top;\n",
       "    }\n",
       "\n",
       "    .dataframe thead th {\n",
       "        text-align: right;\n",
       "    }\n",
       "</style>\n",
       "<table border=\"1\" class=\"dataframe\">\n",
       "  <thead>\n",
       "    <tr style=\"text-align: right;\">\n",
       "      <th></th>\n",
       "      <th>group1</th>\n",
       "      <th>group2</th>\n",
       "      <th>meandiff</th>\n",
       "      <th>lower</th>\n",
       "      <th>upper</th>\n",
       "      <th>reject</th>\n",
       "      <th>pvals</th>\n",
       "    </tr>\n",
       "  </thead>\n",
       "  <tbody>\n",
       "    <tr>\n",
       "      <th>0</th>\n",
       "      <td>AHA</td>\n",
       "      <td>GalNAz 4h</td>\n",
       "      <td>15.9494</td>\n",
       "      <td>2.8048</td>\n",
       "      <td>29.0940</td>\n",
       "      <td>True</td>\n",
       "      <td>0.016533</td>\n",
       "    </tr>\n",
       "    <tr>\n",
       "      <th>1</th>\n",
       "      <td>AHA</td>\n",
       "      <td>Glc+Gal 4h</td>\n",
       "      <td>14.7141</td>\n",
       "      <td>1.5695</td>\n",
       "      <td>27.8587</td>\n",
       "      <td>True</td>\n",
       "      <td>0.026958</td>\n",
       "    </tr>\n",
       "    <tr>\n",
       "      <th>2</th>\n",
       "      <td>AHA</td>\n",
       "      <td>GlcNAz 4h</td>\n",
       "      <td>4.1309</td>\n",
       "      <td>-9.0137</td>\n",
       "      <td>17.2755</td>\n",
       "      <td>False</td>\n",
       "      <td>0.770325</td>\n",
       "    </tr>\n",
       "    <tr>\n",
       "      <th>3</th>\n",
       "      <td>GalNAz 4h</td>\n",
       "      <td>Glc+Gal 4h</td>\n",
       "      <td>-1.2353</td>\n",
       "      <td>-14.3799</td>\n",
       "      <td>11.9093</td>\n",
       "      <td>False</td>\n",
       "      <td>0.900000</td>\n",
       "    </tr>\n",
       "    <tr>\n",
       "      <th>4</th>\n",
       "      <td>GalNAz 4h</td>\n",
       "      <td>GlcNAz 4h</td>\n",
       "      <td>-11.8185</td>\n",
       "      <td>-24.9631</td>\n",
       "      <td>1.3261</td>\n",
       "      <td>False</td>\n",
       "      <td>0.083402</td>\n",
       "    </tr>\n",
       "    <tr>\n",
       "      <th>5</th>\n",
       "      <td>Glc+Gal 4h</td>\n",
       "      <td>GlcNAz 4h</td>\n",
       "      <td>-10.5831</td>\n",
       "      <td>-23.7277</td>\n",
       "      <td>2.5615</td>\n",
       "      <td>False</td>\n",
       "      <td>0.131911</td>\n",
       "    </tr>\n",
       "  </tbody>\n",
       "</table>\n",
       "</div>"
      ],
      "text/plain": [
       "       group1      group2  meandiff    lower    upper  reject     pvals\n",
       "0         AHA   GalNAz 4h   15.9494   2.8048  29.0940    True  0.016533\n",
       "1         AHA  Glc+Gal 4h   14.7141   1.5695  27.8587    True  0.026958\n",
       "2         AHA   GlcNAz 4h    4.1309  -9.0137  17.2755   False  0.770325\n",
       "3   GalNAz 4h  Glc+Gal 4h   -1.2353 -14.3799  11.9093   False  0.900000\n",
       "4   GalNAz 4h   GlcNAz 4h  -11.8185 -24.9631   1.3261   False  0.083402\n",
       "5  Glc+Gal 4h   GlcNAz 4h  -10.5831 -23.7277   2.5615   False  0.131911"
      ]
     },
     "execution_count": 34,
     "metadata": {},
     "output_type": "execute_result"
    }
   ],
   "source": [
    "import ipywidgets as widgets\n",
    "from ipywidgets import interact\n",
    "import scipy.stats as stats\n",
    "import statsmodels.formula.api as smf\n",
    "import statsmodels.stats.multicomp as multi\n",
    "from statsmodels.stats.libqsturng import psturng\n",
    "\n",
    "\n",
    "x=dfexpsi2[dfexpsi2[\"protein\"]!=\"Pos ctrl 2 secondaries\"][\"protein\"]\n",
    "y=dfexpsi2[dfexpsi2[\"protein\"]!=\"Pos ctrl 2 secondaries\"][var]\n",
    "# DataFrame.\n",
    "mcDate = multi.MultiComparison(y,x)\n",
    "Results = mcDate.tukeyhsd()\n",
    "df = pd.DataFrame(data=Results._results_table.data[1:], columns=Results._results_table.data[0])\n",
    "res=Results\n",
    "pvals=psturng(np.abs(res.meandiffs / res.std_pairs),len(res.groupsunique), res.df_total)\n",
    "df[\"pvals\"]=pvals\n",
    "\n",
    "df\n"
   ]
  }
 ],
 "metadata": {
  "kernelspec": {
   "display_name": "Python 3",
   "language": "python",
   "name": "python3"
  },
  "language_info": {
   "codemirror_mode": {
    "name": "ipython",
    "version": 3
   },
   "file_extension": ".py",
   "mimetype": "text/x-python",
   "name": "python",
   "nbconvert_exporter": "python",
   "pygments_lexer": "ipython3",
   "version": "3.7.1"
  }
 },
 "nbformat": 4,
 "nbformat_minor": 2
}
