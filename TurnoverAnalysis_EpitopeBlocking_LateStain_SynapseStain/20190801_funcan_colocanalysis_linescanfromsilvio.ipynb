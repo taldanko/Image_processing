{
 "cells": [
  {
   "cell_type": "code",
   "execution_count": 39,
   "metadata": {},
   "outputs": [],
   "source": [
    "import numpy as np\n",
    "import os\n",
    "from nd2reader import ND2Reader\n",
    "import matplotlib.pyplot as plt\n",
    "import matplotlib.cm as cm\n",
    "from matplotlib_scalebar.scalebar import ScaleBar\n",
    "import scipy.ndimage as ndi\n",
    "from skimage.filters import rank \n",
    "from scipy.signal import butter, lfilter\n",
    "import scipy.misc as misc\n",
    "from skimage import exposure\n",
    "from PIL import Image\n",
    "import colorcet as cc\n",
    "from scipy.misc import toimage\n",
    "import matplotlib.colors as clr\n",
    "import pandas as pd\n",
    "import seaborn as sns\n",
    "from scipy import stats\n",
    "import cv2\n",
    "from pyspark import SparkContext, SparkConf\n",
    "import skimage\n",
    "from pathlib import Path\n",
    "\n",
    "def mean2(x):\n",
    "    y = np.sum(x) / np.size(x);\n",
    "    return y\n",
    "def corr2(a,b):\n",
    "    a = a - mean2(a)\n",
    "    b = b - mean2(b)\n",
    "\n",
    "    r = (a*b).sum() / np.sqrt((a*a).sum() * (b*b).sum());\n",
    "    return r\n",
    "from copy import deepcopy\n",
    "from skimage.filters import threshold_otsu,threshold_li\n",
    "import glob\n",
    "from IPython.display import clear_output\n",
    "import scipy.io as spio\n",
    "import pims\n",
    "from skimage.measure import label, regionprops\n",
    "from skimage.color import label2rgb\n",
    "import scipy\n",
    "\n",
    "import warnings\n",
    "warnings.filterwarnings('ignore')"
   ]
  },
  {
   "cell_type": "code",
   "execution_count": 40,
   "metadata": {},
   "outputs": [],
   "source": [
    "expdir='/Volumes/ukps-all$/user/tdanko/Imaging/1_ECM/Culture_ClickChemistry/'\n",
    "protein=\"TNR\" #TNR,Agg,WFA,HABP"
   ]
  },
  {
   "cell_type": "code",
   "execution_count": 41,
   "metadata": {},
   "outputs": [],
   "source": [
    "results = {\"filename\":[],\n",
    "          \"exp condition\":[],\n",
    "          \"mean correlation\":[],\n",
    "          \"correlation\":[]}\n",
    "           \n",
    "path = os.path.dirname(expdir)  \n",
    "outputFolder = os.path.dirname(expdir + \"/new/\")\n",
    "filelist = []\n",
    "for root, _, filenames in os.walk(path):\n",
    "     for filename in filenames:\n",
    "         filelist.append(os.path.join(root, filename))      \n",
    "for i in range(0,len(filelist)):\n",
    "    #if \"_analyse\" in str(filelist[i]):\n",
    "        if \"normal_corrs_all\" in str(filelist[i]):\n",
    "            if (\"neg\" in str(filelist[i]))==False:\n",
    "                if (\"averageprojection\" in str(filelist[i]))==False:\n",
    "                    if filelist[i].endswith(\".txt\"): \n",
    "                        if str(filelist[i][:-12]) not in str(results[\"filename\"]):\n",
    "                            results[\"filename\"].append(filelist[i])\n",
    "                            if \"maxproj\" in str(filelist[i]):\n",
    "                                results[\"exp condition\"].append(filelist[i].split('/')[-3])\n",
    "                            else:\n",
    "                                results[\"exp condition\"].append(filelist[i].split('/')[-2])\n",
    "                            results[\"mean correlation\"].append(np.loadtxt(filelist[i]).mean())\n",
    "                            results[\"correlation\"].append(np.loadtxt(filelist[i]))"
   ]
  },
  {
   "cell_type": "code",
   "execution_count": 42,
   "metadata": {},
   "outputs": [],
   "source": [
    "path = os.path.dirname(expdir)  \n",
    "outputFolder = os.path.dirname(expdir + \"/new/\")\n",
    "filelist = []\n",
    "for root, _, filenames in os.walk(path):\n",
    "     for filename in filenames:\n",
    "         filelist.append(os.path.join(root, filename))      \n",
    "for i in range(0,len(filelist)):\n",
    "    if \"corrs_rand\" in str(filelist[i]):\n",
    "      #  if \"normal_corrs_all\" in str(filelist[i]):\n",
    "       #     if (\"posthoc\" in str(filelist[i]))==False:\n",
    "        #        if (\"averageprojection\" in str(filelist[i]))==False:\n",
    "                    if filelist[i].endswith(\".txt\"): \n",
    "                        if str(filelist[i][:-12]) not in str(results[\"filename\"]):\n",
    "                            results[\"filename\"].append(filelist[i])\n",
    "                            if \"maxproj\" in str(filelist[i]):\n",
    "                                results[\"exp condition\"].append(filelist[i].split('/')[-3])\n",
    "                            else:\n",
    "                                results[\"exp condition\"].append(filelist[i].split('/')[-2])\n",
    "                            results[\"mean correlation\"].append(np.loadtxt(filelist[i]).mean())\n",
    "                            results[\"correlation\"].append(np.loadtxt(filelist[i]))"
   ]
  },
  {
   "cell_type": "markdown",
   "metadata": {},
   "source": [
    "## Plots"
   ]
  },
  {
   "cell_type": "code",
   "execution_count": 43,
   "metadata": {},
   "outputs": [],
   "source": [
    "newdf=pd.DataFrame(results)"
   ]
  },
  {
   "cell_type": "code",
   "execution_count": 44,
   "metadata": {},
   "outputs": [],
   "source": [
    "newdf['Protein']='None'\n",
    "\n",
    "newdf.loc[newdf['filename'].str.contains('glc4hrs'), 'Protein'] = 'GlcNAz 4h'\n",
    "newdf.loc[newdf['filename'].str.contains('gal4hrs'), 'Protein'] = 'GalNAz 4h'\n",
    "newdf.loc[newdf['filename'].str.contains('glc24hrs'), 'Protein'] = 'GlcNAz 24h'\n",
    "newdf.loc[newdf['filename'].str.contains('gal24hrs'), 'Protein'] = 'GalNAz 24h'\n",
    "newdf.loc[newdf['filename'].str.contains('glcgal24hrs'), 'Protein'] = 'Glc+Gal 24h'\n",
    "\n",
    "\n",
    "newdf.loc[newdf['filename'].str.contains('glc24hrs_blk24hr'), 'Protein'] = 'Glc 24h, blk24'\n",
    "newdf.loc[newdf['filename'].str.contains('gal24hrs_blk24hr'), 'Protein'] = 'Gal 24h, blk24'\n",
    "newdf.loc[newdf['filename'].str.contains('glcgal24hrs_blk24hr'), 'Protein'] = 'Glc+Gal 24h, blk24'\n",
    "newdf.loc[newdf['filename'].str.contains('glcgal4hrs'), 'Protein'] = 'Glc+Gal 4h'\n",
    "\n",
    "newdf.loc[newdf['filename'].str.contains('glcgal4hrs'), 'Protein'] = 'Glc+Gal 4h'\n",
    "\n"
   ]
  },
  {
   "cell_type": "code",
   "execution_count": 45,
   "metadata": {},
   "outputs": [],
   "source": [
    "newdf.loc[(newdf['filename'].str.contains('0502'))&(newdf['filename'].str.contains('blocked')), 'Protein'] = 'AHA'\n",
    "newdf.loc[(newdf['filename'].str.contains('0522'))&(newdf['filename'].str.contains('acth')), 'Protein'] = 'Neg ctrl AchT'\n",
    "newdf.loc[(newdf['filename'].str.contains('0522'))&(newdf['filename'].str.contains('635')), 'Protein'] = 'Pos ctrl nb635'\n",
    "newdf.loc[(newdf['filename'].str.contains('0522'))&(newdf['filename'].str.contains('_analyse/funcat')), 'Protein'] = 'AHA'\n",
    "newdf.loc[(newdf['filename'].str.contains('0605'))&(newdf['filename'].str.contains('withgreenchannel/funcat')), 'Protein'] = 'AHA'\n",
    "newdf.loc[(newdf['filename'].str.contains('0605'))&(newdf['filename'].str.contains('635')), 'Protein'] = 'Pos ctrl nb635'\n",
    "newdf.loc[(newdf['filename'].str.contains('0605'))&(newdf['filename'].str.contains('acht')), 'Protein'] = 'Neg ctrl AchT'\n",
    "newdf.loc[(newdf['filename'].str.contains('0612'))&(newdf['filename'].str.contains('acht')), 'Protein'] = 'Neg ctrl AchT'\n",
    "newdf.loc[(newdf['filename'].str.contains('0612'))&(newdf['filename'].str.contains('635')), 'Protein'] = 'Pos ctrl nb635'\n",
    "newdf.loc[(newdf['filename'].str.contains('0612'))&(newdf['filename'].str.contains('aha')), 'Protein'] = 'AHA'\n",
    "newdf.loc[(newdf['filename'].str.contains('0612'))&(newdf['filename'].str.contains('aha')), 'Protein'] = 'AHA'\n",
    "newdf.loc[(newdf['filename'].str.contains('aha')), 'Protein'] = 'AHA'\n",
    "newdf.loc[(newdf['filename'].str.contains('vacht')), 'Protein'] = 'Neg ctrl AchT'\n",
    "\n",
    "\n",
    "\n",
    "newdf.loc[newdf['filename'].str.contains('positivectrl'), 'Protein'] = 'Pos ctrl 2 secondaries'"
   ]
  },
  {
   "cell_type": "code",
   "execution_count": 46,
   "metadata": {},
   "outputs": [
    {
     "data": {
      "text/plain": [
       "array(['AHA', 'GlcNAz 4h', 'Glc+Gal 24h, blk24', 'GalNAz 4h',\n",
       "       'Glc+Gal 4h', 'Gal 24h, blk24', 'Glc 24h, blk24', 'Neg ctrl AchT',\n",
       "       'Pos ctrl 2 secondaries', 'GlcNAz 24h', 'GalNAz 24h',\n",
       "       'Glc+Gal 24h'], dtype=object)"
      ]
     },
     "execution_count": 46,
     "metadata": {},
     "output_type": "execute_result"
    }
   ],
   "source": [
    "newdf[\"Protein\"].unique()"
   ]
  },
  {
   "cell_type": "code",
   "execution_count": 47,
   "metadata": {},
   "outputs": [
    {
     "data": {
      "text/plain": [
       "(-0.1, 0.2)"
      ]
     },
     "execution_count": 47,
     "metadata": {},
     "output_type": "execute_result"
    },
    {
     "data": {
      "text/plain": [
       "<Figure size 432x288 with 0 Axes>"
      ]
     },
     "metadata": {},
     "output_type": "display_data"
    },
    {
     "data": {
      "image/png": "[encoded data removed]",
      "text/plain": [
       "<Figure size 288x360 with 1 Axes>"
      ]
     },
     "metadata": {},
     "output_type": "display_data"
    }
   ],
   "source": [
    "sns.set(font_scale=2.5)\n",
    "sns.set(font=\"Arial\")\n",
    "sns.set_style(\"white\")\n",
    "sns.despine()\n",
    "sns.set_palette(\"Set2\")\n",
    "\n",
    "var=\"mean correlation\"\n",
    "fig=plt.figure(figsize=(4,5))\n",
    "#order=['2hrs','4hrs','12hrs','No Blocking']\n",
    "#palette ={\"No Blocking\":\"gray\",\"2hrs\":\"magenta\",\"4hrs\":\"magenta\",\"12hrs\":\"magenta\"}\n",
    "\n",
    "g=sns.swarmplot(x=\"Protein\",y=var,\n",
    "                data=newdf,size=6,color=\"#2F67F8\",linewidth=1)\n",
    "\n",
    "g=sns.barplot(x=\"Protein\",y=var,\n",
    "                data=newdf,alpha=0.3,ci=None,color=\"#2F67F8\")\n",
    "\n",
    "def change_width(ax, new_value) :\n",
    "    for patch in ax.patches :\n",
    "        current_width = patch.get_width()\n",
    "        diff = current_width - new_value\n",
    "        # we change the bar width\n",
    "        patch.set_width(new_value)\n",
    "        # we recenter the bar\n",
    "        patch.set_x(patch.get_x() + diff * .5)\n",
    "change_width(g, .7)\n",
    "\n",
    "plt.errorbar(x=np.arange(0,len(newdf[\"Protein\"].unique())),\n",
    "             y=[newdf[newdf[\"Protein\"]==protein][var].mean() for protein in newdf[\"Protein\"].unique()],\n",
    "             yerr=[newdf[newdf[\"Protein\"]==protein][var].sem() for protein in newdf[\"Protein\"].unique()],\n",
    "             xerr=None,ecolor='black',fmt='none',capsize=10,linewidth=3,capthick=3)\n",
    "\n",
    "\n",
    "#scale_y=1/100\n",
    "#ticks_y = ticker.FuncFormatter(lambda x, pos: '{0:g}'.format(x/scale_y))\n",
    "#g.yaxis.set_major_formatter(ticks_y)\n",
    "g.set_ylabel('TNR Fluorescence intensity (AU)',size=14,weight ='bold',labelpad=20)\n",
    "g.set_xlabel('Syt1 Fluorescence intensity (AU)',size=14,weight ='bold',labelpad=20)\n",
    "plt.xticks(g.get_xticks(),size=16,rotation=45)\n",
    "plt.yticks(g.get_yticks(),size=16)\n",
    "g.grid(False)\n",
    "\n",
    "sns.despine(ax=g,right=True,top=True)\n",
    "for axis in ['top','bottom','left','right']:\n",
    "  g.spines[axis].set_linewidth(3)\n",
    "  g.spines[axis].set_color('black')\n",
    "  g.spines[axis].set_alpha(.7)\n",
    "\n",
    "\n",
    "\n",
    "plt.xticks(rotation=90)\n",
    "plt.ylim([-0.1,0.2])"
   ]
  },
  {
   "cell_type": "code",
   "execution_count": 38,
   "metadata": {},
   "outputs": [
    {
     "data": {
      "text/html": [
       "<div>\n",
       "<style scoped>\n",
       "    .dataframe tbody tr th:only-of-type {\n",
       "        vertical-align: middle;\n",
       "    }\n",
       "\n",
       "    .dataframe tbody tr th {\n",
       "        vertical-align: top;\n",
       "    }\n",
       "\n",
       "    .dataframe thead th {\n",
       "        text-align: right;\n",
       "    }\n",
       "</style>\n",
       "<table border=\"1\" class=\"dataframe\">\n",
       "  <thead>\n",
       "    <tr style=\"text-align: right;\">\n",
       "      <th></th>\n",
       "      <th>filename</th>\n",
       "      <th>exp condition</th>\n",
       "      <th>mean correlation</th>\n",
       "      <th>correlation</th>\n",
       "      <th>Protein</th>\n",
       "    </tr>\n",
       "  </thead>\n",
       "  <tbody>\n",
       "    <tr>\n",
       "      <th>0</th>\n",
       "      <td>/Volumes/ukps-all$/user/tdanko/Imaging/1_ECM/C...</td>\n",
       "      <td>TIF_imp</td>\n",
       "      <td>0.156488</td>\n",
       "      <td>[0.22096, -0.034862, -0.19828, 0.031605, 0.210...</td>\n",
       "      <td>AHA</td>\n",
       "    </tr>\n",
       "    <tr>\n",
       "      <th>7</th>\n",
       "      <td>/Volumes/ukps-all$/user/tdanko/Imaging/1_ECM/C...</td>\n",
       "      <td>TIF_imp</td>\n",
       "      <td>0.131412</td>\n",
       "      <td>[0.7937, 0.42314, 0.055488, -0.074451, 0.08289...</td>\n",
       "      <td>AHA</td>\n",
       "    </tr>\n",
       "    <tr>\n",
       "      <th>8</th>\n",
       "      <td>/Volumes/ukps-all$/user/tdanko/Imaging/1_ECM/C...</td>\n",
       "      <td>TIF_imp</td>\n",
       "      <td>0.125122</td>\n",
       "      <td>[0.085342, -0.18483, -0.28694, -0.44752, 0.417...</td>\n",
       "      <td>AHA</td>\n",
       "    </tr>\n",
       "    <tr>\n",
       "      <th>9</th>\n",
       "      <td>/Volumes/ukps-all$/user/tdanko/Imaging/1_ECM/C...</td>\n",
       "      <td>TIF_imp</td>\n",
       "      <td>0.080888</td>\n",
       "      <td>[-0.40392, 0.093432, -0.085825, 0.55047, -0.42...</td>\n",
       "      <td>AHA</td>\n",
       "    </tr>\n",
       "    <tr>\n",
       "      <th>11</th>\n",
       "      <td>/Volumes/ukps-all$/user/tdanko/Imaging/1_ECM/C...</td>\n",
       "      <td>TIF_imp</td>\n",
       "      <td>0.056737</td>\n",
       "      <td>[0.16117, 0.18314, 0.40042, 0.33497, -0.13414,...</td>\n",
       "      <td>AHA</td>\n",
       "    </tr>\n",
       "  </tbody>\n",
       "</table>\n",
       "</div>"
      ],
      "text/plain": [
       "                                             filename exp condition  \\\n",
       "0   /Volumes/ukps-all$/user/tdanko/Imaging/1_ECM/C...       TIF_imp   \n",
       "7   /Volumes/ukps-all$/user/tdanko/Imaging/1_ECM/C...       TIF_imp   \n",
       "8   /Volumes/ukps-all$/user/tdanko/Imaging/1_ECM/C...       TIF_imp   \n",
       "9   /Volumes/ukps-all$/user/tdanko/Imaging/1_ECM/C...       TIF_imp   \n",
       "11  /Volumes/ukps-all$/user/tdanko/Imaging/1_ECM/C...       TIF_imp   \n",
       "\n",
       "    mean correlation                                        correlation  \\\n",
       "0           0.156488  [0.22096, -0.034862, -0.19828, 0.031605, 0.210...   \n",
       "7           0.131412  [0.7937, 0.42314, 0.055488, -0.074451, 0.08289...   \n",
       "8           0.125122  [0.085342, -0.18483, -0.28694, -0.44752, 0.417...   \n",
       "9           0.080888  [-0.40392, 0.093432, -0.085825, 0.55047, -0.42...   \n",
       "11          0.056737  [0.16117, 0.18314, 0.40042, 0.33497, -0.13414,...   \n",
       "\n",
       "   Protein  \n",
       "0      AHA  \n",
       "7      AHA  \n",
       "8      AHA  \n",
       "9      AHA  \n",
       "11     AHA  "
      ]
     },
     "execution_count": 38,
     "metadata": {},
     "output_type": "execute_result"
    }
   ],
   "source": [
    "newdf[newdf[\"Protein\"]==\"AHA\"]"
   ]
  },
  {
   "cell_type": "code",
   "execution_count": 37,
   "metadata": {},
   "outputs": [
    {
     "data": {
      "text/plain": [
       "array(['/Volumes/ukps-all$/user/tdanko/Imaging/1_ECM/Culture_ClickChemistry/20190612_funcatdbco_TNR_analyse/withgreenchannel/aha/TIF_imp/normal_corrs_all.txt',\n",
       "       '/Volumes/ukps-all$/user/tdanko/Imaging/1_ECM/Culture_ClickChemistry/20190502_funcatdbco_TNR/sted_withgreenchannel_analyse/01_blocked_aha/TIF_imp/normal_corrs_all.txt',\n",
       "       '/Volumes/ukps-all$/user/tdanko/Imaging/1_ECM/Culture_ClickChemistry/20190502_funcatdbco_TNR/sted_withgreenchannel_analyse/02_blocked_aha/TIF_imp/normal_corrs_all.txt',\n",
       "       '/Volumes/ukps-all$/user/tdanko/Imaging/1_ECM/Culture_ClickChemistry/20190522_funcatdbco_TNR/withgreenchannel_analyse/aha/TIF_imp/normal_corrs_all.txt',\n",
       "       '/Volumes/ukps-all$/user/tdanko/Imaging/1_ECM/Culture_ClickChemistry/20190605_funcatdbco_TNR_analyse/withgreenchannel/funcat/TIF_imp/normal_corrs_all.txt'],\n",
       "      dtype=object)"
      ]
     },
     "execution_count": 37,
     "metadata": {},
     "output_type": "execute_result"
    }
   ],
   "source": [
    "newdf[newdf[\"Protein\"]==\"AHA\"][\"filename\"].values"
   ]
  },
  {
   "cell_type": "code",
   "execution_count": 213,
   "metadata": {},
   "outputs": [
    {
     "ename": "TypeError",
     "evalue": "operands could not be broadcast together with shapes (698,) (471,) ",
     "output_type": "error",
     "traceback": [
      "\u001b[0;31m---------------------------------------------------------------------------\u001b[0m",
      "\u001b[0;31mValueError\u001b[0m                                Traceback (most recent call last)",
      "\u001b[0;32m~/anaconda3/lib/python3.7/site-packages/pandas/core/nanops.py\u001b[0m in \u001b[0;36mf\u001b[0;34m(values, axis, skipna, **kwds)\u001b[0m\n\u001b[1;32m    126\u001b[0m                 \u001b[0;32melse\u001b[0m\u001b[0;34m:\u001b[0m\u001b[0;34m\u001b[0m\u001b[0;34m\u001b[0m\u001b[0m\n\u001b[0;32m--> 127\u001b[0;31m                     \u001b[0mresult\u001b[0m \u001b[0;34m=\u001b[0m \u001b[0malt\u001b[0m\u001b[0;34m(\u001b[0m\u001b[0mvalues\u001b[0m\u001b[0;34m,\u001b[0m \u001b[0maxis\u001b[0m\u001b[0;34m=\u001b[0m\u001b[0maxis\u001b[0m\u001b[0;34m,\u001b[0m \u001b[0mskipna\u001b[0m\u001b[0;34m=\u001b[0m\u001b[0mskipna\u001b[0m\u001b[0;34m,\u001b[0m \u001b[0;34m**\u001b[0m\u001b[0mkwds\u001b[0m\u001b[0;34m)\u001b[0m\u001b[0;34m\u001b[0m\u001b[0;34m\u001b[0m\u001b[0m\n\u001b[0m\u001b[1;32m    128\u001b[0m             \u001b[0;32mexcept\u001b[0m \u001b[0mException\u001b[0m\u001b[0;34m:\u001b[0m\u001b[0;34m\u001b[0m\u001b[0;34m\u001b[0m\u001b[0m\n",
      "\u001b[0;32m~/anaconda3/lib/python3.7/site-packages/pandas/core/nanops.py\u001b[0m in \u001b[0;36mnanmean\u001b[0;34m(values, axis, skipna, mask)\u001b[0m\n\u001b[1;32m    478\u001b[0m     \u001b[0mcount\u001b[0m \u001b[0;34m=\u001b[0m \u001b[0m_get_counts\u001b[0m\u001b[0;34m(\u001b[0m\u001b[0mmask\u001b[0m\u001b[0;34m,\u001b[0m \u001b[0maxis\u001b[0m\u001b[0;34m,\u001b[0m \u001b[0mdtype\u001b[0m\u001b[0;34m=\u001b[0m\u001b[0mdtype_count\u001b[0m\u001b[0;34m)\u001b[0m\u001b[0;34m\u001b[0m\u001b[0;34m\u001b[0m\u001b[0m\n\u001b[0;32m--> 479\u001b[0;31m     \u001b[0mthe_sum\u001b[0m \u001b[0;34m=\u001b[0m \u001b[0m_ensure_numeric\u001b[0m\u001b[0;34m(\u001b[0m\u001b[0mvalues\u001b[0m\u001b[0;34m.\u001b[0m\u001b[0msum\u001b[0m\u001b[0;34m(\u001b[0m\u001b[0maxis\u001b[0m\u001b[0;34m,\u001b[0m \u001b[0mdtype\u001b[0m\u001b[0;34m=\u001b[0m\u001b[0mdtype_sum\u001b[0m\u001b[0;34m)\u001b[0m\u001b[0;34m)\u001b[0m\u001b[0;34m\u001b[0m\u001b[0;34m\u001b[0m\u001b[0m\n\u001b[0m\u001b[1;32m    480\u001b[0m \u001b[0;34m\u001b[0m\u001b[0m\n",
      "\u001b[0;32m~/anaconda3/lib/python3.7/site-packages/numpy/core/_methods.py\u001b[0m in \u001b[0;36m_sum\u001b[0;34m(a, axis, dtype, out, keepdims, initial)\u001b[0m\n\u001b[1;32m     35\u001b[0m          initial=_NoValue):\n\u001b[0;32m---> 36\u001b[0;31m     \u001b[0;32mreturn\u001b[0m \u001b[0mumr_sum\u001b[0m\u001b[0;34m(\u001b[0m\u001b[0ma\u001b[0m\u001b[0;34m,\u001b[0m \u001b[0maxis\u001b[0m\u001b[0;34m,\u001b[0m \u001b[0mdtype\u001b[0m\u001b[0;34m,\u001b[0m \u001b[0mout\u001b[0m\u001b[0;34m,\u001b[0m \u001b[0mkeepdims\u001b[0m\u001b[0;34m,\u001b[0m \u001b[0minitial\u001b[0m\u001b[0;34m)\u001b[0m\u001b[0;34m\u001b[0m\u001b[0;34m\u001b[0m\u001b[0m\n\u001b[0m\u001b[1;32m     37\u001b[0m \u001b[0;34m\u001b[0m\u001b[0m\n",
      "\u001b[0;31mValueError\u001b[0m: operands could not be broadcast together with shapes (698,) (471,) ",
      "\nDuring handling of the above exception, another exception occurred:\n",
      "\u001b[0;31mValueError\u001b[0m                                Traceback (most recent call last)",
      "\u001b[0;32m~/anaconda3/lib/python3.7/site-packages/pandas/core/nanops.py\u001b[0m in \u001b[0;36mf\u001b[0;34m(values, axis, skipna, **kwds)\u001b[0m\n\u001b[1;32m    129\u001b[0m                 \u001b[0;32mtry\u001b[0m\u001b[0;34m:\u001b[0m\u001b[0;34m\u001b[0m\u001b[0;34m\u001b[0m\u001b[0m\n\u001b[0;32m--> 130\u001b[0;31m                     \u001b[0mresult\u001b[0m \u001b[0;34m=\u001b[0m \u001b[0malt\u001b[0m\u001b[0;34m(\u001b[0m\u001b[0mvalues\u001b[0m\u001b[0;34m,\u001b[0m \u001b[0maxis\u001b[0m\u001b[0;34m=\u001b[0m\u001b[0maxis\u001b[0m\u001b[0;34m,\u001b[0m \u001b[0mskipna\u001b[0m\u001b[0;34m=\u001b[0m\u001b[0mskipna\u001b[0m\u001b[0;34m,\u001b[0m \u001b[0;34m**\u001b[0m\u001b[0mkwds\u001b[0m\u001b[0;34m)\u001b[0m\u001b[0;34m\u001b[0m\u001b[0;34m\u001b[0m\u001b[0m\n\u001b[0m\u001b[1;32m    131\u001b[0m                 \u001b[0;32mexcept\u001b[0m \u001b[0mValueError\u001b[0m \u001b[0;32mas\u001b[0m \u001b[0me\u001b[0m\u001b[0;34m:\u001b[0m\u001b[0;34m\u001b[0m\u001b[0;34m\u001b[0m\u001b[0m\n",
      "\u001b[0;32m~/anaconda3/lib/python3.7/site-packages/pandas/core/nanops.py\u001b[0m in \u001b[0;36mnanmean\u001b[0;34m(values, axis, skipna, mask)\u001b[0m\n\u001b[1;32m    478\u001b[0m     \u001b[0mcount\u001b[0m \u001b[0;34m=\u001b[0m \u001b[0m_get_counts\u001b[0m\u001b[0;34m(\u001b[0m\u001b[0mmask\u001b[0m\u001b[0;34m,\u001b[0m \u001b[0maxis\u001b[0m\u001b[0;34m,\u001b[0m \u001b[0mdtype\u001b[0m\u001b[0;34m=\u001b[0m\u001b[0mdtype_count\u001b[0m\u001b[0;34m)\u001b[0m\u001b[0;34m\u001b[0m\u001b[0;34m\u001b[0m\u001b[0m\n\u001b[0;32m--> 479\u001b[0;31m     \u001b[0mthe_sum\u001b[0m \u001b[0;34m=\u001b[0m \u001b[0m_ensure_numeric\u001b[0m\u001b[0;34m(\u001b[0m\u001b[0mvalues\u001b[0m\u001b[0;34m.\u001b[0m\u001b[0msum\u001b[0m\u001b[0;34m(\u001b[0m\u001b[0maxis\u001b[0m\u001b[0;34m,\u001b[0m \u001b[0mdtype\u001b[0m\u001b[0;34m=\u001b[0m\u001b[0mdtype_sum\u001b[0m\u001b[0;34m)\u001b[0m\u001b[0;34m)\u001b[0m\u001b[0;34m\u001b[0m\u001b[0;34m\u001b[0m\u001b[0m\n\u001b[0m\u001b[1;32m    480\u001b[0m \u001b[0;34m\u001b[0m\u001b[0m\n",
      "\u001b[0;32m~/anaconda3/lib/python3.7/site-packages/numpy/core/_methods.py\u001b[0m in \u001b[0;36m_sum\u001b[0;34m(a, axis, dtype, out, keepdims, initial)\u001b[0m\n\u001b[1;32m     35\u001b[0m          initial=_NoValue):\n\u001b[0;32m---> 36\u001b[0;31m     \u001b[0;32mreturn\u001b[0m \u001b[0mumr_sum\u001b[0m\u001b[0;34m(\u001b[0m\u001b[0ma\u001b[0m\u001b[0;34m,\u001b[0m \u001b[0maxis\u001b[0m\u001b[0;34m,\u001b[0m \u001b[0mdtype\u001b[0m\u001b[0;34m,\u001b[0m \u001b[0mout\u001b[0m\u001b[0;34m,\u001b[0m \u001b[0mkeepdims\u001b[0m\u001b[0;34m,\u001b[0m \u001b[0minitial\u001b[0m\u001b[0;34m)\u001b[0m\u001b[0;34m\u001b[0m\u001b[0;34m\u001b[0m\u001b[0m\n\u001b[0m\u001b[1;32m     37\u001b[0m \u001b[0;34m\u001b[0m\u001b[0m\n",
      "\u001b[0;31mValueError\u001b[0m: operands could not be broadcast together with shapes (698,) (471,) ",
      "\nDuring handling of the above exception, another exception occurred:\n",
      "\u001b[0;31mTypeError\u001b[0m                                 Traceback (most recent call last)",
      "\u001b[0;32m<ipython-input-213-837162e054a2>\u001b[0m in \u001b[0;36m<module>\u001b[0;34m\u001b[0m\n\u001b[1;32m      3\u001b[0m \u001b[0;34m\u001b[0m\u001b[0m\n\u001b[1;32m      4\u001b[0m     \u001b[0mplt\u001b[0m\u001b[0;34m.\u001b[0m\u001b[0mfigure\u001b[0m\u001b[0;34m(\u001b[0m\u001b[0;34m)\u001b[0m\u001b[0;34m\u001b[0m\u001b[0;34m\u001b[0m\u001b[0m\n\u001b[0;32m----> 5\u001b[0;31m     \u001b[0mplt\u001b[0m\u001b[0;34m.\u001b[0m\u001b[0mhist\u001b[0m\u001b[0;34m(\u001b[0m\u001b[0mnp\u001b[0m\u001b[0;34m.\u001b[0m\u001b[0mmean\u001b[0m\u001b[0;34m(\u001b[0m\u001b[0mdfprot\u001b[0m\u001b[0;34m[\u001b[0m\u001b[0;34m\"correlation\"\u001b[0m\u001b[0;34m]\u001b[0m\u001b[0;34m)\u001b[0m\u001b[0;34m)\u001b[0m\u001b[0;34m\u001b[0m\u001b[0;34m\u001b[0m\u001b[0m\n\u001b[0m\u001b[1;32m      6\u001b[0m     \u001b[0mplt\u001b[0m\u001b[0;34m.\u001b[0m\u001b[0mtitle\u001b[0m\u001b[0;34m(\u001b[0m\u001b[0mprotein\u001b[0m\u001b[0;34m)\u001b[0m\u001b[0;34m\u001b[0m\u001b[0;34m\u001b[0m\u001b[0m\n",
      "\u001b[0;32m~/anaconda3/lib/python3.7/site-packages/numpy/core/fromnumeric.py\u001b[0m in \u001b[0;36mmean\u001b[0;34m(a, axis, dtype, out, keepdims)\u001b[0m\n\u001b[1;32m   3113\u001b[0m             \u001b[0;32mpass\u001b[0m\u001b[0;34m\u001b[0m\u001b[0;34m\u001b[0m\u001b[0m\n\u001b[1;32m   3114\u001b[0m         \u001b[0;32melse\u001b[0m\u001b[0;34m:\u001b[0m\u001b[0;34m\u001b[0m\u001b[0;34m\u001b[0m\u001b[0m\n\u001b[0;32m-> 3115\u001b[0;31m             \u001b[0;32mreturn\u001b[0m \u001b[0mmean\u001b[0m\u001b[0;34m(\u001b[0m\u001b[0maxis\u001b[0m\u001b[0;34m=\u001b[0m\u001b[0maxis\u001b[0m\u001b[0;34m,\u001b[0m \u001b[0mdtype\u001b[0m\u001b[0;34m=\u001b[0m\u001b[0mdtype\u001b[0m\u001b[0;34m,\u001b[0m \u001b[0mout\u001b[0m\u001b[0;34m=\u001b[0m\u001b[0mout\u001b[0m\u001b[0;34m,\u001b[0m \u001b[0;34m**\u001b[0m\u001b[0mkwargs\u001b[0m\u001b[0;34m)\u001b[0m\u001b[0;34m\u001b[0m\u001b[0;34m\u001b[0m\u001b[0m\n\u001b[0m\u001b[1;32m   3116\u001b[0m \u001b[0;34m\u001b[0m\u001b[0m\n\u001b[1;32m   3117\u001b[0m     return _methods._mean(a, axis=axis, dtype=dtype,\n",
      "\u001b[0;32m~/anaconda3/lib/python3.7/site-packages/pandas/core/generic.py\u001b[0m in \u001b[0;36mstat_func\u001b[0;34m(self, axis, skipna, level, numeric_only, **kwargs)\u001b[0m\n\u001b[1;32m  10954\u001b[0m                                       skipna=skipna)\n\u001b[1;32m  10955\u001b[0m         return self._reduce(f, name, axis=axis, skipna=skipna,\n\u001b[0;32m> 10956\u001b[0;31m                             numeric_only=numeric_only)\n\u001b[0m\u001b[1;32m  10957\u001b[0m \u001b[0;34m\u001b[0m\u001b[0m\n\u001b[1;32m  10958\u001b[0m     \u001b[0;32mreturn\u001b[0m \u001b[0mset_function_name\u001b[0m\u001b[0;34m(\u001b[0m\u001b[0mstat_func\u001b[0m\u001b[0;34m,\u001b[0m \u001b[0mname\u001b[0m\u001b[0;34m,\u001b[0m \u001b[0mcls\u001b[0m\u001b[0;34m)\u001b[0m\u001b[0;34m\u001b[0m\u001b[0;34m\u001b[0m\u001b[0m\n",
      "\u001b[0;32m~/anaconda3/lib/python3.7/site-packages/pandas/core/series.py\u001b[0m in \u001b[0;36m_reduce\u001b[0;34m(self, op, name, axis, skipna, numeric_only, filter_type, **kwds)\u001b[0m\n\u001b[1;32m   3624\u001b[0m                                           'numeric_only.'.format(name))\n\u001b[1;32m   3625\u001b[0m             \u001b[0;32mwith\u001b[0m \u001b[0mnp\u001b[0m\u001b[0;34m.\u001b[0m\u001b[0merrstate\u001b[0m\u001b[0;34m(\u001b[0m\u001b[0mall\u001b[0m\u001b[0;34m=\u001b[0m\u001b[0;34m'ignore'\u001b[0m\u001b[0;34m)\u001b[0m\u001b[0;34m:\u001b[0m\u001b[0;34m\u001b[0m\u001b[0;34m\u001b[0m\u001b[0m\n\u001b[0;32m-> 3626\u001b[0;31m                 \u001b[0;32mreturn\u001b[0m \u001b[0mop\u001b[0m\u001b[0;34m(\u001b[0m\u001b[0mdelegate\u001b[0m\u001b[0;34m,\u001b[0m \u001b[0mskipna\u001b[0m\u001b[0;34m=\u001b[0m\u001b[0mskipna\u001b[0m\u001b[0;34m,\u001b[0m \u001b[0;34m**\u001b[0m\u001b[0mkwds\u001b[0m\u001b[0;34m)\u001b[0m\u001b[0;34m\u001b[0m\u001b[0;34m\u001b[0m\u001b[0m\n\u001b[0m\u001b[1;32m   3627\u001b[0m \u001b[0;34m\u001b[0m\u001b[0m\n\u001b[1;32m   3628\u001b[0m         \u001b[0;31m# TODO(EA) dispatch to Index\u001b[0m\u001b[0;34m\u001b[0m\u001b[0;34m\u001b[0m\u001b[0;34m\u001b[0m\u001b[0m\n",
      "\u001b[0;32m~/anaconda3/lib/python3.7/site-packages/pandas/core/nanops.py\u001b[0m in \u001b[0;36m_f\u001b[0;34m(*args, **kwargs)\u001b[0m\n\u001b[1;32m     74\u001b[0m             \u001b[0;32mtry\u001b[0m\u001b[0;34m:\u001b[0m\u001b[0;34m\u001b[0m\u001b[0;34m\u001b[0m\u001b[0m\n\u001b[1;32m     75\u001b[0m                 \u001b[0;32mwith\u001b[0m \u001b[0mnp\u001b[0m\u001b[0;34m.\u001b[0m\u001b[0merrstate\u001b[0m\u001b[0;34m(\u001b[0m\u001b[0minvalid\u001b[0m\u001b[0;34m=\u001b[0m\u001b[0;34m'ignore'\u001b[0m\u001b[0;34m)\u001b[0m\u001b[0;34m:\u001b[0m\u001b[0;34m\u001b[0m\u001b[0;34m\u001b[0m\u001b[0m\n\u001b[0;32m---> 76\u001b[0;31m                     \u001b[0;32mreturn\u001b[0m \u001b[0mf\u001b[0m\u001b[0;34m(\u001b[0m\u001b[0;34m*\u001b[0m\u001b[0margs\u001b[0m\u001b[0;34m,\u001b[0m \u001b[0;34m**\u001b[0m\u001b[0mkwargs\u001b[0m\u001b[0;34m)\u001b[0m\u001b[0;34m\u001b[0m\u001b[0;34m\u001b[0m\u001b[0m\n\u001b[0m\u001b[1;32m     77\u001b[0m             \u001b[0;32mexcept\u001b[0m \u001b[0mValueError\u001b[0m \u001b[0;32mas\u001b[0m \u001b[0me\u001b[0m\u001b[0;34m:\u001b[0m\u001b[0;34m\u001b[0m\u001b[0;34m\u001b[0m\u001b[0m\n\u001b[1;32m     78\u001b[0m                 \u001b[0;31m# we want to transform an object array\u001b[0m\u001b[0;34m\u001b[0m\u001b[0;34m\u001b[0m\u001b[0;34m\u001b[0m\u001b[0m\n",
      "\u001b[0;32m~/anaconda3/lib/python3.7/site-packages/pandas/core/nanops.py\u001b[0m in \u001b[0;36mf\u001b[0;34m(values, axis, skipna, **kwds)\u001b[0m\n\u001b[1;32m    136\u001b[0m \u001b[0;34m\u001b[0m\u001b[0m\n\u001b[1;32m    137\u001b[0m                     \u001b[0;32mif\u001b[0m \u001b[0mis_object_dtype\u001b[0m\u001b[0;34m(\u001b[0m\u001b[0mvalues\u001b[0m\u001b[0;34m)\u001b[0m\u001b[0;34m:\u001b[0m\u001b[0;34m\u001b[0m\u001b[0;34m\u001b[0m\u001b[0m\n\u001b[0;32m--> 138\u001b[0;31m                         \u001b[0;32mraise\u001b[0m \u001b[0mTypeError\u001b[0m\u001b[0;34m(\u001b[0m\u001b[0me\u001b[0m\u001b[0;34m)\u001b[0m\u001b[0;34m\u001b[0m\u001b[0;34m\u001b[0m\u001b[0m\n\u001b[0m\u001b[1;32m    139\u001b[0m                     \u001b[0;32mraise\u001b[0m\u001b[0;34m\u001b[0m\u001b[0;34m\u001b[0m\u001b[0m\n\u001b[1;32m    140\u001b[0m \u001b[0;34m\u001b[0m\u001b[0m\n",
      "\u001b[0;31mTypeError\u001b[0m: operands could not be broadcast together with shapes (698,) (471,) "
     ]
    },
    {
     "data": {
      "text/plain": [
       "<Figure size 432x288 with 0 Axes>"
      ]
     },
     "metadata": {},
     "output_type": "display_data"
    }
   ],
   "source": [
    "for protein in newdf[\"Protein\"].unique():\n",
    "    dfprot=newdf[newdf[\"Protein\"]==protein]\n",
    "    \n",
    "    plt.figure()\n",
    "    plt.hist(np.mean(dfprot[\"correlation\"]))\n",
    "    plt.title(protein)"
   ]
  },
  {
   "cell_type": "code",
   "execution_count": 214,
   "metadata": {},
   "outputs": [
    {
     "data": {
      "text/plain": [
       "array(['20190612_tnr550_blkplus12_tgn38acy2_analyse',\n",
       "       '20190523_tnr550_intfitc_blockedplus12_stripped',\n",
       "       '20190605_tnr647blockplus12_int1fitc_contactincy3',\n",
       "       '20190515_TNR550_Int1beta_stripped_plus12hr',\n",
       "       '20190515_TNR550_Int1beta_stripped_plus12hr_cs34',\n",
       "       '20190612_tnr550_blkplus12_rab11acy2',\n",
       "       '20190612_tnr550_blkplus2_cav1cy2',\n",
       "       '20190612_tnr647_blkplus12_tgn38acy2',\n",
       "       '20190522_negctrl_tnrstar580_achtatto647',\n",
       "       '20190515_tnr550blocked_int1fitcblocked_plus0h_onlysurface_analyse',\n",
       "       '20190526_tnr550blocked_int1fitcblocked_plus0h_surfaceimaging',\n",
       "       '20190612_tnr647_blkplus12_intfitc_ctccy3_stripped',\n",
       "       '20190611__tnr550blocked_int1fitcblocked_vglut635p_ctc1AMCA_plus0h_onlysurface_analyse',\n",
       "       '20190522_tnr550_blkplus2_cav1cy2_goodparams',\n",
       "       '20190522_tnr550_blkplus20min_cav1cy2_goodparams',\n",
       "       '20190505_tnr550_blkplus12_postliveexp_rab11a_goodparams',\n",
       "       '20190612_tnr647_blkplus12_rab11acy2',\n",
       "       '20190712_tnr550_blkplus12_lampcy2_analyse',\n",
       "       '20190627_positivecontrol_tnr_secondarystar580_star635P',\n",
       "       '20190704_tnr550_blkplus12_rab5cy2_analyse',\n",
       "       '20190602_negctrl_tnrstar580_achtatto647_analyse',\n",
       "       '20190612_negctrl_tnrstar580_achtatto647_analyse',\n",
       "       '20190628_tnr550_blkplus12_lamp1cy2_analyse',\n",
       "       '20190628_tnr550_blkplus12_rab5cy2_analyse',\n",
       "       '20190628_tnr550_blkplus12_rab7cy2_analyse',\n",
       "       '20190704_tnr550_blkplus12_rab7cy2_analyse',\n",
       "       '20190703_positivecontrol_tnr_secondarystar580_star635p_culture1_analyse',\n",
       "       '20190704_tnr550_blkplus12_calreticulincy2_zstacks_analyse',\n",
       "       '20190712_tnr550_blkplus12_calnexincy2_zstacks_analyse',\n",
       "       '20190712_tnr550_blkplus12_rab5cy2_analyse',\n",
       "       '20190712_tnr550_blkplus12_tgncy2_analyse',\n",
       "       '20190628_tnr550_blkplus12_calnexincy2_zstacks_analyse',\n",
       "       '20190628_tnr550_blkplus12_calreticulincy2_zstacks_analyse',\n",
       "       '20190703_positivecontrol_tnr_secondarystar580_star635p_culture2_analyse',\n",
       "       '20190712_tnr550_blkplus12_rab7cy2_analyse',\n",
       "       '20190704_tnr550_blkplus12_tgncy2_analyse',\n",
       "       '20190605_tnr647blockplus12_rab11acy2_analyse',\n",
       "       '20190704_tnr550_blkplus12_lamp1cy2_analyse',\n",
       "       '20190712_tnr550_blkplus12_calreticulincy2_zstacks_analyse'],\n",
       "      dtype=object)"
      ]
     },
     "execution_count": 214,
     "metadata": {},
     "output_type": "execute_result"
    }
   ],
   "source": [
    "newdf[\"exp condition\"].unique()"
   ]
  },
  {
   "cell_type": "code",
   "execution_count": 157,
   "metadata": {},
   "outputs": [
    {
     "data": {
      "text/plain": [
       "20"
      ]
     },
     "execution_count": 157,
     "metadata": {},
     "output_type": "execute_result"
    }
   ],
   "source": [
    "np.sum(dfprot[\"correlation\"][0]>0.7)"
   ]
  },
  {
   "cell_type": "code",
   "execution_count": 244,
   "metadata": {},
   "outputs": [
    {
     "data": {
      "image/png": "[encoded data removed]",
      "text/plain": [
       "<Figure size 144x144 with 1 Axes>"
      ]
     },
     "metadata": {},
     "output_type": "display_data"
    },
    {
     "data": {
      "image/png": "[encoded data removed]",
      "text/plain": [
       "<Figure size 144x144 with 1 Axes>"
      ]
     },
     "metadata": {},
     "output_type": "display_data"
    },
    {
     "data": {
      "image/png": "[encoded data removed]",
      "text/plain": [
       "<Figure size 144x144 with 1 Axes>"
      ]
     },
     "metadata": {},
     "output_type": "display_data"
    },
    {
     "data": {
      "image/png": "[encoded data removed]",
      "text/plain": [
       "<Figure size 144x144 with 1 Axes>"
      ]
     },
     "metadata": {},
     "output_type": "display_data"
    },
    {
     "data": {
      "image/png": "[encoded data removed]",
      "text/plain": [
       "<Figure size 144x144 with 1 Axes>"
      ]
     },
     "metadata": {},
     "output_type": "display_data"
    },
    {
     "data": {
      "image/png": "[encoded data removed]",
      "text/plain": [
       "<Figure size 144x144 with 1 Axes>"
      ]
     },
     "metadata": {},
     "output_type": "display_data"
    },
    {
     "data": {
      "image/png": "[encoded data removed]",
      "text/plain": [
       "<Figure size 144x144 with 1 Axes>"
      ]
     },
     "metadata": {},
     "output_type": "display_data"
    },
    {
     "data": {
      "image/png": "[encoded data removed]",
      "text/plain": [
       "<Figure size 144x144 with 1 Axes>"
      ]
     },
     "metadata": {},
     "output_type": "display_data"
    },
    {
     "data": {
      "image/png": "[encoded data removed]",
      "text/plain": [
       "<Figure size 144x144 with 1 Axes>"
      ]
     },
     "metadata": {},
     "output_type": "display_data"
    },
    {
     "data": {
      "image/png": "[encoded data removed]",
      "text/plain": [
       "<Figure size 144x144 with 1 Axes>"
      ]
     },
     "metadata": {},
     "output_type": "display_data"
    },
    {
     "data": {
      "image/png": "[encoded data removed]",
      "text/plain": [
       "<Figure size 144x144 with 1 Axes>"
      ]
     },
     "metadata": {},
     "output_type": "display_data"
    },
    {
     "data": {
      "image/png": "[encoded data removed]",
      "text/plain": [
       "<Figure size 144x144 with 1 Axes>"
      ]
     },
     "metadata": {},
     "output_type": "display_data"
    }
   ],
   "source": [
    "results_allprot={\"Protein\":[],\"expnumber\":[],\"perc_over\":[]}\n",
    "for protein in newdf[\"Protein\"].unique():\n",
    "    dfprot=newdf[newdf[\"Protein\"]==protein]\n",
    "    dfprot=dfprot.reset_index()\n",
    "    percentages=[]\n",
    "    expi=[]\n",
    "    count=1\n",
    "    for exp in dfprot[\"exp condition\"].unique():\n",
    "        dfexp=dfprot[dfprot[\"exp condition\"]==exp]\n",
    "        a=np.sum(dfexp[\"correlation\"].values[0]>0.7)/len(dfexp[\"correlation\"].values[0])*100\n",
    "        percentages.append(a)\n",
    "        expi.append(exp)\n",
    "        results_allprot[\"Protein\"].append(protein)\n",
    "        results_allprot[\"expnumber\"].append(count)\n",
    "        results_allprot[\"perc_over\"].append(a)\n",
    "        count+=1\n",
    "    plt.figure(figsize=(2,2))\n",
    "    g=sns.swarmplot(x=expi,y=percentages)\n",
    "    plt.title(protein)\n",
    "    plt.xticks(g.get_xticks(),'')\n",
    "    "
   ]
  },
  {
   "cell_type": "code",
   "execution_count": 245,
   "metadata": {},
   "outputs": [],
   "source": [
    "df_all=pd.DataFrame(results_allprot)"
   ]
  },
  {
   "cell_type": "code",
   "execution_count": 248,
   "metadata": {},
   "outputs": [],
   "source": [
    "df_all.to_csv(\"/Volumes/Macintosh HD/Users/taldankovich/Downloads/allvals.csv'\",sep=';')"
   ]
  },
  {
   "cell_type": "code",
   "execution_count": null,
   "metadata": {},
   "outputs": [],
   "source": []
  }
 ],
 "metadata": {
  "kernelspec": {
   "display_name": "Python 3",
   "language": "python",
   "name": "python3"
  },
  "language_info": {
   "codemirror_mode": {
    "name": "ipython",
    "version": 3
   },
   "file_extension": ".py",
   "mimetype": "text/x-python",
   "name": "python",
   "nbconvert_exporter": "python",
   "pygments_lexer": "ipython3",
   "version": "3.7.1"
  }
 },
 "nbformat": 4,
 "nbformat_minor": 2
}
