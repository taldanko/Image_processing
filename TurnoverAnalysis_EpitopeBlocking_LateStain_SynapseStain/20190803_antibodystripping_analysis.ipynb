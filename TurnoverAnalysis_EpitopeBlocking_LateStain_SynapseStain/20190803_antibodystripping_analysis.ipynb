{
 "cells": [
  {
   "cell_type": "code",
   "execution_count": 1,
   "metadata": {},
   "outputs": [],
   "source": [
    "import numpy as np\n",
    "import os\n",
    "from nd2reader import ND2Reader\n",
    "import matplotlib.pyplot as plt\n",
    "import matplotlib.cm as cm\n",
    "from matplotlib_scalebar.scalebar import ScaleBar\n",
    "import scipy.ndimage as ndi\n",
    "from skimage.filters import rank \n",
    "from scipy.signal import butter, lfilter\n",
    "import scipy.misc as misc\n",
    "from skimage import exposure\n",
    "from PIL import Image\n",
    "import colorcet as cc\n",
    "from scipy.misc import toimage\n",
    "import matplotlib.colors as clr\n",
    "import pandas as pd\n",
    "import seaborn as sns\n",
    "from scipy import stats\n",
    "import cv2\n",
    "from pyspark import SparkContext, SparkConf\n",
    "import skimage\n",
    "from pathlib import Path\n",
    "\n",
    "def mean2(x):\n",
    "    y = np.sum(x) / np.size(x);\n",
    "    return y\n",
    "def corr2(a,b):\n",
    "    a = a - mean2(a)\n",
    "    b = b - mean2(b)\n",
    "\n",
    "    r = (a*b).sum() / np.sqrt((a*a).sum() * (b*b).sum());\n",
    "    return r\n",
    "from copy import deepcopy\n",
    "from skimage.filters import threshold_otsu,threshold_li\n",
    "import glob\n",
    "from IPython.display import clear_output\n",
    "import scipy.io as spio\n",
    "import matplotlib.ticker as ticker"
   ]
  },
  {
   "cell_type": "code",
   "execution_count": 2,
   "metadata": {},
   "outputs": [],
   "source": [
    "expdir='/Volumes/ukps-all$/user/tdanko/Imaging/1_ECM/Live Culture/Antibody Stripping/' #master folder\n",
    "protein=\"TNR\" #TNR,Agg,WFA,HABP"
   ]
  },
  {
   "cell_type": "markdown",
   "metadata": {},
   "source": [
    "## Look at the values separately"
   ]
  },
  {
   "cell_type": "code",
   "execution_count": 3,
   "metadata": {},
   "outputs": [
    {
     "name": "stdout",
     "output_type": "stream",
     "text": [
      "/Volumes/ukps-all$/user/tdanko/Imaging/1_ECM/Live Culture/Antibody Stripping/20180506_longterm/01_immediatelyafterstain/before.txt\n",
      "/Volumes/ukps-all$/user/tdanko/Imaging/1_ECM/Live Culture/Antibody Stripping/20180506_longterm/02_1day/before.txt\n",
      "/Volumes/ukps-all$/user/tdanko/Imaging/1_ECM/Live Culture/Antibody Stripping/20180506_longterm/03_2day/before.txt\n",
      "/Volumes/ukps-all$/user/tdanko/Imaging/1_ECM/Live Culture/Antibody Stripping/20180506_longterm/04_3day/before.txt\n",
      "/Volumes/ukps-all$/user/tdanko/Imaging/1_ECM/Live Culture/Antibody Stripping/20180506_longterm/05_4day/before.txt\n",
      "/Volumes/ukps-all$/user/tdanko/Imaging/1_ECM/Live Culture/Antibody Stripping/20180506_longterm/06_5day/before.txt\n",
      "/Volumes/ukps-all$/user/tdanko/Imaging/1_ECM/Live Culture/Antibody Stripping/20180506_longterm/07_6day/before.txt\n",
      "/Volumes/ukps-all$/user/tdanko/Imaging/1_ECM/Live Culture/Antibody Stripping/20180506_longterm/08_7day/before.txt\n",
      "/Volumes/ukps-all$/user/tdanko/Imaging/1_ECM/Live Culture/Antibody Stripping/20180522_longterm2/00_immediatelyafterstain/before.txt\n",
      "/Volumes/ukps-all$/user/tdanko/Imaging/1_ECM/Live Culture/Antibody Stripping/20180522_longterm2/01_1day/before.txt\n",
      "/Volumes/ukps-all$/user/tdanko/Imaging/1_ECM/Live Culture/Antibody Stripping/20180522_longterm2/02_2day/before.txt\n",
      "/Volumes/ukps-all$/user/tdanko/Imaging/1_ECM/Live Culture/Antibody Stripping/20180522_longterm2/03_3day/before.txt\n",
      "/Volumes/ukps-all$/user/tdanko/Imaging/1_ECM/Live Culture/Antibody Stripping/20180522_longterm2/04_4day/before.txt\n",
      "/Volumes/ukps-all$/user/tdanko/Imaging/1_ECM/Live Culture/Antibody Stripping/20180522_longterm2/05_5day/before.txt\n",
      "/Volumes/ukps-all$/user/tdanko/Imaging/1_ECM/Live Culture/Antibody Stripping/20180522_longterm2/06_6day/before.txt\n",
      "/Volumes/ukps-all$/user/tdanko/Imaging/1_ECM/Live Culture/Antibody Stripping/20180522_longterm2/07_7day/before.txt\n",
      "/Volumes/ukps-all$/user/tdanko/Imaging/1_ECM/Live Culture/Antibody Stripping/20190610_longterm4/00_immediatelyafter/before.txt\n",
      "/Volumes/ukps-all$/user/tdanko/Imaging/1_ECM/Live Culture/Antibody Stripping/20190610_longterm4/01_1day/before.txt\n",
      "/Volumes/ukps-all$/user/tdanko/Imaging/1_ECM/Live Culture/Antibody Stripping/20190610_longterm4/02_2day/before.txt\n",
      "/Volumes/ukps-all$/user/tdanko/Imaging/1_ECM/Live Culture/Antibody Stripping/20190610_longterm4/03_3day/before.txt\n",
      "/Volumes/ukps-all$/user/tdanko/Imaging/1_ECM/Live Culture/Antibody Stripping/20190610_longterm4/04_4day/before.txt\n",
      "/Volumes/ukps-all$/user/tdanko/Imaging/1_ECM/Live Culture/Antibody Stripping/20190610_longterm4/05_5day/before.txt\n",
      "/Volumes/ukps-all$/user/tdanko/Imaging/1_ECM/Live Culture/Antibody Stripping/20190610_longterm4/06_6day/before.txt\n",
      "/Volumes/ukps-all$/user/tdanko/Imaging/1_ECM/Live Culture/Antibody Stripping/20190610_longterm4/07_7day/before.txt\n",
      "/Volumes/ukps-all$/user/tdanko/Imaging/1_ECM/Live Culture/Antibody Stripping/20180604_longterm3/00_immediatelyafter/before.txt\n",
      "/Volumes/ukps-all$/user/tdanko/Imaging/1_ECM/Live Culture/Antibody Stripping/20180604_longterm3/01_1day/before.txt\n",
      "/Volumes/ukps-all$/user/tdanko/Imaging/1_ECM/Live Culture/Antibody Stripping/20180604_longterm3/02_2day/before.txt\n",
      "/Volumes/ukps-all$/user/tdanko/Imaging/1_ECM/Live Culture/Antibody Stripping/20180604_longterm3/03_3day/before.txt\n",
      "/Volumes/ukps-all$/user/tdanko/Imaging/1_ECM/Live Culture/Antibody Stripping/20180604_longterm3/04_4day/before.txt\n",
      "/Volumes/ukps-all$/user/tdanko/Imaging/1_ECM/Live Culture/Antibody Stripping/20180604_longterm3/05_5day/before.txt\n",
      "/Volumes/ukps-all$/user/tdanko/Imaging/1_ECM/Live Culture/Antibody Stripping/20180604_longterm3/06_6day/before.txt\n",
      "/Volumes/ukps-all$/user/tdanko/Imaging/1_ECM/Live Culture/Antibody Stripping/20180604_longterm3/07_7day/before.txt\n"
     ]
    }
   ],
   "source": [
    "results={\"expname\":[],\"day\":[],\"before vals\":[],\"after vals\":[],\"ratio\":[],\"ratio normed to day 0\":[]}\n",
    "path = os.path.dirname(expdir)  \n",
    "outputFolder = os.path.dirname(expdir + \"/new/\")\n",
    "filelist = []\n",
    "for root, _, filenames in os.walk(path):\n",
    "     for filename in filenames:\n",
    "         filelist.append(os.path.join(root, filename))      \n",
    "for i in range(0,len(filelist)):\n",
    "    if (\"before\" in str(filelist[i]))==True:\n",
    "        if (\"New folder\" in str(filelist[i]))==False:\n",
    "            if (\"perc\" in str(filelist[i]))==False:\n",
    "                if (\"8day\" in str(filelist[i]))==False:\n",
    "                    if filelist[i].endswith(\".txt\"): \n",
    "                        print(filelist[i])\n",
    "                        results[\"expname\"].append(filelist[i].split('/')[-3])\n",
    "                        results[\"day\"].append(filelist[i].split('/')[-2])\n",
    "                        \n",
    "                        after='/'.join(filelist[i].split('/')[:-1])+'/after.txt'\n",
    "                        before=filelist[i]\n",
    "                        \n",
    "                        lineList = [line.rstrip('\\n') for line in open(before)]\n",
    "                        lineListbefore=np.array([float(i) for i in lineList])\n",
    "                        results[\"before vals\"].append(lineListbefore)\n",
    "                        \n",
    "                        lineList = [line.rstrip('\\n') for line in open(after)]\n",
    "                        lineListafter=np.array([float(i) for i in lineList])\n",
    "                        results[\"after vals\"].append(np.array(lineListafter))\n",
    "                        results[\"ratio\"].append(lineListafter.mean()/lineListbefore.mean())\n",
    "                        results[\"ratio normed to day 0\"].append(lineListafter.mean()/lineListbefore.mean())"
   ]
  },
  {
   "cell_type": "code",
   "execution_count": 4,
   "metadata": {},
   "outputs": [],
   "source": [
    "df_all=pd.DataFrame(results)"
   ]
  },
  {
   "cell_type": "code",
   "execution_count": 5,
   "metadata": {},
   "outputs": [],
   "source": [
    "df_all[\"Day\"]=\"0\"\n",
    "df_all.loc[df_all['day'].str.contains('immediately'), 'Day'] = '0'\n",
    "df_all.loc[df_all['day'].str.contains('1day'), 'Day'] = '1'\n",
    "df_all.loc[df_all['day'].str.contains('2day'), 'Day'] = '2'\n",
    "df_all.loc[df_all['day'].str.contains('3day'), 'Day'] = '3'\n",
    "df_all.loc[df_all['day'].str.contains('4day'), 'Day'] = '4'\n",
    "df_all.loc[df_all['day'].str.contains('5day'), 'Day'] = '5'\n",
    "df_all.loc[df_all['day'].str.contains('6day'), 'Day'] = '6'\n",
    "df_all.loc[df_all['day'].str.contains('7day'), 'Day'] = '7'"
   ]
  },
  {
   "cell_type": "code",
   "execution_count": 6,
   "metadata": {},
   "outputs": [],
   "source": [
    "for exp in df_all[\"expname\"].unique():\n",
    "    dfexp=df_all[df_all[\"expname\"]==exp]\n",
    "    zero_ratio=dfexp[dfexp[\"Day\"]==\"0\"][\"ratio\"].values\n",
    "    df_all.loc[df_all[\"expname\"]==exp,\"ratio normed to day 0\"]/=zero_ratio"
   ]
  },
  {
   "cell_type": "markdown",
   "metadata": {},
   "source": [
    "## Read only the final averages from csv file"
   ]
  },
  {
   "cell_type": "code",
   "execution_count": 7,
   "metadata": {},
   "outputs": [],
   "source": [
    "df=pd.read_csv(expdir+'allexps_ratiobeforeoverafter_normedtofirstratio.csv',sep=';',header='infer')\n",
    "lineList = [line.rstrip('\\n') for line in open(before)]\n",
    "lineList=[float(i) for i in lineList]"
   ]
  },
  {
   "cell_type": "code",
   "execution_count": 8,
   "metadata": {},
   "outputs": [],
   "source": [
    "results={\"exp number\":[],\"day\":[],\"ratio\":[]}\n",
    "for i in range(len(df)):\n",
    "    for j in range(0,8):\n",
    "        results[\"exp number\"].append(i)\n",
    "        results[\"day\"].append(j)\n",
    "        results[\"ratio\"].append(df.loc[i][j])\n",
    "df2=pd.DataFrame(results)"
   ]
  },
  {
   "cell_type": "markdown",
   "metadata": {},
   "source": [
    "## Quick look"
   ]
  },
  {
   "cell_type": "code",
   "execution_count": 9,
   "metadata": {},
   "outputs": [
    {
     "data": {
      "text/plain": [
       "<seaborn.axisgrid.FacetGrid at 0x130054d68>"
      ]
     },
     "execution_count": 9,
     "metadata": {},
     "output_type": "execute_result"
    },
    {
     "data": {
      "image/png": "[encoded data removed]",
      "text/plain": [
       "<Figure size 360x360 with 1 Axes>"
      ]
     },
     "metadata": {
      "needs_background": "light"
     },
     "output_type": "display_data"
    }
   ],
   "source": [
    "sns.relplot(x=\"day\",y=\"ratio\",data=df2, dashes=False, markers=True, kind=\"line\",ci='sd')"
   ]
  },
  {
   "cell_type": "code",
   "execution_count": 33,
   "metadata": {},
   "outputs": [
    {
     "data": {
      "image/png": "[encoded data removed]",
      "text/plain": [
       "<Figure size 432x288 with 1 Axes>"
      ]
     },
     "metadata": {},
     "output_type": "display_data"
    }
   ],
   "source": [
    "sns.set(font_scale=2.5)\n",
    "sns.set(font=\"Arial\")\n",
    "sns.set_style(\"ticks\")\n",
    "sns.set_palette(\"Set2\")\n",
    "\n",
    "from matplotlib import rc\n",
    "\n",
    "rc('text', usetex=True)\n",
    "fig=plt.figure()\n",
    "#d=sns.swarmplot(x=\"day\",y=\"ratio\",data=df2,hue=\"exp number\")\n",
    "g=sns.swarmplot(x=\"day\",y=\"ratio\",data=df2,color='#2F67F8',size=6)\n",
    "g=sns.lineplot(x=\"day\",y=\"ratio\",data=df2,linewidth=3,color='#2F67F8',ci=None)\n",
    "means=[]\n",
    "sems=[]\n",
    "for i in range(0,8):\n",
    "    means.append(df2[df2[\"day\"]==i][\"ratio\"].mean())\n",
    "    sems.append(df2[df2[\"day\"]==i][\"ratio\"].sem())\n",
    "    \n",
    "\n",
    "plt.errorbar(x=np.arange(0,8,1),y=means,yerr=sems,\n",
    "            xerr=None,ecolor='#2F67F8',fmt='none',capsize=10,linewidth=3,capthick=3)\n",
    "\n",
    "#plt.hlines(y=means[1],xmin=0.7,xmax=1.3)   \n",
    "\n",
    "col='k'\n",
    "y=2.2\n",
    "h=0\n",
    "x1,x2=2,4\n",
    "pval=0.01\n",
    "if pval<0.001:\n",
    "    plt.text((x1+x2)*.5, y+h, \"***\", ha='center', va='bottom', color=col,size=24, weight='bold')\n",
    "elif pval<0.01:\n",
    "    plt.text((x1+x2)*.5, y+h, \"**\", ha='center', va='bottom', color=col,size=24, weight='bold')\n",
    "elif pval<0.05:\n",
    "    plt.text((x1+x2)*.5, y+h, \"*\", ha='center', va='bottom', color=col,size=30, weight='bold')    \n",
    "x1,x2=5,7\n",
    "pval=0.01\n",
    "if pval<0.001:\n",
    "    plt.text((x1+x2)*.5, y+h, \"***\", ha='center', va='bottom', color=col,size=24, weight='bold')\n",
    "elif pval<0.01:\n",
    "    plt.text((x1+x2)*.5, y+h, \"**\", ha='center', va='bottom', color=col,size=24, weight='bold')\n",
    "elif pval<0.05:\n",
    "    plt.text((x1+x2)*.5, y+h, \"*\", ha='center', va='bottom', color=col,size=30, weight='bold')    \n",
    "    \n",
    "\n",
    "plt.title('')\n",
    "plt.locator_params(axis='y', nbins=5)\n",
    "plt.yticks(visible=True,weight='bold',color='black',alpha=.7,fontsize=14)\n",
    "plt.xticks(visible=True,weight='bold',color='black',alpha=.7,fontsize=14)\n",
    "\n",
    "\n",
    "\n",
    "g.tick_params(width=3,color='black')\n",
    "#g.set_ylabel('Fluorescence intensity (AU)',color='black',alpha=.7,labelpad=3,size=28,weight='bold')\n",
    "\n",
    "g.set_xlabel('Time [days])',color='black',alpha=.7,fontsize=18,weight='bold')\n",
    "\n",
    "g.set_ylabel(r\"Fluorescence ratio\"\n",
    "           \"\\n\"  # Newline: the backslash is interpreted as usual\n",
    "           r\"$F_{tot}/F_{int}$\",\n",
    "    color='black',alpha=.7,fontsize=18,weight='bold')\n",
    "\n",
    "g.grid(False)\n",
    "\n",
    "sns.despine(ax=g,right=True,top=True,trim=True)\n",
    "for axis in ['top','bottom','left','right']:\n",
    "  g.spines[axis].set_linewidth(3)\n",
    "  g.spines[axis].set_color('black')\n",
    "  g.spines[axis].set_alpha(.7)\n",
    "\n",
    "diri=\"/Volumes/Macintosh HD/Users/taldankovich/Downloads/figures/\"\n",
    "fig.savefig(diri+'stripping.svg', bbox_inches='tight', format='svg')\n",
    "\n"
   ]
  },
  {
   "cell_type": "code",
   "execution_count": 11,
   "metadata": {},
   "outputs": [
    {
     "data": {
      "image/png": "[encoded data removed]",
      "text/plain": [
       "<Figure size 432x288 with 1 Axes>"
      ]
     },
     "metadata": {},
     "output_type": "display_data"
    }
   ],
   "source": [
    "sns.set(font_scale=2.5)\n",
    "sns.set(font=\"Arial\")\n",
    "sns.set_style(\"white\")\n",
    "sns.set_palette(\"Set2\")\n",
    "\n",
    "from matplotlib import rc\n",
    "\n",
    "rc('text', usetex=True)\n",
    "#color=iter(cm.rainbow(np.linspace(0,1,4)))\n",
    "color=[\"purple\",\"magenta\",\"crimson\",\"lightblue\"]\n",
    "#d=sns.swarmplot(x=\"day\",y=\"ratio\",data=df2,hue=\"exp number\")\n",
    "i=-1\n",
    "for exp in df2[\"exp number\"].unique():\n",
    "    i+=1\n",
    "    dfexp=df2[df2[\"exp number\"]==exp]\n",
    "    g=sns.swarmplot(x=\"day\",y=\"ratio\",data=dfexp,linewidth=1,color=color[i],size=10,alpha=.5,edgecolor='k')\n",
    "\n",
    "g=sns.lineplot(x=\"day\",y=\"ratio\",data=df2,linewidth=2,color='grey',ci=None)\n",
    "means=[]\n",
    "sems=[]\n",
    "for i in range(0,8):\n",
    "    means.append(df2[df2[\"day\"]==i][\"ratio\"].mean())\n",
    "    sems.append(df2[df2[\"day\"]==i][\"ratio\"].sem())\n",
    "    \n",
    "\n",
    "plt.errorbar(x=np.arange(0,8,1),y=means,yerr=sems,\n",
    "            xerr=None,ecolor='grey',fmt='none',capsize=10,linewidth=3,capthick=3)\n",
    "\n",
    "    \n",
    "\n",
    "col='k'\n",
    "y=2.5\n",
    "h=0\n",
    "x1,x2=2,4\n",
    "pval=0.01\n",
    "if pval<0.001:\n",
    "    plt.text((x1+x2)*.5, y+h, \"***\", ha='center', va='bottom', color=col,size=24, weight='bold')\n",
    "elif pval<0.01:\n",
    "    plt.text((x1+x2)*.5, y+h, \"**\", ha='center', va='bottom', color=col,size=24, weight='bold')\n",
    "elif pval<0.05:\n",
    "    plt.text((x1+x2)*.5, y+h, \"*\", ha='center', va='bottom', color=col,size=30, weight='bold')    \n",
    "x1,x2=5,7\n",
    "pval=0.01\n",
    "if pval<0.001:\n",
    "    plt.text((x1+x2)*.5, y+h, \"***\", ha='center', va='bottom', color=col,size=24, weight='bold')\n",
    "elif pval<0.01:\n",
    "    plt.text((x1+x2)*.5, y+h, \"**\", ha='center', va='bottom', color=col,size=24, weight='bold')\n",
    "elif pval<0.05:\n",
    "    plt.text((x1+x2)*.5, y+h, \"*\", ha='center', va='bottom', color=col,size=30, weight='bold')    \n",
    "    \n",
    "\n",
    "\n",
    "plt.title('')\n",
    "plt.locator_params(axis='y', nbins=5)\n",
    "plt.yticks(visible=True,weight='bold',color='black',alpha=.7,fontsize=14)\n",
    "plt.xticks(visible=True,weight='bold',color='black',alpha=.7,fontsize=14)\n",
    "\n",
    "g.vlines(x=3,linestyles='--', label='',ymin=0,ymax=2.7,color='grey')\n",
    "g.vlines(x=6,linestyles='--', label='',ymin=0,ymax=2.7,color='grey')\n",
    "\n",
    "\n",
    "\n",
    "g.tick_params(width=3,color='black')\n",
    "#g.set_ylabel('Fluorescence intensity (AU)',color='black',alpha=.7,labelpad=3,size=28,weight='bold')\n",
    "\n",
    "g.set_xlabel('Time [h])',color='black',alpha=.7,fontsize=18,weight='bold')\n",
    "\n",
    "g.set_ylabel(r\"Fluorescence ratio\"\n",
    "           \"\\n\"  # Newline: the backslash is interpreted as usual\n",
    "           r\"$F_{tot}/F_{int}$\",\n",
    "    color='black',alpha=.7,fontsize=18,weight='bold')\n",
    "\n",
    "g.grid(False)\n",
    "\n",
    "sns.despine(ax=g,right=True,top=True)\n",
    "for axis in ['top','bottom','left','right']:\n",
    "  g.spines[axis].set_linewidth(3)\n",
    "  g.spines[axis].set_color('black')\n",
    "  g.spines[axis].set_alpha(.7)"
   ]
  },
  {
   "cell_type": "markdown",
   "metadata": {},
   "source": [
    "## Stats"
   ]
  },
  {
   "cell_type": "markdown",
   "metadata": {},
   "source": [
    "## Normal ttest"
   ]
  },
  {
   "cell_type": "code",
   "execution_count": 69,
   "metadata": {},
   "outputs": [],
   "source": [
    "var=\"ratio\"\n",
    "day0=df2[df2[\"day\"]==0][var].dropna()\n",
    "day1=df2[df2[\"day\"]==1][var].dropna()\n",
    "day3=df2[df2[\"day\"]==3][var].dropna()\n",
    "day2=df2[df2[\"day\"]==2][var].dropna()\n",
    "day4=df2[df2[\"day\"]==4][var].dropna()\n",
    "day6=df2[df2[\"day\"]==6][var].dropna()\n",
    "day5=df2[df2[\"day\"]==5][var].dropna()\n",
    "day7=df2[df2[\"day\"]==7][var].dropna()\n",
    "\n",
    "#day1norm=day1/day0.mean()\n",
    "day2norm21=day2/day1.mean()\n",
    "\n",
    "#day3norm22=day3/day2.mean()\n",
    "\n",
    "day3norm=day3/day2norm21.mean()\n",
    "day4norm=day4/day3norm.mean()"
   ]
  },
  {
   "cell_type": "code",
   "execution_count": 70,
   "metadata": {},
   "outputs": [
    {
     "name": "stdout",
     "output_type": "stream",
     "text": [
      "0.7909895453015954\n"
     ]
    }
   ],
   "source": [
    "[stat,pval]=stats.ttest_rel(day3norm.values, day2norm21.values)\n",
    "print(pval)"
   ]
  },
  {
   "cell_type": "markdown",
   "metadata": {},
   "source": [
    "## ttest between normalized values (normalize to group undergoing test)"
   ]
  },
  {
   "cell_type": "code",
   "execution_count": 114,
   "metadata": {},
   "outputs": [],
   "source": [
    "arrayexps=np.stack([df2[df2[\"exp number\"]==0][\"ratio\"].values/df2[df2[\"exp number\"]==0][\"ratio\"].values[3],\n",
    "                   df2[df2[\"exp number\"]==1][\"ratio\"].values/df2[df2[\"exp number\"]==1][\"ratio\"].values[3],\n",
    "                   df2[df2[\"exp number\"]==2][\"ratio\"].values/df2[df2[\"exp number\"]==2][\"ratio\"].values[3],\n",
    "                   df2[df2[\"exp number\"]==3][\"ratio\"].values/df2[df2[\"exp number\"]==3][\"ratio\"].values[3]])"
   ]
  },
  {
   "cell_type": "code",
   "execution_count": 115,
   "metadata": {},
   "outputs": [
    {
     "name": "stdout",
     "output_type": "stream",
     "text": [
      "0.010873325146167612\n"
     ]
    }
   ],
   "source": [
    "[stat,pval]=stats.ttest_rel(arrayexps[:,3], arrayexps[:,2])\n",
    "print(pval)"
   ]
  },
  {
   "cell_type": "code",
   "execution_count": 109,
   "metadata": {},
   "outputs": [],
   "source": [
    "arrayexps=np.stack([df2[df2[\"exp number\"]==0][\"ratio\"].values/df2[df2[\"exp number\"]==0][\"ratio\"].values[6],\n",
    "                   df2[df2[\"exp number\"]==1][\"ratio\"].values/df2[df2[\"exp number\"]==1][\"ratio\"].values[6],\n",
    "                   df2[df2[\"exp number\"]==2][\"ratio\"].values/df2[df2[\"exp number\"]==2][\"ratio\"].values[6],\n",
    "                   df2[df2[\"exp number\"]==3][\"ratio\"].values/df2[df2[\"exp number\"]==3][\"ratio\"].values[6]])"
   ]
  },
  {
   "cell_type": "code",
   "execution_count": 116,
   "metadata": {},
   "outputs": [
    {
     "name": "stdout",
     "output_type": "stream",
     "text": [
      "0.03705642300701708\n"
     ]
    }
   ],
   "source": [
    "[stat,pval]=stats.ttest_rel(arrayexps[:,6], arrayexps[:,4])\n",
    "print(pval)"
   ]
  }
 ],
 "metadata": {
  "kernelspec": {
   "display_name": "Python 3",
   "language": "python",
   "name": "python3"
  },
  "language_info": {
   "codemirror_mode": {
    "name": "ipython",
    "version": 3
   },
   "file_extension": ".py",
   "mimetype": "text/x-python",
   "name": "python",
   "nbconvert_exporter": "python",
   "pygments_lexer": "ipython3",
   "version": "3.7.1"
  }
 },
 "nbformat": 4,
 "nbformat_minor": 2
}
