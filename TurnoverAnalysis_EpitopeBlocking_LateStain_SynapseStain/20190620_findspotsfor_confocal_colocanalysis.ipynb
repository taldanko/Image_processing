{
 "cells": [
  {
   "cell_type": "code",
   "execution_count": 1,
   "metadata": {},
   "outputs": [],
   "source": [
    "import numpy as np\n",
    "import os\n",
    "from nd2reader import ND2Reader\n",
    "import matplotlib.pyplot as plt\n",
    "import matplotlib.cm as cm\n",
    "from matplotlib_scalebar.scalebar import ScaleBar\n",
    "import scipy.ndimage as ndi\n",
    "from skimage.filters import rank \n",
    "from scipy.signal import butter, lfilter\n",
    "import scipy.misc as misc\n",
    "from skimage import exposure\n",
    "from PIL import Image\n",
    "import colorcet as cc\n",
    "from scipy.misc import toimage\n",
    "import matplotlib.colors as clr\n",
    "import pandas as pd\n",
    "import seaborn as sns\n",
    "from scipy import stats\n",
    "import cv2\n",
    "from pyspark import SparkContext, SparkConf\n",
    "import skimage\n",
    "from pathlib import Path\n",
    "\n",
    "def mean2(x):\n",
    "    y = np.sum(x) / np.size(x);\n",
    "    return y\n",
    "def corr2(a,b):\n",
    "    a = a - mean2(a)\n",
    "    b = b - mean2(b)\n",
    "\n",
    "    r = (a*b).sum() / np.sqrt((a*a).sum() * (b*b).sum());\n",
    "    return r\n",
    "from copy import deepcopy\n",
    "from skimage.filters import threshold_otsu,threshold_li\n",
    "import glob\n",
    "from IPython.display import clear_output\n",
    "import scipy.io as spio\n",
    "import pims\n",
    "from skimage.measure import label, regionprops\n",
    "from skimage.color import label2rgb\n",
    "import scipy"
   ]
  },
  {
   "cell_type": "code",
   "execution_count": 2,
   "metadata": {},
   "outputs": [],
   "source": [
    "expdir='/Volumes/ukps-all$/user/tdanko/Imaging/1_ECM/Fixed culture/Leica confocal/'\n",
    "exp=\"20190515_tnr550blocked_int1fitcblocked_plus0h_\""
   ]
  },
  {
   "cell_type": "code",
   "execution_count": 3,
   "metadata": {},
   "outputs": [],
   "source": [
    "results = {\"filename\":[],\n",
    "          \"exp condition\":[],\n",
    "          \"ecmchannelno\":[],\n",
    "          \"endosomechannelno\":[],\n",
    "           \"Manual ECM spots mask\":[],\n",
    "           \"Manual endosome spots mask\":[],\n",
    "          }\n",
    "           \n",
    "path = os.path.dirname(expdir)  \n",
    "outputFolder = os.path.dirname(expdir + \"/new/\")\n",
    "filelist = []\n",
    "for root, _, filenames in os.walk(path):\n",
    "     for filename in filenames:\n",
    "         filelist.append(os.path.join(root, filename))      \n",
    "for i in range(0,len(filelist)):\n",
    "    if \"_analyse\" in str(filelist[i]):\n",
    "        if \"2019\" in str(filelist[i]):\n",
    "            if (\"posthoc\" in str(filelist[i]))==False:\n",
    "                if (exp in str(filelist[i]))==True:\n",
    "                #if (protein in str(filelist[i]))==True:\n",
    "                    if filelist[i].endswith(\".tif\"): \n",
    "                        if str(filelist[i][:-12]) not in str(results[\"filename\"]):\n",
    "                            results[\"filename\"].append(filelist[i][:-12])\n",
    "                            results[\"exp condition\"].append(filelist[i][:-12].split('/')[-2])\n",
    "                            channeldir=\"/\".join(filelist[i][:-12].split(\"/\")[:-1])\n",
    "                            exec(open(channeldir+\"/channels.txt\").read())\n",
    "                            results[\"ecmchannelno\"].append(ecmchannelno)\n",
    "                            results[\"endosomechannelno\"].append(endosomechannelno)\n",
    "                                        "
   ]
  },
  {
   "cell_type": "markdown",
   "metadata": {},
   "source": [
    "## Loading a random image"
   ]
  },
  {
   "cell_type": "code",
   "execution_count": 1,
   "metadata": {},
   "outputs": [
    {
     "ename": "NameError",
     "evalue": "name 'np' is not defined",
     "output_type": "error",
     "traceback": [
      "\u001b[0;31m---------------------------------------------------------------------------\u001b[0m",
      "\u001b[0;31mNameError\u001b[0m                                 Traceback (most recent call last)",
      "\u001b[0;32m<ipython-input-1-38cfaa22faa1>\u001b[0m in \u001b[0;36m<module>\u001b[0;34m\u001b[0m\n\u001b[0;32m----> 1\u001b[0;31m \u001b[0mrandomno\u001b[0m\u001b[0;34m=\u001b[0m\u001b[0mnp\u001b[0m\u001b[0;34m.\u001b[0m\u001b[0mrandom\u001b[0m\u001b[0;34m.\u001b[0m\u001b[0mrandint\u001b[0m\u001b[0;34m(\u001b[0m\u001b[0;36m1\u001b[0m\u001b[0;34m,\u001b[0m\u001b[0mlen\u001b[0m\u001b[0;34m(\u001b[0m\u001b[0mresults\u001b[0m\u001b[0;34m[\u001b[0m\u001b[0;34m\"filename\"\u001b[0m\u001b[0;34m]\u001b[0m\u001b[0;34m)\u001b[0m\u001b[0;34m)\u001b[0m\u001b[0;34m\u001b[0m\u001b[0;34m\u001b[0m\u001b[0m\n\u001b[0m\u001b[1;32m      2\u001b[0m \u001b[0mecm_channel_no\u001b[0m\u001b[0;34m=\u001b[0m\u001b[0mresults\u001b[0m\u001b[0;34m[\u001b[0m\u001b[0;34m\"ecmchannelno\"\u001b[0m\u001b[0;34m]\u001b[0m\u001b[0;34m[\u001b[0m\u001b[0mrandomno\u001b[0m\u001b[0;34m]\u001b[0m\u001b[0;34m\u001b[0m\u001b[0;34m\u001b[0m\u001b[0m\n\u001b[1;32m      3\u001b[0m \u001b[0mendosome_channel_no\u001b[0m\u001b[0;34m=\u001b[0m\u001b[0mresults\u001b[0m\u001b[0;34m[\u001b[0m\u001b[0;34m\"endosomechannelno\"\u001b[0m\u001b[0;34m]\u001b[0m\u001b[0;34m[\u001b[0m\u001b[0mrandomno\u001b[0m\u001b[0;34m]\u001b[0m\u001b[0;34m\u001b[0m\u001b[0;34m\u001b[0m\u001b[0m\n\u001b[1;32m      4\u001b[0m \u001b[0;31m#synapse_channel_no=results[\"synapsechannelno\"][randomno]\u001b[0m\u001b[0;34m\u001b[0m\u001b[0;34m\u001b[0m\u001b[0;34m\u001b[0m\u001b[0m\n\u001b[1;32m      5\u001b[0m \u001b[0;34m\u001b[0m\u001b[0m\n",
      "\u001b[0;31mNameError\u001b[0m: name 'np' is not defined"
     ]
    }
   ],
   "source": [
    "randomno=np.random.randint(1,len(results[\"filename\"]))\n",
    "ecm_channel_no=results[\"ecmchannelno\"][randomno]\n",
    "endosome_channel_no=results[\"endosomechannelno\"][randomno]\n",
    "#synapse_channel_no=results[\"synapsechannelno\"][randomno]\n",
    "\n",
    "ecm_image_name=results[\"filename\"][randomno]+\"0_ch\"+str(ecm_channel_no-1)+\"_t0.tif\"\n",
    "endosome_image_name=results[\"filename\"][randomno]+\"0_ch\"+str(endosome_channel_no-1)+\"_t0.tif\"\n",
    "#synapse_image_name=results[\"filename\"][randomno]+\"0_ch\"+str(synapse_channel_no-1)+\"_t0.tif\"\n",
    "\n",
    "print(\"Image name:\",results[\"filename\"][randomno].split('/')[-1])\n",
    "print(\"Experimental condition:\",results[\"exp condition\"][randomno])\n",
    "ecm_image=pims.open(ecm_image_name)[0]\n",
    "endosome_image=pims.open(endosome_image_name)[0]\n",
    "#synapse_image=pims.open(synapse_image_name)[0]\n",
    "   \n",
    "figure=plt.figure(figsize=(15,15))\n",
    "figure.add_subplot(131)\n",
    "plt.imshow(ecm_image,interpolation='none',cmap='hot')\n",
    "plt.title('ECM raw')\n",
    "plt.grid(visible=False)\n",
    "plt.xticks(visible=False)\n",
    "plt.yticks(visible=False)\n",
    "scalebar = ScaleBar(40, 'nm', dimension='si-length',box_alpha=0,location='lower right',length_fraction=0.2,\n",
    "                       font_properties={'size':16,'weight':'bold'},color='white',border_pad=0.5) # 1 pixel = 0.2 meter\n",
    "plt.gca().add_artist(scalebar)\n",
    "#figure.add_subplot(132)\n",
    "#plt.imshow(ecm_image,interpolation='none',cmap='hot',vmin=3*np.min(ecm_image),vmax=0.4*np.max(ecm_image))\n",
    "#plt.title('ECM scaled')\n",
    "#plt.grid(visible=False)\n",
    "#plt.xticks(visible=False)\n",
    "#plt.yticks(visible=False)\n",
    "#scalebar = ScaleBar(40, 'nm', dimension='si-length',box_alpha=0,location='lower right',length_fraction=0.2,\n",
    " #                      font_properties={'size':16,'weight':'bold'},color='white',border_pad=0.5) # 1 pixel = 0.2 meter\n",
    "    \n",
    "#plt.gca().add_artist(scalebar)\n",
    "\n",
    "figure.add_subplot(133)\n",
    "plt.imshow(ecm_image,interpolation='none',cmap='inferno',alpha=.5)\n",
    "plt.imshow(endosome_image,interpolation='none',cmap='viridis',alpha=.5)\n",
    "plt.title('endosome raw')\n",
    "plt.grid(visible=False)\n",
    "plt.xticks(visible=False)\n",
    "plt.yticks(visible=False)\n",
    "scalebar = ScaleBar(40, 'nm', dimension='si-length',box_alpha=0,location='lower right',length_fraction=0.2,\n",
    "                       font_properties={'size':16,'weight':'bold'},color='white',border_pad=0.5) # 1 pixel = 0.2 meter\n",
    "    \n",
    "plt.gca().add_artist(scalebar)"
   ]
  },
  {
   "cell_type": "code",
   "execution_count": 8,
   "metadata": {},
   "outputs": [
    {
     "ename": "TypeError",
     "evalue": "No loop matching the specified signature and casting\nwas found for ufunc true_divide",
     "output_type": "error",
     "traceback": [
      "\u001b[0;31m---------------------------------------------------------------------------\u001b[0m",
      "\u001b[0;31mTypeError\u001b[0m                                 Traceback (most recent call last)",
      "\u001b[0;32m<ipython-input-8-07de8e575879>\u001b[0m in \u001b[0;36m<module>\u001b[0;34m\u001b[0m\n\u001b[1;32m      1\u001b[0m \u001b[0mblurred\u001b[0m \u001b[0;34m=\u001b[0m \u001b[0mndi\u001b[0m\u001b[0;34m.\u001b[0m\u001b[0mgaussian_filter\u001b[0m\u001b[0;34m(\u001b[0m\u001b[0mecm_image\u001b[0m\u001b[0;34m,\u001b[0m\u001b[0msigma\u001b[0m\u001b[0;34m=\u001b[0m\u001b[0;36m3\u001b[0m\u001b[0;34m)\u001b[0m\u001b[0;34m\u001b[0m\u001b[0;34m\u001b[0m\u001b[0m\n\u001b[0;32m----> 2\u001b[0;31m \u001b[0mblurred\u001b[0m \u001b[0;34m/=\u001b[0m \u001b[0mblurred\u001b[0m\u001b[0;34m.\u001b[0m\u001b[0mmax\u001b[0m\u001b[0;34m(\u001b[0m\u001b[0;34m)\u001b[0m\u001b[0;34m\u001b[0m\u001b[0;34m\u001b[0m\u001b[0m\n\u001b[0m\u001b[1;32m      3\u001b[0m \u001b[0mmean\u001b[0m\u001b[0;34m,\u001b[0m \u001b[0mstd\u001b[0m \u001b[0;34m=\u001b[0m \u001b[0mnumpy\u001b[0m\u001b[0;34m.\u001b[0m\u001b[0mmean\u001b[0m\u001b[0;34m(\u001b[0m\u001b[0mblurred\u001b[0m\u001b[0;34m)\u001b[0m\u001b[0;34m,\u001b[0m \u001b[0mnumpy\u001b[0m\u001b[0;34m.\u001b[0m\u001b[0mstd\u001b[0m\u001b[0;34m(\u001b[0m\u001b[0mblurred\u001b[0m\u001b[0;34m)\u001b[0m\u001b[0;34m\u001b[0m\u001b[0;34m\u001b[0m\u001b[0m\n\u001b[1;32m      4\u001b[0m \u001b[0mblurred\u001b[0m \u001b[0;34m-=\u001b[0m \u001b[0;36m1.2\u001b[0m \u001b[0;34m*\u001b[0m \u001b[0mmean\u001b[0m \u001b[0;31m# heuristic that works\u001b[0m\u001b[0;34m\u001b[0m\u001b[0;34m\u001b[0m\u001b[0m\n\u001b[1;32m      5\u001b[0m \u001b[0mblurred\u001b[0m \u001b[0;34m/=\u001b[0m \u001b[0mstd\u001b[0m\u001b[0;34m\u001b[0m\u001b[0;34m\u001b[0m\u001b[0m\n",
      "\u001b[0;31mTypeError\u001b[0m: No loop matching the specified signature and casting\nwas found for ufunc true_divide"
     ]
    }
   ],
   "source": [
    "blurred = ndi.gaussian_filter(ecm_image,sigma=3)\n",
    "blurred /= blurred.max()\n",
    "mean, std = numpy.mean(blurred), numpy.std(blurred)\n",
    "blurred -= 1.2 * mean # heuristic that works\n",
    "blurred /= std\n",
    "blurred = numpy.maximum(blurred, 0)\n",
    "val = filters.threshold_triangle(blurred)\n",
    "a=ndi.binary_erosion(blurred > val, selem=morphology.square(selem))"
   ]
  },
  {
   "cell_type": "markdown",
   "metadata": {},
   "source": [
    "## Find spots"
   ]
  },
  {
   "cell_type": "markdown",
   "metadata": {},
   "source": [
    "### Manual"
   ]
  },
  {
   "cell_type": "code",
   "execution_count": 241,
   "metadata": {},
   "outputs": [],
   "source": [
    "#make empty masks\n",
    "for i in range(0,len(results[\"filename\"])):\n",
    "    results[\"Manual ECM spots mask\"].append(np.nan)\n",
    "    results[\"Manual endosome spots mask\"].append(np.nan)"
   ]
  },
  {
   "cell_type": "code",
   "execution_count": 266,
   "metadata": {},
   "outputs": [
    {
     "name": "stderr",
     "output_type": "stream",
     "text": [
      "ImageJ series: invalid metadata or corrupted file\n",
      "TiffPages: invalid page offset (268088)\n"
     ]
    },
    {
     "data": {
      "application/vnd.jupyter.widget-view+json": {
       "model_id": "055a194f32684222aa736e6a14b765cb",
       "version_major": 2,
       "version_minor": 0
      },
      "text/plain": [
       "interactive(children=(Dropdown(description='Threshold', options=('Li', 'Otsu', 'Manual'), value='Li'), IntSlid…"
      ]
     },
     "metadata": {},
     "output_type": "display_data"
    }
   ],
   "source": [
    "import ipywidgets as widgets\n",
    "from ipywidgets import interact\n",
    "first=0\n",
    "\n",
    "#load first image\n",
    "ecm_channel_no=results[\"ecmchannelno\"][first]\n",
    "ecm_image_name=results[\"filename\"][first]+\"0_ch\"+str(ecm_channel_no-1)+\"_t0.tif\"\n",
    "ecm_image=pims.open(ecm_image_name)[0]\n",
    "ecm_spots=deepcopy(ecm_image)\n",
    "ecm_spots=ndi.median_filter(ecm_spots,size=5)\n",
    "\n",
    "lower_man_threshold=np.min(ecm_spots)\n",
    "upper_man_threshold=np.max(ecm_spots)\n",
    "\n",
    "def f(Threshold,Manual_Threshold,Open,Close,Image_no):\n",
    "    \n",
    "    ii=Image_no\n",
    "    ecm_channel_no=results[\"ecmchannelno\"][ii]\n",
    "    ecm_image_name=results[\"filename\"][ii]+\"0_ch\"+str(ecm_channel_no-1)+\"_t0.tif\"\n",
    "    ecm_image=pims.open(ecm_image_name)[0]\n",
    "    #bandpass (subtract gaussian filter)\n",
    "    #lowpass = ndi.gaussian_filter(ecm_image, 3)\n",
    "    #ecm_image = ecm_image - lowpass\n",
    "    #ecm_image[ecm_image<0]=0\n",
    "    \n",
    "    ecm_spots=deepcopy(ecm_image)\n",
    "    lower_man_threshold=np.min(ecm_spots)\n",
    "    upper_man_threshold=np.max(ecm_spots)\n",
    "\n",
    "    if Threshold==\"Li\":\n",
    "        ecm_image_threshold=threshold_li(ecm_image)      \n",
    "    if Threshold==\"Otsu\":\n",
    "        ecm_image_threshold=threshold_otsu(ecm_image)\n",
    "    if Threshold==\"Manual\":\n",
    "        ecm_image_threshold=Manual_Threshold\n",
    "    \n",
    "    ecm_spots[ecm_spots<ecm_image_threshold]=0\n",
    "    ecm_spots=ndi.binary_opening(ecm_spots,iterations=Open)\n",
    "    ecm_spots=ndi.binary_closing(ecm_spots,iterations=Close)\n",
    "    results[\"Manual ECM spots mask\"][ii]=ecm_spots\n",
    "    fig=plt.figure(figsize=(10,10))\n",
    "    fig.add_subplot(121)\n",
    "    plt.imshow(ecm_spots)\n",
    "    plt.imshow(ecm_image,alpha=0.5,cmap='inferno')\n",
    "    fig.add_subplot(122)\n",
    "    plt.imshow(ecm_image,cmap='inferno')\n",
    "    \n",
    "\n",
    "#widgets\n",
    "Threshold=widgets.Dropdown(options=[\"Li\",\"Otsu\",\"Manual\"])\n",
    "Manual_Threshold=widgets.IntSlider(min=lower_man_threshold,max=upper_man_threshold,step=1,value=lower_man_threshold)\n",
    "Open=widgets.IntText(min=0,max=20,step=1,value=1)\n",
    "Close=widgets.IntText(min=0,max=20,step=1,value=1)\n",
    "Image_no=widgets.IntText(min=0,max=len(results[\"filename\"]),value=0)\n",
    "\n",
    "w=interact(f,Threshold=Threshold,Manual_Threshold=Manual_Threshold,Open=Open,Close=Close,\n",
    "           Image_no=Image_no)"
   ]
  },
  {
   "cell_type": "markdown",
   "metadata": {},
   "source": [
    "### Backup manual spots for ecm"
   ]
  },
  {
   "cell_type": "code",
   "execution_count": 275,
   "metadata": {},
   "outputs": [],
   "source": [
    "for image in range(0,len(results[\"filename\"])):\n",
    "    np.save(results[\"filename\"][image]+'_ecm_spots_mask.npy',results[\"Manual ECM spots mask\"][image])"
   ]
  },
  {
   "cell_type": "markdown",
   "metadata": {},
   "source": [
    "### Make spots for endosome channel"
   ]
  },
  {
   "cell_type": "code",
   "execution_count": 272,
   "metadata": {},
   "outputs": [
    {
     "name": "stderr",
     "output_type": "stream",
     "text": [
      "ImageJ series: invalid metadata or corrupted file\n",
      "TiffPages: invalid page offset (268088)\n"
     ]
    },
    {
     "data": {
      "application/vnd.jupyter.widget-view+json": {
       "model_id": "5da554bc7f3a437782ebb726ecaa0d6f",
       "version_major": 2,
       "version_minor": 0
      },
      "text/plain": [
       "interactive(children=(Dropdown(description='Threshold', options=('Li', 'Otsu', 'Manual'), value='Li'), IntSlid…"
      ]
     },
     "metadata": {},
     "output_type": "display_data"
    }
   ],
   "source": [
    "import ipywidgets as widgets\n",
    "from ipywidgets import interact\n",
    "first=0\n",
    "\n",
    "#load first image\n",
    "endosome_channel_no=results[\"endosomechannelno\"][first]\n",
    "endosome_image_name=results[\"filename\"][first]+\"0_ch\"+str(endosome_channel_no-1)+\"_t0.tif\"\n",
    "endosome_image=pims.open(endosome_image_name)[0]\n",
    "endosome_spots=deepcopy(endosome_image)\n",
    "endosome_spots=ndi.median_filter(endosome_spots,size=5)\n",
    "\n",
    "lower_man_threshold=np.min(endosome_spots)\n",
    "upper_man_threshold=np.max(endosome_spots)\n",
    "\n",
    "def f(Threshold,Manual_Threshold,Open,Close,Image_no):\n",
    "    \n",
    "    ii=Image_no\n",
    "    endosome_channel_no=results[\"endosomechannelno\"][ii]\n",
    "    endosome_image_name=results[\"filename\"][ii]+\"0_ch\"+str(endosome_channel_no-1)+\"_t0.tif\"\n",
    "    endosome_image=pims.open(endosome_image_name)[0]\n",
    "    #bandpass (subtract gaussian filter)\n",
    "    #lowpass = ndi.gaussian_filter(endosome_image, 3)\n",
    "    #endosome_image = endosome_image - lowpass\n",
    "    #endosome_image[endosome_image<0]=0\n",
    "    \n",
    "    endosome_spots=deepcopy(endosome_image)\n",
    "    lower_man_threshold=np.min(endosome_spots)\n",
    "    upper_man_threshold=np.max(endosome_spots)\n",
    "\n",
    "    if Threshold==\"Li\":\n",
    "        endosome_image_threshold=threshold_li(endosome_image)      \n",
    "    if Threshold==\"Otsu\":\n",
    "        endosome_image_threshold=threshold_otsu(endosome_image)\n",
    "    if Threshold==\"Manual\":\n",
    "        endosome_image_threshold=Manual_Threshold\n",
    "    \n",
    "    endosome_spots[endosome_spots<endosome_image_threshold]=0\n",
    "    endosome_spots=ndi.binary_opening(endosome_spots,iterations=Open)\n",
    "    endosome_spots=ndi.binary_closing(endosome_spots,iterations=Close)\n",
    "    results[\"Manual endosome spots mask\"][ii]=endosome_spots\n",
    "    fig=plt.figure(figsize=(10,10))\n",
    "    fig.add_subplot(121)\n",
    "    plt.imshow(endosome_spots)\n",
    "    plt.imshow(endosome_image,alpha=0.5,cmap='inferno')\n",
    "    fig.add_subplot(122)\n",
    "    plt.imshow(endosome_image,cmap='inferno')\n",
    "    \n",
    "\n",
    "#widgets\n",
    "Threshold=widgets.Dropdown(options=[\"Li\",\"Otsu\",\"Manual\"])\n",
    "Manual_Threshold=widgets.IntSlider(min=lower_man_threshold,max=upper_man_threshold,step=1,value=lower_man_threshold)\n",
    "Open=widgets.IntText(min=0,max=20,step=1,value=1)\n",
    "Close=widgets.IntText(min=0,max=20,step=1,value=1)\n",
    "Image_no=widgets.IntText(min=0,max=len(results[\"filename\"]),value=0)\n",
    "\n",
    "w=interact(f,Threshold=Threshold,Manual_Threshold=Manual_Threshold,Open=Open,Close=Close,\n",
    "           Image_no=Image_no)"
   ]
  },
  {
   "cell_type": "code",
   "execution_count": 274,
   "metadata": {},
   "outputs": [],
   "source": [
    "for image in range(0,len(results[\"filename\"])):\n",
    "    np.save(results[\"filename\"][image]+'_endosome_spots_mask.npy',results[\"Manual endosome spots mask\"][image])"
   ]
  },
  {
   "cell_type": "markdown",
   "metadata": {},
   "source": [
    "## Quick check coloc"
   ]
  },
  {
   "cell_type": "code",
   "execution_count": 273,
   "metadata": {},
   "outputs": [
    {
     "name": "stdout",
     "output_type": "stream",
     "text": [
      "Calculating image no 1 out of9\n",
      "Calculating image no 2 out of9\n",
      "Calculating image no 3 out of9\n",
      "Calculating image no 4 out of9\n",
      "Calculating image no 5 out of9\n",
      "Calculating image no 6 out of9\n",
      "Calculating image no 7 out of9\n",
      "Calculating image no 8 out of9\n",
      "Calculating image no 9 out of9\n"
     ]
    },
    {
     "data": {
      "text/html": [
       "<div>\n",
       "<style scoped>\n",
       "    .dataframe tbody tr th:only-of-type {\n",
       "        vertical-align: middle;\n",
       "    }\n",
       "\n",
       "    .dataframe tbody tr th {\n",
       "        vertical-align: top;\n",
       "    }\n",
       "\n",
       "    .dataframe thead th {\n",
       "        text-align: right;\n",
       "    }\n",
       "</style>\n",
       "<table border=\"1\" class=\"dataframe\">\n",
       "  <thead>\n",
       "    <tr style=\"text-align: right;\">\n",
       "      <th></th>\n",
       "      <th>proteinl</th>\n",
       "      <th>percentunderl</th>\n",
       "      <th>expname</th>\n",
       "    </tr>\n",
       "  </thead>\n",
       "  <tbody>\n",
       "    <tr>\n",
       "      <th>0</th>\n",
       "      <td>Int1b Blk/TNR Blk, +0, surface</td>\n",
       "      <td>14.840989</td>\n",
       "      <td>20190515_tnr550blocked_int1fitcblocked_plus0h_...</td>\n",
       "    </tr>\n",
       "  </tbody>\n",
       "</table>\n",
       "</div>"
      ],
      "text/plain": [
       "                         proteinl  percentunderl  \\\n",
       "0  Int1b Blk/TNR Blk, +0, surface      14.840989   \n",
       "\n",
       "                                             expname  \n",
       "0  20190515_tnr550blocked_int1fitcblocked_plus0h_...  "
      ]
     },
     "execution_count": 273,
     "metadata": {},
     "output_type": "execute_result"
    }
   ],
   "source": [
    "#dictionary per image:\n",
    "ecm_image_results={\"filename\":[],\"exp condition\":[],\n",
    "                   \"distances to nearest endosome boundary\":[],\n",
    "                  \"distances to nearest endosome boundary [nms]\":[],\n",
    "                  \"min distance to nearest endosome boundary for whole image\":[],\n",
    "                  \"min distance to nearest endosome boundary for whole image [nms]\":[],\n",
    "                  \"rotated - distances to nearest endosome boundary\":[],\n",
    "                  \"rotated - distances to nearest endosome boundary [nms]\":[],\n",
    "                  \"rotated - min distance to nearest endosome boundary for whole image\":[],\n",
    "                  \"rotated - min distance to nearest endosome boundary for whole image [nms]\":[]}\n",
    "\n",
    "for image in range(0,len(results[\"filename\"])):\n",
    "    print('Calculating image no ' + str(image+1) + ' out of' + str(len(results[\"filename\"])))\n",
    "    \n",
    "    #read spots masks and label\n",
    "    ecm_mask=results[\"Manual ECM spots mask\"][image]\n",
    "    if len(ecm_mask.shape)==0:\n",
    "        ecm_mask=np.zeros(ecm_image.shape).astype(bool)\n",
    "    endosome_mask=results[\"Manual endosome spots mask\"][image]\n",
    "    if len(endosome_mask.shape)==0:\n",
    "        endosome_mask=np.zeros(endosome_image.shape).astype(bool)\n",
    "    #rotated ecm mask\n",
    "    rot_ecm_mask=deepcopy(ecm_mask)\n",
    "    rot_ecm_mask=np.flip(rot_ecm_mask)#np.rot90(rot_ecm_mask)\n",
    "    labeled_ecm=label(ecm_mask)\n",
    "    rot_labeled_ecm=label(rot_ecm_mask)\n",
    "    labeled_endosome=label(endosome_mask)\n",
    "    #regionprops for labeled masks\n",
    "    if np.sum(ecm_mask>0) & np.sum(endosome_mask>0):\n",
    "        regionprops_ecm=regionprops(labeled_ecm)\n",
    "        regionprops_endosome=regionprops(labeled_endosome)\n",
    "        rot_regionprops_ecm=regionprops(rot_labeled_ecm) \n",
    "        ecm_spots_results=[]\n",
    "        rot_ecm_spots_results=[]\n",
    "        endosome_spots_results=[]\n",
    "        for i in range(0,len(regionprops_ecm)):\n",
    "            ecm_spots_results.append(regionprops_ecm[i]['centroid'])\n",
    "        for i in range(0,len(rot_regionprops_ecm)):\n",
    "            rot_ecm_spots_results.append(rot_regionprops_ecm[i]['centroid'])\n",
    "        for i in range(0,len(regionprops_endosome)):\n",
    "            endosome_spots_results.append(regionprops_endosome[i]['coords'])\n",
    "        #minimum distance between spots\n",
    "        distances=[]\n",
    "        rot_distances=[]\n",
    "        for blob in range(0,len(endosome_spots_results)):\n",
    "            distances.append(scipy.spatial.distance.cdist\n",
    "                             (np.round(ecm_spots_results),endosome_spots_results[blob],'euclidean'))\n",
    "            rot_distances.append(scipy.spatial.distance.cdist\n",
    "                             (np.round(rot_ecm_spots_results),endosome_spots_results[blob],'euclidean'))\n",
    "        #make array of min distance from each ecm centroid\n",
    "        ecm_min_distances_array=np.amin(distances[0],1,keepdims=True)\n",
    "        for blob in range(1,len(endosome_spots_results)):\n",
    "            newmins=np.amin(distances[blob],1,keepdims=True)\n",
    "            concat=np.concatenate([deepcopy(ecm_min_distances_array),newmins],1)\n",
    "            ecm_min_distances_array=np.amin(deepcopy(concat),1,keepdims=True)\n",
    "        rot_ecm_min_distances_array=np.amin(rot_distances[0],1,keepdims=True)\n",
    "        for blob in range(1,len(endosome_spots_results)):\n",
    "            newmins=np.amin(rot_distances[blob],1,keepdims=True)\n",
    "            concat=np.concatenate([deepcopy(rot_ecm_min_distances_array),newmins],1)\n",
    "            rot_ecm_min_distances_array=np.amin(deepcopy(concat),1,keepdims=True)\n",
    "\n",
    "        ecm_image_results[\"filename\"].append(results[\"filename\"][image])\n",
    "        ecm_image_results[\"exp condition\"].append(results[\"exp condition\"][image])\n",
    "        ecm_image_results[\"distances to nearest endosome boundary\"].append(ecm_min_distances_array)\n",
    "        ecm_image_results[\"rotated - distances to nearest endosome boundary\"].append(rot_ecm_min_distances_array)\n",
    "        ecm_image_results[\"distances to nearest endosome boundary [nms]\"].append(ecm_min_distances_array*40.4)\n",
    "        ecm_image_results[\"rotated - distances to nearest endosome boundary [nms]\"].append(rot_ecm_min_distances_array*40.4)\n",
    "        ecm_image_results[\"min distance to nearest endosome boundary for whole image\"].append(np.min(ecm_min_distances_array))\n",
    "        ecm_image_results[\"min distance to nearest endosome boundary for whole image [nms]\"].append(np.min(ecm_min_distances_array)*40.4)\n",
    "        ecm_image_results[\"rotated - min distance to nearest endosome boundary for whole image\"].append(np.min(rot_ecm_min_distances_array))\n",
    "        ecm_image_results[\"rotated - min distance to nearest endosome boundary for whole image [nms]\"].append(np.min(rot_ecm_min_distances_array)*40.4)\n",
    "        \n",
    "df_ecm=pd.DataFrame(ecm_image_results)\n",
    "df_ecm['Protein']='None'\n",
    "df_ecm.loc[(df_ecm['exp condition'].str.contains('nt'))&(df_ecm['exp condition'].str.contains('12')), 'Protein'] = 'Int1b, all TNR Blk+12, stripped'\n",
    "df_ecm.loc[(df_ecm['exp condition'].str.contains('nt'))&(df_ecm['exp condition'].str.contains('surface')), 'Protein'] = 'Int1b Blk/TNR Blk, +0, surface'\n",
    "df_ecm.loc[df_ecm['exp condition'].str.contains('tgn'), 'Protein'] = 'TGN38/ TNR Blk, +12'\n",
    "df_ecm.loc[df_ecm['exp condition'].str.contains('rab11'), 'Protein'] = 'Rab11a/ TNR Blk, +12'\n",
    "df_ecm.loc[df_ecm['exp condition'].str.contains('cav'), 'Protein'] = 'Cav1/ TNR Blk'\n",
    "df_ecm.loc[df_ecm['exp condition'].str.contains('negctrl'), 'Protein'] = 'Neg ctrl vAchT'\n",
    "df_ecm.loc[df_ecm['exp condition'].str.contains('positivecontrol'), 'Protein'] = 'Pos ctrl 2 secondaries'\n",
    "df_ecm.loc[df_ecm['exp condition'].str.contains('rab7'), 'Protein'] = 'Rab7/ TNR Blk, +12'\n",
    "df_ecm.loc[df_ecm['exp condition'].str.contains('rab5'), 'Protein'] = 'Rab5/ TNR Blk, +12'\n",
    "df_ecm.loc[df_ecm['exp condition'].str.contains('lamp'), 'Protein'] = 'lamp1/ TNR Blk, +12'\n",
    "\n",
    "spots_list={\"filename\":[],\"expname\":[],\"Protein\":[],\"distance to nearest endosome boundary [nms]\":[],\n",
    "            \"rotated - distance to nearest endosome boundary [nms]\":[]}\n",
    "\n",
    "for i in range(0,len(df_ecm)):\n",
    "    nospots=len(df_ecm[\"distances to nearest endosome boundary [nms]\"][i])\n",
    "    protein=df_ecm[\"Protein\"][i]\n",
    "    file=df_ecm[\"filename\"][i]\n",
    "    exp=df_ecm[\"exp condition\"][i]\n",
    "    for spot in range(0,nospots):\n",
    "        spots_list[\"filename\"].append(file)\n",
    "        spots_list[\"expname\"].append(exp)\n",
    "        spots_list[\"Protein\"].append(protein)\n",
    "        spots_list[\"distance to nearest endosome boundary [nms]\"].append(\n",
    "            df_ecm[\"distances to nearest endosome boundary [nms]\"][i][spot][0])\n",
    "        spots_list[\"rotated - distance to nearest endosome boundary [nms]\"].append(\n",
    "            df_ecm[\"rotated - distances to nearest endosome boundary [nms]\"][i][spot][0])\n",
    "        \n",
    "dfspots=pd.DataFrame(spots_list)\n",
    "\n",
    "#spots dictionary\n",
    "exps_under={\"proteinl\":[],\"percentunderl\":[],\"expname\":[]}\n",
    "              \n",
    "nanometers=200\n",
    "\n",
    "for exp in dfspots[\"expname\"].unique():\n",
    "    dfexp=dfspots[dfspots[\"expname\"]==exp].reset_index()\n",
    "    for protein in dfexp[\"Protein\"].unique():\n",
    "        df2plot=dfexp[dfexp[\"Protein\"]==protein]\n",
    "        exps_under[\"expname\"].append(exp)\n",
    "        exps_under[\"percentunderl\"].append(np.sum(df2plot[\"distance to nearest endosome boundary [nms]\"]<nanometers)/len(df2plot[\"distance to nearest endosome boundary [nms]\"])*100)\n",
    "        exps_under[\"proteinl\"].append(protein)\n",
    "        #exps_under[\"percentunderl\"].append(percent_under*100)\n",
    "\n",
    "dfexps_under=pd.DataFrame(exps_under)\n",
    "dfexps_under\n"
   ]
  },
  {
   "cell_type": "code",
   "execution_count": 201,
   "metadata": {},
   "outputs": [
    {
     "data": {
      "text/plain": [
       "['/Volumes/ukps-all$/user/tdanko/Imaging/1_ECM/Fixed culture/Leica confocal/20190612_tnr550_blkplus12_tgn38acy2_analyse/20190612_tnr550_blkplus12_tgn38acy2_analyse/20190612_tnr550_blkplus12_tgn38acy2_Series8_z',\n",
       " '/Volumes/ukps-all$/user/tdanko/Imaging/1_ECM/Fixed culture/Leica confocal/20190612_tnr550_blkplus12_tgn38acy2_analyse/20190612_tnr550_blkplus12_tgn38acy2_analyse/20190612_tnr550_blkplus12_tgn38acy2_Series9_z',\n",
       " '/Volumes/ukps-all$/user/tdanko/Imaging/1_ECM/Fixed culture/Leica confocal/20190612_tnr550_blkplus12_tgn38acy2_analyse/20190612_tnr550_blkplus12_tgn38acy2_analyse/20190612_tnr550_blkplus12_tgn38acy2_Series0_z',\n",
       " '/Volumes/ukps-all$/user/tdanko/Imaging/1_ECM/Fixed culture/Leica confocal/20190612_tnr550_blkplus12_tgn38acy2_analyse/20190612_tnr550_blkplus12_tgn38acy2_analyse/20190612_tnr550_blkplus12_tgn38acy2_Series1_z',\n",
       " '/Volumes/ukps-all$/user/tdanko/Imaging/1_ECM/Fixed culture/Leica confocal/20190612_tnr550_blkplus12_tgn38acy2_analyse/20190612_tnr550_blkplus12_tgn38acy2_analyse/20190612_tnr550_blkplus12_tgn38acy2_Series2_z',\n",
       " '/Volumes/ukps-all$/user/tdanko/Imaging/1_ECM/Fixed culture/Leica confocal/20190612_tnr550_blkplus12_tgn38acy2_analyse/20190612_tnr550_blkplus12_tgn38acy2_analyse/20190612_tnr550_blkplus12_tgn38acy2_Series3_z',\n",
       " '/Volumes/ukps-all$/user/tdanko/Imaging/1_ECM/Fixed culture/Leica confocal/20190612_tnr550_blkplus12_tgn38acy2_analyse/20190612_tnr550_blkplus12_tgn38acy2_analyse/20190612_tnr550_blkplus12_tgn38acy2_Series4_z',\n",
       " '/Volumes/ukps-all$/user/tdanko/Imaging/1_ECM/Fixed culture/Leica confocal/20190612_tnr550_blkplus12_tgn38acy2_analyse/20190612_tnr550_blkplus12_tgn38acy2_analyse/20190612_tnr550_blkplus12_tgn38acy2_Series5_z',\n",
       " '/Volumes/ukps-all$/user/tdanko/Imaging/1_ECM/Fixed culture/Leica confocal/20190612_tnr550_blkplus12_tgn38acy2_analyse/20190612_tnr550_blkplus12_tgn38acy2_analyse/20190612_tnr550_blkplus12_tgn38acy2_Series6_z',\n",
       " '/Volumes/ukps-all$/user/tdanko/Imaging/1_ECM/Fixed culture/Leica confocal/20190612_tnr550_blkplus12_tgn38acy2_analyse/20190612_tnr550_blkplus12_tgn38acy2_analyse/20190612_tnr550_blkplus12_tgn38acy2_Series7_z']"
      ]
     },
     "execution_count": 201,
     "metadata": {},
     "output_type": "execute_result"
    }
   ],
   "source": [
    "results[\"filename\"]"
   ]
  },
  {
   "cell_type": "code",
   "execution_count": null,
   "metadata": {},
   "outputs": [],
   "source": []
  }
 ],
 "metadata": {
  "kernelspec": {
   "display_name": "Python 3",
   "language": "python",
   "name": "python3"
  },
  "language_info": {
   "codemirror_mode": {
    "name": "ipython",
    "version": 3
   },
   "file_extension": ".py",
   "mimetype": "text/x-python",
   "name": "python",
   "nbconvert_exporter": "python",
   "pygments_lexer": "ipython3",
   "version": "3.7.1"
  }
 },
 "nbformat": 4,
 "nbformat_minor": 2
}
