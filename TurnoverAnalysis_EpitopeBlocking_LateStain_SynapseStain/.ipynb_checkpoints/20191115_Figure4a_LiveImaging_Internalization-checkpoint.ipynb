{
 "cells": [
  {
   "cell_type": "markdown",
   "metadata": {},
   "source": [
    "## Import modules and functions"
   ]
  },
  {
   "cell_type": "code",
   "execution_count": 1,
   "metadata": {},
   "outputs": [],
   "source": [
    "import numpy as np\n",
    "import os\n",
    "from nd2reader import ND2Reader\n",
    "import matplotlib.pyplot as plt\n",
    "import matplotlib.cm as cm\n",
    "from matplotlib_scalebar.scalebar import ScaleBar\n",
    "import scipy.ndimage as ndi\n",
    "from skimage.filters import rank \n",
    "from scipy.signal import butter, lfilter\n",
    "import scipy.misc as misc\n",
    "from skimage import exposure\n",
    "from PIL import Image\n",
    "import colorcet as cc\n",
    "from scipy.misc import toimage\n",
    "import matplotlib.colors as clr\n",
    "import pandas as pd\n",
    "import seaborn as sns\n",
    "from scipy import stats\n",
    "import cv2\n",
    "from pyspark import SparkContext, SparkConf\n",
    "import skimage\n",
    "from pathlib import Path\n",
    "\n",
    "def mean2(x):\n",
    "    y = np.sum(x) / np.size(x);\n",
    "    return y\n",
    "def corr2(a,b):\n",
    "    a = a - mean2(a)\n",
    "    b = b - mean2(b)\n",
    "\n",
    "    r = (a*b).sum() / np.sqrt((a*a).sum() * (b*b).sum());\n",
    "    return r\n",
    "from copy import deepcopy\n",
    "from skimage.filters import threshold_otsu,threshold_li\n",
    "import glob\n",
    "from IPython.display import clear_output\n",
    "import scipy.io as spio\n",
    "import pims\n",
    "sns.set(font_scale=2.5)\n",
    "sns.set(font=\"Arial\")\n",
    "sns.set_style(\"white\")\n",
    "sns.set_palette(\"Set2\")\n",
    "from matplotlib import rc\n",
    "\n",
    "rc('text', usetex=False)"
   ]
  },
  {
   "cell_type": "markdown",
   "metadata": {},
   "source": [
    "## Specify experiment directory"
   ]
  },
  {
   "cell_type": "code",
   "execution_count": 3,
   "metadata": {},
   "outputs": [],
   "source": [
    "expdir='/Volumes/ukps-all$/user/tdanko/Imaging/1_ECM/Live Culture/Nikon_liveON/' #master folder"
   ]
  },
  {
   "cell_type": "markdown",
   "metadata": {},
   "source": [
    "## Make dictionary for storing results and load images"
   ]
  },
  {
   "cell_type": "code",
   "execution_count": 4,
   "metadata": {},
   "outputs": [],
   "source": [
    "results = {\"path\":[],\n",
    "           \"expname\":[],\n",
    "           \"exp_date\":[],\n",
    "           \"cell_no\":[],\n",
    "           \"exp_condition\":[],\n",
    "           \"timepoint\":[],\n",
    "           \"soma_masked_image\":[],\n",
    "           \"values_under_soma_mask\":[],\n",
    "           \"background from full images\":[],\n",
    "          \"values_soma_after_bg_subtraction\":[]}\n",
    "\n",
    "path = os.path.dirname(expdir)  \n",
    "filelist = []\n",
    "for root, _, filenames in os.walk(path):\n",
    "     for filename in filenames:\n",
    "         filelist.append(os.path.join(root, filename))      \n",
    "for i in range(0,len(filelist)):\n",
    "    if \"Analyze\" in str(filelist[i]):\n",
    "        if (\"bg_value\" in str(filelist[i]))==True:\n",
    "            if (\"linescan\" in str(filelist[i]))==False:\n",
    "                if filelist[i].endswith(\".mat\"): \n",
    "                    results[\"path\"].append(filelist[i])\n",
    "                    results[\"expname\"].append(filelist[i].split('/')[-2])\n",
    "                    results[\"exp_date\"].append(filelist[i].split('/')[-2][0:6])\n",
    "                    results[\"cell_no\"].append(filelist[i].split('/')[-1][-14:-13])\n",
    "                    if (\"Blocked_plus4hrs\" in str(filelist[i]))==True:\n",
    "                        results[\"exp_condition\"].append(\"Blocked\")\n",
    "                    elif (\"All_epitopes\" in str(filelist[i]))==True:\n",
    "                        results[\"exp_condition\"].append(\"Unblocked\")\n",
    "\n",
    "                    results[\"timepoint\"].append(filelist[i].split('/')[-1][-21:-20])\n",
    "\n",
    "                    #soma\n",
    "                    firstpart=filelist[i][:-12]\n",
    "                    file2read=firstpart+'maskedimage.mat'\n",
    "                    results[\"soma_masked_image\"].append(np.asarray(spio.loadmat(file2read)[\"masked_image\"]))\n",
    "                    file2read=firstpart+'image_under_mask.mat'\n",
    "                    results[\"values_under_soma_mask\"].append(np.asarray(spio.loadmat(file2read)[\"undermask\"]))\n",
    "                    results[\"background from full images\"].append(np.asarray(spio.loadmat(filelist[i])[\"bg\"]))\n",
    "                    #soma - bg\n",
    "                    rawvalues=np.asarray(spio.loadmat(file2read)[\"undermask\"])\n",
    "                    bg=np.asarray(spio.loadmat(filelist[i])[\"bg\"])\n",
    "                    bgsubtracted=rawvalues-bg\n",
    "                    bgsubtracted[bgsubtracted<0]=0\n",
    "                    results[\"values_soma_after_bg_subtraction\"].append(bgsubtracted)"
   ]
  },
  {
   "cell_type": "markdown",
   "metadata": {},
   "source": [
    "## Make a dataframe of the results"
   ]
  },
  {
   "cell_type": "code",
   "execution_count": 7,
   "metadata": {},
   "outputs": [],
   "source": [
    "df=pd.DataFrame(results)\n",
    "df['timepoint']=df['timepoint'].apply(int)\n",
    "df['cell_no']=df['cell_no'].apply(int)\n",
    "df[\"soma mean intensity after bg subtract\"]=[np.mean(x) for x in df[\"values_soma_after_bg_subtraction\"]]\n",
    "df[\"soma mean intensity\"]=[np.mean(x) for x in df[\"values_under_soma_mask\"]]"
   ]
  },
  {
   "cell_type": "markdown",
   "metadata": {},
   "source": [
    "## Normalize the values to the first timepoint"
   ]
  },
  {
   "cell_type": "code",
   "execution_count": 8,
   "metadata": {},
   "outputs": [],
   "source": [
    "#normalized values (divided by first time point)\n",
    "df[\"normd soma mean intensity after bg subtract\"]=df[\"soma mean intensity after bg subtract\"]\n",
    "df[\"normd soma mean intensity\"]=df[\"soma mean intensity\"]\n",
    "for exp in df[\"expname\"].unique():\n",
    "    for cell in df[df[\"expname\"]==exp][\"cell_no\"].unique(): \n",
    "        firsttimepoint=df[(df[\"expname\"]==exp)&(df[\"timepoint\"]==1)&(df[\"cell_no\"]==cell)][\"soma mean intensity after bg subtract\"]\n",
    "        df.loc[(df[\"expname\"]==exp)&(df[\"cell_no\"]==cell),\"normd soma mean intensity after bg subtract\"]=df[(df[\"expname\"]==exp)&(df[\"cell_no\"]==cell)][\"normd soma mean intensity after bg subtract\"]/firsttimepoint.values[0]\n",
    "        \n",
    "        firsttimepoint=df[(df[\"expname\"]==exp)&(df[\"timepoint\"]==1)&(df[\"cell_no\"]==cell)][\"soma mean intensity\"]\n",
    "        df.loc[(df[\"expname\"]==exp)&(df[\"cell_no\"]==cell),\"normd soma mean intensity\"]=df[(df[\"expname\"]==exp)&(df[\"cell_no\"]==cell)][\"normd soma mean intensity\"]/firsttimepoint.values[0]"
   ]
  },
  {
   "cell_type": "markdown",
   "metadata": {},
   "source": [
    "## Make dataframes for blocked and unblocked, means of individual experiments"
   ]
  },
  {
   "cell_type": "code",
   "execution_count": 12,
   "metadata": {},
   "outputs": [
    {
     "name": "stderr",
     "output_type": "stream",
     "text": [
      "/Users/taldankovich/anaconda3/lib/python3.7/site-packages/ipykernel_launcher.py:16: RuntimeWarning: Mean of empty slice.\n",
      "  app.launch_new_instance()\n"
     ]
    }
   ],
   "source": [
    "expsblocked={\"blockedmean\":[],\"blockedtimepoint\":[],\"blockedexpname\":[]}\n",
    "expsunblocked={\"unblockedmean\":[],\"unblockedtimepoint\":[],\"unblockedexpname\":[]}\n",
    "for exp in df[\"expname\"].unique():\n",
    "    dfexp=df[df[\"expname\"]==exp]\n",
    "    if dfexp[\"exp_condition\"].unique()[0]==\"Blocked\":        \n",
    "        for time in range(1,9):\n",
    "            expsblocked[\"blockedexpname\"].append(exp)\n",
    "            dftime=dfexp[dfexp[\"timepoint\"]==time]\n",
    "            expsblocked[\"blockedtimepoint\"].append(time)\n",
    "            expsblocked[\"blockedmean\"].append(dftime[\"normd soma mean intensity after bg subtract\"].values.mean())\n",
    "    if dfexp[\"exp_condition\"].unique()[0]==\"Unblocked\":        \n",
    "        for time in range(1,9):\n",
    "            expsunblocked[\"unblockedexpname\"].append(exp)\n",
    "            dftime=dfexp[dfexp[\"timepoint\"]==time]\n",
    "            expsunblocked[\"unblockedtimepoint\"].append(time)\n",
    "            expsunblocked[\"unblockedmean\"].append(dftime[\"normd soma mean intensity after bg subtract\"].values.mean())\n",
    "dfblocked=pd.DataFrame(expsblocked)\n",
    "dfunblocked=pd.DataFrame(expsunblocked)\n",
    "dfblocked.loc[dfblocked[\"blockedtimepoint\"]==1,\"blockedtimepoint\"]=0\n",
    "dfunblocked.loc[dfunblocked[\"unblockedtimepoint\"]==1,\"unblockedtimepoint\"]=0"
   ]
  },
  {
   "cell_type": "markdown",
   "metadata": {},
   "source": [
    "## Number of cells in each experiment"
   ]
  },
  {
   "cell_type": "code",
   "execution_count": 29,
   "metadata": {},
   "outputs": [
    {
     "name": "stdout",
     "output_type": "stream",
     "text": [
      "20190304_tnrunblocked\n",
      "no. cells: 2\n",
      "190224_ON_tnr550_notblocked\n",
      "no. cells: 1\n",
      "20190227_tnrunblocked550phenolredON\n",
      "no. cells: 4\n",
      "20190301_tnrunblockedON_phenolred\n",
      "no. cells: 1\n",
      "20190311_TNR550unblocked\n",
      "no. cells: 2\n"
     ]
    }
   ],
   "source": [
    "dfi=df[df[\"exp_condition\"]==\"Unblocked\"]\n",
    "for exp in dfi[\"expname\"].unique():\n",
    "    dfmeasure=dfi[dfi[\"expname\"]==exp]\n",
    "    print(exp)\n",
    "    print('no. cells: '+str(len(dfmeasure[\"cell_no\"].unique())))"
   ]
  },
  {
   "cell_type": "code",
   "execution_count": 30,
   "metadata": {},
   "outputs": [
    {
     "name": "stdout",
     "output_type": "stream",
     "text": [
      "20190303_tnrblockedplus4_ON\n",
      "no. cells: 1\n",
      "20190302_tnrblockedplus4_ON\n",
      "no. cells: 4\n",
      "190217_Trial3_100xLiveTNR580syt488_postblocking_4hrs\n",
      "no. cells: 3\n",
      "20190228_tnrblocked4hrON_phenolred\n",
      "no. cells: 1\n",
      "20190313_TNR550blocked\n",
      "no. cells: 2\n"
     ]
    }
   ],
   "source": [
    "dfi=df[df[\"exp_condition\"]==\"Blocked\"]\n",
    "for exp in dfi[\"expname\"].unique():\n",
    "    dfmeasure=dfi[dfi[\"expname\"]==exp]\n",
    "    print(exp)\n",
    "    print('no. cells: '+str(len(dfmeasure[\"cell_no\"].unique())))"
   ]
  },
  {
   "cell_type": "markdown",
   "metadata": {},
   "source": [
    "## ttest at 4 hours"
   ]
  },
  {
   "cell_type": "code",
   "execution_count": 31,
   "metadata": {},
   "outputs": [
    {
     "name": "stdout",
     "output_type": "stream",
     "text": [
      "0.04232395190214306\n"
     ]
    }
   ],
   "source": [
    "control=dfunblocked[dfunblocked[\"unblockedtimepoint\"]==4][\"unblockedmean\"].values\n",
    "Blocked=dfblocked[dfblocked[\"blockedtimepoint\"]==4][\"blockedmean\"].values\n",
    "[stat,pval]=stats.ttest_ind(control, Blocked)\n",
    "print(pval)"
   ]
  },
  {
   "cell_type": "markdown",
   "metadata": {},
   "source": [
    "## Plot"
   ]
  },
  {
   "cell_type": "code",
   "execution_count": 33,
   "metadata": {},
   "outputs": [
    {
     "data": {
      "image/png": "[encoded data removed]",
      "text/plain": [
       "<Figure size 720x432 with 1 Axes>"
      ]
     },
     "metadata": {},
     "output_type": "display_data"
    }
   ],
   "source": [
    "sns.set(font_scale=2.5)\n",
    "sns.set_style(\"ticks\")\n",
    "sns.set_palette(\"Set2\")\n",
    "plt.rcParams['font.sans-serif'] = 'Helvetica'\n",
    "\n",
    "var=\"blockedmean\"\n",
    "var2=\"unblockedmean\"\n",
    "\n",
    "fig=plt.figure(figsize=(10,6))\n",
    "g=sns.lineplot(x=\"blockedtimepoint\", y=\"blockedmean\", data=dfblocked,linewidth=6,color=\"#2F67F8\",ci=None);\n",
    "g=sns.lineplot(x=\"unblockedtimepoint\", y=\"unblockedmean\", data=dfunblocked,linewidth=6,color='grey',ci=None);\n",
    "\n",
    "g.errorbar(x=[1,2,3,4,5,6,7,8],\n",
    "             y=[dfblocked[dfblocked[\"blockedtimepoint\"]==1][var].mean(),\n",
    "                dfblocked[dfblocked[\"blockedtimepoint\"]==2][var].mean(),\n",
    "                dfblocked[dfblocked[\"blockedtimepoint\"]==3][var].mean(),\n",
    "                dfblocked[dfblocked[\"blockedtimepoint\"]==4][var].mean(),\n",
    "                dfblocked[dfblocked[\"blockedtimepoint\"]==5][var].mean(),\n",
    "                dfblocked[dfblocked[\"blockedtimepoint\"]==6][var].mean(),\n",
    "                dfblocked[dfblocked[\"blockedtimepoint\"]==7][var].mean(),\n",
    "                dfblocked[dfblocked[\"blockedtimepoint\"]==8][var].mean()],\n",
    "             yerr=[dfblocked[dfblocked[\"blockedtimepoint\"]==1][var].sem(),\n",
    "                dfblocked[dfblocked[\"blockedtimepoint\"]==2][var].sem(),\n",
    "                dfblocked[dfblocked[\"blockedtimepoint\"]==3][var].sem(),\n",
    "                dfblocked[dfblocked[\"blockedtimepoint\"]==4][var].sem(),\n",
    "                dfblocked[dfblocked[\"blockedtimepoint\"]==5][var].sem(),\n",
    "                dfblocked[dfblocked[\"blockedtimepoint\"]==6][var].sem(),\n",
    "                dfblocked[dfblocked[\"blockedtimepoint\"]==7][var].sem(),\n",
    "                dfblocked[dfblocked[\"blockedtimepoint\"]==8][var].sem()],\n",
    "             xerr=None,ecolor=\"#2F67F8\",fmt='none',capsize=10,linewidth=4,capthick=4)\n",
    "\n",
    "g.errorbar(x=[1,2,3,4,5,6,7,8],\n",
    "             y=[dfunblocked[dfunblocked[\"unblockedtimepoint\"]==1][var2].mean(),\n",
    "                dfunblocked[dfunblocked[\"unblockedtimepoint\"]==2][var2].mean(),\n",
    "                dfunblocked[dfunblocked[\"unblockedtimepoint\"]==3][var2].mean(),\n",
    "                dfunblocked[dfunblocked[\"unblockedtimepoint\"]==4][var2].mean(),\n",
    "                dfunblocked[dfunblocked[\"unblockedtimepoint\"]==5][var2].mean(),\n",
    "                dfunblocked[dfunblocked[\"unblockedtimepoint\"]==6][var2].mean(),\n",
    "                dfunblocked[dfunblocked[\"unblockedtimepoint\"]==7][var2].mean(),\n",
    "                dfunblocked[dfunblocked[\"unblockedtimepoint\"]==8][var2].mean()],\n",
    "             yerr=[dfunblocked[dfunblocked[\"unblockedtimepoint\"]==1][var2].sem(),\n",
    "                dfunblocked[dfunblocked[\"unblockedtimepoint\"]==2][var2].sem(),\n",
    "                dfunblocked[dfunblocked[\"unblockedtimepoint\"]==3][var2].sem(),\n",
    "                dfunblocked[dfunblocked[\"unblockedtimepoint\"]==4][var2].sem(),\n",
    "                dfunblocked[dfunblocked[\"unblockedtimepoint\"]==5][var2].sem(),\n",
    "                dfunblocked[dfunblocked[\"unblockedtimepoint\"]==6][var2].sem(),\n",
    "                dfunblocked[dfunblocked[\"unblockedtimepoint\"]==7][var2].sem(),\n",
    "                dfunblocked[dfunblocked[\"unblockedtimepoint\"]==8][var2].sem()],\n",
    "             xerr=None,ecolor='grey',fmt='none',capsize=10,linewidth=4,capthick=4)\n",
    "col='k'\n",
    "y=10\n",
    "h=0\n",
    "x1,x2=3,5\n",
    "if pval<0.001:\n",
    "    plt.text((x1+x2)*.5, y+h, \"***\", ha='center', va='bottom', color=col,size=24, weight='bold')\n",
    "elif pval<0.01:\n",
    "    plt.text((x1+x2)*.5, y+h, \"**\", ha='center', va='bottom', color=col,size=24, weight='bold')\n",
    "elif pval<0.05:\n",
    "    plt.text((x1+x2)*.5, y+h, \"*\", ha='center', va='bottom', color=col,size=30, weight='bold')\n",
    "\n",
    "#formatting\n",
    "plt.title('')\n",
    "plt.locator_params(axis='y', nbins=5)\n",
    "g.spines['right'].set_visible(False)\n",
    "g.spines['top'].set_visible(False)\n",
    "g.spines['bottom'].set_linewidth(3)\n",
    "g.spines['left'].set_linewidth(3)\n",
    "plt.xticks(size = 24,color='#333333')\n",
    "g.xaxis.set_tick_params(width=4)\n",
    "g.yaxis.set_tick_params(width=4)\n",
    "for axis in ['top','bottom','left','right']:\n",
    "  g.spines[axis].set_linewidth(4)\n",
    "  g.spines[axis].set_color('#333333')\n",
    "  g.spines[axis].set_alpha(1)\n",
    "g.set_ylabel('',size=24,labelpad=5,color='#333333')\n",
    "g.set_xlabel('Time [h]',size=24,labelpad=5,color='#333333')\n",
    "g.grid(False)\n",
    "plt.xlim([0,8.2])\n",
    "plt.ylim([0,15])\n",
    "plt.yticks([1,5,10,15],size = 24,color='#333333')\n",
    "plt.xticks([0,2,4,6,8],size = 24,color='#333333')\n",
    "\n",
    "\n",
    "plt.legend(['New epitopes','All epitopes'],fontsize=24)\n",
    "plt.tight_layout()\n",
    "\n",
    "diri=\"/Volumes/Macintosh HD/Users/taldankovich/Downloads/figures/\"\n",
    "fig.savefig(diri+'figure4a_endocytosis_nikon.svg', bbox_inches='tight', format='svg')"
   ]
  }
 ],
 "metadata": {
  "kernelspec": {
   "display_name": "Python 3",
   "language": "python",
   "name": "python3"
  },
  "language_info": {
   "codemirror_mode": {
    "name": "ipython",
    "version": 3
   },
   "file_extension": ".py",
   "mimetype": "text/x-python",
   "name": "python",
   "nbconvert_exporter": "python",
   "pygments_lexer": "ipython3",
   "version": "3.7.1"
  }
 },
 "nbformat": 4,
 "nbformat_minor": 2
}
