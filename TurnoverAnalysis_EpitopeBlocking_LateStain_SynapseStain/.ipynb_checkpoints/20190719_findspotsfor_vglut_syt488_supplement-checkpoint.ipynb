{
 "cells": [
  {
   "cell_type": "code",
   "execution_count": 6,
   "metadata": {},
   "outputs": [],
   "source": [
    "import numpy as np\n",
    "import os\n",
    "from nd2reader import ND2Reader\n",
    "import matplotlib.pyplot as plt\n",
    "import matplotlib.cm as cm\n",
    "from matplotlib_scalebar.scalebar import ScaleBar\n",
    "import scipy.ndimage as ndi\n",
    "from skimage.filters import rank \n",
    "from scipy.signal import butter, lfilter\n",
    "import scipy.misc as misc\n",
    "from skimage import exposure\n",
    "from PIL import Image\n",
    "import colorcet as cc\n",
    "from scipy.misc import toimage\n",
    "import matplotlib.colors as clr\n",
    "import pandas as pd\n",
    "import seaborn as sns\n",
    "from scipy import stats\n",
    "import cv2\n",
    "from pyspark import SparkContext, SparkConf\n",
    "import skimage\n",
    "from pathlib import Path\n",
    "\n",
    "def mean2(x):\n",
    "    y = np.sum(x) / np.size(x);\n",
    "    return y\n",
    "def corr2(a,b):\n",
    "    a = a - mean2(a)\n",
    "    b = b - mean2(b)\n",
    "\n",
    "    r = (a*b).sum() / np.sqrt((a*a).sum() * (b*b).sum());\n",
    "    return r\n",
    "from copy import deepcopy\n",
    "from skimage.filters import threshold_otsu,threshold_li\n",
    "import glob\n",
    "from IPython.display import clear_output\n",
    "import scipy.io as spio\n",
    "import pims\n",
    "from skimage.measure import label, regionprops\n",
    "from skimage.color import label2rgb\n",
    "import scipy"
   ]
  },
  {
   "cell_type": "code",
   "execution_count": 7,
   "metadata": {},
   "outputs": [],
   "source": [
    "expdir='/Volumes/ukps-all$/user/tdanko/Imaging/1_ECM/Fixed Culture/STEDBIN/20190703_syt488_vglut635P_tnr580/'\n",
    "protein=\"TNR\" #TNR,Agg,WFA,HABP"
   ]
  },
  {
   "cell_type": "code",
   "execution_count": 8,
   "metadata": {},
   "outputs": [],
   "source": [
    "results = {\"filename\":[],\n",
    "          \"exp condition\":[],\n",
    "          \"ecmchannelno\":[],\n",
    "          \"sytchannelno\":[],\n",
    "           \"vglutchannelno\":[],\n",
    "           \"Manual vglut spots mask\":[],\n",
    "           \"Manual syt1 spots mask\":[],\n",
    "          }\n",
    "           \n",
    "path = os.path.dirname(expdir)  \n",
    "outputFolder = os.path.dirname(expdir + \"/new/\")\n",
    "filelist = []\n",
    "for root, _, filenames in os.walk(path):\n",
    "     for filename in filenames:\n",
    "         filelist.append(os.path.join(root, filename))      \n",
    "for i in range(0,len(filelist)):\n",
    "    #if \"_analyse\" in str(filelist[i]):\n",
    "        #print(1)\n",
    "        if \"2019\" in str(filelist[i]):\n",
    "            #print(2)\n",
    "            if (\"Pop\" in str(filelist[i]))==False:\n",
    "                #print(3)\n",
    "                if (\"save\" in str(filelist[i]))==False:\n",
    "                    #print(4)\n",
    "                    if (\"spot\" in str(filelist[i]))==False:\n",
    "                        if (\"TIFs_analyse copy\" in str(filelist[i]))==False:\n",
    "                            #if (\"samecell\" in str(filelist[i]))==False:\n",
    "                            \n",
    "                            #print(5)\n",
    "                                if filelist[i].endswith(\".tif\"): \n",
    "                                #print(6)\n",
    "                                    if \"\\\\\" in str(filelist[i]):\n",
    "                                        #print(7)\n",
    "                                        if (('/').join(filelist[i].split('\\\\')[:-1])+'\\\\\\\\'+filelist[i][:-12].split('\\\\')[-1] in str(results[\"filename\"]))==False:\n",
    "                                            print(filelist[i])\n",
    "                                            results[\"filename\"].append(filelist[i][:-12])\n",
    "                                            results[\"exp condition\"].append(filelist[i][:-12].split('/')[-2])\n",
    "                                            results[\"sytchannelno\"].append(3)\n",
    "                                            results[\"ecmchannelno\"].append(2)\n",
    "                                            results[\"vglutchannelno\"].append(1)\n",
    "                                    elif (str(filelist[i][:-12]) not in str(results[\"filename\"]))==True:\n",
    "                                        #print(8)\n",
    "                                        results[\"filename\"].append(filelist[i][:-12])\n",
    "                                        results[\"exp condition\"].append(filelist[i][:-12].split('/')[-2])\n",
    "                                        results[\"sytchannelno\"].append(3)\n",
    "                                        results[\"ecmchannelno\"].append(2)\n",
    "                                        results[\"vglutchannelno\"].append(1)"
   ]
  },
  {
   "cell_type": "markdown",
   "metadata": {},
   "source": [
    "## Loading a random image"
   ]
  },
  {
   "cell_type": "code",
   "execution_count": 9,
   "metadata": {},
   "outputs": [
    {
     "name": "stdout",
     "output_type": "stream",
     "text": [
      "Image name: 7_ExpControl\n",
      "Experimental condition: TIF_imp\n"
     ]
    },
    {
     "data": {
      "text/plain": [
       "<matplotlib_scalebar.scalebar.ScaleBar at 0x126f77438>"
      ]
     },
     "execution_count": 9,
     "metadata": {},
     "output_type": "execute_result"
    },
    {
     "data": {
      "image/png": "[encoded data removed]",
      "text/plain": [
       "<Figure size 1080x1080 with 4 Axes>"
      ]
     },
     "metadata": {
      "needs_background": "light"
     },
     "output_type": "display_data"
    }
   ],
   "source": [
    "randomno=np.random.randint(1,len(results[\"filename\"]))\n",
    "ecm_channel_no=results[\"ecmchannelno\"][randomno]\n",
    "syt_channel_no=results[\"sytchannelno\"][randomno]\n",
    "vglut_channel_no=results[\"vglutchannelno\"][randomno]\n",
    "\n",
    "ecm_image_name=results[\"filename\"][randomno]+\" Ch\"+str(ecm_channel_no)+\" {0}.tif\"\n",
    "syt_image_name=results[\"filename\"][randomno]+\" Ch\"+str(syt_channel_no)+\" {0}.tif\"\n",
    "vglut_image_name=results[\"filename\"][randomno]+\" Ch\"+str(vglut_channel_no)+\" {0}.tif\"\n",
    "\n",
    "\n",
    "print(\"Image name:\",results[\"filename\"][randomno].split('/')[-1])\n",
    "print(\"Experimental condition:\",results[\"exp condition\"][randomno])\n",
    "ecm_image=pims.open(ecm_image_name)[0]\n",
    "syt_image=pims.open(syt_image_name)[0]\n",
    "vglut_image=pims.open(vglut_image_name)[0]\n",
    "#autofluorescence_image=pims.open(autofluorescence_image_name)[0]\n",
    "\n",
    "figure=plt.figure(figsize=(15,15))\n",
    "figure.add_subplot(141)\n",
    "plt.imshow(ecm_image,interpolation='none',cmap='hot')\n",
    "plt.title('ECM raw')\n",
    "plt.grid(visible=False)\n",
    "plt.xticks(visible=False)\n",
    "plt.yticks(visible=False)\n",
    "scalebar = ScaleBar(40, 'nm', dimension='si-length',box_alpha=0,location='lower right',length_fraction=0.2,\n",
    "                       font_properties={'size':16,'weight':'bold'},color='white',border_pad=0.5) # 1 pixel = 0.2 meter\n",
    "plt.gca().add_artist(scalebar)\n",
    "figure.add_subplot(142)\n",
    "plt.imshow(ecm_image,interpolation='none',cmap='hot',vmin=3*np.min(ecm_image),vmax=0.4*np.max(ecm_image))\n",
    "plt.title('ECM scaled')\n",
    "plt.grid(visible=False)\n",
    "plt.xticks(visible=False)\n",
    "plt.yticks(visible=False)\n",
    "scalebar = ScaleBar(40, 'nm', dimension='si-length',box_alpha=0,location='lower right',length_fraction=0.2,\n",
    "                       font_properties={'size':16,'weight':'bold'},color='white',border_pad=0.5) # 1 pixel = 0.2 meter\n",
    "    \n",
    "plt.gca().add_artist(scalebar)\n",
    "\n",
    "figure.add_subplot(143)\n",
    "plt.imshow(syt_image,interpolation='none',cmap='hot')\n",
    "plt.title('syt488 raw')\n",
    "plt.grid(visible=False)\n",
    "plt.xticks(visible=False)\n",
    "plt.yticks(visible=False)\n",
    "scalebar = ScaleBar(40, 'nm', dimension='si-length',box_alpha=0,location='lower right',length_fraction=0.2,\n",
    "                       font_properties={'size':16,'weight':'bold'},color='white',border_pad=0.5) # 1 pixel = 0.2 meter\n",
    "    \n",
    "plt.gca().add_artist(scalebar)\n",
    "\n",
    "plt.gca().add_artist(scalebar)\n",
    "\n",
    "figure.add_subplot(144)\n",
    "plt.imshow(vglut_image,interpolation='none',cmap='hot')\n",
    "plt.title('vglut raw')\n",
    "plt.grid(visible=False)\n",
    "plt.xticks(visible=False)\n",
    "plt.yticks(visible=False)\n",
    "scalebar = ScaleBar(40, 'nm', dimension='si-length',box_alpha=0,location='lower right',length_fraction=0.2,\n",
    "                       font_properties={'size':16,'weight':'bold'},color='white',border_pad=0.5) # 1 pixel = 0.2 meter\n",
    "    \n",
    "plt.gca().add_artist(scalebar)"
   ]
  },
  {
   "cell_type": "markdown",
   "metadata": {},
   "source": [
    "## Find spots"
   ]
  },
  {
   "cell_type": "markdown",
   "metadata": {},
   "source": [
    "### Manual"
   ]
  },
  {
   "cell_type": "code",
   "execution_count": 10,
   "metadata": {},
   "outputs": [],
   "source": [
    "#make empty masks\n",
    "for i in range(0,len(results[\"filename\"])):\n",
    "    results[\"Manual vglut spots mask\"].append(np.nan)\n",
    "    results[\"Manual syt1 spots mask\"].append(np.nan)"
   ]
  },
  {
   "cell_type": "markdown",
   "metadata": {},
   "source": [
    "### For vglut channel"
   ]
  },
  {
   "cell_type": "code",
   "execution_count": 11,
   "metadata": {},
   "outputs": [
    {
     "data": {
      "application/vnd.jupyter.widget-view+json": {
       "model_id": "2bb8e11e30d04711ada029a1832eaf97",
       "version_major": 2,
       "version_minor": 0
      },
      "text/plain": [
       "interactive(children=(Dropdown(description='Threshold', options=('Li', 'Otsu', 'Manual'), value='Li'), IntSlid…"
      ]
     },
     "metadata": {},
     "output_type": "display_data"
    }
   ],
   "source": [
    "import ipywidgets as widgets\n",
    "from ipywidgets import interact\n",
    "first=0\n",
    "\n",
    "#load first image\n",
    "vglut_channel_no=results[\"vglutchannelno\"][first]\n",
    "vglut_image_name=results[\"filename\"][first]+\" Ch\"+str(vglut_channel_no)+\" {0}.tif\"\n",
    "\n",
    "\n",
    "vglut_image=pims.open(vglut_image_name)[0]\n",
    "vglut_spots=deepcopy(vglut_image)\n",
    "vglut_spots=ndi.median_filter(vglut_spots,size=5)\n",
    "\n",
    "lower_man_threshold=np.min(vglut_spots)\n",
    "upper_man_threshold=np.max(vglut_spots)\n",
    "\n",
    "def f(Threshold,Manual_Threshold,Open,Close,Image_no):\n",
    "    \n",
    "    ii=Image_no\n",
    "    vglut_channel_no=results[\"vglutchannelno\"][ii]\n",
    "    vglut_image_name=results[\"filename\"][ii]+\" Ch\"+str(vglut_channel_no)+\" {0}.tif\"\n",
    "\n",
    "    vglut_image=pims.open(vglut_image_name)[0]\n",
    "    #bandpass (subtract gaussian filter)\n",
    "    #lowpass = ndi.gaussian_filter(vglut_image, 3)\n",
    "    #vglut_image = vglut_image - lowpass\n",
    "    #vglut_image[vglut_image<0]=0\n",
    "    \n",
    "    vglut_spots=deepcopy(vglut_image)\n",
    "    lower_man_threshold=np.min(vglut_spots)\n",
    "    upper_man_threshold=np.max(vglut_spots)\n",
    "\n",
    "    if Threshold==\"Li\":\n",
    "        vglut_image_threshold=threshold_li(vglut_image)      \n",
    "    if Threshold==\"Otsu\":\n",
    "        vglut_image_threshold=threshold_otsu(vglut_image)\n",
    "    if Threshold==\"Manual\":\n",
    "        vglut_image_threshold=Manual_Threshold\n",
    "    \n",
    "    vglut_spots[vglut_spots<vglut_image_threshold]=0\n",
    "    vglut_spots=ndi.binary_opening(vglut_spots,iterations=Open)\n",
    "    vglut_spots=ndi.binary_closing(vglut_spots,iterations=Close)\n",
    "    results[\"Manual vglut spots mask\"][ii]=vglut_spots\n",
    "    fig=plt.figure(figsize=(10,10))\n",
    "    fig.add_subplot(121)\n",
    "    plt.imshow(vglut_spots)\n",
    "    plt.imshow(vglut_image,alpha=0.5,cmap='inferno')\n",
    "    fig.add_subplot(122)\n",
    "    plt.imshow(vglut_image,cmap='inferno')\n",
    "    \n",
    "\n",
    "#widgets\n",
    "Threshold=widgets.Dropdown(options=[\"Li\",\"Otsu\",\"Manual\"])\n",
    "Manual_Threshold=widgets.IntSlider(min=lower_man_threshold,max=upper_man_threshold,step=1,value=lower_man_threshold)\n",
    "Open=widgets.IntText(min=0,max=20,step=1,value=1)\n",
    "Close=widgets.IntText(min=0,max=20,step=1,value=1)\n",
    "Image_no=widgets.IntText(min=0,max=len(results[\"filename\"]),value=0)\n",
    "\n",
    "w=interact(f,Threshold=Threshold,Manual_Threshold=Manual_Threshold,Open=Open,Close=Close,\n",
    "           Image_no=Image_no)"
   ]
  },
  {
   "cell_type": "markdown",
   "metadata": {},
   "source": [
    "### Backup manual spots for vglut"
   ]
  },
  {
   "cell_type": "code",
   "execution_count": 12,
   "metadata": {},
   "outputs": [],
   "source": [
    "for image in range(0,len(results[\"filename\"])):\n",
    "    np.save(results[\"filename\"][image]+'_vglut_spots_mask.npy',results[\"Manual vglut spots mask\"][image])"
   ]
  },
  {
   "cell_type": "markdown",
   "metadata": {},
   "source": [
    "### For syt channel"
   ]
  },
  {
   "cell_type": "code",
   "execution_count": 13,
   "metadata": {},
   "outputs": [
    {
     "data": {
      "application/vnd.jupyter.widget-view+json": {
       "model_id": "850702ebea704807bbe2ee463324ae26",
       "version_major": 2,
       "version_minor": 0
      },
      "text/plain": [
       "interactive(children=(Dropdown(description='Threshold', options=('Li', 'Otsu', 'Manual'), value='Li'), IntSlid…"
      ]
     },
     "metadata": {},
     "output_type": "display_data"
    }
   ],
   "source": [
    "import ipywidgets as widgets\n",
    "from ipywidgets import interact\n",
    "first=0\n",
    "\n",
    "#load first image\n",
    "syt_channel_no=results[\"sytchannelno\"][first]\n",
    "syt_image_name=results[\"filename\"][first]+\" Ch\"+str(syt_channel_no)+\" {0}.tif\"\n",
    "\n",
    "\n",
    "syt_image=pims.open(syt_image_name)[0]\n",
    "syt_spots=deepcopy(syt_image)\n",
    "syt_spots=ndi.median_filter(syt_spots,size=5)\n",
    "\n",
    "lower_man_threshold=np.min(syt_spots)\n",
    "upper_man_threshold=np.max(syt_spots)\n",
    "\n",
    "def f(Threshold,Manual_Threshold,Open,Close,Image_no):\n",
    "    \n",
    "    ii=Image_no\n",
    "    syt_channel_no=results[\"sytchannelno\"][ii]\n",
    "    syt_image_name=results[\"filename\"][ii]+\" Ch\"+str(syt_channel_no)+\" {0}.tif\"\n",
    "\n",
    "    syt_image=pims.open(syt_image_name)[0]\n",
    "    #bandpass (subtract gaussian filter)\n",
    "    #lowpass = ndi.gaussian_filter(syt_image, 3)\n",
    "    #syt_image = syt_image - lowpass\n",
    "    #syt_image[syt_image<0]=0\n",
    "    \n",
    "    syt_spots=deepcopy(syt_image)\n",
    "    lower_man_threshold=np.min(syt_spots)\n",
    "    upper_man_threshold=np.max(syt_spots)\n",
    "\n",
    "    if Threshold==\"Li\":\n",
    "        syt_image_threshold=threshold_li(syt_image)      \n",
    "    if Threshold==\"Otsu\":\n",
    "        syt_image_threshold=threshold_otsu(syt_image)\n",
    "    if Threshold==\"Manual\":\n",
    "        syt_image_threshold=Manual_Threshold\n",
    "    \n",
    "    syt_spots[syt_spots<syt_image_threshold]=0\n",
    "    syt_spots=ndi.binary_opening(syt_spots,iterations=Open)\n",
    "    syt_spots=ndi.binary_closing(syt_spots,iterations=Close)\n",
    "    results[\"Manual syt1 spots mask\"][ii]=syt_spots\n",
    "    fig=plt.figure(figsize=(10,10))\n",
    "    fig.add_subplot(121)\n",
    "    plt.imshow(syt_spots)\n",
    "    plt.imshow(syt_image,alpha=0.5,cmap='inferno')\n",
    "    fig.add_subplot(122)\n",
    "    plt.imshow(syt_image,cmap='inferno')\n",
    "    \n",
    "\n",
    "#widgets\n",
    "Threshold=widgets.Dropdown(options=[\"Li\",\"Otsu\",\"Manual\"])\n",
    "Manual_Threshold=widgets.IntSlider(min=lower_man_threshold,max=upper_man_threshold,step=1,value=lower_man_threshold)\n",
    "Open=widgets.IntText(min=0,max=20,step=1,value=1)\n",
    "Close=widgets.IntText(min=0,max=20,step=1,value=1)\n",
    "Image_no=widgets.IntText(min=0,max=len(results[\"filename\"]),value=0)\n",
    "\n",
    "w=interact(f,Threshold=Threshold,Manual_Threshold=Manual_Threshold,Open=Open,Close=Close,\n",
    "           Image_no=Image_no)"
   ]
  },
  {
   "cell_type": "markdown",
   "metadata": {},
   "source": [
    "### Back up the syt masks"
   ]
  },
  {
   "cell_type": "code",
   "execution_count": 14,
   "metadata": {},
   "outputs": [],
   "source": [
    "for image in range(0,len(results[\"filename\"])):\n",
    "    np.save(results[\"filename\"][image]+'_syt1_spots_mask.npy',results[\"Manual syt1 spots mask\"][image])"
   ]
  },
  {
   "cell_type": "code",
   "execution_count": null,
   "metadata": {},
   "outputs": [],
   "source": []
  }
 ],
 "metadata": {
  "kernelspec": {
   "display_name": "Python 3",
   "language": "python",
   "name": "python3"
  },
  "language_info": {
   "codemirror_mode": {
    "name": "ipython",
    "version": 3
   },
   "file_extension": ".py",
   "mimetype": "text/x-python",
   "name": "python",
   "nbconvert_exporter": "python",
   "pygments_lexer": "ipython3",
   "version": "3.7.1"
  }
 },
 "nbformat": 4,
 "nbformat_minor": 2
}
