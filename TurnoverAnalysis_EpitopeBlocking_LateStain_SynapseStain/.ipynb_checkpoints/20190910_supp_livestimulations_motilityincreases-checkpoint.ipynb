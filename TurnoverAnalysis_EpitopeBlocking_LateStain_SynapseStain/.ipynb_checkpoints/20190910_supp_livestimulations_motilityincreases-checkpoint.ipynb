{
 "cells": [
  {
   "cell_type": "code",
   "execution_count": 1,
   "metadata": {},
   "outputs": [],
   "source": [
    "import numpy as np\n",
    "import os\n",
    "from nd2reader import ND2Reader\n",
    "import matplotlib.pyplot as plt\n",
    "import matplotlib.cm as cm\n",
    "from matplotlib_scalebar.scalebar import ScaleBar\n",
    "import scipy.ndimage as ndi\n",
    "from skimage.filters import rank \n",
    "from scipy.signal import butter, lfilter\n",
    "import scipy.misc as misc\n",
    "from skimage import exposure\n",
    "from PIL import Image\n",
    "import colorcet as cc\n",
    "from scipy.misc import toimage\n",
    "import matplotlib.colors as clr\n",
    "import pandas as pd\n",
    "import seaborn as sns\n",
    "from scipy import stats\n",
    "import cv2\n",
    "from pyspark import SparkContext, SparkConf\n",
    "import skimage\n",
    "from pathlib import Path\n",
    "\n",
    "def mean2(x):\n",
    "    y = np.sum(x) / np.size(x);\n",
    "    return y\n",
    "def corr2(a,b):\n",
    "    a = a - mean2(a)\n",
    "    b = b - mean2(b)\n",
    "\n",
    "    r = (a*b).sum() / np.sqrt((a*a).sum() * (b*b).sum());\n",
    "    return r\n",
    "from copy import deepcopy\n",
    "from skimage.filters import threshold_otsu,threshold_li\n",
    "import glob\n",
    "from IPython.display import clear_output\n",
    "import scipy.io as spio\n",
    "import matplotlib.ticker as ticker"
   ]
  },
  {
   "cell_type": "markdown",
   "metadata": {},
   "source": [
    "## Read csv file of silvio's final analysis"
   ]
  },
  {
   "cell_type": "code",
   "execution_count": 2,
   "metadata": {},
   "outputs": [],
   "source": [
    "df_distances=pd.read_csv('/Volumes//ukps-all$/user/tdanko/Imaging/1_ECM/Live Culture/201906_Nikon_faststimulations/201908_silvio_live_stimulation_analysis_finalvaluespercentincrease.CSV',\n",
    "                        header=None,sep=',')"
   ]
  },
  {
   "cell_type": "code",
   "execution_count": 24,
   "metadata": {},
   "outputs": [],
   "source": [
    "df_distances_nicer=pd.DataFrame({\"percent increase\":df_distances[1].tolist()+df_distances[2].tolist(),\n",
    "                                 \"New or old\":[\"new\",\"new\",\"new\",\"all\",\"all\",\"all\"]})"
   ]
  },
  {
   "cell_type": "code",
   "execution_count": 25,
   "metadata": {},
   "outputs": [
    {
     "data": {
      "text/html": [
       "<div>\n",
       "<style scoped>\n",
       "    .dataframe tbody tr th:only-of-type {\n",
       "        vertical-align: middle;\n",
       "    }\n",
       "\n",
       "    .dataframe tbody tr th {\n",
       "        vertical-align: top;\n",
       "    }\n",
       "\n",
       "    .dataframe thead th {\n",
       "        text-align: right;\n",
       "    }\n",
       "</style>\n",
       "<table border=\"1\" class=\"dataframe\">\n",
       "  <thead>\n",
       "    <tr style=\"text-align: right;\">\n",
       "      <th></th>\n",
       "      <th>percent increase</th>\n",
       "      <th>New or old</th>\n",
       "    </tr>\n",
       "  </thead>\n",
       "  <tbody>\n",
       "    <tr>\n",
       "      <th>0</th>\n",
       "      <td>108.6214</td>\n",
       "      <td>new</td>\n",
       "    </tr>\n",
       "    <tr>\n",
       "      <th>1</th>\n",
       "      <td>116.0056</td>\n",
       "      <td>new</td>\n",
       "    </tr>\n",
       "    <tr>\n",
       "      <th>2</th>\n",
       "      <td>118.4630</td>\n",
       "      <td>new</td>\n",
       "    </tr>\n",
       "    <tr>\n",
       "      <th>3</th>\n",
       "      <td>96.2509</td>\n",
       "      <td>all</td>\n",
       "    </tr>\n",
       "    <tr>\n",
       "      <th>4</th>\n",
       "      <td>98.7126</td>\n",
       "      <td>all</td>\n",
       "    </tr>\n",
       "    <tr>\n",
       "      <th>5</th>\n",
       "      <td>98.8974</td>\n",
       "      <td>all</td>\n",
       "    </tr>\n",
       "  </tbody>\n",
       "</table>\n",
       "</div>"
      ],
      "text/plain": [
       "   percent increase New or old\n",
       "0          108.6214        new\n",
       "1          116.0056        new\n",
       "2          118.4630        new\n",
       "3           96.2509        all\n",
       "4           98.7126        all\n",
       "5           98.8974        all"
      ]
     },
     "execution_count": 25,
     "metadata": {},
     "output_type": "execute_result"
    }
   ],
   "source": [
    "df_distances_nicer"
   ]
  },
  {
   "cell_type": "markdown",
   "metadata": {},
   "source": [
    "## Make nice bar plot"
   ]
  },
  {
   "cell_type": "code",
   "execution_count": 44,
   "metadata": {},
   "outputs": [
    {
     "data": {
      "image/png": "[encoded data removed]",
      "text/plain": [
       "<Figure size 216x432 with 1 Axes>"
      ]
     },
     "metadata": {},
     "output_type": "display_data"
    }
   ],
   "source": [
    "sns.set(font_scale=2.5)\n",
    "sns.set_style(\"ticks\")\n",
    "sns.set_palette(\"Set2\")\n",
    "from matplotlib import ticker\n",
    "\n",
    "\n",
    "var=\"percent increase\"\n",
    "fig=plt.figure(figsize=(3,6))\n",
    "\n",
    "order=[\"all\",\"new\"]\n",
    "\n",
    "g=sns.swarmplot(data=df_distances_nicer,y=var,x=\"New or old\",color=\"#2F67F8\",order=order,size=10)\n",
    "\n",
    "g=sns.barplot(data=df_distances_nicer,y=var,x=\"New or old\"\n",
    "            ,order=order,color=\"#abc2fc\",ci=None)\n",
    "\n",
    "def change_width(ax, new_value) :\n",
    "    for patch in ax.patches :\n",
    "        current_width = patch.get_width()\n",
    "        diff = current_width - new_value\n",
    "        # we change the bar width\n",
    "        patch.set_width(new_value)\n",
    "        # we recenter the bar\n",
    "        patch.set_x(patch.get_x() + diff * .5)\n",
    "change_width(g, .7)\n",
    "\n",
    "plt.errorbar(x=np.arange(0,len(order)),\n",
    "             y=[df_distances_nicer[df_distances_nicer[\"New or old\"]==condtype][var].mean() for condtype in order],\n",
    "             yerr=[df_distances_nicer[df_distances_nicer[\"New or old\"]==condtype][var].sem() for condtype in order],\n",
    "             xerr=None,ecolor='black',fmt='none',capsize=10,linewidth=3,\n",
    "             capthick=3,zorder=10,\n",
    "            alpha=1)\n",
    "\n",
    "'''plt.errorbar(x=np.arange(0,len(order)),\n",
    "             y=[df_distances_nicer[df_distances_nicer[\"New or old\"]==condtype][var].mean() for condtype in order],\n",
    "             yerr=None,\n",
    "             xerr=np.repeat(0.5, 5),ecolor='black',fmt='none',capsize=0,linewidth=3,\n",
    "             capthick=30,zorder=10,\n",
    "            alpha=1)'''\n",
    "plt.axhline(0, color='#333333',alpha=1,linewidth=10)\n",
    "\n",
    "#plt.axhline(negctrlmean, color='#333333',alpha=1,linewidth=5,linestyle='--')\n",
    "\n",
    "\n",
    "\n",
    "g.xaxis.set_tick_params(width=4)\n",
    "g.yaxis.set_tick_params(width=4)\n",
    "\n",
    "g.set_ylabel('')\n",
    "g.set_xlabel('',color='#333333',alpha=.7)\n",
    "plt.xticks(g.get_xticks(),order,\n",
    "           rotation=90,size=20)\n",
    "plt.yticks([0,20,40,60,80,100,120],size=20,color='#333333')\n",
    "g.grid(False)\n",
    "plt.ylim([0,130])\n",
    "#plt.xlim([-1,len(order)])\n",
    "\n",
    "for axis in ['top','bottom','left','right']:\n",
    "  g.spines[axis].set_linewidth(4)\n",
    "  g.spines[axis].set_color('#333333')\n",
    "  g.spines[axis].set_alpha(1)\n",
    "\n",
    "\n",
    "\n",
    "x1, x2 = 0,1\n",
    "y= 125\n",
    "h=1\n",
    "col='black'\n",
    "plt.plot([x1, x1, x2, x2], [y, y+h, y+h, y], lw=3.5, c=col)\n",
    "plt.text((x1+x2)*.5, y+h, \"*\", ha='center', va='bottom', color=col,size=30, weight='bold')\n",
    "\n",
    "\n",
    "\n",
    "\n",
    "offsets={\"left\":10,\"bottom\":0}\n",
    "trims={\"left\":True,\"bottom\":False,\"right\":False}\n",
    "sns.despine(ax=g,right=True,top=True,bottom=True,trim=trims,offset=offsets)\n",
    "\n",
    "plt.xticks(g.get_xticks(),['All epitopes','New epitopes'], rotation=45,size=24)\n",
    "\n",
    "diri=\"/Volumes/Macintosh HD/Users/taldankovich/Downloads/figures/\"\n",
    "\n",
    "fig.savefig(diri+'supp_livestimulation_increasedmotility.svg', bbox_inches='tight', format='svg')\n",
    "\n",
    "\n"
   ]
  },
  {
   "cell_type": "code",
   "execution_count": null,
   "metadata": {},
   "outputs": [],
   "source": []
  },
  {
   "cell_type": "code",
   "execution_count": null,
   "metadata": {},
   "outputs": [],
   "source": [
    "merge"
   ]
  }
 ],
 "metadata": {
  "kernelspec": {
   "display_name": "Python 3",
   "language": "python",
   "name": "python3"
  },
  "language_info": {
   "codemirror_mode": {
    "name": "ipython",
    "version": 3
   },
   "file_extension": ".py",
   "mimetype": "text/x-python",
   "name": "python",
   "nbconvert_exporter": "python",
   "pygments_lexer": "ipython3",
   "version": "3.7.1"
  }
 },
 "nbformat": 4,
 "nbformat_minor": 2
}
