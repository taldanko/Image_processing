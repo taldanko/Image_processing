{
 "cells": [
  {
   "cell_type": "markdown",
   "metadata": {},
   "source": [
    "## Import modules and functions"
   ]
  },
  {
   "cell_type": "code",
   "execution_count": 1,
   "metadata": {},
   "outputs": [],
   "source": [
    "import numpy as np\n",
    "import os\n",
    "from nd2reader import ND2Reader\n",
    "import matplotlib.pyplot as plt\n",
    "import matplotlib.cm as cm\n",
    "from matplotlib_scalebar.scalebar import ScaleBar\n",
    "import scipy.ndimage as ndi\n",
    "from skimage.filters import rank \n",
    "from scipy.signal import butter, lfilter\n",
    "import scipy.misc as misc\n",
    "from skimage import exposure\n",
    "from PIL import Image\n",
    "import colorcet as cc\n",
    "\n",
    "import matplotlib.colors as clr\n",
    "import pandas as pd\n",
    "import seaborn as sns\n",
    "from scipy import stats\n",
    "import cv2\n",
    "from pyspark import SparkContext, SparkConf\n",
    "import skimage\n",
    "from pathlib import Path\n",
    "\n",
    "def mean2(x):\n",
    "    y = np.sum(x) / np.size(x);\n",
    "    return y\n",
    "def corr2(a,b):\n",
    "    a = a - mean2(a)\n",
    "    b = b - mean2(b)\n",
    "\n",
    "    r = (a*b).sum() / np.sqrt((a*a).sum() * (b*b).sum());\n",
    "    return r\n",
    "from copy import deepcopy\n",
    "from skimage.filters import threshold_otsu,threshold_li\n",
    "import glob\n",
    "from IPython.display import clear_output\n",
    "import scipy.io as spio"
   ]
  },
  {
   "cell_type": "markdown",
   "metadata": {},
   "source": [
    "## Define directory of images"
   ]
  },
  {
   "cell_type": "code",
   "execution_count": 2,
   "metadata": {},
   "outputs": [],
   "source": [
    "expdir='/Volumes/ukps-all$/user/tdanko/Imaging/1_ECM/Fixed culture/Controls/201912_tnrs_arent_preexisting_epitopes' #master folder"
   ]
  },
  {
   "cell_type": "markdown",
   "metadata": {},
   "source": [
    "## Make dictionary for storing results"
   ]
  },
  {
   "cell_type": "code",
   "execution_count": 3,
   "metadata": {},
   "outputs": [],
   "source": [
    "results = {\"filename\":[],\"exp\":[],\"coverslip\":[],\n",
    "           \"Manual mask from matlab GUI\":[],\"bg sub int under mask\":[]}\n",
    "path = os.path.dirname(expdir)  \n",
    "outputFolder = os.path.dirname(expdir + \"/new/\")\n",
    "filelist = []\n",
    "for root, _, filenames in os.walk(path):\n",
    "     for filename in filenames:\n",
    "         filelist.append(os.path.join(root, filename))      \n",
    "for i in range(0,len(filelist)):\n",
    "    if \"analyse\" in str(filelist[i]):\n",
    "        if \"gm6\" in str(filelist[i]):\n",
    "            if (\"backup\" in str(filelist[i]))==False:\n",
    "                if (\"ignore\" in str(filelist[i]))==False:\n",
    "                    if (\"dditional\" in str(filelist[i]))==False:\n",
    "                        if filelist[i].endswith(\".nd2\"): \n",
    "                            results[\"filename\"].append(filelist[i])\n",
    "                            results[\"coverslip\"].append(filelist[i].split('/')[-2])\n",
    "                            results[\"exp\"].append(filelist[i].split('/')[-4])"
   ]
  },
  {
   "cell_type": "markdown",
   "metadata": {},
   "source": [
    "## Read manual masks from Matlab GUI"
   ]
  },
  {
   "cell_type": "code",
   "execution_count": 4,
   "metadata": {},
   "outputs": [
    {
     "name": "stdout",
     "output_type": "stream",
     "text": [
      "Done!\n"
     ]
    }
   ],
   "source": [
    "## matlab files\n",
    "for im in range(0,len(results[\"filename\"])): \n",
    "    file=results[\"filename\"][im][:-4]+'_dendritesmask.mat'\n",
    "    from pathlib import Path\n",
    "    my_file = Path(file)\n",
    "    if my_file.exists():\n",
    "        print(file)\n",
    "        mat = spio.loadmat(file, squeeze_me=True)\n",
    "        mask=mat['totMask']>0.99\n",
    "        results[\"Manual mask from matlab GUI\"].append(mask)\n",
    "    else:\n",
    "        results[\"Manual mask from matlab GUI\"].append(np.nan)\n",
    "clear_output()        \n",
    "print(\"Done!\")"
   ]
  },
  {
   "cell_type": "markdown",
   "metadata": {},
   "source": [
    "## Batch analysis of images - mean intensity"
   ]
  },
  {
   "cell_type": "code",
   "execution_count": 5,
   "metadata": {},
   "outputs": [
    {
     "name": "stdout",
     "output_type": "stream",
     "text": [
      "Total number of images: 279\n",
      "Calculating image no 1 out of279\n",
      "Calculating image no 2 out of279\n",
      "Calculating image no 3 out of279\n",
      "Calculating image no 4 out of279\n",
      "Calculating image no 5 out of279\n",
      "Calculating image no 6 out of279\n",
      "Calculating image no 7 out of279\n",
      "Calculating image no 8 out of279\n",
      "Calculating image no 9 out of279\n",
      "Calculating image no 10 out of279\n",
      "Calculating image no 11 out of279\n",
      "Calculating image no 12 out of279\n",
      "Calculating image no 13 out of279\n",
      "Calculating image no 14 out of279\n",
      "Calculating image no 15 out of279\n",
      "Calculating image no 16 out of279\n",
      "Calculating image no 17 out of279\n",
      "Calculating image no 18 out of279\n",
      "Calculating image no 19 out of279\n",
      "Calculating image no 20 out of279\n",
      "Calculating image no 21 out of279\n",
      "Calculating image no 22 out of279\n",
      "Calculating image no 23 out of279\n",
      "Calculating image no 24 out of279\n",
      "Calculating image no 25 out of279\n",
      "Calculating image no 26 out of279\n",
      "Calculating image no 27 out of279\n",
      "Calculating image no 28 out of279\n",
      "Calculating image no 29 out of279\n",
      "Calculating image no 30 out of279\n",
      "Calculating image no 31 out of279\n",
      "Calculating image no 32 out of279\n",
      "Calculating image no 33 out of279\n",
      "Calculating image no 34 out of279\n",
      "Calculating image no 35 out of279\n",
      "Calculating image no 36 out of279\n",
      "Calculating image no 37 out of279\n",
      "Calculating image no 38 out of279\n",
      "Calculating image no 39 out of279\n",
      "Calculating image no 40 out of279\n",
      "Calculating image no 41 out of279\n",
      "Calculating image no 42 out of279\n",
      "Calculating image no 43 out of279\n",
      "Calculating image no 44 out of279\n",
      "Calculating image no 45 out of279\n",
      "Calculating image no 46 out of279\n",
      "Calculating image no 47 out of279\n",
      "Calculating image no 48 out of279\n",
      "Calculating image no 49 out of279\n",
      "Calculating image no 50 out of279\n",
      "Calculating image no 51 out of279\n",
      "Calculating image no 52 out of279\n",
      "Calculating image no 53 out of279\n",
      "Calculating image no 54 out of279\n",
      "Calculating image no 55 out of279\n",
      "Calculating image no 56 out of279\n",
      "Calculating image no 57 out of279\n",
      "Calculating image no 58 out of279\n",
      "Calculating image no 59 out of279\n",
      "Calculating image no 60 out of279\n",
      "Calculating image no 61 out of279\n",
      "Calculating image no 62 out of279\n",
      "Calculating image no 63 out of279\n",
      "Calculating image no 64 out of279\n",
      "Calculating image no 65 out of279\n",
      "Calculating image no 66 out of279\n",
      "Calculating image no 67 out of279\n",
      "Calculating image no 68 out of279\n",
      "Calculating image no 69 out of279\n",
      "Calculating image no 70 out of279\n",
      "Calculating image no 71 out of279\n",
      "Calculating image no 72 out of279\n",
      "Calculating image no 73 out of279\n",
      "Calculating image no 74 out of279\n",
      "Calculating image no 75 out of279\n",
      "Calculating image no 76 out of279\n",
      "Calculating image no 77 out of279\n",
      "Calculating image no 78 out of279\n",
      "Calculating image no 79 out of279\n",
      "Calculating image no 80 out of279\n",
      "Calculating image no 81 out of279\n",
      "Calculating image no 82 out of279\n",
      "Calculating image no 83 out of279\n",
      "Calculating image no 84 out of279\n",
      "Calculating image no 85 out of279\n",
      "Calculating image no 86 out of279\n",
      "Calculating image no 87 out of279\n",
      "Calculating image no 88 out of279\n",
      "Calculating image no 89 out of279\n",
      "Calculating image no 90 out of279\n",
      "Calculating image no 91 out of279\n",
      "Calculating image no 92 out of279\n",
      "Calculating image no 93 out of279\n",
      "Calculating image no 94 out of279\n",
      "Calculating image no 95 out of279\n",
      "Calculating image no 96 out of279\n",
      "Calculating image no 97 out of279\n",
      "Calculating image no 98 out of279\n",
      "Calculating image no 99 out of279\n",
      "Calculating image no 100 out of279\n",
      "Calculating image no 101 out of279\n",
      "Calculating image no 102 out of279\n",
      "Calculating image no 103 out of279\n",
      "Calculating image no 104 out of279\n",
      "Calculating image no 105 out of279\n",
      "Calculating image no 106 out of279\n",
      "Calculating image no 107 out of279\n",
      "Calculating image no 108 out of279\n",
      "Calculating image no 109 out of279\n",
      "Calculating image no 110 out of279\n",
      "Calculating image no 111 out of279\n",
      "Calculating image no 112 out of279\n",
      "Calculating image no 113 out of279\n",
      "Calculating image no 114 out of279\n",
      "Calculating image no 115 out of279\n",
      "Calculating image no 116 out of279\n",
      "Calculating image no 117 out of279\n",
      "Calculating image no 118 out of279\n",
      "Calculating image no 119 out of279\n",
      "Calculating image no 120 out of279\n",
      "Calculating image no 121 out of279\n",
      "Calculating image no 122 out of279\n",
      "Calculating image no 123 out of279\n",
      "Calculating image no 124 out of279\n",
      "Calculating image no 125 out of279\n",
      "Calculating image no 126 out of279\n",
      "Calculating image no 127 out of279\n",
      "Calculating image no 128 out of279\n",
      "Calculating image no 129 out of279\n",
      "Calculating image no 130 out of279\n",
      "Calculating image no 131 out of279\n",
      "Calculating image no 132 out of279\n",
      "Calculating image no 133 out of279\n",
      "Calculating image no 134 out of279\n",
      "Calculating image no 135 out of279\n",
      "Calculating image no 136 out of279\n",
      "Calculating image no 137 out of279\n",
      "Calculating image no 138 out of279\n",
      "Calculating image no 139 out of279\n",
      "Calculating image no 140 out of279\n",
      "Calculating image no 141 out of279\n",
      "Calculating image no 142 out of279\n",
      "Calculating image no 143 out of279\n",
      "Calculating image no 144 out of279\n",
      "Calculating image no 145 out of279\n",
      "Calculating image no 146 out of279\n",
      "Calculating image no 147 out of279\n",
      "Calculating image no 148 out of279\n",
      "Calculating image no 149 out of279\n",
      "Calculating image no 150 out of279\n",
      "Calculating image no 151 out of279\n",
      "Calculating image no 152 out of279\n",
      "Calculating image no 153 out of279\n",
      "Calculating image no 154 out of279\n",
      "Calculating image no 155 out of279\n",
      "Calculating image no 156 out of279\n",
      "Calculating image no 157 out of279\n",
      "Calculating image no 158 out of279\n",
      "Calculating image no 159 out of279\n",
      "Calculating image no 160 out of279\n",
      "Calculating image no 161 out of279\n",
      "Calculating image no 162 out of279\n",
      "Calculating image no 163 out of279\n",
      "Calculating image no 164 out of279\n",
      "Calculating image no 165 out of279\n",
      "Calculating image no 166 out of279\n",
      "Calculating image no 167 out of279\n",
      "Calculating image no 168 out of279\n",
      "Calculating image no 169 out of279\n",
      "Calculating image no 170 out of279\n",
      "Calculating image no 171 out of279\n",
      "Calculating image no 172 out of279\n",
      "Calculating image no 173 out of279\n",
      "Calculating image no 174 out of279\n",
      "Calculating image no 175 out of279\n",
      "Calculating image no 176 out of279\n",
      "Calculating image no 177 out of279\n",
      "Calculating image no 178 out of279\n",
      "Calculating image no 179 out of279\n",
      "Calculating image no 180 out of279\n",
      "Calculating image no 181 out of279\n",
      "Calculating image no 182 out of279\n",
      "Calculating image no 183 out of279\n",
      "Calculating image no 184 out of279\n",
      "Calculating image no 185 out of279\n",
      "Calculating image no 186 out of279\n",
      "Calculating image no 187 out of279\n",
      "Calculating image no 188 out of279\n",
      "Calculating image no 189 out of279\n",
      "Calculating image no 190 out of279\n",
      "Calculating image no 191 out of279\n",
      "Calculating image no 192 out of279\n",
      "Calculating image no 193 out of279\n",
      "Calculating image no 194 out of279\n",
      "Calculating image no 195 out of279\n",
      "Calculating image no 196 out of279\n",
      "Calculating image no 197 out of279\n",
      "Calculating image no 198 out of279\n",
      "Calculating image no 199 out of279\n",
      "Calculating image no 200 out of279\n",
      "Calculating image no 201 out of279\n",
      "Calculating image no 202 out of279\n",
      "Calculating image no 203 out of279\n",
      "Calculating image no 204 out of279\n",
      "Calculating image no 205 out of279\n",
      "Calculating image no 206 out of279\n",
      "Calculating image no 207 out of279\n",
      "Calculating image no 208 out of279\n",
      "Calculating image no 209 out of279\n",
      "Calculating image no 210 out of279\n",
      "Calculating image no 211 out of279\n",
      "Calculating image no 212 out of279\n",
      "Calculating image no 213 out of279\n",
      "Calculating image no 214 out of279\n",
      "Calculating image no 215 out of279\n",
      "Calculating image no 216 out of279\n",
      "Calculating image no 217 out of279\n",
      "Calculating image no 218 out of279\n",
      "Calculating image no 219 out of279\n",
      "Calculating image no 220 out of279\n",
      "Calculating image no 221 out of279\n",
      "Calculating image no 222 out of279\n",
      "Calculating image no 223 out of279\n",
      "Calculating image no 224 out of279\n",
      "Calculating image no 225 out of279\n",
      "Calculating image no 226 out of279\n",
      "Calculating image no 227 out of279\n",
      "Calculating image no 228 out of279\n",
      "Calculating image no 229 out of279\n",
      "Calculating image no 230 out of279\n",
      "Calculating image no 231 out of279\n",
      "Calculating image no 232 out of279\n"
     ]
    },
    {
     "name": "stderr",
     "output_type": "stream",
     "text": [
      "/Users/taldankovich/anaconda3/lib/python3.7/site-packages/numpy/core/fromnumeric.py:3335: RuntimeWarning: Mean of empty slice.\n",
      "  out=out, **kwargs)\n",
      "/Users/taldankovich/anaconda3/lib/python3.7/site-packages/numpy/core/_methods.py:161: RuntimeWarning: invalid value encountered in double_scalars\n",
      "  ret = ret.dtype.type(ret / rcount)\n",
      "/Users/taldankovich/anaconda3/lib/python3.7/site-packages/numpy/core/_methods.py:217: RuntimeWarning: Degrees of freedom <= 0 for slice\n",
      "  keepdims=keepdims)\n",
      "/Users/taldankovich/anaconda3/lib/python3.7/site-packages/numpy/core/_methods.py:186: RuntimeWarning: invalid value encountered in true_divide\n",
      "  arrmean, rcount, out=arrmean, casting='unsafe', subok=False)\n",
      "/Users/taldankovich/anaconda3/lib/python3.7/site-packages/numpy/core/_methods.py:209: RuntimeWarning: invalid value encountered in double_scalars\n",
      "  ret = ret.dtype.type(ret / rcount)\n",
      "/Users/taldankovich/anaconda3/lib/python3.7/site-packages/ipykernel_launcher.py:21: RuntimeWarning: invalid value encountered in less\n",
      "/Users/taldankovich/anaconda3/lib/python3.7/site-packages/ipykernel_launcher.py:25: RuntimeWarning: Mean of empty slice.\n"
     ]
    },
    {
     "name": "stdout",
     "output_type": "stream",
     "text": [
      "Calculating image no 233 out of279\n",
      "Calculating image no 234 out of279\n",
      "Calculating image no 235 out of279\n",
      "Calculating image no 236 out of279\n",
      "Calculating image no 237 out of279\n",
      "Calculating image no 238 out of279\n",
      "Calculating image no 239 out of279\n",
      "Calculating image no 240 out of279\n",
      "Calculating image no 241 out of279\n",
      "Calculating image no 242 out of279\n",
      "Calculating image no 243 out of279\n",
      "Calculating image no 244 out of279\n",
      "Calculating image no 245 out of279\n",
      "Calculating image no 246 out of279\n",
      "Calculating image no 247 out of279\n",
      "Calculating image no 248 out of279\n",
      "Calculating image no 249 out of279\n",
      "Calculating image no 250 out of279\n",
      "Calculating image no 251 out of279\n",
      "Calculating image no 252 out of279\n",
      "Calculating image no 253 out of279\n",
      "Calculating image no 254 out of279\n",
      "Calculating image no 255 out of279\n",
      "Calculating image no 256 out of279\n",
      "Calculating image no 257 out of279\n",
      "Calculating image no 258 out of279\n",
      "Calculating image no 259 out of279\n",
      "Calculating image no 260 out of279\n",
      "Calculating image no 261 out of279\n",
      "Calculating image no 262 out of279\n",
      "Calculating image no 263 out of279\n",
      "Calculating image no 264 out of279\n",
      "Calculating image no 265 out of279\n",
      "Calculating image no 266 out of279\n",
      "Calculating image no 267 out of279\n",
      "Calculating image no 268 out of279\n",
      "Calculating image no 269 out of279\n",
      "Calculating image no 270 out of279\n",
      "Calculating image no 271 out of279\n",
      "Calculating image no 272 out of279\n",
      "Calculating image no 273 out of279\n",
      "Calculating image no 274 out of279\n",
      "Calculating image no 275 out of279\n",
      "Calculating image no 276 out of279\n",
      "Calculating image no 277 out of279\n",
      "Calculating image no 278 out of279\n",
      "Calculating image no 279 out of279\n"
     ]
    }
   ],
   "source": [
    "print('Total number of images: ' + str(len(results['filename'])))\n",
    "\n",
    "for i in range(0,len(results[\"filename\"])): \n",
    "    flag=False\n",
    "    print('Calculating image no ' + str(i+1) + ' out of' + str(len(results[\"filename\"])))\n",
    "    #read the image\n",
    "    with ND2Reader(results[\"filename\"][i]) as images:\n",
    "        ecm_image=images[0]\n",
    "    #convert to numpy array - a format easier to manipunuclei with code\n",
    "    ecm_image=ecm_image.astype(np.int16)\n",
    "    #read masks \n",
    "    matlab_mask=results[\"Manual mask from matlab GUI\"][i]\n",
    "    if type(matlab_mask)==np.ndarray:\n",
    "        flag=True\n",
    "    #image after background subtraction\n",
    "    #for ecm image\n",
    "    if flag==True:\n",
    "        ecm_matlabmasked_bgreduced=deepcopy(ecm_image)\n",
    "        bg_matlabmask=np.mean(ndi.median_filter(ecm_image[matlab_mask],size=5))+0*np.std(ndi.median_filter(ecm_image[matlab_mask],size=5))\n",
    "        ecm_matlabmasked_bgreduced=np.subtract(ecm_matlabmasked_bgreduced,bg_matlabmask)\n",
    "        ecm_matlabmasked_bgreduced[ecm_matlabmasked_bgreduced<0]=0\n",
    "        ecm_matlabmasked_bgreduced[~matlab_mask]=0\n",
    "        \n",
    "    if flag==True:\n",
    "        results[\"bg sub int under mask\"].append(ecm_matlabmasked_bgreduced[matlab_mask].mean())\n",
    "    else:\n",
    "        results[\"bg sub int under mask\"].append(np.nan)"
   ]
  },
  {
   "cell_type": "markdown",
   "metadata": {},
   "source": [
    "## Make a dataframe of the results"
   ]
  },
  {
   "cell_type": "code",
   "execution_count": 6,
   "metadata": {},
   "outputs": [],
   "source": [
    "df=pd.DataFrame(results)\n",
    "df2=deepcopy(df)\n",
    "df2['Blocked or not']='None'\n",
    "df2.loc[df2['filename'].str.contains('_fixedctrl'), 'Blocked or not'] = 'Blocked'\n",
    "df2.loc[df2['filename'].str.contains('_fixingctrl'), 'Blocked or not'] = 'Blocked'\n",
    "df2.loc[df2['filename'].str.contains('Additional'), 'Blocked or not'] = 'Blocked'\n",
    "df2.loc[df2['filename'].str.contains('blocked'), 'Blocked or not'] = 'Blocked'\n",
    "df2.loc[df2['filename'].str.contains('noblocking'), 'Blocked or not'] = 'Unblocked'\n",
    "df2.loc[df2['filename'].str.contains('nblocked'), 'Blocked or not'] = 'Unblocked'\n",
    "df2.loc[df2['filename'].str.contains('atto'), 'Blocked or not'] = 'Atto647@mouse'\n",
    "df2.loc[(df2['filename'].str.contains('unblocked'))&(df2['filename'].str.contains('ctrl'))\n",
    "        , 'Blocked or not'] = 'No Blocking'\n",
    "df2.loc[(df2['filename'].str.contains('noblocking'))&(df2['filename'].str.contains('100x'))\n",
    "        , 'Blocked or not'] = 'No Blocking'\n",
    "\n",
    "df2['Condition']='None'\n",
    "df2.loc[(df2['filename'].str.contains('20191212'))&(df2['filename'].str.contains('chabc'))\n",
    "        , 'Condition'] = 'chABC - treated'\n",
    "df2.loc[(df2['filename'].str.contains('gm6001'))&(df2['filename'].str.contains('gm6001_1to100'))\n",
    "        , 'Condition'] = 'GM6001'\n",
    "df2.loc[(df2['filename'].str.contains('gm6001'))&(df2['filename'].str.contains('gm60011to100'))\n",
    "        , 'Condition'] = 'GM6001'\n",
    "df2.loc[(df2['filename'].str.contains('gm6001'))&(df2['filename'].str.contains('dmso_1to100'))\n",
    "        , 'Condition'] = 'DMSO'\n",
    "df2.loc[(df2['filename'].str.contains('gm6001'))&(df2['filename'].str.contains('dmso1to100'))\n",
    "        , 'Condition'] = 'DMSO'\n",
    "\n",
    "\n",
    "df2.loc[(df2['filename'].str.contains('unblocked'))\n",
    "        , 'Condition'] = 'No Blocking'\n",
    "df2.loc[(df2['filename'].str.contains('noblocking'))&(df2['filename'].str.contains('post_fixing'))\n",
    "        , 'Condition'] = 'No Blocking'\n",
    "df2.loc[(df2['filename'].str.contains('unblocked'))&(df2['filename'].str.contains('ctrl'))\n",
    "        , 'Condition'] = 'No Blocking'\n",
    "df2.loc[(df2['filename'].str.contains('1to250'))\n",
    "        , 'Condition'] = 'Ignore'\n",
    "df2.loc[(df2['filename'].str.contains('negctrl635'))\n",
    "        , 'Condition'] = 'Atto647@mouse'\n",
    "\n",
    "df2['Exp']='None'\n",
    "df2.loc[(df2['filename'].str.contains('gm6001'))&(df2['filename'].str.contains('20191205'))\n",
    "        , 'Exp'] = 'GM6001 20191205'\n",
    "df2.loc[(df2['filename'].str.contains('gm6001'))&(df2['filename'].str.contains('20191203'))\n",
    "        , 'Exp'] = 'GM6001 20191203'\n",
    "df2.loc[(df2['filename'].str.contains('20191205_chabc'))&(df2['filename'].str.contains('live_chabc'))\n",
    "        , 'Exp'] = 'chABC 20191205'\n",
    "df2.loc[(df2['filename'].str.contains('20191212'))&(df2['filename'].str.contains('chabc'))\n",
    "        , 'Exp'] = 'chABC 20191212'\n",
    "df2.loc[(df2['filename'].str.contains('20191212'))&(df2['filename'].str.contains('methanol'))\n",
    "        , 'Exp'] = 'methanol 20191212'\n",
    "df2.loc[(df2['filename'].str.contains('20191212'))&(df2['filename'].str.contains('pfa'))\n",
    "        , 'Exp'] = 'pfa 20191212'\n",
    "df2.loc[(df2['filename'].str.contains('20191203'))&(df2['filename'].str.contains('post_fixing'))\n",
    "        , 'Exp'] = 'pfa 20191203'\n",
    "df2.loc[(df2['filename'].str.contains('20191223'))&(df2['filename'].str.contains('pfa'))\n",
    "        , 'Exp'] = 'pfa 20191223'\n",
    "df2.loc[(df2['filename'].str.contains('20191223'))&(df2['filename'].str.contains('methanol'))\n",
    "        , 'Exp'] = 'methanol 20191223'"
   ]
  },
  {
   "cell_type": "markdown",
   "metadata": {},
   "source": [
    "## Check normality"
   ]
  },
  {
   "cell_type": "code",
   "execution_count": 7,
   "metadata": {},
   "outputs": [
    {
     "name": "stdout",
     "output_type": "stream",
     "text": [
      "<class 'numpy.ndarray'>\n",
      "<class 'numpy.ndarray'>\n",
      "<class 'numpy.ndarray'>\n",
      "<class 'numpy.ndarray'>\n",
      "<class 'numpy.ndarray'>\n"
     ]
    },
    {
     "name": "stderr",
     "output_type": "stream",
     "text": [
      "/Users/taldankovich/anaconda3/lib/python3.7/site-packages/scipy/stats/_distn_infrastructure.py:903: RuntimeWarning: invalid value encountered in greater\n",
      "  return (a < x) & (x < b)\n",
      "/Users/taldankovich/anaconda3/lib/python3.7/site-packages/scipy/stats/_distn_infrastructure.py:903: RuntimeWarning: invalid value encountered in less\n",
      "  return (a < x) & (x < b)\n",
      "/Users/taldankovich/anaconda3/lib/python3.7/site-packages/scipy/stats/_distn_infrastructure.py:1827: RuntimeWarning: invalid value encountered in greater_equal\n",
      "  cond2 = (x >= np.asarray(_b)) & cond0\n",
      "/Users/taldankovich/anaconda3/lib/python3.7/site-packages/statsmodels/nonparametric/kde.py:444: RuntimeWarning: invalid value encountered in greater\n",
      "  X = X[np.logical_and(X > clip[0], X < clip[1])] # will not work for two columns.\n",
      "/Users/taldankovich/anaconda3/lib/python3.7/site-packages/statsmodels/nonparametric/kde.py:444: RuntimeWarning: invalid value encountered in less\n",
      "  X = X[np.logical_and(X > clip[0], X < clip[1])] # will not work for two columns.\n"
     ]
    },
    {
     "data": {
      "image/png": "[encoded data removed]",
      "text/plain": [
       "<Figure size 216x216 with 1 Axes>"
      ]
     },
     "metadata": {},
     "output_type": "display_data"
    },
    {
     "data": {
      "image/png": "[encoded data removed]",
      "text/plain": [
       "<Figure size 216x216 with 1 Axes>"
      ]
     },
     "metadata": {},
     "output_type": "display_data"
    },
    {
     "data": {
      "image/png": "[encoded data removed]",
      "text/plain": [
       "<Figure size 216x216 with 1 Axes>"
      ]
     },
     "metadata": {},
     "output_type": "display_data"
    },
    {
     "data": {
      "image/png": "[encoded data removed]",
      "text/plain": [
       "<Figure size 216x216 with 1 Axes>"
      ]
     },
     "metadata": {},
     "output_type": "display_data"
    },
    {
     "data": {
      "image/png": "[encoded data removed]",
      "text/plain": [
       "<Figure size 216x216 with 1 Axes>"
      ]
     },
     "metadata": {},
     "output_type": "display_data"
    }
   ],
   "source": [
    "var=\"bg sub int under mask\"\n",
    "variable=var #change me\n",
    "\n",
    "for cond in df2[\"Condition\"].unique():\n",
    "    dfcond=df2[df2[\"Condition\"]==cond]\n",
    "    x=dfcond[variable].values\n",
    "    normdvar=(x-x.mean())/x.std()\n",
    "    print(type(normdvar))\n",
    "\n",
    "    import scipy.stats as ss\n",
    "    [_,pval]=ss.kstest(normdvar,'norm')\n",
    "    if pval<0.05:\n",
    "        text=\"The variable does not distribute normally\"\n",
    "    else:\n",
    "        text=\"The variable distributes normally\"\n",
    "\n",
    "    sns.set(font_scale=1)\n",
    "    fig=plt.figure(figsize=(3,3))\n",
    "    fig.add_subplot(121)\n",
    "    sns.kdeplot(dfcond[variable],legend=False)\n",
    "    plt.title('Distribution of ' + cond + '\\n'+ text)\n",
    "\n",
    "    "
   ]
  },
  {
   "cell_type": "markdown",
   "metadata": {},
   "source": [
    "## kruskal wallis"
   ]
  },
  {
   "cell_type": "code",
   "execution_count": 11,
   "metadata": {},
   "outputs": [
    {
     "name": "stdout",
     "output_type": "stream",
     "text": [
      "2.6186076221731556e-12\n"
     ]
    }
   ],
   "source": [
    "df_pic=df2[df2[\"Blocked or not\"]!=\"Unblocked\"]\n",
    "df_dmso=df_pic[df_pic[\"Condition\"]==\"DMSO\"][var].dropna()\n",
    "df_gm6001=df_pic[df_pic[\"Condition\"]==\"GM6001\"][var].dropna()\n",
    "df_atto=df_pic[df_pic[\"Condition\"]=='Atto647@mouse'][var]\n",
    "\n",
    "[stat, pval]=stats.kruskal(df_dmso,df_atto,df_gm6001)\n",
    "print(pval)"
   ]
  },
  {
   "cell_type": "code",
   "execution_count": 16,
   "metadata": {},
   "outputs": [
    {
     "data": {
      "text/plain": [
       "array(['DMSO', 'Ignore', 'GM6001', 'No Blocking', 'Atto647@mouse'],\n",
       "      dtype=object)"
      ]
     },
     "execution_count": 16,
     "metadata": {},
     "output_type": "execute_result"
    }
   ],
   "source": [
    "df2[\"Condition\"].unique()"
   ]
  },
  {
   "cell_type": "code",
   "execution_count": 12,
   "metadata": {},
   "outputs": [],
   "source": [
    "dfcheck=df_pic[df_pic[\"Condition\"].isin([\"DMSO\", \"GM6001\", \"Atto647@mouse\"])]"
   ]
  },
  {
   "cell_type": "markdown",
   "metadata": {},
   "source": [
    "## Dunn's corrected post hoc"
   ]
  },
  {
   "cell_type": "code",
   "execution_count": 34,
   "metadata": {},
   "outputs": [
    {
     "data": {
      "text/html": [
       "<div>\n",
       "<style scoped>\n",
       "    .dataframe tbody tr th:only-of-type {\n",
       "        vertical-align: middle;\n",
       "    }\n",
       "\n",
       "    .dataframe tbody tr th {\n",
       "        vertical-align: top;\n",
       "    }\n",
       "\n",
       "    .dataframe thead th {\n",
       "        text-align: right;\n",
       "    }\n",
       "</style>\n",
       "<table border=\"1\" class=\"dataframe\">\n",
       "  <thead>\n",
       "    <tr style=\"text-align: right;\">\n",
       "      <th></th>\n",
       "      <th>Atto647@mouse</th>\n",
       "      <th>DMSO</th>\n",
       "      <th>GM6001</th>\n",
       "    </tr>\n",
       "  </thead>\n",
       "  <tbody>\n",
       "    <tr>\n",
       "      <th>Atto647@mouse</th>\n",
       "      <td>-1.000000</td>\n",
       "      <td>0.000027</td>\n",
       "      <td>0.070714</td>\n",
       "    </tr>\n",
       "    <tr>\n",
       "      <th>DMSO</th>\n",
       "      <td>0.000027</td>\n",
       "      <td>-1.000000</td>\n",
       "      <td>0.189824</td>\n",
       "    </tr>\n",
       "    <tr>\n",
       "      <th>GM6001</th>\n",
       "      <td>0.070714</td>\n",
       "      <td>0.189824</td>\n",
       "      <td>-1.000000</td>\n",
       "    </tr>\n",
       "  </tbody>\n",
       "</table>\n",
       "</div>"
      ],
      "text/plain": [
       "               Atto647@mouse      DMSO    GM6001\n",
       "Atto647@mouse      -1.000000  0.000027  0.070714\n",
       "DMSO                0.000027 -1.000000  0.189824\n",
       "GM6001              0.070714  0.189824 -1.000000"
      ]
     },
     "execution_count": 34,
     "metadata": {},
     "output_type": "execute_result"
    }
   ],
   "source": [
    "import scikit_posthocs\n",
    "scikit_posthocs.posthoc_dunn(dfcheck, val_col=var, group_col=\"Condition\", p_adjust='bonferroni', sort=True)"
   ]
  },
  {
   "cell_type": "markdown",
   "metadata": {},
   "source": [
    "## ttests"
   ]
  },
  {
   "cell_type": "code",
   "execution_count": 11,
   "metadata": {},
   "outputs": [
    {
     "name": "stdout",
     "output_type": "stream",
     "text": [
      "0.3544948848516236\n"
     ]
    }
   ],
   "source": [
    "df_pic=df2[df2[\"Blocked or not\"]!=\"Unblocked\"]\n",
    "df_dmso=df_pic[df_pic[\"Condition\"]==\"DMSO\"][var].dropna()\n",
    "df_gm6001=df_pic[df_pic[\"Condition\"]==\"GM6001\"][var].dropna()\n",
    "df_atto=df_pic[df_pic[\"Condition\"]=='Atto647@mouse'][var]\n",
    "df_pfa=df_pic[df_pic[\"Condition\"]=='PFA fixed'][var]\n",
    "df_meth=df_pic[df_pic[\"Condition\"]=='Methanol fixed'][var]\n",
    "df_chabc=df_pic[df_pic[\"Condition\"]=='chABC - treated'][var]\n",
    "df_ubcontrol=df_pic[df_pic[\"Condition\"]==\"No Blocking\"][var]\n",
    "\n",
    "\n",
    "\n",
    "[stat, pval]=stats.ttest_ind(df_dmso,df_gm6001)\n",
    "\n",
    "print(pval)"
   ]
  },
  {
   "cell_type": "code",
   "execution_count": null,
   "metadata": {},
   "outputs": [],
   "source": []
  },
  {
   "cell_type": "code",
   "execution_count": 15,
   "metadata": {},
   "outputs": [
    {
     "data": {
      "image/png": "[encoded data removed]",
      "text/plain": [
       "<Figure size 288x432 with 1 Axes>"
      ]
     },
     "metadata": {},
     "output_type": "display_data"
    }
   ],
   "source": [
    "sns.set(font_scale=2.5)\n",
    "sns.set_style(\"ticks\")\n",
    "sns.set_palette(\"Set2\")\n",
    "from matplotlib import ticker\n",
    "\n",
    "fig=plt.figure(figsize=(4,6))\n",
    "df2plot=dfcheck#[df2[\"Blocked or not\"]!=\"Unblocked\"]\n",
    "var=\"bg sub int under mask\"\n",
    "#var=\"ecm mean int norm2med\"\n",
    "\n",
    "order=['Atto647@mouse',\n",
    "    'DMSO',\n",
    "       'GM6001'\n",
    "       ]\n",
    "\n",
    "paletteswarm ={\n",
    "               \"Atto647@mouse\":\"#333333\",\n",
    "               \"DMSO\":\"#2F67F8\",\n",
    "               \"GM6001\":\"#2F67F8\"\n",
    "               }\n",
    "palette ={\n",
    "          \"Atto647@mouse\":\"#adadad\",\n",
    "               \"DMSO\":\"#abc2fc\",\n",
    "               \"GM6001\":\"#abc2fc\"\n",
    "               }\n",
    "\n",
    "\n",
    "g=sns.barplot(data=df2plot,y=var,x=\"Condition\",\n",
    "            order=order,palette=palette,ci=None)\n",
    "\n",
    "g=sns.swarmplot(data=df2plot,y=var,x=\"Condition\",\n",
    "            order=order,palette=paletteswarm,size=8)\n",
    "\n",
    "def change_width(ax, new_value) :\n",
    "    for patch in ax.patches :\n",
    "        current_width = patch.get_width()\n",
    "        diff = current_width - new_value\n",
    "        \n",
    "        # we change the bar width\n",
    "        patch.set_width(new_value)\n",
    "\n",
    "        # we recenter the bar\n",
    "        patch.set_x(patch.get_x() + diff * .5)\n",
    "        \n",
    "change_width(g, .8)\n",
    "\n",
    "plt.errorbar(x=np.arange(0,len(order)),\n",
    "             y=[df2plot[df2plot[\"Condition\"]==condtype][var].mean() for condtype in order],\n",
    "             yerr=[df2plot[df2plot[\"Condition\"]==condtype][var].sem() for condtype in order],\n",
    "             xerr=None,ecolor='black',fmt='none',capsize=10,linewidth=3,\n",
    "             capthick=3,zorder=10,\n",
    "            alpha=1)\n",
    "\n",
    "plt.axhline(0, color='#333333',alpha=1,linewidth=4)\n",
    "\n",
    "g.xaxis.set_tick_params(width=4)\n",
    "g.yaxis.set_tick_params(width=4)\n",
    "\n",
    "plt.rcParams['font.sans-serif'] = 'Helvetica'\n",
    "\n",
    "\n",
    "g.set_ylabel('')\n",
    "g.set_xlabel('',color='#333333',alpha=.7)\n",
    "\n",
    "\n",
    "g.grid(False)\n",
    "\n",
    "\n",
    "for axis in ['top','bottom','left','right']:\n",
    "  g.spines[axis].set_linewidth(4)\n",
    "  g.spines[axis].set_color('#333333')\n",
    "  g.spines[axis].set_alpha(1)\n",
    "\n",
    "plt.xticks(g.get_xticks(),['Neg ctrl','Vehicle','GM6001'],\n",
    "           rotation=75,size=24)\n",
    "offsets={\"left\":10,\"bottom\":0}\n",
    "trims={\"left\":True,\"bottom\":False,\"right\":False}\n",
    "sns.despine(ax=g,right=True,top=True,bottom=True,trim=trims,offset=offsets)\n",
    "plt.yticks([0,50,100,150],fontsize=22,color='#333333')\n",
    "\n",
    "\n",
    "scale_x=100\n",
    "ticks_y=ticker.FuncFormatter(lambda x, pos: '{0:g}' .format(x/scale_x))\n",
    "g=plt.gca()\n",
    "g.yaxis.set_major_formatter(ticks_y)\n",
    "\n",
    "#plt.ylim([0,12.5])\n",
    "x1, x2 = 0,2\n",
    "y= 175\n",
    "h=2\n",
    "col='black'\n",
    "plt.plot([x1, x1, x2, x2], [y, y+h, y+h, y], lw=3.5, c=col)\n",
    "plt.text((x1+x2)*.5, y+h, \"***\", ha='center', va='bottom', color=col,size=24, weight='bold')\n",
    "\n",
    "x1, x2 = 0,1\n",
    "y= 155\n",
    "h=2\n",
    "col='black'\n",
    "plt.plot([x1, x1, x2, x2], [y, y+h, y+h, y], lw=3.5, c=col)\n",
    "plt.text((x1+x2)*.5, y+h, \"***\", ha='center', va='bottom', color=col,size=24, weight='bold')\n",
    "\n",
    "x1, x2 = 2,1\n",
    "y= 140\n",
    "h=2\n",
    "col='black'\n",
    "plt.plot([x1, x1, x2, x2], [y, y+h, y+h, y], lw=3.5, c=col)\n",
    "plt.text((x1+x2)*.5, y+h, \"ns\", ha='center', va='bottom', color=col,size=24, weight='bold')\n",
    "\n",
    "\n",
    "\n",
    "diri=\"/Volumes/Macintosh HD/Users/taldankovich/Downloads/figures/\"\n",
    "\n",
    "fig.savefig(diri+'supp_ctrl_notpreexistingepitopes_gm6001_new.svg', bbox_inches='tight', format='svg')"
   ]
  },
  {
   "cell_type": "code",
   "execution_count": 34,
   "metadata": {},
   "outputs": [],
   "source": [
    "\n",
    "dfcheck.to_csv(\"/Volumes/Macintosh HD/Users/taldankovich/Downloads/csvs/dfmeans.csv\") "
   ]
  },
  {
   "cell_type": "markdown",
   "metadata": {},
   "source": [
    "## Number of images in each condition"
   ]
  },
  {
   "cell_type": "code",
   "execution_count": 14,
   "metadata": {},
   "outputs": [
    {
     "name": "stdout",
     "output_type": "stream",
     "text": [
      "DMSO 40\n",
      "Ignore 40\n",
      "GM6001 40\n"
     ]
    }
   ],
   "source": [
    "for condition in df2plot[\"Condition\"].unique():\n",
    "    print(condition+' ' + str(len(df2plot[df2plot[\"Condition\"]==condition])))"
   ]
  },
  {
   "cell_type": "markdown",
   "metadata": {},
   "source": [
    "## find representative pics"
   ]
  },
  {
   "cell_type": "code",
   "execution_count": 16,
   "metadata": {},
   "outputs": [
    {
     "data": {
      "text/plain": [
       "40"
      ]
     },
     "execution_count": 16,
     "metadata": {},
     "output_type": "execute_result"
    }
   ],
   "source": [
    "len(df_dmso)"
   ]
  },
  {
   "cell_type": "code",
   "execution_count": 9,
   "metadata": {},
   "outputs": [
    {
     "data": {
      "text/plain": [
       "<Figure size 1440x10800 with 0 Axes>"
      ]
     },
     "metadata": {},
     "output_type": "display_data"
    }
   ],
   "source": [
    "\n",
    "df_pic=df2[df2[\"Blocked or not\"]!=\"Unblocked\"]\n",
    "df_dmso=df_pic[df_pic[\"Condition\"]==\"DMSO\"]\n",
    "df_gm6001=df_pic[df_pic[\"Condition\"]==\"GM6001\"]\n",
    "df_atto=df_pic[df_pic[\"Condition\"]=='Atto647@mouse']\n",
    "df_pfa=df_pic[df_pic[\"Condition\"]=='PFA fixed']\n",
    "df_meth=df_pic[df_pic[\"Condition\"]=='Methanol fixed']\n",
    "df_chabc=df_pic[df_pic[\"Condition\"]=='chABC - treated']\n",
    "df_ubcontrol=df_pic[df_pic[\"Condition\"]==\"No Blocking\"]\n",
    "\n",
    "df_2show=df_atto\n",
    "df_2show=df_2show.reset_index()\n",
    "\n",
    "minval=0\n",
    "maxval=10000\n",
    "num=1\n",
    "leng=len(df_2show)\n",
    "fig=plt.figure(figsize=(20,150))\n",
    "for i in range(0,len(df_2show)):\n",
    "    #print(i)\n",
    "    fig.add_subplot(leng,1,num)\n",
    "    with ND2Reader(df_2show[\"filename\"][i]) as images:\n",
    "        ecm_image=images[0]\n",
    "        plt.imshow(ecm_image,interpolation='none',cmap='hot',vmin=minval,vmax=maxval)\n",
    "        plt.title(df_2show[\"filename\"][i][-40:], size=14)\n",
    "        plt.yticks(visible=False)\n",
    "        plt.xticks(visible=False)\n",
    "        plt.grid(visible=False)\n",
    "        plt.axis(visible=False)\n",
    "        #scalebar = ScaleBar(107.1, 'nm', dimension='si-length',box_alpha=0,location='lower right',length_fraction=0.2,\n",
    "        #                       font_properties={'size':0,'weight':'bold'},color='white',border_pad=0.5) # 1 pixel = 0.2 meter\n",
    "        #plt.gca().add_artist(scalebar)\n",
    "        num+=1\n",
    "    "
   ]
  },
  {
   "cell_type": "code",
   "execution_count": null,
   "metadata": {},
   "outputs": [],
   "source": []
  }
 ],
 "metadata": {
  "kernelspec": {
   "display_name": "Python 3",
   "language": "python",
   "name": "python3"
  },
  "language_info": {
   "codemirror_mode": {
    "name": "ipython",
    "version": 3
   },
   "file_extension": ".py",
   "mimetype": "text/x-python",
   "name": "python",
   "nbconvert_exporter": "python",
   "pygments_lexer": "ipython3",
   "version": "3.7.1"
  }
 },
 "nbformat": 4,
 "nbformat_minor": 2
}
