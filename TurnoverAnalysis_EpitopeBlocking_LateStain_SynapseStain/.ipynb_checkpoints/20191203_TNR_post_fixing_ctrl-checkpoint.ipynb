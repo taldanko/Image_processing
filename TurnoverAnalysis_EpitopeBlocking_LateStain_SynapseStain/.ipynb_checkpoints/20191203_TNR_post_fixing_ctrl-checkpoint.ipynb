{
 "cells": [
  {
   "cell_type": "markdown",
   "metadata": {},
   "source": [
    "## Import modules and functions"
   ]
  },
  {
   "cell_type": "code",
   "execution_count": 1,
   "metadata": {},
   "outputs": [],
   "source": [
    "import numpy as np\n",
    "import os\n",
    "from nd2reader import ND2Reader\n",
    "import matplotlib.pyplot as plt\n",
    "import matplotlib.cm as cm\n",
    "from matplotlib_scalebar.scalebar import ScaleBar\n",
    "import scipy.ndimage as ndi\n",
    "from skimage.filters import rank \n",
    "from scipy.signal import butter, lfilter\n",
    "import scipy.misc as misc\n",
    "from skimage import exposure\n",
    "from PIL import Image\n",
    "import colorcet as cc\n",
    "from scipy.misc import toimage\n",
    "import matplotlib.colors as clr\n",
    "import pandas as pd\n",
    "import seaborn as sns\n",
    "from scipy import stats\n",
    "import cv2\n",
    "from pyspark import SparkContext, SparkConf\n",
    "import skimage\n",
    "from pathlib import Path\n",
    "\n",
    "def mean2(x):\n",
    "    y = np.sum(x) / np.size(x);\n",
    "    return y\n",
    "def corr2(a,b):\n",
    "    a = a - mean2(a)\n",
    "    b = b - mean2(b)\n",
    "\n",
    "    r = (a*b).sum() / np.sqrt((a*a).sum() * (b*b).sum());\n",
    "    return r\n",
    "from copy import deepcopy\n",
    "from skimage.filters import threshold_otsu,threshold_li\n",
    "import glob\n",
    "from IPython.display import clear_output\n",
    "import scipy.io as spio"
   ]
  },
  {
   "cell_type": "markdown",
   "metadata": {},
   "source": [
    "## Define directory of images"
   ]
  },
  {
   "cell_type": "code",
   "execution_count": 2,
   "metadata": {},
   "outputs": [],
   "source": [
    "expdir='/Volumes/ukps-all$/user/tdanko/Imaging/1_ECM/Fixed culture/Controls/20191203_TNR_labeling_post_fixing/' #master folder"
   ]
  },
  {
   "cell_type": "markdown",
   "metadata": {},
   "source": [
    "## Make dictionary for storing results"
   ]
  },
  {
   "cell_type": "code",
   "execution_count": 3,
   "metadata": {},
   "outputs": [],
   "source": [
    "results = {\"filename\":[],\"exp\":[],\"coverslip\":[],\n",
    "           \"Manual mask from matlab GUI\":[],\"bg sub int under mask\":[]}\n",
    "path = os.path.dirname(expdir)  \n",
    "outputFolder = os.path.dirname(expdir + \"/new/\")\n",
    "filelist = []\n",
    "for root, _, filenames in os.walk(path):\n",
    "     for filename in filenames:\n",
    "         filelist.append(os.path.join(root, filename))      \n",
    "for i in range(0,len(filelist)):\n",
    "    if \"analyse\" in str(filelist[i]):\n",
    "        if filelist[i].endswith(\".nd2\"): \n",
    "            results[\"filename\"].append(filelist[i])\n",
    "            results[\"coverslip\"].append(filelist[i].split('/')[-2])\n",
    "            results[\"exp\"].append(filelist[i].split('/')[-4])"
   ]
  },
  {
   "cell_type": "markdown",
   "metadata": {},
   "source": [
    "## Read manual masks from Matlab GUI"
   ]
  },
  {
   "cell_type": "code",
   "execution_count": 4,
   "metadata": {},
   "outputs": [
    {
     "name": "stdout",
     "output_type": "stream",
     "text": [
      "Done!\n"
     ]
    }
   ],
   "source": [
    "## matlab files\n",
    "for im in range(0,len(results[\"filename\"])): \n",
    "    file=results[\"filename\"][im][:-4]+'_dendritesmask.mat'\n",
    "    from pathlib import Path\n",
    "    my_file = Path(file)\n",
    "    if my_file.exists():\n",
    "        print(file)\n",
    "        mat = spio.loadmat(file, squeeze_me=True)\n",
    "        mask=mat['totMask']>0.99\n",
    "        results[\"Manual mask from matlab GUI\"].append(mask)\n",
    "    else:\n",
    "        results[\"Manual mask from matlab GUI\"].append(np.nan)\n",
    "clear_output()        \n",
    "print(\"Done!\")"
   ]
  },
  {
   "cell_type": "markdown",
   "metadata": {},
   "source": [
    "## Batch analysis of images - mean intensity"
   ]
  },
  {
   "cell_type": "code",
   "execution_count": 5,
   "metadata": {},
   "outputs": [
    {
     "name": "stdout",
     "output_type": "stream",
     "text": [
      "Total number of images: 60\n",
      "Calculating image no 1 out of60\n",
      "Calculating image no 2 out of60\n",
      "Calculating image no 3 out of60\n",
      "Calculating image no 4 out of60\n",
      "Calculating image no 5 out of60\n",
      "Calculating image no 6 out of60\n",
      "Calculating image no 7 out of60\n",
      "Calculating image no 8 out of60\n",
      "Calculating image no 9 out of60\n",
      "Calculating image no 10 out of60\n",
      "Calculating image no 11 out of60\n",
      "Calculating image no 12 out of60\n",
      "Calculating image no 13 out of60\n",
      "Calculating image no 14 out of60\n",
      "Calculating image no 15 out of60\n",
      "Calculating image no 16 out of60\n",
      "Calculating image no 17 out of60\n",
      "Calculating image no 18 out of60\n",
      "Calculating image no 19 out of60\n",
      "Calculating image no 20 out of60\n",
      "Calculating image no 21 out of60\n",
      "Calculating image no 22 out of60\n",
      "Calculating image no 23 out of60\n",
      "Calculating image no 24 out of60\n",
      "Calculating image no 25 out of60\n",
      "Calculating image no 26 out of60\n",
      "Calculating image no 27 out of60\n",
      "Calculating image no 28 out of60\n",
      "Calculating image no 29 out of60\n",
      "Calculating image no 30 out of60\n",
      "Calculating image no 31 out of60\n",
      "Calculating image no 32 out of60\n",
      "Calculating image no 33 out of60\n",
      "Calculating image no 34 out of60\n",
      "Calculating image no 35 out of60\n",
      "Calculating image no 36 out of60\n",
      "Calculating image no 37 out of60\n",
      "Calculating image no 38 out of60\n",
      "Calculating image no 39 out of60\n",
      "Calculating image no 40 out of60\n",
      "Calculating image no 41 out of60\n",
      "Calculating image no 42 out of60\n",
      "Calculating image no 43 out of60\n",
      "Calculating image no 44 out of60\n",
      "Calculating image no 45 out of60\n",
      "Calculating image no 46 out of60\n",
      "Calculating image no 47 out of60\n",
      "Calculating image no 48 out of60\n",
      "Calculating image no 49 out of60\n",
      "Calculating image no 50 out of60\n",
      "Calculating image no 51 out of60\n",
      "Calculating image no 52 out of60\n",
      "Calculating image no 53 out of60\n",
      "Calculating image no 54 out of60\n",
      "Calculating image no 55 out of60\n",
      "Calculating image no 56 out of60\n",
      "Calculating image no 57 out of60\n",
      "Calculating image no 58 out of60\n",
      "Calculating image no 59 out of60\n",
      "Calculating image no 60 out of60\n"
     ]
    }
   ],
   "source": [
    "print('Total number of images: ' + str(len(results['filename'])))\n",
    "\n",
    "for i in range(0,len(results[\"filename\"])): \n",
    "    flag=False\n",
    "    print('Calculating image no ' + str(i+1) + ' out of' + str(len(results[\"filename\"])))\n",
    "    #read the image\n",
    "    with ND2Reader(results[\"filename\"][i]) as images:\n",
    "        ecm_image=images[0]\n",
    "    #convert to numpy array - a format easier to manipunuclei with code\n",
    "    ecm_image=ecm_image.astype(np.int16)\n",
    "    #read masks \n",
    "    matlab_mask=results[\"Manual mask from matlab GUI\"][i]\n",
    "    if type(matlab_mask)==np.ndarray:\n",
    "        flag=True\n",
    "    #image after background subtraction\n",
    "    #for ecm image\n",
    "    if flag==True:\n",
    "        ecm_matlabmasked_bgreduced=deepcopy(ecm_image)\n",
    "        bg_matlabmask=np.mean(ndi.median_filter(ecm_image[matlab_mask],size=5))+0*np.std(ndi.median_filter(ecm_image[matlab_mask],size=5))\n",
    "        ecm_matlabmasked_bgreduced=np.subtract(ecm_matlabmasked_bgreduced,bg_matlabmask)\n",
    "        ecm_matlabmasked_bgreduced[ecm_matlabmasked_bgreduced<0]=0\n",
    "        ecm_matlabmasked_bgreduced[~matlab_mask]=0\n",
    "        \n",
    "    if flag==True:\n",
    "        results[\"bg sub int under mask\"].append(ecm_matlabmasked_bgreduced[matlab_mask].mean())\n",
    "    else:\n",
    "        results[\"bg sub int under mask\"].append(np.nan)"
   ]
  },
  {
   "cell_type": "markdown",
   "metadata": {},
   "source": [
    "## Make a dataframe of the results"
   ]
  },
  {
   "cell_type": "code",
   "execution_count": 6,
   "metadata": {},
   "outputs": [],
   "source": [
    "df=pd.DataFrame(results)\n",
    "df2=deepcopy(df)\n",
    "df2['Blocked or not']='None'\n",
    "df2.loc[df2['exp'].str.contains('blocked'), 'Blocked or not'] = 'Blocked'\n",
    "df2.loc[df2['exp'].str.contains('noblocking'), 'Blocked or not'] = 'Unblocked'\n",
    "df2.loc[df2['filename'].str.contains('atto'), 'Blocked or not'] = 'Atto647@mouse'"
   ]
  },
  {
   "cell_type": "code",
   "execution_count": 16,
   "metadata": {},
   "outputs": [
    {
     "data": {
      "image/png": "[encoded data removed]",
      "text/plain": [
       "<Figure size 360x432 with 1 Axes>"
      ]
     },
     "metadata": {},
     "output_type": "display_data"
    }
   ],
   "source": [
    "sns.set(font_scale=2.5)\n",
    "sns.set_style(\"ticks\")\n",
    "sns.set_palette(\"Set2\")\n",
    "from matplotlib import ticker\n",
    "\n",
    "fig=plt.figure(figsize=(5,6))\n",
    "df2plot=df2\n",
    "var=\"bg sub int under mask\"\n",
    "#var=\"ecm mean int norm2med\"\n",
    "\n",
    "order=['Atto647@mouse',\n",
    "       'Blocked','Unblocked'\n",
    "       ]\n",
    "\n",
    "'''paletteswarm ={\"Background - Autofluorescence\":\"#2F67F8\",\n",
    "               \"Unblocked TNR647\":\"#333333\",\n",
    "               \"Background - Atto647\":\"#2F67F8\",\n",
    "               \"Block+0, TNR647\":\"#2F67F8\",\n",
    "               \"Block+12, TNR647\":\"#2F67F8\"}\n",
    "palette ={\"Background - Autofluorescence\":\"#abc2fc\",\n",
    "          \"Unblocked TNR647\":\"#adadad\",\n",
    "               \"Background - Atto647\":\"#abc2fc\",\n",
    "               \"Block+0, TNR647\":\"#abc2fc\",\n",
    "               \"Block+12, TNR647\":\"#abc2fc\"}'''\n",
    "\n",
    "\n",
    "g=sns.barplot(data=df2plot,y=var,x=\"Blocked or not\"\n",
    "            ,order=order,color=\"#abc2fc\",ci=None)\n",
    "\n",
    "g=sns.swarmplot(data=df2plot,y=var,x=\"Blocked or not\"\n",
    "            ,order=order,color=\"#2F67F8\",size=8)\n",
    "\n",
    "def change_width(ax, new_value) :\n",
    "    for patch in ax.patches :\n",
    "        current_width = patch.get_width()\n",
    "        diff = current_width - new_value\n",
    "        \n",
    "        # we change the bar width\n",
    "        patch.set_width(new_value)\n",
    "\n",
    "        # we recenter the bar\n",
    "        patch.set_x(patch.get_x() + diff * .5)\n",
    "        \n",
    "change_width(g, .8)\n",
    "\n",
    "plt.errorbar(x=np.arange(0,len(order)),\n",
    "             y=[df2plot[df2plot[\"Blocked or not\"]==condtype][var].mean() for condtype in order],\n",
    "             yerr=[df2plot[df2plot[\"Blocked or not\"]==condtype][var].sem() for condtype in order],\n",
    "             xerr=None,ecolor='black',fmt='none',capsize=10,linewidth=3,\n",
    "             capthick=3,zorder=10,\n",
    "            alpha=1)\n",
    "\n",
    "plt.axhline(0, color='#333333',alpha=1,linewidth=4)\n",
    "\n",
    "g.xaxis.set_tick_params(width=4)\n",
    "g.yaxis.set_tick_params(width=4)\n",
    "\n",
    "plt.rcParams['font.sans-serif'] = 'Helvetica'\n",
    "\n",
    "\n",
    "g.set_ylabel('')\n",
    "g.set_xlabel('',color='#333333',alpha=.7)\n",
    "\n",
    "\n",
    "g.grid(False)\n",
    "\n",
    "\n",
    "for axis in ['top','bottom','left','right']:\n",
    "  g.spines[axis].set_linewidth(4)\n",
    "  g.spines[axis].set_color('#333333')\n",
    "  g.spines[axis].set_alpha(1)\n",
    "\n",
    "plt.xticks(g.get_xticks(),order,\n",
    "           rotation=70,size=24)\n",
    "offsets={\"left\":10,\"bottom\":0}\n",
    "trims={\"left\":True,\"bottom\":False,\"right\":False}\n",
    "sns.despine(ax=g,right=True,top=True,bottom=True,trim=trims,offset=offsets)\n",
    "#plt.yticks([0,2,4,6,8,10,12],fontsize=22,color='#333333')\n",
    "\n",
    "\n",
    "scale_x=100\n",
    "ticks_y=ticker.FuncFormatter(lambda x, pos: '{0:g}' .format(x/scale_x))\n",
    "g=plt.gca()\n",
    "g.yaxis.set_major_formatter(ticks_y)\n",
    "\n",
    "#plt.ylim([0,12.5])\n",
    "x1, x2 = 0,1\n",
    "y= 200\n",
    "h=0.001\n",
    "col='black'\n",
    "plt.plot([x1, x1, x2, x2], [y, y+h, y+h, y], lw=3.5, c=col)\n",
    "plt.text((x1+x2)*.5, y+h, \"ns\", ha='center', va='bottom', color=col,size=24, weight='bold')\n",
    "\n",
    "x1, x2 = 2,1\n",
    "y= 650\n",
    "h=0.001\n",
    "col='black'\n",
    "plt.plot([x1, x1, x2, x2], [y, y+h, y+h, y], lw=3.5, c=col)\n",
    "plt.text((x1+x2)*.5, y+h, \"***\", ha='center', va='bottom', color=col,size=24, weight='bold')\n",
    "\n",
    "\n",
    "\n",
    "\n",
    "diri=\"/Volumes/Macintosh HD/Users/taldankovich/Downloads/figures/\"\n",
    "\n",
    "fig.savefig(diri+'supp1_fixedctrl.svg', bbox_inches='tight', format='svg')"
   ]
  }
 ],
 "metadata": {
  "kernelspec": {
   "display_name": "Python 3",
   "language": "python",
   "name": "python3"
  },
  "language_info": {
   "codemirror_mode": {
    "name": "ipython",
    "version": 3
   },
   "file_extension": ".py",
   "mimetype": "text/x-python",
   "name": "python",
   "nbconvert_exporter": "python",
   "pygments_lexer": "ipython3",
   "version": "3.7.1"
  }
 },
 "nbformat": 4,
 "nbformat_minor": 2
}
