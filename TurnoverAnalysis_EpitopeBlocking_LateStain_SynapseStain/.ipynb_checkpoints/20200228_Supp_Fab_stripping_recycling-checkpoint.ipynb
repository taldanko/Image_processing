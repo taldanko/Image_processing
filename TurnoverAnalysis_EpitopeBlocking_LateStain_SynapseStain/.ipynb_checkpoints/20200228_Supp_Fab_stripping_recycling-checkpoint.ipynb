{
 "cells": [
  {
   "cell_type": "markdown",
   "metadata": {},
   "source": [
    "## Import modules and functions"
   ]
  },
  {
   "cell_type": "code",
   "execution_count": 1,
   "metadata": {},
   "outputs": [],
   "source": [
    "import numpy as np\n",
    "import os\n",
    "from nd2reader import ND2Reader\n",
    "import matplotlib.pyplot as plt\n",
    "import matplotlib.cm as cm\n",
    "from matplotlib_scalebar.scalebar import ScaleBar\n",
    "import scipy.ndimage as ndi\n",
    "from skimage.filters import rank \n",
    "from scipy.signal import butter, lfilter\n",
    "import scipy.misc as misc\n",
    "from skimage import exposure\n",
    "from PIL import Image\n",
    "import colorcet as cc\n",
    "from scipy.misc import toimage\n",
    "import matplotlib.colors as clr\n",
    "import pandas as pd\n",
    "import seaborn as sns\n",
    "from scipy import stats\n",
    "import cv2\n",
    "from pyspark import SparkContext, SparkConf\n",
    "import skimage\n",
    "from pathlib import Path\n",
    "\n",
    "def mean2(x):\n",
    "    y = np.sum(x) / np.size(x);\n",
    "    return y\n",
    "def corr2(a,b):\n",
    "    a = a - mean2(a)\n",
    "    b = b - mean2(b)\n",
    "\n",
    "    r = (a*b).sum() / np.sqrt((a*a).sum() * (b*b).sum());\n",
    "    return r\n",
    "from copy import deepcopy\n",
    "from skimage.filters import threshold_otsu,threshold_li\n",
    "import glob\n",
    "from IPython.display import clear_output\n",
    "import scipy.io as spio\n",
    "import matplotlib.ticker as ticker"
   ]
  },
  {
   "cell_type": "markdown",
   "metadata": {},
   "source": [
    "## Specify experiment directory"
   ]
  },
  {
   "cell_type": "code",
   "execution_count": 2,
   "metadata": {},
   "outputs": [],
   "source": [
    "file2read='/Volumes/ukps-all$/user/tdanko/Imaging/1_ECM/Live Culture/Antibody Stripping/Longterm_stripping_fabs/longterm_fab_analysis_Silvio/both_Fab_stripping_18_02_2020.CSV' #master folder"
   ]
  },
  {
   "cell_type": "markdown",
   "metadata": {},
   "source": [
    "## Read csv file containing the final ratios - before/after\n",
    "- the ratios for each exp are normalized to day 0"
   ]
  },
  {
   "cell_type": "code",
   "execution_count": 9,
   "metadata": {},
   "outputs": [],
   "source": [
    "df=pd.read_csv(file2read,sep=';',header=None)"
   ]
  },
  {
   "cell_type": "code",
   "execution_count": 10,
   "metadata": {},
   "outputs": [
    {
     "data": {
      "text/html": [
       "<div>\n",
       "<style scoped>\n",
       "    .dataframe tbody tr th:only-of-type {\n",
       "        vertical-align: middle;\n",
       "    }\n",
       "\n",
       "    .dataframe tbody tr th {\n",
       "        vertical-align: top;\n",
       "    }\n",
       "\n",
       "    .dataframe thead th {\n",
       "        text-align: right;\n",
       "    }\n",
       "</style>\n",
       "<table border=\"1\" class=\"dataframe\">\n",
       "  <thead>\n",
       "    <tr style=\"text-align: right;\">\n",
       "      <th></th>\n",
       "      <th>0</th>\n",
       "      <th>1</th>\n",
       "      <th>2</th>\n",
       "      <th>3</th>\n",
       "    </tr>\n",
       "  </thead>\n",
       "  <tbody>\n",
       "    <tr>\n",
       "      <th>0</th>\n",
       "      <td>1</td>\n",
       "      <td>0.5320</td>\n",
       "      <td>0.5753</td>\n",
       "      <td>0.7503</td>\n",
       "    </tr>\n",
       "    <tr>\n",
       "      <th>1</th>\n",
       "      <td>1</td>\n",
       "      <td>0.6981</td>\n",
       "      <td>0.5425</td>\n",
       "      <td>0.8215</td>\n",
       "    </tr>\n",
       "    <tr>\n",
       "      <th>2</th>\n",
       "      <td>1</td>\n",
       "      <td>0.5298</td>\n",
       "      <td>0.5071</td>\n",
       "      <td>0.6431</td>\n",
       "    </tr>\n",
       "  </tbody>\n",
       "</table>\n",
       "</div>"
      ],
      "text/plain": [
       "   0       1       2       3\n",
       "0  1  0.5320  0.5753  0.7503\n",
       "1  1  0.6981  0.5425  0.8215\n",
       "2  1  0.5298  0.5071  0.6431"
      ]
     },
     "execution_count": 10,
     "metadata": {},
     "output_type": "execute_result"
    }
   ],
   "source": [
    "df"
   ]
  },
  {
   "cell_type": "markdown",
   "metadata": {},
   "source": [
    "## Make dataframe with names of experiments, and separate rows for each day"
   ]
  },
  {
   "cell_type": "code",
   "execution_count": 11,
   "metadata": {},
   "outputs": [],
   "source": [
    "results={\"exp number\":[],\"day\":[],\"ratio\":[]}\n",
    "for i in range(len(df)):\n",
    "    for j in range(0,4):\n",
    "        results[\"exp number\"].append(i)\n",
    "        results[\"day\"].append(j)\n",
    "        results[\"ratio\"].append(df.loc[i][j])\n",
    "df2=pd.DataFrame(results)"
   ]
  },
  {
   "cell_type": "markdown",
   "metadata": {},
   "source": [
    "## Plot"
   ]
  },
  {
   "cell_type": "code",
   "execution_count": 54,
   "metadata": {},
   "outputs": [
    {
     "data": {
      "image/png": "[encoded data removed]",
      "text/plain": [
       "<Figure size 576x432 with 1 Axes>"
      ]
     },
     "metadata": {},
     "output_type": "display_data"
    }
   ],
   "source": [
    "sns.set(font_scale=2.5)\n",
    "sns.set(font=\"Arial\")\n",
    "sns.set_style(\"ticks\")\n",
    "sns.set_palette(\"Set2\")\n",
    "\n",
    "fig=plt.figure(figsize=(8,6))\n",
    "g=sns.swarmplot(x=\"day\",y=\"ratio\",data=df2,color='#2F67F8',size=8)\n",
    "g=sns.lineplot(x=\"day\",y=\"ratio\",data=df2,linewidth=5,color='#2F67F8',ci=None)\n",
    "means=[]\n",
    "sems=[]\n",
    "for i in range(0,8):\n",
    "    means.append(df2[df2[\"day\"]==i][\"ratio\"].mean())\n",
    "    sems.append(df2[df2[\"day\"]==i][\"ratio\"].sem())\n",
    "\n",
    "x=np.arange(0,8,1)\n",
    "y=np.array(means)\n",
    "yerr=np.array(sems)\n",
    "plt.fill_between(x, y-yerr, y+yerr,\n",
    "    alpha=0.5, edgecolor='#2F67F8', facecolor='#2F67F8')\n",
    "\n",
    "    \n",
    "g.tick_params(width=4,color='#333333')\n",
    "g.set_xlabel('Time [d]',color='#333333',fontsize=22)\n",
    "g.set_ylabel(\"\",\n",
    "    color='black',alpha=.7,fontsize=22,weight='bold')\n",
    "plt.ylim([0.4,1.2])\n",
    "g.grid(False)\n",
    "plt.rcParams['font.sans-serif'] = 'Helvetica'\n",
    "for axis in ['top','bottom','left','right']:\n",
    "  g.spines[axis].set_linewidth(4)\n",
    "  g.spines[axis].set_color('#333333')\n",
    "  g.spines[axis].set_alpha(1)\n",
    "offsets={\"left\":10,\"bottom\":0}\n",
    "trims={\"left\":True,\"bottom\":False,\"right\":False}\n",
    "sns.despine(ax=g,right=True,top=True,trim=trims,offset=offsets)\n",
    "plt.title('')\n",
    "plt.locator_params(axis='y', nbins=5)\n",
    "plt.xticks(visible=True,color='#333333',fontsize=20)\n",
    "plt.yticks([0.5,1],color='#333333',fontsize=20)\n",
    "\n",
    "\n",
    "x1, x2 = 1,3\n",
    "y=1.08\n",
    "h=0.02\n",
    "col='black'\n",
    "plt.plot([x1, x1, x2, x2], [y, y+h, y+h, y], lw=3.5, c=col)\n",
    "plt.text((x1+x2)*.5, y+h, \"*\", ha='center', va='bottom', color=col,size=24, weight='bold')\n",
    "\n",
    "x1, x2 = 2,3\n",
    "y= 1\n",
    "h=0.02\n",
    "col='black'\n",
    "plt.plot([x1, x1, x2, x2], [y, y+h, y+h, y], lw=3.5, c=col)\n",
    "plt.text((x1+x2)*.5, y+h, \"**\", ha='center', va='bottom', color=col,size=24, weight='bold')\n",
    "\n",
    "\n",
    "diri=\"/Volumes/Macintosh HD/Users/taldankovich/Downloads/figures/\"\n",
    "fig.savefig(diri+'longterm_fab_stripping.svg', bbox_inches='tight', format='svg')"
   ]
  },
  {
   "cell_type": "markdown",
   "metadata": {},
   "source": [
    "## Stats - ttest between normalized ratios"
   ]
  },
  {
   "cell_type": "markdown",
   "metadata": {},
   "source": [
    "Day3"
   ]
  },
  {
   "cell_type": "code",
   "execution_count": 18,
   "metadata": {},
   "outputs": [
    {
     "name": "stdout",
     "output_type": "stream",
     "text": [
      "0.010873325146167612\n"
     ]
    }
   ],
   "source": [
    "arrayexps=np.stack([df2[df2[\"exp number\"]==0][\"ratio\"].values/df2[df2[\"exp number\"]==0][\"ratio\"].values[3],\n",
    "                   df2[df2[\"exp number\"]==1][\"ratio\"].values/df2[df2[\"exp number\"]==1][\"ratio\"].values[3],\n",
    "                   df2[df2[\"exp number\"]==2][\"ratio\"].values/df2[df2[\"exp number\"]==2][\"ratio\"].values[3],\n",
    "                   df2[df2[\"exp number\"]==3][\"ratio\"].values/df2[df2[\"exp number\"]==3][\"ratio\"].values[3]])\n",
    "[stat,pval]=stats.ttest_rel(arrayexps[:,3], arrayexps[:,2])\n",
    "print(pval)"
   ]
  },
  {
   "cell_type": "markdown",
   "metadata": {},
   "source": [
    "Day6"
   ]
  },
  {
   "cell_type": "code",
   "execution_count": 20,
   "metadata": {},
   "outputs": [
    {
     "name": "stdout",
     "output_type": "stream",
     "text": [
      "0.027177344247064698\n"
     ]
    }
   ],
   "source": [
    "arrayexps=np.stack([df2[df2[\"exp number\"]==0][\"ratio\"].values/df2[df2[\"exp number\"]==0][\"ratio\"].values[6],\n",
    "                   df2[df2[\"exp number\"]==1][\"ratio\"].values/df2[df2[\"exp number\"]==1][\"ratio\"].values[6],\n",
    "                   df2[df2[\"exp number\"]==2][\"ratio\"].values/df2[df2[\"exp number\"]==2][\"ratio\"].values[6],\n",
    "                   df2[df2[\"exp number\"]==3][\"ratio\"].values/df2[df2[\"exp number\"]==3][\"ratio\"].values[6]])\n",
    "[stat,pval]=stats.ttest_rel(arrayexps[:,6], arrayexps[:,4])\n",
    "print(pval)"
   ]
  }
 ],
 "metadata": {
  "kernelspec": {
   "display_name": "Python 3",
   "language": "python",
   "name": "python3"
  },
  "language_info": {
   "codemirror_mode": {
    "name": "ipython",
    "version": 3
   },
   "file_extension": ".py",
   "mimetype": "text/x-python",
   "name": "python",
   "nbconvert_exporter": "python",
   "pygments_lexer": "ipython3",
   "version": "3.7.1"
  }
 },
 "nbformat": 4,
 "nbformat_minor": 2
}
