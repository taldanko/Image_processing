{
 "cells": [
  {
   "cell_type": "code",
   "execution_count": 1,
   "metadata": {},
   "outputs": [],
   "source": [
    "import numpy as np\n",
    "import os\n",
    "from nd2reader import ND2Reader\n",
    "import matplotlib.pyplot as plt\n",
    "import matplotlib.cm as cm\n",
    "from matplotlib_scalebar.scalebar import ScaleBar\n",
    "import scipy.ndimage as ndi\n",
    "from skimage.filters import rank \n",
    "from scipy.signal import butter, lfilter\n",
    "import scipy.misc as misc\n",
    "from skimage import exposure\n",
    "from PIL import Image\n",
    "import colorcet as cc\n",
    "from scipy.misc import toimage\n",
    "import matplotlib.colors as clr\n",
    "import pandas as pd\n",
    "import seaborn as sns\n",
    "from scipy import stats\n",
    "import cv2\n",
    "from pyspark import SparkContext, SparkConf\n",
    "import skimage\n",
    "from pathlib import Path\n",
    "\n",
    "def mean2(x):\n",
    "    y = np.sum(x) / np.size(x);\n",
    "    return y\n",
    "def corr2(a,b):\n",
    "    a = a - mean2(a)\n",
    "    b = b - mean2(b)\n",
    "\n",
    "    r = (a*b).sum() / np.sqrt((a*a).sum() * (b*b).sum());\n",
    "    return r\n",
    "from copy import deepcopy\n",
    "from skimage.filters import threshold_otsu,threshold_li\n",
    "import glob\n",
    "from IPython.display import clear_output\n",
    "import scipy.io as spio\n",
    "import pims\n",
    "from skimage.measure import label, regionprops\n",
    "from skimage.color import label2rgb\n",
    "import scipy"
   ]
  },
  {
   "cell_type": "code",
   "execution_count": 2,
   "metadata": {},
   "outputs": [],
   "source": [
    "expdir='/Volumes/ukps-all$/user/tdanko/Imaging/1_ECM/Organotypic Slices/20191205_organotypic/' #master folder\n",
    "protein=\"TNR\" #TNR,Agg,WFA,HABP"
   ]
  },
  {
   "cell_type": "code",
   "execution_count": 96,
   "metadata": {},
   "outputs": [],
   "source": [
    "results = {\"filename\":[],\n",
    "          \"exp condition\":[],\n",
    "          \"ecmchannelno\":[],\"intensity\":[]\n",
    "          }\n",
    "           \n",
    "path = os.path.dirname(expdir)  \n",
    "outputFolder = os.path.dirname(expdir + \"/new/\")\n",
    "filelist = []\n",
    "for root, _, filenames in os.walk(path):\n",
    "     for filename in filenames:\n",
    "         filelist.append(os.path.join(root, filename))      \n",
    "for i in range(0,len(filelist)):\n",
    "    if (\"0002\" in str(filelist[i]))==True:\n",
    "            if filelist[i].endswith(\".tif\"): \n",
    "                #if str(filelist[i][:-12]) not in str(results[\"filename\"]):\n",
    "\n",
    "                    results[\"filename\"].append(filelist[i])\n",
    "                    results[\"exp condition\"].append(filelist[i].split('/')[-2])\n",
    "                    #channeldir=\"/\".join(filelist[i][:-12].split(\"/\")[:-2])\n",
    "                    #exec(open(channeldir+\"/channels.txt\").read())\n",
    "                    results[\"ecmchannelno\"].append(1)\n",
    "\n"
   ]
  },
  {
   "cell_type": "code",
   "execution_count": 97,
   "metadata": {},
   "outputs": [
    {
     "data": {
      "text/plain": [
       "['/Volumes/ukps-all$/user/tdanko/Imaging/1_ECM/Organotypic Slices/20191205_organotypic/1_blocked_bic/1_1_C0002.tif',\n",
       " '/Volumes/ukps-all$/user/tdanko/Imaging/1_ECM/Organotypic Slices/20191205_organotypic/1_blocked_bic/1_2_C0002.tif',\n",
       " '/Volumes/ukps-all$/user/tdanko/Imaging/1_ECM/Organotypic Slices/20191205_organotypic/1_blocked_bic/1_3_C0002.tif',\n",
       " '/Volumes/ukps-all$/user/tdanko/Imaging/1_ECM/Organotypic Slices/20191205_organotypic/1_blocked_bic/2_1_C0002.tif',\n",
       " '/Volumes/ukps-all$/user/tdanko/Imaging/1_ECM/Organotypic Slices/20191205_organotypic/1_blocked_bic/2_2_C0002.tif',\n",
       " '/Volumes/ukps-all$/user/tdanko/Imaging/1_ECM/Organotypic Slices/20191205_organotypic/1_blocked_bic/2_4_C0002.tif',\n",
       " '/Volumes/ukps-all$/user/tdanko/Imaging/1_ECM/Organotypic Slices/20191205_organotypic/2_unblocked_bic/1_1_C0002.tif',\n",
       " '/Volumes/ukps-all$/user/tdanko/Imaging/1_ECM/Organotypic Slices/20191205_organotypic/2_unblocked_bic/1_2_C0002.tif',\n",
       " '/Volumes/ukps-all$/user/tdanko/Imaging/1_ECM/Organotypic Slices/20191205_organotypic/2_unblocked_bic/1_3_C0002.tif',\n",
       " '/Volumes/ukps-all$/user/tdanko/Imaging/1_ECM/Organotypic Slices/20191205_organotypic/2_unblocked_bic/2_!_C0002.tif',\n",
       " '/Volumes/ukps-all$/user/tdanko/Imaging/1_ECM/Organotypic Slices/20191205_organotypic/2_unblocked_bic/2_2_C0002.tif',\n",
       " '/Volumes/ukps-all$/user/tdanko/Imaging/1_ECM/Organotypic Slices/20191205_organotypic/2_unblocked_bic/2_3_C0002.tif',\n",
       " '/Volumes/ukps-all$/user/tdanko/Imaging/1_ECM/Organotypic Slices/20191205_organotypic/3_blocked_dmso/1_$_C0002.tif',\n",
       " '/Volumes/ukps-all$/user/tdanko/Imaging/1_ECM/Organotypic Slices/20191205_organotypic/3_blocked_dmso/1_1_C0002.tif',\n",
       " '/Volumes/ukps-all$/user/tdanko/Imaging/1_ECM/Organotypic Slices/20191205_organotypic/3_blocked_dmso/1_2_C0002.tif',\n",
       " '/Volumes/ukps-all$/user/tdanko/Imaging/1_ECM/Organotypic Slices/20191205_organotypic/3_blocked_dmso/1_3_C0002.tif',\n",
       " '/Volumes/ukps-all$/user/tdanko/Imaging/1_ECM/Organotypic Slices/20191205_organotypic/3_blocked_dmso/2_1_C0002.tif',\n",
       " '/Volumes/ukps-all$/user/tdanko/Imaging/1_ECM/Organotypic Slices/20191205_organotypic/3_blocked_dmso/2_2_C0002.tif',\n",
       " '/Volumes/ukps-all$/user/tdanko/Imaging/1_ECM/Organotypic Slices/20191205_organotypic/3_blocked_dmso/2_3_C0002.tif',\n",
       " '/Volumes/ukps-all$/user/tdanko/Imaging/1_ECM/Organotypic Slices/20191205_organotypic/3_blocked_dmso/3_1_C0002.tif',\n",
       " '/Volumes/ukps-all$/user/tdanko/Imaging/1_ECM/Organotypic Slices/20191205_organotypic/3_blocked_dmso/3_2_C0002.tif',\n",
       " '/Volumes/ukps-all$/user/tdanko/Imaging/1_ECM/Organotypic Slices/20191205_organotypic/3_blocked_dmso/3_3_C0002.tif',\n",
       " '/Volumes/ukps-all$/user/tdanko/Imaging/1_ECM/Organotypic Slices/20191205_organotypic/3_blocked_dmso/Process_2336_C0002.tif',\n",
       " '/Volumes/ukps-all$/user/tdanko/Imaging/1_ECM/Organotypic Slices/20191205_organotypic/4_blocked_bic/1_1_C0002.tif',\n",
       " '/Volumes/ukps-all$/user/tdanko/Imaging/1_ECM/Organotypic Slices/20191205_organotypic/4_blocked_bic/1_2_C0002.tif',\n",
       " '/Volumes/ukps-all$/user/tdanko/Imaging/1_ECM/Organotypic Slices/20191205_organotypic/4_blocked_bic/1_3_C0002.tif',\n",
       " '/Volumes/ukps-all$/user/tdanko/Imaging/1_ECM/Organotypic Slices/20191205_organotypic/4_blocked_bic/2_1_C0002.tif',\n",
       " '/Volumes/ukps-all$/user/tdanko/Imaging/1_ECM/Organotypic Slices/20191205_organotypic/4_blocked_bic/2_2_C0002.tif',\n",
       " '/Volumes/ukps-all$/user/tdanko/Imaging/1_ECM/Organotypic Slices/20191205_organotypic/4_blocked_bic/3_1_C0002.tif',\n",
       " '/Volumes/ukps-all$/user/tdanko/Imaging/1_ECM/Organotypic Slices/20191205_organotypic/4_blocked_bic/3_2_C0002.tif',\n",
       " '/Volumes/ukps-all$/user/tdanko/Imaging/1_ECM/Organotypic Slices/20191205_organotypic/4_blocked_bic/4_1_C0002.tif',\n",
       " '/Volumes/ukps-all$/user/tdanko/Imaging/1_ECM/Organotypic Slices/20191205_organotypic/4_blocked_bic/4_21_C0002.tif',\n",
       " '/Volumes/ukps-all$/user/tdanko/Imaging/1_ECM/Organotypic Slices/20191205_organotypic/4_blocked_bic/4_3_C0002.tif',\n",
       " '/Volumes/ukps-all$/user/tdanko/Imaging/1_ECM/Organotypic Slices/20191205_organotypic/unblocked_bic/1_1_C0002.tif',\n",
       " '/Volumes/ukps-all$/user/tdanko/Imaging/1_ECM/Organotypic Slices/20191205_organotypic/unblocked_bic/1_2_C0002.tif',\n",
       " '/Volumes/ukps-all$/user/tdanko/Imaging/1_ECM/Organotypic Slices/20191205_organotypic/unblocked_bic/1_3_C0002.tif',\n",
       " '/Volumes/ukps-all$/user/tdanko/Imaging/1_ECM/Organotypic Slices/20191205_organotypic/unblocked_bic/2_1_C0002.tif',\n",
       " '/Volumes/ukps-all$/user/tdanko/Imaging/1_ECM/Organotypic Slices/20191205_organotypic/unblocked_bic/2_2_C0002.tif',\n",
       " '/Volumes/ukps-all$/user/tdanko/Imaging/1_ECM/Organotypic Slices/20191205_organotypic/unblocked_bic/2_3_C0002.tif',\n",
       " '/Volumes/ukps-all$/user/tdanko/Imaging/1_ECM/Organotypic Slices/20191205_organotypic/unblocked_bic/3_1_C0002.tif',\n",
       " '/Volumes/ukps-all$/user/tdanko/Imaging/1_ECM/Organotypic Slices/20191205_organotypic/unblocked_bic/3_2_C0002.tif',\n",
       " '/Volumes/ukps-all$/user/tdanko/Imaging/1_ECM/Organotypic Slices/20191205_organotypic/unblocked_bic/3_3_C0002.tif',\n",
       " '/Volumes/ukps-all$/user/tdanko/Imaging/1_ECM/Organotypic Slices/20191205_organotypic/unblocked_bic/3_4_C0002.tif',\n",
       " '/Volumes/ukps-all$/user/tdanko/Imaging/1_ECM/Organotypic Slices/20191205_organotypic/unblocked_dmso/Process_2367_C0002.tif',\n",
       " '/Volumes/ukps-all$/user/tdanko/Imaging/1_ECM/Organotypic Slices/20191205_organotypic/unblocked_dmso/Process_2368_C0002.tif',\n",
       " '/Volumes/ukps-all$/user/tdanko/Imaging/1_ECM/Organotypic Slices/20191205_organotypic/unblocked_dmso/Process_2369_C0002.tif',\n",
       " '/Volumes/ukps-all$/user/tdanko/Imaging/1_ECM/Organotypic Slices/20191205_organotypic/unblocked_dmso/Process_2370_C0002.tif',\n",
       " '/Volumes/ukps-all$/user/tdanko/Imaging/1_ECM/Organotypic Slices/20191205_organotypic/unblocked_dmso/Process_2371_C0002.tif',\n",
       " '/Volumes/ukps-all$/user/tdanko/Imaging/1_ECM/Organotypic Slices/20191205_organotypic/unblocked_dmso/Process_2372_C0002.tif',\n",
       " '/Volumes/ukps-all$/user/tdanko/Imaging/1_ECM/Organotypic Slices/20191205_organotypic/unblocked_dmso/Process_2373_C0002.tif',\n",
       " '/Volumes/ukps-all$/user/tdanko/Imaging/1_ECM/Organotypic Slices/20191205_organotypic/unblocked_dmso/Process_2374_C0002.tif']"
      ]
     },
     "execution_count": 97,
     "metadata": {},
     "output_type": "execute_result"
    }
   ],
   "source": [
    "results[\"filename\"]"
   ]
  },
  {
   "cell_type": "code",
   "execution_count": 98,
   "metadata": {},
   "outputs": [
    {
     "name": "stdout",
     "output_type": "stream",
     "text": [
      "Calculating image no 1 out of51\n",
      "Calculating image no 2 out of51\n",
      "Calculating image no 3 out of51\n",
      "Calculating image no 4 out of51\n",
      "Calculating image no 5 out of51\n",
      "Calculating image no 6 out of51\n",
      "Calculating image no 7 out of51\n",
      "Calculating image no 8 out of51\n",
      "Calculating image no 9 out of51\n",
      "Calculating image no 10 out of51\n",
      "Calculating image no 11 out of51\n",
      "Calculating image no 12 out of51\n",
      "Calculating image no 13 out of51\n",
      "Calculating image no 14 out of51\n",
      "Calculating image no 15 out of51\n",
      "Calculating image no 16 out of51\n",
      "Calculating image no 17 out of51\n",
      "Calculating image no 18 out of51\n",
      "Calculating image no 19 out of51\n",
      "Calculating image no 20 out of51\n",
      "Calculating image no 21 out of51\n",
      "Calculating image no 22 out of51\n",
      "Calculating image no 23 out of51\n",
      "Calculating image no 24 out of51\n",
      "Calculating image no 25 out of51\n",
      "Calculating image no 26 out of51\n",
      "Calculating image no 27 out of51\n",
      "Calculating image no 28 out of51\n",
      "Calculating image no 29 out of51\n",
      "Calculating image no 30 out of51\n",
      "Calculating image no 31 out of51\n",
      "Calculating image no 32 out of51\n",
      "Calculating image no 33 out of51\n",
      "Calculating image no 34 out of51\n",
      "Calculating image no 35 out of51\n",
      "Calculating image no 36 out of51\n",
      "Calculating image no 37 out of51\n",
      "Calculating image no 38 out of51\n",
      "Calculating image no 39 out of51\n",
      "Calculating image no 40 out of51\n",
      "Calculating image no 41 out of51\n",
      "Calculating image no 42 out of51\n",
      "Calculating image no 43 out of51\n",
      "Calculating image no 44 out of51\n",
      "Calculating image no 45 out of51\n",
      "Calculating image no 46 out of51\n",
      "Calculating image no 47 out of51\n",
      "Calculating image no 48 out of51\n",
      "Calculating image no 49 out of51\n",
      "Calculating image no 50 out of51\n",
      "Calculating image no 51 out of51\n"
     ]
    }
   ],
   "source": [
    "\n",
    "for image in range(0,len(results[\"filename\"])):\n",
    "    print('Calculating image no ' + str(image+1) + ' out of' + str(len(results[\"filename\"])))\n",
    "    #read masks\n",
    "    original_image_name=results[\"filename\"][image]\n",
    "    original_image=pims.open(original_image_name)[0]\n",
    "    inten=np.mean(original_image[original_image<170])\n",
    "    results[\"intensity\"].append(inten)"
   ]
  },
  {
   "cell_type": "code",
   "execution_count": 99,
   "metadata": {},
   "outputs": [],
   "source": [
    "df_ecm=pd.DataFrame(results)"
   ]
  },
  {
   "cell_type": "code",
   "execution_count": 100,
   "metadata": {},
   "outputs": [],
   "source": [
    "df_ecm[\"Cond\"]=\"None\"\n",
    "df_ecm.loc[df_ecm[\"filename\"].str.contains(\"blocked\"),\"Cond\"]=\"Blocked\"\n",
    "df_ecm.loc[df_ecm[\"filename\"].str.contains(\"unblocked\"),\"Cond\"]=\"Unblocked\"\n",
    "\n",
    "df_ecm[\"Drug\"]=\"None\"\n",
    "df_ecm.loc[df_ecm[\"filename\"].str.contains(\"bic\"),\"Drug\"]=\"Bic\"\n",
    "df_ecm.loc[df_ecm[\"filename\"].str.contains(\"dmso\"),\"Drug\"]=\"DMSO\""
   ]
  },
  {
   "cell_type": "code",
   "execution_count": 101,
   "metadata": {},
   "outputs": [
    {
     "name": "stdout",
     "output_type": "stream",
     "text": [
      "4.088590726257129e-11\n"
     ]
    },
    {
     "data": {
      "image/png": "[encoded data removed]",
      "text/plain": [
       "<Figure size 720x720 with 1 Axes>"
      ]
     },
     "metadata": {
      "needs_background": "light"
     },
     "output_type": "display_data"
    }
   ],
   "source": [
    "plt.figure(figsize=(10,10))\n",
    "\n",
    "sns.barplot(x=\"Cond\",y=\"intensity\",data=df_ecm,ci=None)\n",
    "sns.swarmplot(x=\"Cond\",y=\"intensity\",data=df_ecm,color=\"black\")\n",
    "plt.ylim(120,140)\n",
    "\n",
    "var=\"intensity\"\n",
    "blocked=df_ecm[df_ecm[\"Cond\"]==\"Blocked\"][var].dropna()\n",
    "unblocked=df_ecm[df_ecm[\"Cond\"]==\"Unblocked\"][var].dropna()\n",
    "[statis,pal]=stats.ttest_ind(blocked,unblocked)\n",
    "print(pal)"
   ]
  },
  {
   "cell_type": "code",
   "execution_count": 91,
   "metadata": {},
   "outputs": [
    {
     "data": {
      "text/plain": [
       "(120, 150)"
      ]
     },
     "execution_count": 91,
     "metadata": {},
     "output_type": "execute_result"
    },
    {
     "data": {
      "image/png": "[encoded data removed]",
      "text/plain": [
       "<Figure size 720x720 with 1 Axes>"
      ]
     },
     "metadata": {
      "needs_background": "light"
     },
     "output_type": "display_data"
    }
   ],
   "source": [
    "plt.figure(figsize=(10,10))\n",
    "sns.barplot(x=\"Drug\",y=\"intensity\",data=df_ecm)\n",
    "sns.swarmplot(x=\"Drug\",y=\"intensity\",data=df_ecm)\n",
    "plt.ylim(120,150)\n",
    "\n"
   ]
  },
  {
   "cell_type": "code",
   "execution_count": null,
   "metadata": {},
   "outputs": [],
   "source": []
  }
 ],
 "metadata": {
  "kernelspec": {
   "display_name": "Python 3",
   "language": "python",
   "name": "python3"
  },
  "language_info": {
   "codemirror_mode": {
    "name": "ipython",
    "version": 3
   },
   "file_extension": ".py",
   "mimetype": "text/x-python",
   "name": "python",
   "nbconvert_exporter": "python",
   "pygments_lexer": "ipython3",
   "version": "3.7.1"
  }
 },
 "nbformat": 4,
 "nbformat_minor": 2
}
