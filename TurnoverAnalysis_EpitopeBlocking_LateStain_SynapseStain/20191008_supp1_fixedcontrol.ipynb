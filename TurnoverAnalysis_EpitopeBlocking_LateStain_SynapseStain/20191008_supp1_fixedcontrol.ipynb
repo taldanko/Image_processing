{
 "cells": [
  {
   "cell_type": "code",
   "execution_count": 1,
   "metadata": {},
   "outputs": [],
   "source": [
    "import numpy as np\n",
    "import os\n",
    "from nd2reader import ND2Reader\n",
    "import matplotlib.pyplot as plt\n",
    "import matplotlib.cm as cm\n",
    "from matplotlib_scalebar.scalebar import ScaleBar\n",
    "import scipy.ndimage as ndi\n",
    "from skimage.filters import rank \n",
    "from scipy.signal import butter, lfilter\n",
    "import scipy.misc as misc\n",
    "from skimage import exposure\n",
    "from PIL import Image\n",
    "import colorcet as cc\n",
    "from scipy.misc import toimage\n",
    "import matplotlib.colors as clr\n",
    "import pandas as pd\n",
    "import seaborn as sns\n",
    "from scipy import stats\n",
    "import cv2\n",
    "from pyspark import SparkContext, SparkConf\n",
    "import skimage\n",
    "from pathlib import Path\n",
    "\n",
    "def mean2(x):\n",
    "    y = np.sum(x) / np.size(x);\n",
    "    return y\n",
    "def corr2(a,b):\n",
    "    a = a - mean2(a)\n",
    "    b = b - mean2(b)\n",
    "\n",
    "    r = (a*b).sum() / np.sqrt((a*a).sum() * (b*b).sum());\n",
    "    return r\n",
    "from copy import deepcopy\n",
    "from skimage.filters import threshold_otsu,threshold_li\n",
    "import glob\n",
    "from IPython.display import clear_output\n",
    "import scipy.io as spio"
   ]
  },
  {
   "cell_type": "code",
   "execution_count": 6,
   "metadata": {},
   "outputs": [],
   "source": [
    "expdir='/Volumes/ukps-all$/user/tdanko/Imaging/1_ECM/Fixed culture/Controls/20190908_fixedctrl/' #master folder\n",
    "protein=\"WFA\" #TNR,Agg,WFA,HABP"
   ]
  },
  {
   "cell_type": "code",
   "execution_count": 15,
   "metadata": {},
   "outputs": [],
   "source": [
    "results = {\"filename\":[],\"exp\":[],\n",
    "           \"Manual mask from matlab GUI\":[],\n",
    "           \"intensity\":[],\"int under mask\":[],\"bg sub int under mask\":[],\"bg sub int unmasked\":[]}\n",
    "\n",
    "histogram_results={\"filename\":[],\"exp condition\":[],\n",
    "                   \"ECM raw intensity- Flattened histogram\":[],\n",
    "                   \"Nuclei raw intensity- Flattened histogram\":[],\n",
    "                   \"Synapse raw intensity- Flattened histogram\":[]}\n",
    "regionprops_results={\"filename\":[],\n",
    "                     \"exp condition\":[],\n",
    "                     \"Synapse colour - regionprops soma\":[],\n",
    "                     \"Synapse colour - regionprops neurites\":[]}\n",
    "\n",
    "path = os.path.dirname(expdir)  \n",
    "outputFolder = os.path.dirname(expdir + \"/new/\")\n",
    "filelist = []\n",
    "for root, _, filenames in os.walk(path):\n",
    "     for filename in filenames:\n",
    "         filelist.append(os.path.join(root, filename))      \n",
    "for i in range(0,len(filelist)):\n",
    "    #if \"_analyse\" in str(filelist[i]):\n",
    "     #   if (protein in str(filelist[i]))==True:\n",
    "            if (\"TTX\" in str(filelist[i]))==False:\n",
    "                if filelist[i].endswith(\".nd2\"): \n",
    "                    results[\"filename\"].append(filelist[i])\n",
    "                    results[\"exp\"].append(filelist[i].split('/')[-2])"
   ]
  },
  {
   "cell_type": "code",
   "execution_count": 16,
   "metadata": {},
   "outputs": [
    {
     "name": "stdout",
     "output_type": "stream",
     "text": [
      "background_atto647\n",
      "background_autofluorescence\n",
      "blk_plues12h\n",
      "blk_plus0h\n",
      "noblock_tnr647\n"
     ]
    }
   ],
   "source": [
    "print(\"\\n\".join(list(sorted(set(results[\"exp\"])))))"
   ]
  },
  {
   "cell_type": "code",
   "execution_count": 17,
   "metadata": {},
   "outputs": [
    {
     "name": "stdout",
     "output_type": "stream",
     "text": [
      "Done!\n"
     ]
    }
   ],
   "source": [
    "## matlab files\n",
    "for im in range(0,len(results[\"filename\"])): \n",
    "    file=results[\"filename\"][im][:-4]+'_mask.mat'\n",
    "    from pathlib import Path\n",
    "    my_file = Path(file)\n",
    "    if my_file.exists():\n",
    "        print(file)\n",
    "        mat = spio.loadmat(file, squeeze_me=True)\n",
    "        mask=mat['totMask']>0.99\n",
    "        results[\"Manual mask from matlab GUI\"].append(mask)\n",
    "    else:\n",
    "        results[\"Manual mask from matlab GUI\"].append(np.nan)\n",
    "clear_output()        \n",
    "print(\"Done!\")"
   ]
  },
  {
   "cell_type": "code",
   "execution_count": 18,
   "metadata": {},
   "outputs": [
    {
     "name": "stdout",
     "output_type": "stream",
     "text": [
      "Total number of images: 148\n",
      "Calculating image no 1 out of148\n",
      "Calculating image no 2 out of148\n",
      "Calculating image no 3 out of148\n",
      "Calculating image no 4 out of148\n",
      "Calculating image no 5 out of148\n",
      "Calculating image no 6 out of148\n",
      "Calculating image no 7 out of148\n",
      "Calculating image no 8 out of148\n",
      "Calculating image no 9 out of148\n",
      "Calculating image no 10 out of148\n",
      "Calculating image no 11 out of148\n",
      "Calculating image no 12 out of148\n",
      "Calculating image no 13 out of148\n",
      "Calculating image no 14 out of148\n",
      "Calculating image no 15 out of148\n",
      "Calculating image no 16 out of148\n",
      "Calculating image no 17 out of148\n",
      "Calculating image no 18 out of148\n",
      "Calculating image no 19 out of148\n",
      "Calculating image no 20 out of148\n",
      "Calculating image no 21 out of148\n",
      "Calculating image no 22 out of148\n",
      "Calculating image no 23 out of148\n",
      "Calculating image no 24 out of148\n",
      "Calculating image no 25 out of148\n",
      "Calculating image no 26 out of148\n",
      "Calculating image no 27 out of148\n",
      "Calculating image no 28 out of148\n",
      "Calculating image no 29 out of148\n",
      "Calculating image no 30 out of148\n",
      "Calculating image no 31 out of148\n",
      "Calculating image no 32 out of148\n",
      "Calculating image no 33 out of148\n",
      "Calculating image no 34 out of148\n",
      "Calculating image no 35 out of148\n",
      "Calculating image no 36 out of148\n",
      "Calculating image no 37 out of148\n",
      "Calculating image no 38 out of148\n",
      "Calculating image no 39 out of148\n",
      "Calculating image no 40 out of148\n",
      "Calculating image no 41 out of148\n",
      "Calculating image no 42 out of148\n",
      "Calculating image no 43 out of148\n",
      "Calculating image no 44 out of148\n",
      "Calculating image no 45 out of148\n",
      "Calculating image no 46 out of148\n",
      "Calculating image no 47 out of148\n",
      "Calculating image no 48 out of148\n",
      "Calculating image no 49 out of148\n",
      "Calculating image no 50 out of148\n",
      "Calculating image no 51 out of148\n",
      "Calculating image no 52 out of148\n",
      "Calculating image no 53 out of148\n",
      "Calculating image no 54 out of148\n",
      "Calculating image no 55 out of148\n",
      "Calculating image no 56 out of148\n",
      "Calculating image no 57 out of148\n",
      "Calculating image no 58 out of148\n",
      "Calculating image no 59 out of148\n",
      "Calculating image no 60 out of148\n",
      "Calculating image no 61 out of148\n",
      "Calculating image no 62 out of148\n",
      "Calculating image no 63 out of148\n",
      "Calculating image no 64 out of148\n",
      "Calculating image no 65 out of148\n",
      "Calculating image no 66 out of148\n",
      "Calculating image no 67 out of148\n",
      "Calculating image no 68 out of148\n",
      "Calculating image no 69 out of148\n",
      "Calculating image no 70 out of148\n",
      "Calculating image no 71 out of148\n",
      "Calculating image no 72 out of148\n",
      "Calculating image no 73 out of148\n",
      "Calculating image no 74 out of148\n",
      "Calculating image no 75 out of148\n",
      "Calculating image no 76 out of148\n",
      "Calculating image no 77 out of148\n",
      "Calculating image no 78 out of148\n",
      "Calculating image no 79 out of148\n",
      "Calculating image no 80 out of148\n",
      "Calculating image no 81 out of148\n",
      "Calculating image no 82 out of148\n",
      "Calculating image no 83 out of148\n",
      "Calculating image no 84 out of148\n",
      "Calculating image no 85 out of148\n",
      "Calculating image no 86 out of148\n",
      "Calculating image no 87 out of148\n",
      "Calculating image no 88 out of148\n",
      "Calculating image no 89 out of148\n",
      "Calculating image no 90 out of148\n",
      "Calculating image no 91 out of148\n",
      "Calculating image no 92 out of148\n",
      "Calculating image no 93 out of148\n",
      "Calculating image no 94 out of148\n",
      "Calculating image no 95 out of148\n",
      "Calculating image no 96 out of148\n",
      "Calculating image no 97 out of148\n",
      "Calculating image no 98 out of148\n",
      "Calculating image no 99 out of148\n",
      "Calculating image no 100 out of148\n",
      "Calculating image no 101 out of148\n",
      "Calculating image no 102 out of148\n",
      "Calculating image no 103 out of148\n",
      "Calculating image no 104 out of148\n",
      "Calculating image no 105 out of148\n",
      "Calculating image no 106 out of148\n",
      "Calculating image no 107 out of148\n",
      "Calculating image no 108 out of148\n",
      "Calculating image no 109 out of148\n",
      "Calculating image no 110 out of148\n",
      "Calculating image no 111 out of148\n",
      "Calculating image no 112 out of148\n",
      "Calculating image no 113 out of148\n",
      "Calculating image no 114 out of148\n",
      "Calculating image no 115 out of148\n",
      "Calculating image no 116 out of148\n",
      "Calculating image no 117 out of148\n",
      "Calculating image no 118 out of148\n",
      "Calculating image no 119 out of148\n",
      "Calculating image no 120 out of148\n",
      "Calculating image no 121 out of148\n",
      "Calculating image no 122 out of148\n",
      "Calculating image no 123 out of148\n",
      "Calculating image no 124 out of148\n",
      "Calculating image no 125 out of148\n",
      "Calculating image no 126 out of148\n",
      "Calculating image no 127 out of148\n",
      "Calculating image no 128 out of148\n",
      "Calculating image no 129 out of148\n",
      "Calculating image no 130 out of148\n",
      "Calculating image no 131 out of148\n",
      "Calculating image no 132 out of148\n",
      "Calculating image no 133 out of148\n",
      "Calculating image no 134 out of148\n",
      "Calculating image no 135 out of148\n",
      "Calculating image no 136 out of148\n",
      "Calculating image no 137 out of148\n",
      "Calculating image no 138 out of148\n",
      "Calculating image no 139 out of148\n",
      "Calculating image no 140 out of148\n",
      "Calculating image no 141 out of148\n",
      "Calculating image no 142 out of148\n",
      "Calculating image no 143 out of148\n",
      "Calculating image no 144 out of148\n",
      "Calculating image no 145 out of148\n",
      "Calculating image no 146 out of148\n",
      "Calculating image no 147 out of148\n",
      "Calculating image no 148 out of148\n"
     ]
    }
   ],
   "source": [
    "print('Total number of images: ' + str(len(results['filename'])))\n",
    "\n",
    "for i in range(0,len(results[\"filename\"])): \n",
    "    flag=False\n",
    "    print('Calculating image no ' + str(i+1) + ' out of' + str(len(results[\"filename\"])))\n",
    "    #read the image\n",
    "    with ND2Reader(results[\"filename\"][i]) as images:\n",
    "        ecm_image=images[1]\n",
    "    #convert to numpy array - a format easier to manipunuclei with code\n",
    "    ecm_image=ecm_image.astype(np.int16)\n",
    "    \n",
    "    ###################analyses for the raw images -before processing##############\n",
    "    #preserve the raw images\n",
    "    ecm_image_raw = deepcopy(ecm_image)\n",
    "    \n",
    "    #normalize intensity to value between 0 and 1 - also just to make them easier to work with\n",
    "    #ecm_image=np.divide(ecm_image,16383.)\n",
    "    \n",
    "    #read masks\n",
    "    \n",
    "    matlab_mask=results[\"Manual mask from matlab GUI\"][i]\n",
    "    if type(matlab_mask)==np.ndarray:\n",
    "        flag=True\n",
    "    \n",
    "    #images after background subtraction\n",
    "    #for ecm image\n",
    "    bg_somamask=np.mean(ndi.median_filter(ecm_image,size=5))+0*np.std(ndi.median_filter(ecm_image,size=5))\n",
    "    ecm__bgreduced=deepcopy(ecm_image_raw)\n",
    "    ecm__bgreduced=np.subtract(ecm__bgreduced,bg_somamask)\n",
    "    ecm__bgreduced[ecm__bgreduced<0]=0\n",
    "    \n",
    "    if flag==True:\n",
    "        ecm_matlabmasked_bgreduced=deepcopy(ecm_image)\n",
    "\n",
    "\n",
    "        bg_matlabmask=np.mean(ndi.median_filter(ecm_image[matlab_mask],size=5))+0*np.std(ndi.median_filter(ecm_image[matlab_mask],size=5))\n",
    "        ecm_matlabmasked_bgreduced=np.subtract(ecm_matlabmasked_bgreduced,bg_matlabmask)\n",
    "        ecm_matlabmasked_bgreduced[ecm_matlabmasked_bgreduced<0]=0\n",
    "        ecm_matlabmasked_bgreduced[~matlab_mask]=0\n",
    "    \n",
    "        \n",
    "    results[\"intensity\"].append(ecm_image_raw.mean())\n",
    "    results[\"bg sub int unmasked\"].append(ecm__bgreduced.mean())\n",
    "    if flag==True:\n",
    "        results[\"int under mask\"].append(ecm_image_raw[matlab_mask].mean())\n",
    "        results[\"bg sub int under mask\"].append(ecm_matlabmasked_bgreduced[matlab_mask].mean())\n",
    "    else:\n",
    "        results[\"int under mask\"].append(np.nan)\n",
    "        results[\"bg sub int under mask\"].append(np.nan)"
   ]
  },
  {
   "cell_type": "code",
   "execution_count": 19,
   "metadata": {},
   "outputs": [],
   "source": [
    "df=pd.DataFrame(results)"
   ]
  },
  {
   "cell_type": "code",
   "execution_count": 20,
   "metadata": {},
   "outputs": [
    {
     "data": {
      "text/plain": [
       "Index(['filename', 'exp', 'Manual mask from matlab GUI', 'intensity',\n",
       "       'int under mask', 'bg sub int under mask', 'bg sub int unmasked'],\n",
       "      dtype='object')"
      ]
     },
     "execution_count": 20,
     "metadata": {},
     "output_type": "execute_result"
    }
   ],
   "source": [
    "df.columns"
   ]
  },
  {
   "cell_type": "markdown",
   "metadata": {},
   "source": [
    "## quick look"
   ]
  },
  {
   "cell_type": "code",
   "execution_count": 29,
   "metadata": {},
   "outputs": [
    {
     "data": {
      "text/plain": [
       "(array([0, 1, 2, 3, 4]), <a list of 5 Text xticklabel objects>)"
      ]
     },
     "execution_count": 29,
     "metadata": {},
     "output_type": "execute_result"
    },
    {
     "data": {
      "image/png": "[encoded data removed]",
      "text/plain": [
       "<Figure size 432x288 with 1 Axes>"
      ]
     },
     "metadata": {
      "needs_background": "light"
     },
     "output_type": "display_data"
    }
   ],
   "source": [
    "sns.barplot(x=\"exp\",y=\"bg sub int under mask\",data=df)\n",
    "plt.xticks(rotation=45)"
   ]
  },
  {
   "cell_type": "code",
   "execution_count": 31,
   "metadata": {},
   "outputs": [
    {
     "data": {
      "text/plain": [
       "array(['background_atto647', 'background_autofluorescence',\n",
       "       'blk_plues12h', 'blk_plus0h', 'noblock_tnr647'], dtype=object)"
      ]
     },
     "execution_count": 31,
     "metadata": {},
     "output_type": "execute_result"
    }
   ],
   "source": [
    "df[\"exp\"].unique()"
   ]
  },
  {
   "cell_type": "code",
   "execution_count": 32,
   "metadata": {},
   "outputs": [],
   "source": [
    "df2=deepcopy(df)\n",
    "df2['Blocked or not']='None'\n",
    "df2.loc[df2['exp'].str.contains('blk'), 'Blocked or not'] = 'Blocked'\n",
    "df2.loc[df2['exp'].str.contains('no'), 'Blocked or not'] = 'Unblocked'\n",
    "\n",
    "df2['Time']='Immediately'\n",
    "\n",
    "df2['TNR or secondary']='None'\n",
    "df2.loc[df2['exp'].str.contains('tnr'), 'TNR or secondary'] = 'TNR'\n",
    "df2.loc[df2['exp'].str.contains('tnr'), 'TNR or secondary'] = 'TNR'\n",
    "\n",
    "df2['expno']='None'\n",
    "df2.loc[df2['filename'].str.contains('exp1'), 'expno'] = 'exp1'\n",
    "df2.loc[df2['filename'].str.contains('exp2'), 'expno'] = 'exp2'\n",
    "df2.loc[df2['filename'].str.contains('exp3'), 'expno'] = 'exp3'\n",
    "\n",
    "df2[\"Condition\"]='None'\n",
    "df2.loc[df2['filename'].str.contains('background_atto647'), 'Condition'] = 'Background - Atto647'\n",
    "df2.loc[df2['filename'].str.contains('background_autofluorescence'), 'Condition'] = 'Background - Autofluorescence'\n",
    "df2.loc[df2['filename'].str.contains('blk_plues12h'), 'Condition'] = 'Block+12, TNR647'\n",
    "df2.loc[df2['filename'].str.contains('blk_plus0h'), 'Condition'] = 'Block+0, TNR647'\n",
    "df2.loc[df2['filename'].str.contains('noblock_tnr647'), 'Condition'] = 'Unblocked TNR647'\n",
    "\n",
    "\n"
   ]
  },
  {
   "cell_type": "code",
   "execution_count": 35,
   "metadata": {},
   "outputs": [
    {
     "data": {
      "text/plain": [
       "(array([0, 1, 2, 3, 4]), <a list of 5 Text xticklabel objects>)"
      ]
     },
     "execution_count": 35,
     "metadata": {},
     "output_type": "execute_result"
    },
    {
     "data": {
      "image/png": "[encoded data removed]",
      "text/plain": [
       "<Figure size 432x288 with 1 Axes>"
      ]
     },
     "metadata": {
      "needs_background": "light"
     },
     "output_type": "display_data"
    }
   ],
   "source": [
    "var=\"bg sub int under mask\"\n",
    "#var=\"intensity\"\n",
    "#var=\"int under mask\"\n",
    "\n",
    "sns.barplot(x=\"Condition\",y=var,data=df2)\n",
    "plt.xticks(rotation=90)"
   ]
  },
  {
   "cell_type": "code",
   "execution_count": 36,
   "metadata": {},
   "outputs": [],
   "source": [
    "\n",
    "means={\"expname\":[],\"Condition\":[],\"intensity\":[]}\n",
    "\n",
    "df2read=df2\n",
    "           #& (df2[\"expname\"]!=\"20181113_NCAN_analyse\")]\n",
    "\n",
    "\n",
    "for exp in df2read[\"expno\"].unique():\n",
    "    dfcalc=df2read[df2read[\"expno\"]==exp]\n",
    "    dfcalc=dfcalc.reset_index()\n",
    "    for condition in dfcalc[\"Condition\"].unique():\n",
    "        dfcalc_cond=dfcalc[dfcalc[\"Condition\"]==condition]\n",
    "        means[\"expname\"].append(exp)\n",
    "        means[\"Condition\"].append(condition)\n",
    "        means[\"intensity\"].append(dfcalc_cond[var].mean())\n",
    "        means\n",
    "    \n",
    "    \n",
    "    \n",
    "dfmeans=pd.DataFrame(means)"
   ]
  },
  {
   "cell_type": "code",
   "execution_count": 38,
   "metadata": {},
   "outputs": [
    {
     "data": {
      "text/plain": [
       "(array([0, 1, 2, 3, 4]), <a list of 5 Text xticklabel objects>)"
      ]
     },
     "execution_count": 38,
     "metadata": {},
     "output_type": "execute_result"
    },
    {
     "data": {
      "image/png": "[encoded data removed]",
      "text/plain": [
       "<Figure size 432x288 with 1 Axes>"
      ]
     },
     "metadata": {
      "needs_background": "light"
     },
     "output_type": "display_data"
    }
   ],
   "source": [
    "sns.barplot(data=dfmeans,x=\"Condition\",y=\"intensity\")\n",
    "sns.swarmplot(data=dfmeans,x=\"Condition\",y=\"intensity\",color='black')\n",
    "plt.xticks(rotation=90,fontsize=22)"
   ]
  },
  {
   "cell_type": "markdown",
   "metadata": {},
   "source": [
    "## ttests"
   ]
  },
  {
   "cell_type": "code",
   "execution_count": 53,
   "metadata": {},
   "outputs": [
    {
     "data": {
      "text/plain": [
       "array([298.40875248, 319.55126565, 241.67401113])"
      ]
     },
     "execution_count": 53,
     "metadata": {},
     "output_type": "execute_result"
    }
   ],
   "source": [
    "dfmeans[dfmeans[\"Condition\"]==\"Unblocked TNR647\"][\"intensity\"].values"
   ]
  },
  {
   "cell_type": "code",
   "execution_count": 51,
   "metadata": {},
   "outputs": [
    {
     "data": {
      "text/html": [
       "<div>\n",
       "<style scoped>\n",
       "    .dataframe tbody tr th:only-of-type {\n",
       "        vertical-align: middle;\n",
       "    }\n",
       "\n",
       "    .dataframe tbody tr th {\n",
       "        vertical-align: top;\n",
       "    }\n",
       "\n",
       "    .dataframe thead th {\n",
       "        text-align: right;\n",
       "    }\n",
       "</style>\n",
       "<table border=\"1\" class=\"dataframe\">\n",
       "  <thead>\n",
       "    <tr style=\"text-align: right;\">\n",
       "      <th></th>\n",
       "      <th>intensity</th>\n",
       "    </tr>\n",
       "    <tr>\n",
       "      <th>Condition</th>\n",
       "      <th></th>\n",
       "    </tr>\n",
       "  </thead>\n",
       "  <tbody>\n",
       "    <tr>\n",
       "      <th>Background - Atto647</th>\n",
       "      <td>16.577872</td>\n",
       "    </tr>\n",
       "    <tr>\n",
       "      <th>Background - Autofluorescence</th>\n",
       "      <td>16.438243</td>\n",
       "    </tr>\n",
       "    <tr>\n",
       "      <th>Block+0, TNR647</th>\n",
       "      <td>22.241983</td>\n",
       "    </tr>\n",
       "    <tr>\n",
       "      <th>Block+12, TNR647</th>\n",
       "      <td>16.053247</td>\n",
       "    </tr>\n",
       "    <tr>\n",
       "      <th>Unblocked TNR647</th>\n",
       "      <td>286.544676</td>\n",
       "    </tr>\n",
       "  </tbody>\n",
       "</table>\n",
       "</div>"
      ],
      "text/plain": [
       "                                intensity\n",
       "Condition                                \n",
       "Background - Atto647            16.577872\n",
       "Background - Autofluorescence   16.438243\n",
       "Block+0, TNR647                 22.241983\n",
       "Block+12, TNR647                16.053247\n",
       "Unblocked TNR647               286.544676"
      ]
     },
     "execution_count": 51,
     "metadata": {},
     "output_type": "execute_result"
    }
   ],
   "source": [
    "dfmeans'Conidiotn'"
   ]
  },
  {
   "cell_type": "code",
   "execution_count": 78,
   "metadata": {},
   "outputs": [
    {
     "name": "stdout",
     "output_type": "stream",
     "text": [
      "condition: Background - Autofluorescence pval: 0.00031467350152498795\n",
      "condition: Background - Atto647 pval: 0.0003144338949370929\n",
      "condition: Block+0, TNR647 pval: 0.0004177336638004657\n",
      "condition: Block+12, TNR647 pval: 0.0003121764356330408\n"
     ]
    }
   ],
   "source": [
    "from scipy import stats\n",
    "negctrl=dfmeans[dfmeans[\"Condition\"]==\"Unblocked TNR647\"][\"intensity\"].values\n",
    "for item in [\"Background - Autofluorescence\",\"Background - Atto647\",\"Block+0, TNR647\",\"Block+12, TNR647\"]:\n",
    "    vals=dfmeans[dfmeans[\"Condition\"]==item][\"intensity\"].values\n",
    "    [stat, pval]=stats.ttest_ind(negctrl,vals)\n",
    "    print('condition: '+item+' pval: '+str(pval))"
   ]
  },
  {
   "cell_type": "markdown",
   "metadata": {},
   "source": [
    "## nice plot"
   ]
  },
  {
   "cell_type": "code",
   "execution_count": 43,
   "metadata": {},
   "outputs": [
    {
     "data": {
      "text/html": [
       "<div>\n",
       "<style scoped>\n",
       "    .dataframe tbody tr th:only-of-type {\n",
       "        vertical-align: middle;\n",
       "    }\n",
       "\n",
       "    .dataframe tbody tr th {\n",
       "        vertical-align: top;\n",
       "    }\n",
       "\n",
       "    .dataframe thead th {\n",
       "        text-align: right;\n",
       "    }\n",
       "</style>\n",
       "<table border=\"1\" class=\"dataframe\">\n",
       "  <thead>\n",
       "    <tr style=\"text-align: right;\">\n",
       "      <th></th>\n",
       "      <th>expname</th>\n",
       "      <th>Condition</th>\n",
       "      <th>intensity</th>\n",
       "    </tr>\n",
       "  </thead>\n",
       "  <tbody>\n",
       "    <tr>\n",
       "      <th>0</th>\n",
       "      <td>exp1</td>\n",
       "      <td>Background - Atto647</td>\n",
       "      <td>16.355005</td>\n",
       "    </tr>\n",
       "    <tr>\n",
       "      <th>1</th>\n",
       "      <td>exp1</td>\n",
       "      <td>Background - Autofluorescence</td>\n",
       "      <td>17.467143</td>\n",
       "    </tr>\n",
       "    <tr>\n",
       "      <th>2</th>\n",
       "      <td>exp1</td>\n",
       "      <td>Block+12, TNR647</td>\n",
       "      <td>16.749460</td>\n",
       "    </tr>\n",
       "    <tr>\n",
       "      <th>3</th>\n",
       "      <td>exp1</td>\n",
       "      <td>Block+0, TNR647</td>\n",
       "      <td>37.588116</td>\n",
       "    </tr>\n",
       "    <tr>\n",
       "      <th>4</th>\n",
       "      <td>exp1</td>\n",
       "      <td>Unblocked TNR647</td>\n",
       "      <td>298.408752</td>\n",
       "    </tr>\n",
       "    <tr>\n",
       "      <th>5</th>\n",
       "      <td>exp2</td>\n",
       "      <td>Background - Atto647</td>\n",
       "      <td>16.439365</td>\n",
       "    </tr>\n",
       "    <tr>\n",
       "      <th>6</th>\n",
       "      <td>exp2</td>\n",
       "      <td>Background - Autofluorescence</td>\n",
       "      <td>14.651942</td>\n",
       "    </tr>\n",
       "    <tr>\n",
       "      <th>7</th>\n",
       "      <td>exp2</td>\n",
       "      <td>Block+12, TNR647</td>\n",
       "      <td>15.921725</td>\n",
       "    </tr>\n",
       "    <tr>\n",
       "      <th>8</th>\n",
       "      <td>exp2</td>\n",
       "      <td>Block+0, TNR647</td>\n",
       "      <td>14.941446</td>\n",
       "    </tr>\n",
       "    <tr>\n",
       "      <th>9</th>\n",
       "      <td>exp2</td>\n",
       "      <td>Unblocked TNR647</td>\n",
       "      <td>319.551266</td>\n",
       "    </tr>\n",
       "    <tr>\n",
       "      <th>10</th>\n",
       "      <td>exp3</td>\n",
       "      <td>Background - Atto647</td>\n",
       "      <td>16.939247</td>\n",
       "    </tr>\n",
       "    <tr>\n",
       "      <th>11</th>\n",
       "      <td>exp3</td>\n",
       "      <td>Background - Autofluorescence</td>\n",
       "      <td>17.195644</td>\n",
       "    </tr>\n",
       "    <tr>\n",
       "      <th>12</th>\n",
       "      <td>exp3</td>\n",
       "      <td>Block+12, TNR647</td>\n",
       "      <td>15.488556</td>\n",
       "    </tr>\n",
       "    <tr>\n",
       "      <th>13</th>\n",
       "      <td>exp3</td>\n",
       "      <td>Block+0, TNR647</td>\n",
       "      <td>14.196386</td>\n",
       "    </tr>\n",
       "    <tr>\n",
       "      <th>14</th>\n",
       "      <td>exp3</td>\n",
       "      <td>Unblocked TNR647</td>\n",
       "      <td>241.674011</td>\n",
       "    </tr>\n",
       "  </tbody>\n",
       "</table>\n",
       "</div>"
      ],
      "text/plain": [
       "   expname                      Condition   intensity\n",
       "0     exp1           Background - Atto647   16.355005\n",
       "1     exp1  Background - Autofluorescence   17.467143\n",
       "2     exp1               Block+12, TNR647   16.749460\n",
       "3     exp1                Block+0, TNR647   37.588116\n",
       "4     exp1               Unblocked TNR647  298.408752\n",
       "5     exp2           Background - Atto647   16.439365\n",
       "6     exp2  Background - Autofluorescence   14.651942\n",
       "7     exp2               Block+12, TNR647   15.921725\n",
       "8     exp2                Block+0, TNR647   14.941446\n",
       "9     exp2               Unblocked TNR647  319.551266\n",
       "10    exp3           Background - Atto647   16.939247\n",
       "11    exp3  Background - Autofluorescence   17.195644\n",
       "12    exp3               Block+12, TNR647   15.488556\n",
       "13    exp3                Block+0, TNR647   14.196386\n",
       "14    exp3               Unblocked TNR647  241.674011"
      ]
     },
     "execution_count": 43,
     "metadata": {},
     "output_type": "execute_result"
    }
   ],
   "source": [
    "dfmeans"
   ]
  },
  {
   "cell_type": "code",
   "execution_count": 79,
   "metadata": {},
   "outputs": [
    {
     "data": {
      "image/png": "[encoded data removed]",
      "text/plain": [
       "<Figure size 360x432 with 1 Axes>"
      ]
     },
     "metadata": {},
     "output_type": "display_data"
    }
   ],
   "source": [
    "sns.set(font_scale=2.5)\n",
    "sns.set_style(\"ticks\")\n",
    "sns.set_palette(\"Set2\")\n",
    "from matplotlib import ticker\n",
    "\n",
    "fig=plt.figure(figsize=(5,6))\n",
    "\n",
    "df2plot=dfmeans\n",
    "var='intensity'\n",
    "order=['Background - Autofluorescence',\n",
    "       'Background - Atto647',\n",
    "      'Block+0, TNR647',\n",
    "       'Block+12, TNR647',\n",
    "       'Unblocked TNR647'\n",
    "       ]\n",
    "\n",
    "paletteswarm ={\"Background - Autofluorescence\":\"#2F67F8\",\n",
    "               \"Unblocked TNR647\":\"#333333\",\n",
    "               \"Background - Atto647\":\"#2F67F8\",\n",
    "               \"Block+0, TNR647\":\"#2F67F8\",\n",
    "               \"Block+12, TNR647\":\"#2F67F8\"}\n",
    "palette ={\"Background - Autofluorescence\":\"#abc2fc\",\n",
    "          \"Unblocked TNR647\":\"#adadad\",\n",
    "               \"Background - Atto647\":\"#abc2fc\",\n",
    "               \"Block+0, TNR647\":\"#abc2fc\",\n",
    "               \"Block+12, TNR647\":\"#abc2fc\"}\n",
    "\n",
    "\n",
    "g=sns.barplot(data=df2plot,y=var,x=\"Condition\"\n",
    "            ,order=order,palette=palette,ci=None)\n",
    "\n",
    "g=sns.swarmplot(data=df2plot,y=var,x=\"Condition\"\n",
    "            ,order=order,palette=paletteswarm,size=8)\n",
    "\n",
    "def change_width(ax, new_value) :\n",
    "    for patch in ax.patches :\n",
    "        current_width = patch.get_width()\n",
    "        diff = current_width - new_value\n",
    "        \n",
    "        # we change the bar width\n",
    "        patch.set_width(new_value)\n",
    "\n",
    "        # we recenter the bar\n",
    "        patch.set_x(patch.get_x() + diff * .5)\n",
    "        \n",
    "change_width(g, .8)\n",
    "\n",
    "plt.errorbar(x=np.arange(0,len(order)),\n",
    "             y=[df2plot[df2plot[\"Condition\"]==condtype][var].mean() for condtype in order],\n",
    "             yerr=[df2plot[df2plot[\"Condition\"]==condtype][var].sem() for condtype in order],\n",
    "             xerr=None,ecolor='black',fmt='none',capsize=10,linewidth=3,\n",
    "             capthick=3,zorder=10,\n",
    "            alpha=1)\n",
    "\n",
    "plt.axhline(0, color='#333333',alpha=1,linewidth=4)\n",
    "\n",
    "g.xaxis.set_tick_params(width=4)\n",
    "g.yaxis.set_tick_params(width=4)\n",
    "\n",
    "plt.rcParams['font.sans-serif'] = 'Helvetica'\n",
    "\n",
    "\n",
    "g.set_ylabel('')\n",
    "g.set_xlabel('',color='#333333',alpha=.7)\n",
    "\n",
    "\n",
    "g.grid(False)\n",
    "\n",
    "\n",
    "for axis in ['top','bottom','left','right']:\n",
    "  g.spines[axis].set_linewidth(4)\n",
    "  g.spines[axis].set_color('#333333')\n",
    "  g.spines[axis].set_alpha(1)\n",
    "\n",
    "plt.xticks(g.get_xticks(),['Autofluorescence',\n",
    "                           '@mouse\\nAtto647N',\n",
    "      'Block+0',\n",
    "       'Block+12',\n",
    "       'No Blocking'\n",
    "       ],\n",
    "           rotation=70,size=24)\n",
    "offsets={\"left\":10,\"bottom\":0}\n",
    "trims={\"left\":True,\"bottom\":False,\"right\":False}\n",
    "sns.despine(ax=g,right=True,top=True,bottom=True,trim=trims,offset=offsets)\n",
    "#plt.yticks([0,2,4,6,8,10,12],fontsize=22,color='#333333')\n",
    "\n",
    "\n",
    "scale_x=100\n",
    "ticks_y=ticker.FuncFormatter(lambda x, pos: '{0:g}' .format(x/scale_x))\n",
    "g=plt.gca()\n",
    "g.yaxis.set_major_formatter(ticks_y)\n",
    "\n",
    "#plt.ylim([0,12.5])\n",
    "x1, x2 = 0,4\n",
    "y= 330\n",
    "h=5\n",
    "col='black'\n",
    "plt.plot([x1, x1, x2, x2], [y, y+h, y+h, y], lw=3.5, c=col)\n",
    "plt.text((x1+x2)*.5, y+h, \"***\", ha='center', va='bottom', color=col,size=24, weight='bold')\n",
    "\n",
    "x1, x2 = 1,4\n",
    "y= 330\n",
    "h=5\n",
    "col='black'\n",
    "plt.plot([x1, x1, x2, x2], [y, y+h, y+h, y], lw=3.5, c=col)\n",
    "\n",
    "x1, x2 = 2,4\n",
    "y= 330\n",
    "h=5\n",
    "col='black'\n",
    "plt.plot([x1, x1, x2, x2], [y, y+h, y+h, y], lw=3.5, c=col)\n",
    "\n",
    "x1, x2 = 3,4\n",
    "y= 330\n",
    "h=5\n",
    "col='black'\n",
    "plt.plot([x1, x1, x2, x2], [y, y+h, y+h, y], lw=3.5, c=col)\n",
    "\n",
    "\n",
    "diri=\"/Volumes/Macintosh HD/Users/taldankovich/Downloads/figures/\"\n",
    "\n",
    "fig.savefig(diri+'supp1_fixedctrl.svg', bbox_inches='tight', format='svg')\n",
    "\n",
    "\n",
    "\n",
    "\n",
    "\n",
    "\n",
    "\n",
    "\n",
    "\n"
   ]
  },
  {
   "cell_type": "markdown",
   "metadata": {},
   "source": [
    "## make df with intensity of each exp normalised to background"
   ]
  },
  {
   "cell_type": "code",
   "execution_count": 39,
   "metadata": {},
   "outputs": [
    {
     "data": {
      "text/plain": [
       "Index(['filename', 'exp', 'Manual mask from matlab GUI', 'intensity',\n",
       "       'int under mask', 'bg sub int under mask', 'bg sub int unmasked',\n",
       "       'Blocked or not', 'Time', 'TNR or secondary', 'expno', 'Condition'],\n",
       "      dtype='object')"
      ]
     },
     "execution_count": 39,
     "metadata": {},
     "output_type": "execute_result"
    }
   ],
   "source": [
    "df2.columns"
   ]
  },
  {
   "cell_type": "code",
   "execution_count": 40,
   "metadata": {},
   "outputs": [],
   "source": [
    "var=\"bg sub int under mask\"\n",
    "df_norms={\"expname\":[],\"intensity norm2bg\":[],\"condition\":[]}\n",
    "for exp in df2[\"expno\"].unique():\n",
    "    dfexp=df2[df2[\"expno\"]==exp]\n",
    "    \n",
    "    intensity_attounblocked=dfexp[dfexp[\"Condition\"]==\"Unblocked mouseAtto647\"][var].mean()\n",
    "    \n",
    "    df_norms[\"intensity norm2bg\"].append(1)\n",
    "    df_norms[\"condition\"].append(\"Background (atto647 mouse)\")\n",
    "    df_norms[\"expname\"].append(exp)\n",
    "    \n",
    "    intensity_unblocked=dfexp[dfexp[\"Condition\"]==\"Unblocked TNR647\"][var].mean()/intensity_attounblocked\n",
    "    df_norms[\"intensity norm2bg\"].append(intensity_unblocked)\n",
    "    df_norms[\"expname\"].append(exp)\n",
    "    df_norms[\"condition\"].append(\"Unblocked TNR647\")\n",
    "    \n",
    "    intensity_block0=dfexp[dfexp[\"Condition\"]==\"Block+0, TNR647\"][var].mean()/intensity_attounblocked\n",
    "    df_norms[\"intensity norm2bg\"].append(intensity_block0)\n",
    "    df_norms[\"expname\"].append(exp)\n",
    "    df_norms[\"condition\"].append(\"Block+0, TNR647\")\n",
    "    \n",
    "    intensity_block12=dfexp[dfexp[\"Condition\"]==\"Block+12, TNR647\"][var].mean()/intensity_attounblocked\n",
    "    df_norms[\"intensity norm2bg\"].append(intensity_block12)\n",
    "    df_norms[\"expname\"].append(exp)\n",
    "    df_norms[\"condition\"].append(\"Block+12, TNR647\")\n",
    "    \n",
    "df_norms=pd.DataFrame(df_norms)"
   ]
  },
  {
   "cell_type": "code",
   "execution_count": 41,
   "metadata": {},
   "outputs": [
    {
     "data": {
      "text/plain": [
       "(array([0, 1, 2, 3]), <a list of 4 Text xticklabel objects>)"
      ]
     },
     "execution_count": 41,
     "metadata": {},
     "output_type": "execute_result"
    },
    {
     "data": {
      "image/png": "[encoded data removed]",
      "text/plain": [
       "<Figure size 720x720 with 1 Axes>"
      ]
     },
     "metadata": {
      "needs_background": "light"
     },
     "output_type": "display_data"
    }
   ],
   "source": [
    "plt.figure(figsize=(10,10))\n",
    "sns.barplot(data=df_norms,x=\"condition\",y=\"intensity norm2bg\")\n",
    "plt.xticks(rotation=90)"
   ]
  },
  {
   "cell_type": "code",
   "execution_count": 16,
   "metadata": {},
   "outputs": [
    {
     "data": {
      "text/plain": [
       "2.857118023549687"
      ]
     },
     "execution_count": 16,
     "metadata": {},
     "output_type": "execute_result"
    }
   ],
   "source": [
    "intensity_unblocked"
   ]
  },
  {
   "cell_type": "code",
   "execution_count": null,
   "metadata": {},
   "outputs": [],
   "source": []
  }
 ],
 "metadata": {
  "kernelspec": {
   "display_name": "Python 3",
   "language": "python",
   "name": "python3"
  },
  "language_info": {
   "codemirror_mode": {
    "name": "ipython",
    "version": 3
   },
   "file_extension": ".py",
   "mimetype": "text/x-python",
   "name": "python",
   "nbconvert_exporter": "python",
   "pygments_lexer": "ipython3",
   "version": "3.7.1"
  }
 },
 "nbformat": 4,
 "nbformat_minor": 2
}
