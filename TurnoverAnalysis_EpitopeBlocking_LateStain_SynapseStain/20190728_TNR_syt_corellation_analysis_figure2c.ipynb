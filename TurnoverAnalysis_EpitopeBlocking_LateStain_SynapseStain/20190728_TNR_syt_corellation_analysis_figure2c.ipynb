{
 "cells": [
  {
   "cell_type": "code",
   "execution_count": 4,
   "metadata": {},
   "outputs": [],
   "source": [
    "import numpy as np\n",
    "import os\n",
    "from nd2reader import ND2Reader\n",
    "import matplotlib.pyplot as plt\n",
    "import matplotlib.cm as cm\n",
    "from matplotlib_scalebar.scalebar import ScaleBar\n",
    "import scipy.ndimage as ndi\n",
    "from skimage.filters import rank \n",
    "from scipy.signal import butter, lfilter\n",
    "import scipy.misc as misc\n",
    "from skimage import exposure\n",
    "from PIL import Image\n",
    "import colorcet as cc\n",
    "from scipy.misc import toimage\n",
    "import matplotlib.colors as clr\n",
    "import pandas as pd\n",
    "import seaborn as sns\n",
    "from scipy import stats\n",
    "import cv2\n",
    "from pyspark import SparkContext, SparkConf\n",
    "import skimage\n",
    "from pathlib import Path\n",
    "%matplotlib inline\n",
    "def mean2(x):\n",
    "    y = np.sum(x) / np.size(x);\n",
    "    return y\n",
    "def corr2(a,b):\n",
    "    a = a - mean2(a)\n",
    "    b = b - mean2(b)\n",
    "\n",
    "    r = (a*b).sum() / np.sqrt((a*a).sum() * (b*b).sum());\n",
    "    return r\n",
    "from copy import deepcopy\n",
    "from skimage.filters import threshold_otsu,threshold_li\n",
    "import glob\n",
    "from IPython.display import clear_output\n",
    "import scipy.io as spio\n",
    "import pims\n",
    "from skimage.measure import regionprops"
   ]
  },
  {
   "cell_type": "code",
   "execution_count": 5,
   "metadata": {},
   "outputs": [],
   "source": [
    "expdir='/Volumes/ukps-all$/user/tdanko/Imaging/1_ECM/Fixed Culture/Gabriels_experiments_STED/'\n",
    "protein=\"TNR\" #TNR,Agg,WFA,HABP"
   ]
  },
  {
   "cell_type": "code",
   "execution_count": null,
   "metadata": {},
   "outputs": [],
   "source": [
    "results = {\"filename\":[],\n",
    "          \"exp condition\":[],\n",
    "          \"ecmchannelno\":[],\n",
    "          \"synapsechannelno\":[],\n",
    "           \"Manual syt spots mask\":[]}\n",
    "           \n",
    "path = os.path.dirname(expdir)  \n",
    "outputFolder = os.path.dirname(expdir + \"/new/\")\n",
    "filelist = []\n",
    "for root, _, filenames in os.walk(path):\n",
    "     for filename in filenames:\n",
    "         filelist.append(os.path.join(root, filename))      \n",
    "for i in range(0,len(filelist)):\n",
    "    if \"_analyse\" in str(filelist[i]):\n",
    "        print(1)\n",
    "        if (\"ocus\" in str(filelist[i]))==False:\n",
    "            print(2)\n",
    "            if (\"Pop\" in str(filelist[i]))==False:\n",
    "                print(3)\n",
    "                if (\"save\" in str(filelist[i]))==False:\n",
    "                    print(4)\n",
    "                    if filelist[i].endswith(\".tif\"): \n",
    "                        print(5)\n",
    "                        if str(filelist[i][:-12]) not in str(results[\"filename\"]):\n",
    "                            print(6)\n",
    "                            results[\"filename\"].append(filelist[i][:-12])\n",
    "                            results[\"exp condition\"].append(filelist[i][:-12].split('/')[-2])\n",
    "                            channeldir=\"/\".join(filelist[i][:-12].split(\"/\")[:-2])\n",
    "                            exec(open(channeldir+\"/channels.txt\").read())\n",
    "                            results[\"ecmchannelno\"].append(ecmchannelno)\n",
    "                            results[\"synapsechannelno\"].append(synapsechannelno)                                        "
   ]
  },
  {
   "cell_type": "markdown",
   "metadata": {},
   "source": [
    "## load random image"
   ]
  },
  {
   "cell_type": "code",
   "execution_count": null,
   "metadata": {},
   "outputs": [],
   "source": [
    "randomno=np.random.randint(1,len(results[\"filename\"]))\n",
    "ecm_channel_no=results[\"ecmchannelno\"][randomno]\n",
    "synapse_channel_no=results[\"synapsechannelno\"][randomno]\n",
    "\n",
    "ecm_image_name=results[\"filename\"][randomno]+\" Ch\"+str(ecm_channel_no)+\" {0}.tif\"\n",
    "synapse_image_name=results[\"filename\"][randomno]+\" Ch\"+str(synapse_channel_no)+\" {0}.tif\"\n",
    "\n",
    "print(\"Image name:\",results[\"filename\"][randomno].split('/')[-1])\n",
    "print(\"Experimental condition:\",results[\"exp condition\"][randomno])\n",
    "ecm_image=pims.open(ecm_image_name)[0]\n",
    "synapse_image=pims.open(synapse_image_name)[0]\n",
    "\n",
    "figure=plt.figure(figsize=(15,15))\n",
    "figure.add_subplot(131)\n",
    "plt.imshow(ecm_image,interpolation='none',cmap='hot')\n",
    "plt.title('ECM raw')\n",
    "plt.grid(visible=False)\n",
    "plt.xticks(visible=False)\n",
    "plt.yticks(visible=False)\n",
    "scalebar = ScaleBar(40, 'nm', dimension='si-length',box_alpha=0,location='lower right',length_fraction=0.2,\n",
    "                       font_properties={'size':16,'weight':'bold'},color='white',border_pad=0.5) # 1 pixel = 0.2 meter\n",
    "plt.gca().add_artist(scalebar)\n",
    "figure.add_subplot(132)\n",
    "plt.imshow(ecm_image,interpolation='none',cmap='hot',vmin=3*np.min(ecm_image),vmax=0.4*np.max(ecm_image))\n",
    "plt.title('ECM scaled')\n",
    "plt.grid(visible=False)\n",
    "plt.xticks(visible=False)\n",
    "plt.yticks(visible=False)\n",
    "scalebar = ScaleBar(40, 'nm', dimension='si-length',box_alpha=0,location='lower right',length_fraction=0.2,\n",
    "                       font_properties={'size':16,'weight':'bold'},color='white',border_pad=0.5) # 1 pixel = 0.2 meter\n",
    "    \n",
    "plt.gca().add_artist(scalebar)\n",
    "\n",
    "figure.add_subplot(133)\n",
    "plt.imshow(synapse_image,interpolation='none',cmap='hot')\n",
    "plt.title('synapse raw')\n",
    "plt.grid(visible=False)\n",
    "plt.xticks(visible=False)\n",
    "plt.yticks(visible=False)\n",
    "scalebar = ScaleBar(40, 'nm', dimension='si-length',box_alpha=0,location='lower right',length_fraction=0.2,\n",
    "                       font_properties={'size':16,'weight':'bold'},color='white',border_pad=0.5) # 1 pixel = 0.2 meter\n",
    "    \n",
    "plt.gca().add_artist(scalebar)"
   ]
  },
  {
   "cell_type": "markdown",
   "metadata": {},
   "source": [
    "## load synapse spots"
   ]
  },
  {
   "cell_type": "code",
   "execution_count": null,
   "metadata": {},
   "outputs": [],
   "source": [
    "for image in range(0,len(results[\"filename\"])):\n",
    "    results[\"Manual syt spots mask\"].append(np.load(results[\"filename\"][image]+'_syt_spots_mask.npy'))"
   ]
  },
  {
   "cell_type": "markdown",
   "metadata": {},
   "source": [
    "## Sanity check"
   ]
  },
  {
   "cell_type": "code",
   "execution_count": null,
   "metadata": {},
   "outputs": [],
   "source": [
    "randomno=np.random.randint(1,len(results[\"filename\"]))\n",
    "\n",
    "\n",
    "ecm_distribution_around_synapses={\"filename\":[],\n",
    "                                  \"exp condition\":[],\n",
    "                                  \"ecm_around_single_spot\":[],\n",
    "                                  \"ecm_around_single_spot_mean_intensity\":[],\n",
    "                                  \"original_synapse_at_single_spot\":[],\n",
    "                                  \"mean_intensty_original_synapse\":[],\n",
    "                                  \"ecm_around_single_spot bg subtracted\":[],\n",
    "                                  \"ecm_around_single_spot_mean_intensity bg subtracted\":[],\n",
    "                                  \"original_synapse_at_single_spot bg subtracted\":[],\n",
    "                                  \"mean_intensty_original_synapse bg subtracted\":[]\n",
    "                                 }\n",
    "\n",
    "ecm_channel_no=results[\"ecmchannelno\"][randomno]\n",
    "ecm_image_name=results[\"filename\"][randomno]+\" Ch\"+str(ecm_channel_no)+\" {0}.tif\"\n",
    "ecm_image=pims.open(ecm_image_name)[0]\n",
    "synapse_channel_no=results[\"synapsechannelno\"][randomno]\n",
    "synapse_image_name=results[\"filename\"][randomno]+\" Ch\"+str(synapse_channel_no)+\" {0}.tif\"\n",
    "synapse_image=pims.open(synapse_image_name)[0]\n",
    "#label images\n",
    "spots_mask=results[\"Manual syt spots mask\"][randomno]\n",
    "spots_labeled, cc_num=ndi.label(spots_mask)\n",
    "#cut out ecm image 4microns around each spot - 200pixels\n",
    "print(cc_num)\n",
    "regions = regionprops(spots_labeled)\n",
    "#fig, ax = plt.subplots(figsize=(10,10))\n",
    "#ax.imshow(spots_mask,cmap=plt.cm.gray)\n",
    "synapse_spots_results_sanity=[]\n",
    "for props in regions:    \n",
    "    y0, x0 = props.centroid\n",
    "    center_of_spot=[0,0]\n",
    "    center_of_spot[0]=np.round(y0).astype(int)\n",
    "    center_of_spot[1]=np.round(x0).astype(int)\n",
    "    #check if the spot gets cut off at the border before taking\n",
    "    if (((center_of_spot[1]-50>0) & (center_of_spot[1]+50>0))&((center_of_spot[0]-50>0) & (center_of_spot[0]+50>0))):\n",
    "        #cut out the ecm around spot\n",
    "        ecm_around_spot=ecm_image[center_of_spot[0]-50:center_of_spot[0]+50,\n",
    "              center_of_spot[1]-50:center_of_spot[1]+50]\n",
    "        #cut out the synapse around spot\n",
    "        original_synapse_at_single_spot=synapse_image[center_of_spot[0]-50:center_of_spot[0]+50,\n",
    "              center_of_spot[1]-50:center_of_spot[1]+50]\n",
    "        if ecm_around_spot.shape==(100,100):\n",
    "            #save centroid\n",
    "            synapse_spots_results_sanity.append(props.centroid)\n",
    "            ecm_distribution_around_synapses[\"filename\"].append(results[\"filename\"][randomno])\n",
    "            ecm_distribution_around_synapses[\"exp condition\"].append(results[\"exp condition\"][randomno])\n",
    "            #append mean synapse intensity at spot\n",
    "            mean_intensty_original_synapse=np.mean(original_synapse_at_single_spot)\n",
    "            ecm_distribution_around_synapses[\"mean_intensty_original_synapse\"].append(mean_intensty_original_synapse)\n",
    "            #append ecm spot matrix\n",
    "            ecm_distribution_around_synapses[\"ecm_around_single_spot\"].append(ecm_around_spot)\n",
    "            #append synapse spot matrix\n",
    "            ecm_distribution_around_synapses[\"original_synapse_at_single_spot\"].append(original_synapse_at_single_spot)\n",
    "            #append ecm spot matrix\n",
    "            ecm_distribution_around_synapses[\"ecm_around_single_spot_mean_intensity\"].append(np.nanmean(ecm_around_spot))\n",
    "\n",
    "            #after bg subtraction\n",
    "            ecm_around_spot_bgsub=np.array(deepcopy(ecm_around_spot))\n",
    "            ecm_around_spot_bgsub=np.divide(ecm_around_spot_bgsub,255)\n",
    "            bg_ecm=np.mean(ndi.median_filter(ecm_around_spot_bgsub,size=5))+0*np.std(ndi.median_filter(ecm_around_spot_bgsub,size=5))\n",
    "            ecm_around_spot_bgsub=np.subtract(ecm_around_spot_bgsub,bg_ecm)\n",
    "            ecm_around_spot_bgsub[ecm_around_spot_bgsub<0]=0\n",
    "\n",
    "            synapse_around_spot_bgsub=np.array(deepcopy(original_synapse_at_single_spot))\n",
    "            synapse_around_spot_bgsub=np.divide(synapse_around_spot_bgsub,255)\n",
    "            bg_synapse=np.mean(ndi.median_filter(synapse_around_spot_bgsub,size=5))+0*np.std(ndi.median_filter(synapse_around_spot_bgsub,size=5))\n",
    "            synapse_around_spot_bgsub=np.subtract(synapse_around_spot_bgsub,bg_synapse)\n",
    "            synapse_around_spot_bgsub[synapse_around_spot_bgsub<0]=0\n",
    "\n",
    "            ecm_distribution_around_synapses[\"mean_intensty_original_synapse bg subtracted\"].append(np.nanmean(synapse_around_spot_bgsub))\n",
    "            ecm_distribution_around_synapses[\"ecm_around_single_spot bg subtracted\"].append(ecm_around_spot_bgsub)\n",
    "            ecm_distribution_around_synapses[\"original_synapse_at_single_spot bg subtracted\"].append(synapse_around_spot_bgsub)\n",
    "            ecm_distribution_around_synapses[\"ecm_around_single_spot_mean_intensity bg subtracted\"].append(np.nanmean(ecm_around_spot_bgsub))\n",
    "\n",
    "fig=plt.figure(figsize=(20,10))\n",
    "fig.add_subplot(131)\n",
    "plt.title('Raw ECM')\n",
    "plt.imshow(ecm_image)\n",
    "\n",
    "fig.add_subplot(132)\n",
    "plt.title('Raw syt')\n",
    "plt.imshow(synapse_image)\n",
    "\n",
    "fig.add_subplot(133)\n",
    "plt.title('Labeled syt image with centroids')\n",
    "plt.imshow(spots_labeled)\n",
    "for i in range(0,len(synapse_spots_results_sanity)):\n",
    "    plt.plot(synapse_spots_results_sanity[i][1],synapse_spots_results_sanity[i][0],'+',color='r',markersize=12)\n",
    "\n",
    "#show random spot\n",
    "randomno=np.random.randint(1,len(ecm_distribution_around_synapses))\n",
    "centroid=synapse_spots_results_sanity[randomno]\n",
    "fig=plt.figure(figsize=(20,10))\n",
    "fig.add_subplot(231)\n",
    "plt.title('Spot marked in syt image')\n",
    "plt.imshow(synapse_image)\n",
    "plt.plot(synapse_spots_results_sanity[randomno][1],synapse_spots_results_sanity[randomno][0],'+',color='r',markersize=12)\n",
    "\n",
    "fig.add_subplot(232)\n",
    "plt.title('ECM around spot')\n",
    "plt.imshow(ecm_distribution_around_synapses[\"ecm_around_single_spot\"][randomno])\n",
    "\n",
    "fig.add_subplot(233)\n",
    "plt.title('ECM around spot bg subtracted')\n",
    "plt.imshow(ecm_distribution_around_synapses[\"ecm_around_single_spot bg subtracted\"][randomno])\n",
    "\n",
    "fig.add_subplot(234)\n",
    "plt.title('syt around spot')\n",
    "plt.imshow(ecm_distribution_around_synapses[\"original_synapse_at_single_spot\"][randomno])\n",
    "\n",
    "fig.add_subplot(235)\n",
    "plt.title('syt around spot bg subtracted')\n",
    "plt.imshow(ecm_distribution_around_synapses[\"original_synapse_at_single_spot bg subtracted\"][randomno])\n"
   ]
  },
  {
   "cell_type": "markdown",
   "metadata": {},
   "source": [
    "## Make individual spot images"
   ]
  },
  {
   "cell_type": "code",
   "execution_count": null,
   "metadata": {},
   "outputs": [],
   "source": [
    "#regionprops centroid = center of spot\n",
    "ecm_distribution_around_synapses={\"filename\":[],\n",
    "                                  \"exp condition\":[],\n",
    "                                  \"ecm_around_single_spot\":[],\n",
    "                                  \"ecm_around_single_spot_mean_intensity\":[],\n",
    "                                  \"ecm_around_single_spot bg subtracted\":[],\n",
    "                                  \"ecm_around_single_spot_mean_intensity bg subtracted\":[],\n",
    "                                  \n",
    "                                  \"original_synapse_at_single_spot\":[],\n",
    "                                  \"mean_intensty_original_synapse\":[],\n",
    "                                  \"original_synapse_at_single_spot bg subtracted\":[],\n",
    "                                  \"mean_intensty_original_synapse bg subtracted\":[]}\n",
    "                                  \n",
    "for i in range(0,len(results[\"filename\"])):\n",
    "    #read the image\n",
    "    ecm_channel_no=results[\"ecmchannelno\"][i]\n",
    "    ecm_image_name=results[\"filename\"][i]+\" Ch\"+str(ecm_channel_no)+\" {0}.tif\"\n",
    "    ecm_image=pims.open(ecm_image_name)[0]\n",
    "    synapse_channel_no=results[\"synapsechannelno\"][i]\n",
    "    synapse_image_name=results[\"filename\"][i]+\" Ch\"+str(synapse_channel_no)+\" {0}.tif\"\n",
    "    synapse_image=pims.open(synapse_image_name)[0]\n",
    "    \n",
    "    #label connected components in spots mask\n",
    "    spots_mask=results[\"Manual syt spots mask\"][i]\n",
    "    spots_labeled, cc_num=ndi.label(spots_mask)\n",
    "    #cut out ecm around spots - 100px by 100px (2x2 microns) \n",
    "    print('No spots in image: ' + str(cc_num))\n",
    "    regions = regionprops(spots_labeled)\n",
    "    for props in regions:\n",
    "        y0, x0 = props.centroid\n",
    "        center_of_spot=[0,0]\n",
    "        center_of_spot[0]=np.round(y0).astype(int)\n",
    "        center_of_spot[1]=np.round(x0).astype(int)\n",
    "        #check if the spot gets cut off at the border before taking\n",
    "        if (((center_of_spot[1]-50>0) & (center_of_spot[1]+50>0))&((center_of_spot[0]-50>0) & (center_of_spot[0]+50>0))):\n",
    "            #cut out the ecm around spot\n",
    "            ecm_around_spot=ecm_image[center_of_spot[0]-50:center_of_spot[0]+50,\n",
    "                  center_of_spot[1]-50:center_of_spot[1]+50]\n",
    "            #cut out the synapse around spot\n",
    "            original_synapse_at_single_spot=synapse_image[center_of_spot[0]-50:center_of_spot[0]+50,\n",
    "                  center_of_spot[1]-50:center_of_spot[1]+50]\n",
    "            if ecm_around_spot.shape==(100,100):\n",
    "                ecm_distribution_around_synapses[\"filename\"].append(results[\"filename\"][i])\n",
    "                ecm_distribution_around_synapses[\"exp condition\"].append(results[\"exp condition\"][i])\n",
    "                #append mean synapse intensity at spot\n",
    "                mean_intensty_original_synapse=np.mean(original_synapse_at_single_spot)\n",
    "                ecm_distribution_around_synapses[\"mean_intensty_original_synapse\"].append(mean_intensty_original_synapse)\n",
    "                #append ecm spot matrix\n",
    "                ecm_distribution_around_synapses[\"ecm_around_single_spot\"].append(ecm_around_spot)\n",
    "                #append synapse spot matrix\n",
    "                ecm_distribution_around_synapses[\"original_synapse_at_single_spot\"].append(original_synapse_at_single_spot)\n",
    "                #append ecm spot matrix\n",
    "                ecm_distribution_around_synapses[\"ecm_around_single_spot_mean_intensity\"].append(np.nanmean(ecm_around_spot))\n",
    "\n",
    "                #after bg subtraction\n",
    "                ecm_around_spot_bgsub=np.array(deepcopy(ecm_around_spot))\n",
    "                ecm_around_spot_bgsub=np.divide(ecm_around_spot_bgsub,255)\n",
    "                bg_ecm=np.mean(ndi.median_filter(ecm_around_spot_bgsub,size=5))+0*np.std(ndi.median_filter(ecm_around_spot_bgsub,size=5))\n",
    "                ecm_around_spot_bgsub=np.subtract(ecm_around_spot_bgsub,bg_ecm)\n",
    "                ecm_around_spot_bgsub[ecm_around_spot_bgsub<0]=0\n",
    "\n",
    "                synapse_around_spot_bgsub=np.array(deepcopy(original_synapse_at_single_spot))\n",
    "                synapse_around_spot_bgsub=np.divide(synapse_around_spot_bgsub,255)\n",
    "                bg_synapse=np.mean(ndi.median_filter(synapse_around_spot_bgsub,size=5))+0*np.std(ndi.median_filter(synapse_around_spot_bgsub,size=5))\n",
    "                synapse_around_spot_bgsub=np.subtract(synapse_around_spot_bgsub,bg_synapse)\n",
    "                synapse_around_spot_bgsub[synapse_around_spot_bgsub<0]=0\n",
    "\n",
    "                ecm_distribution_around_synapses[\"mean_intensty_original_synapse bg subtracted\"].append(np.nanmean(synapse_around_spot_bgsub))\n",
    "                ecm_distribution_around_synapses[\"ecm_around_single_spot bg subtracted\"].append(ecm_around_spot_bgsub)\n",
    "                ecm_distribution_around_synapses[\"original_synapse_at_single_spot bg subtracted\"].append(synapse_around_spot_bgsub)\n",
    "                ecm_distribution_around_synapses[\"ecm_around_single_spot_mean_intensity bg subtracted\"].append(np.nanmean(ecm_around_spot_bgsub))            "
   ]
  },
  {
   "cell_type": "markdown",
   "metadata": {},
   "source": [
    "## Sanity check: see that spot image takes the correct part of the ecm image"
   ]
  },
  {
   "cell_type": "code",
   "execution_count": null,
   "metadata": {},
   "outputs": [],
   "source": [
    "fig=plt.figure(figsize=(20,20))\n",
    "fig.add_subplot(121)\n",
    "plt.imshow(synapse_image)\n",
    "plt.plot(center_of_spot[1],center_of_spot[0],'*r')\n",
    "synapse_copy=deepcopy(synapse_image)\n",
    "if ((center_of_spot[1]-50>0) & (center_of_spot[1]+50>0)&(center_of_spot[0]-50>0) & (center_of_spot[0]+50>0)):\n",
    "    synapse_copy[center_of_spot[0]-50:center_of_spot[0]+50,\n",
    "             center_of_spot[1]-50:center_of_spot[1]+50]=100\n",
    "synapse_copy[synapse_copy<100]=0\n",
    "fig.add_subplot(122)\n",
    "plt.imshow(synapse_copy)"
   ]
  },
  {
   "cell_type": "markdown",
   "metadata": {},
   "source": [
    "## Dataframe"
   ]
  },
  {
   "cell_type": "code",
   "execution_count": null,
   "metadata": {},
   "outputs": [],
   "source": [
    "df=pd.DataFrame(ecm_distribution_around_synapses)"
   ]
  },
  {
   "cell_type": "markdown",
   "metadata": {},
   "source": [
    "## Plot a random spots image"
   ]
  },
  {
   "cell_type": "code",
   "execution_count": null,
   "metadata": {},
   "outputs": [],
   "source": [
    "randomno=np.random.randint(1,len(df))\n",
    "fig=plt.figure(figsize=(8,4))\n",
    "fig.add_subplot(121)\n",
    "plt.imshow(df[\"original_synapse_at_single_spot\"][randomno],cmap='inferno')\n",
    "plt.xticks(visible=False)\n",
    "plt.yticks(visible=False)\n",
    "plt.gca().set(aspect='equal',adjustable='box')\n",
    "plt.grid(False)\n",
    "plt.title('Synapse spot bg subtracted')\n",
    "fig.add_subplot(122)\n",
    "plt.imshow(df[\"ecm_around_single_spot\"][randomno],cmap='inferno')\n",
    "plt.xticks(visible=False)\n",
    "plt.yticks(visible=False)\n",
    "plt.gca().set(aspect='equal',adjustable='box')\n",
    "plt.grid(False)\n",
    "plt.title('ECM around synapse spot bg subtracted')"
   ]
  },
  {
   "cell_type": "markdown",
   "metadata": {},
   "source": [
    "## Add radial average"
   ]
  },
  {
   "cell_type": "code",
   "execution_count": null,
   "metadata": {},
   "outputs": [],
   "source": [
    "## radial_average version 2\n",
    "def radial_average(image):\n",
    "    import numpy as np\n",
    "    import scipy\n",
    "    from scipy import ndimage\n",
    "    import matplotlib.pyplot as plt\n",
    "    f = image\n",
    "    sx, sy = f.shape\n",
    "    X, Y = np.ogrid[0:sx, 0:sy]\n",
    "    r = np.hypot(X - sx/2, Y - sy/2)\n",
    "    rbin = (20* r/r.max()).astype(np.int) ##30 rings --> r-\n",
    "    radial_mean = ndimage.mean(f, labels=rbin, index=np.arange(1, rbin.max() +1))\n",
    "    return radial_mean"
   ]
  },
  {
   "cell_type": "markdown",
   "metadata": {},
   "source": [
    "## Add meaningful columns to the dataframe"
   ]
  },
  {
   "cell_type": "code",
   "execution_count": null,
   "metadata": {},
   "outputs": [],
   "source": [
    "#make df, which also contains column names for plotting (drug, condition)\n",
    "df['Time']='None'\n",
    "df.loc[df[\"filename\"].str.contains('2hr'), 'Time'] = '2hrs'\n",
    "df.loc[df[\"filename\"].str.contains('4hr'), 'Time'] = '4hrs'\n",
    "df.loc[df[\"filename\"].str.contains('12hr'), 'Time'] = '12hrs'\n",
    "df.loc[df['filename'].str.contains('Ctrl'), 'Time'] = 'Unblocked Control'\n",
    "df.loc[df['filename'].str.contains('Unblocked'), 'Time'] = 'Unblocked Control'\n",
    "\n",
    "df.loc[df['filename'].str.contains('Bic'), 'Drug'] = 'Bic'\n",
    "df.loc[df['filename'].str.contains('DMSO'), 'Drug'] = 'DMSO'\n",
    "df.loc[df['filename'].str.contains('Ctrl'), 'Drug'] = 'DMSO'\n",
    "df.loc[df['filename'].str.contains('Unblocked'), 'Drug'] = 'DMSO'\n",
    "\n",
    "#nicely written treatment condition for plotting\n",
    "df['Condition']='None'\n",
    "df.loc[df['filename'].str.contains('2hrs_Bic'), 'Condition'] = '2hr + Bic'\n",
    "df.loc[df['filename'].str.contains('4hrs_Bic'), 'Condition'] = '4hr + Bic'\n",
    "df.loc[df['filename'].str.contains('2hrs_DMSO'), 'Condition'] = '2hr + DMSO'\n",
    "df.loc[df['filename'].str.contains('4hrs_DMSO'), 'Condition'] = '4hr + DMSO'\n",
    "df.loc[df['filename'].str.contains('12hrs_Bic'), 'Condition'] = '12hr + Bic'\n",
    "df.loc[df['filename'].str.contains('12hrs_DMSO'), 'Condition'] = '12hr + DMSO'\n",
    "df.loc[df['filename'].str.contains('Ctrl'), 'Condition'] = 'Unblocked Control'\n",
    "df.loc[df['filename'].str.contains('Unblocked'), 'Condition'] = 'Unblocked Control'\n",
    "\n",
    "df[\"expname\"]='None'\n",
    "df.loc[df['filename'].str.contains('20181002'), 'expname'] = '20181002'\n",
    "df.loc[df['filename'].str.contains('20181011'), 'expname'] = '20181011'\n",
    "df.loc[df['filename'].str.contains('20181116'), 'expname'] = '20181116'"
   ]
  },
  {
   "cell_type": "code",
   "execution_count": null,
   "metadata": {},
   "outputs": [],
   "source": [
    "df2=deepcopy(df[df[\"Time\"]==\"12hrs\"])\n",
    "df2=df2.reset_index()\n",
    "df2[\"ecm mean int norm2med\"]=df2[\"ecm_around_single_spot_mean_intensity bg subtracted\"]\n",
    "df2[\"syt mean int norm2med\"]=df2[\"mean_intensty_original_synapse bg subtracted\"]"
   ]
  },
  {
   "cell_type": "code",
   "execution_count": null,
   "metadata": {},
   "outputs": [],
   "source": [
    "df2[\"ecm mean int norm2med\"][0:10]"
   ]
  },
  {
   "cell_type": "code",
   "execution_count": null,
   "metadata": {},
   "outputs": [],
   "source": [
    "expnam=[]\n",
    "medtnr=[]\n",
    "medsyt=[]\n",
    "for exp in df2[\"expname\"].unique():\n",
    "    dfexp=df2[df2[\"expname\"]==exp]\n",
    "    med_tnr=dfexp[\"ecm_around_single_spot_mean_intensity bg subtracted\"].median()\n",
    "    med_syt=dfexp[\"mean_intensty_original_synapse bg subtracted\"].median()\n",
    "    print(exp+' - med tnr: '+str(med_tnr)+' - med syt: '+str(med_syt))\n",
    "    expnam.append(exp)\n",
    "    medtnr.append(med_tnr)\n",
    "    medsyt.append(med_syt)\n",
    "df2[\"ecm mean int norm2med\"]=np.nan\n",
    "df2[\"syt mean int norm2med\"]=np.nan\n",
    "for i in range(0,len(df2)):\n",
    "    if df2[\"expname\"][i]==expnam[0]:\n",
    "        df2[\"ecm mean int norm2med\"][i]=df2[\"ecm_around_single_spot_mean_intensity bg subtracted\"][i]/medtnr[0]\n",
    "        df2[\"syt mean int norm2med\"][i]=df2[\"mean_intensty_original_synapse bg subtracted\"][i]/medsyt[0]\n",
    "    if df2[\"expname\"][i]==expnam[1]:\n",
    "        df2[\"ecm mean int norm2med\"][i]=df2[\"ecm_around_single_spot_mean_intensity bg subtracted\"][i]/medtnr[1]\n",
    "        df2[\"syt mean int norm2med\"][i]=df2[\"mean_intensty_original_synapse bg subtracted\"][i]/medsyt[1]\n",
    "    if df2[\"expname\"][i]==expnam[2]:\n",
    "        df2[\"ecm mean int norm2med\"][i]=df2[\"ecm_around_single_spot_mean_intensity bg subtracted\"][i]/medtnr[2]\n",
    "        df2[\"syt mean int norm2med\"][i]=df2[\"mean_intensty_original_synapse bg subtracted\"][i]/medsyt[2]"
   ]
  },
  {
   "cell_type": "code",
   "execution_count": null,
   "metadata": {},
   "outputs": [],
   "source": [
    "df2=df2[df2[\"ecm mean int norm2med\"]<\n",
    "               df2[\"ecm mean int norm2med\"].quantile(.99)]\n",
    "df2=df2[df2[\"syt mean int norm2med\"]<\n",
    "               df2[\"syt mean int norm2med\"].quantile(.99)]"
   ]
  },
  {
   "cell_type": "markdown",
   "metadata": {},
   "source": [
    "## Store to pkl or load from pkl"
   ]
  },
  {
   "cell_type": "code",
   "execution_count": null,
   "metadata": {},
   "outputs": [],
   "source": [
    "df2.to_pickle(expdir+'20190801_tnr_syt1_corr_df2.pkl')"
   ]
  },
  {
   "cell_type": "code",
   "execution_count": 6,
   "metadata": {},
   "outputs": [],
   "source": [
    "df2=pd.read_pickle(expdir+'20190801_tnr_syt1_corr_df2.pkl')"
   ]
  },
  {
   "cell_type": "markdown",
   "metadata": {},
   "source": [
    "## Correlate vGlut intensity to TNR intensity - all spots together"
   ]
  },
  {
   "cell_type": "markdown",
   "metadata": {},
   "source": [
    "### scatterplot: each point = one spot, x= TNR mean intensity, y=syt mean intensity"
   ]
  },
  {
   "cell_type": "code",
   "execution_count": 7,
   "metadata": {},
   "outputs": [
    {
     "data": {
      "text/plain": [
       "<Figure size 432x288 with 0 Axes>"
      ]
     },
     "metadata": {},
     "output_type": "display_data"
    },
    {
     "data": {
      "image/png": "[encoded data removed]",
      "text/plain": [
       "<Figure size 360x360 with 1 Axes>"
      ]
     },
     "metadata": {},
     "output_type": "display_data"
    }
   ],
   "source": [
    "from matplotlib import ticker\n",
    "sns.set(font_scale=2.5)\n",
    "sns.set(font=\"Arial\")\n",
    "sns.set_style(\"white\")\n",
    "sns.despine()\n",
    "sns.set_palette(\"Set2\")\n",
    "\n",
    "fig=plt.figure(figsize=(5,5))\n",
    "g=sns.scatterplot(x=\"ecm mean int norm2med\",\n",
    "                  y=\"syt mean int norm2med\",data=df2,\n",
    "               color=\"magenta\",alpha=0.3,s=80)\n",
    "#g.set_xscale('log')\n",
    "plt.title('')\n",
    "plt.locator_params(axis='y', nbins=5)\n",
    "plt.yticks(visible=True,weight='bold',color='black',alpha=.7,fontsize=14)\n",
    "plt.xticks(visible=True,weight='bold',color='black',alpha=.7,fontsize=14)\n",
    "\n",
    "\n",
    "g.tick_params(width=3,color='black')\n",
    "#g.set_ylabel('Fluorescence intensity (AU)',color='black',alpha=.7,labelpad=3,size=28,weight='bold')\n",
    "g.set_ylabel('syt1',color='black',alpha=.7,fontsize=18,weight='bold')\n",
    "g.set_xlabel('TNR',color='black',alpha=.7,fontsize=18,weight='bold')\n",
    "g.grid(False)\n",
    "\n",
    "sns.despine(ax=g,right=True,top=True)\n",
    "for axis in ['top','bottom','left','right']:\n",
    "  g.spines[axis].set_linewidth(3)\n",
    "  g.spines[axis].set_color('black')\n",
    "  g.spines[axis].set_alpha(.7)\n",
    "\n",
    "scale_x=1/10\n",
    "ticks_x = ticker.FuncFormatter(lambda x, pos: '{0:g}'.format(x/scale_x))\n",
    "g.xaxis.set_major_formatter(ticks_x)\n",
    "\n"
   ]
  },
  {
   "cell_type": "code",
   "execution_count": 8,
   "metadata": {},
   "outputs": [
    {
     "data": {
      "text/plain": [
       "(0.2637173170059487, 1.475383006429233e-93)"
      ]
     },
     "execution_count": 8,
     "metadata": {},
     "output_type": "execute_result"
    }
   ],
   "source": [
    "from pydoc import help\n",
    "from scipy.stats.stats import pearsonr\n",
    "pearsonr(df2[\"ecm mean int norm2med\"],df2[\"syt mean int norm2med\"])"
   ]
  },
  {
   "cell_type": "code",
   "execution_count": 9,
   "metadata": {},
   "outputs": [
    {
     "ename": "NameError",
     "evalue": "name 'df' is not defined",
     "output_type": "error",
     "traceback": [
      "\u001b[0;31m---------------------------------------------------------------------------\u001b[0m",
      "\u001b[0;31mNameError\u001b[0m                                 Traceback (most recent call last)",
      "\u001b[0;32m<ipython-input-9-54f07aed9dd9>\u001b[0m in \u001b[0;36m<module>\u001b[0;34m\u001b[0m\n\u001b[0;32m----> 1\u001b[0;31m \u001b[0;32mfor\u001b[0m \u001b[0mexp\u001b[0m \u001b[0;32min\u001b[0m \u001b[0mdf\u001b[0m\u001b[0;34m[\u001b[0m\u001b[0;34m\"expname\"\u001b[0m\u001b[0;34m]\u001b[0m\u001b[0;34m.\u001b[0m\u001b[0munique\u001b[0m\u001b[0;34m(\u001b[0m\u001b[0;34m)\u001b[0m\u001b[0;34m:\u001b[0m\u001b[0;34m\u001b[0m\u001b[0;34m\u001b[0m\u001b[0m\n\u001b[0m\u001b[1;32m      2\u001b[0m     \u001b[0mdf2plot\u001b[0m\u001b[0;34m=\u001b[0m\u001b[0mdf2\u001b[0m\u001b[0;34m[\u001b[0m\u001b[0mdf2\u001b[0m\u001b[0;34m[\u001b[0m\u001b[0;34m\"expname\"\u001b[0m\u001b[0;34m]\u001b[0m\u001b[0;34m==\u001b[0m\u001b[0mexp\u001b[0m\u001b[0;34m]\u001b[0m\u001b[0;34m\u001b[0m\u001b[0;34m\u001b[0m\u001b[0m\n\u001b[1;32m      3\u001b[0m     \u001b[0;32mfrom\u001b[0m \u001b[0mmatplotlib\u001b[0m \u001b[0;32mimport\u001b[0m \u001b[0mticker\u001b[0m\u001b[0;34m\u001b[0m\u001b[0;34m\u001b[0m\u001b[0m\n\u001b[1;32m      4\u001b[0m     \u001b[0msns\u001b[0m\u001b[0;34m.\u001b[0m\u001b[0mset\u001b[0m\u001b[0;34m(\u001b[0m\u001b[0mfont_scale\u001b[0m\u001b[0;34m=\u001b[0m\u001b[0;36m2.5\u001b[0m\u001b[0;34m)\u001b[0m\u001b[0;34m\u001b[0m\u001b[0;34m\u001b[0m\u001b[0m\n\u001b[1;32m      5\u001b[0m     \u001b[0msns\u001b[0m\u001b[0;34m.\u001b[0m\u001b[0mset\u001b[0m\u001b[0;34m(\u001b[0m\u001b[0mfont\u001b[0m\u001b[0;34m=\u001b[0m\u001b[0;34m\"Arial\"\u001b[0m\u001b[0;34m)\u001b[0m\u001b[0;34m\u001b[0m\u001b[0;34m\u001b[0m\u001b[0m\n",
      "\u001b[0;31mNameError\u001b[0m: name 'df' is not defined"
     ]
    }
   ],
   "source": [
    "for exp in df[\"expname\"].unique():\n",
    "    df2plot=df2[df2[\"expname\"]==exp]\n",
    "    from matplotlib import ticker\n",
    "    sns.set(font_scale=2.5)\n",
    "    sns.set(font=\"Arial\")\n",
    "    sns.set_style(\"white\")\n",
    "    sns.despine()\n",
    "    sns.set_palette(\"Set2\")\n",
    "\n",
    "    fig=plt.figure(figsize=(5,5))\n",
    "    g=sns.scatterplot(x=\"syt mean int norm2med\",\n",
    "                      y=\"ecm mean int norm2med\",data=df2plot,\n",
    "                   color=\"magenta\",alpha=0.3,s=80)\n",
    "    #g.set_xscale('log')\n",
    "    plt.title('')\n",
    "    plt.locator_params(axis='y', nbins=5)\n",
    "    plt.yticks(visible=True,weight='bold',color='black',alpha=.7,fontsize=14)\n",
    "    plt.xticks(visible=True,weight='bold',color='black',alpha=.7,fontsize=14)\n",
    "\n",
    "\n",
    "    g.tick_params(width=3,color='black')\n",
    "    #g.set_ylabel('Fluorescence intensity (AU)',color='black',alpha=.7,labelpad=3,size=28,weight='bold')\n",
    "    g.set_ylabel('syt1',color='black',alpha=.7,fontsize=18,weight='bold')\n",
    "    g.set_xlabel('TNR',color='black',alpha=.7,fontsize=18,weight='bold')\n",
    "    g.grid(False)\n",
    "\n",
    "    sns.despine(ax=g,right=True,top=True)\n",
    "    for axis in ['top','bottom','left','right']:\n",
    "      g.spines[axis].set_linewidth(3)\n",
    "      g.spines[axis].set_color('black')\n",
    "      g.spines[axis].set_alpha(.7)\n",
    "\n",
    "    #scale_x=1/10\n",
    "    #ticks_x = ticker.FuncFormatter(lambda x, pos: '{0:g}'.format(x/scale_x))\n",
    "    #g.xaxis.set_major_formatter(ticks_x)\n",
    "    plt.title(exp)\n",
    "\n",
    "\n"
   ]
  },
  {
   "cell_type": "markdown",
   "metadata": {},
   "source": [
    "## Split into bins according to vglut intensity, look at average TNR intensity in each bin, for each exp separately"
   ]
  },
  {
   "cell_type": "code",
   "execution_count": 10,
   "metadata": {},
   "outputs": [],
   "source": [
    "##sort df according to synapse intensity\n",
    "df3=deepcopy(df2)\n",
    "df3=df3.sort_values(\"syt mean int norm2med\",ascending=True)\n",
    "df3=df3.reset_index(drop=True)\n",
    "#split into 5 separate dfs, add column with number\n",
    "a, b, c,d,e = np.split(df3, [int(.2*len(df3)),int(.4*len(df3)),int(.6*len(df3)),int(.8*len(df3))])\n",
    "a['Synapse mean intensity ordinal bin']=0\n",
    "b['Synapse mean intensity ordinal bin']=1\n",
    "c['Synapse mean intensity ordinal bin']=2\n",
    "d['Synapse mean intensity ordinal bin']=3\n",
    "e['Synapse mean intensity ordinal bin']=4\n",
    "#combine split dfs into one\n",
    "dfnew=pd.concat([a,b,c,d,e],axis=0,ignore_index=True)"
   ]
  },
  {
   "cell_type": "code",
   "execution_count": 11,
   "metadata": {},
   "outputs": [],
   "source": [
    "#synapse_bin_type=\"Synapse brightness scale (0 = dimmest)\"\n",
    "synapse_bin_type='Synapse mean intensity ordinal bin'\n",
    "\n",
    "means_in_bins_exps={\"Exp name\":[],\"bin number\":[],\"mean syt\":[],\"mean tnr\":[],\"number of spots\":[],\n",
    "                    \"mean syt int in bin overall\":[]}\n",
    "\n",
    "\n",
    "\n",
    "for exp in dfnew[\"expname\"].unique():\n",
    "    dfexp=dfnew[dfnew[\"expname\"]==exp]\n",
    "    for i in range(0,5):\n",
    "        \n",
    "        mean_in_bin=dfnew[dfnew[synapse_bin_type].astype(int)==i][\"syt mean int norm2med\"].mean()\n",
    "        \n",
    "        dfplot=dfexp[(dfexp[synapse_bin_type].astype(int)==i)&\n",
    "                    (dfexp[\"Time\"]!=\"Unblocked Control\")]\n",
    "\n",
    "        means_in_bins_exps[\"Exp name\"].append(exp)\n",
    "        means_in_bins_exps[\"bin number\"].append(i)\n",
    "        means_in_bins_exps[\"mean syt int in bin overall\"].append(mean_in_bin)\n",
    "        means_in_bins_exps[\"mean syt\"].append(dfplot[\"syt mean int norm2med\"].mean())\n",
    "        means_in_bins_exps[\"mean tnr\"].append(dfplot[\"ecm mean int norm2med\"].mean())\n",
    "        nosynapses=len(dfplot)\n",
    "        means_in_bins_exps[\"number of spots\"].append(nosynapses)"
   ]
  },
  {
   "cell_type": "code",
   "execution_count": 12,
   "metadata": {},
   "outputs": [],
   "source": [
    "dfmeans=pd.DataFrame(means_in_bins_exps)\n",
    "dfmeans[\"mean syt int in bin overall\"]=np.around(dfmeans[\"mean syt int in bin overall\"],1)"
   ]
  },
  {
   "cell_type": "code",
   "execution_count": 194,
   "metadata": {},
   "outputs": [
    {
     "data": {
      "text/plain": [
       "<Figure size 432x288 with 0 Axes>"
      ]
     },
     "metadata": {},
     "output_type": "display_data"
    },
    {
     "data": {
      "image/png": "[encoded data removed]",
      "text/plain": [
       "<Figure size 360x360 with 1 Axes>"
      ]
     },
     "metadata": {},
     "output_type": "display_data"
    }
   ],
   "source": [
    "sns.set(font_scale=2.5)\n",
    "sns.set(font=\"Arial\")\n",
    "sns.set_style(\"ticks\")\n",
    "sns.despine()\n",
    "sns.set_palette(\"Set2\")\n",
    "\n",
    "#y=\"intensity normd 0 to 1\"\n",
    "var=\"mean tnr\"\n",
    "#y=\"intensity raw\"\n",
    "#y=\"raw intensity normd to dio mean\"\n",
    "fig=plt.figure(figsize=(5,5))\n",
    "#order=['2hrs','4hrs','12hrs','No Blocking']\n",
    "#palette ={\"No Blocking\":\"gray\",\"2hrs\":\"magenta\",\"4hrs\":\"magenta\",\"12hrs\":\"magenta\"}\n",
    "\n",
    "\n",
    "g=sns.scatterplot(x=\"mean syt int in bin overall\",y=\"mean tnr\",\n",
    "                data=dfmeans,s=80,color=\"#2F67F8\",linewidth=1)\n",
    "\n",
    "'''g=sns.barplot(x=\"mean syt int in bin overall\",y=\"mean tnr\",\n",
    "                data=dfmeans,alpha=0.3,ci=None,color=\"#2F67F8\")'''\n",
    "\n",
    "# Make fake dataset\n",
    "height = dfmeans.groupby(\"mean syt int in bin overall\")[\"mean tnr\"].mean().values\n",
    " \n",
    "# Choose the position of each barplots on the x-axis (space=1,4,3,1)\n",
    "y_pos = dfmeans[\"mean syt int in bin overall\"].unique()\n",
    " \n",
    "# Create bars\n",
    "#plt.bar(y_pos, height)\n",
    "\n",
    "\n",
    "def change_width(ax, new_value) :\n",
    "    for patch in ax.patches :\n",
    "        current_width = patch.get_width()\n",
    "        diff = current_width - new_value\n",
    "        \n",
    "        # we change the bar width\n",
    "        patch.set_width(new_value)\n",
    "\n",
    "        # we recenter the bar\n",
    "        patch.set_x(patch.get_x() + diff * .5)\n",
    "        \n",
    "\n",
    "#change_width(g, .7)\n",
    "\n",
    "plt.errorbar(x = dfmeans[\"mean syt int in bin overall\"].unique()\n",
    ",\n",
    "             y=[dfmeans[dfmeans[\"bin number\"]==0][var].mean(),\n",
    "                dfmeans[dfmeans[\"bin number\"]==1][var].mean(),\n",
    "                dfmeans[dfmeans[\"bin number\"]==2][var].mean(),\n",
    "                dfmeans[dfmeans[\"bin number\"]==3][var].mean(),\n",
    "                dfmeans[dfmeans[\"bin number\"]==4][var].mean()],\n",
    "             yerr=[dfmeans[dfmeans[\"bin number\"]==0][var].sem(),\n",
    "                   dfmeans[dfmeans[\"bin number\"]==1][var].sem(),\n",
    "                   dfmeans[dfmeans[\"bin number\"]==2][var].sem(),\n",
    "                   dfmeans[dfmeans[\"bin number\"]==3][var].sem(),\n",
    "                   dfmeans[dfmeans[\"bin number\"]==4][var].sem()],\n",
    "             xerr=None,ecolor='black',fmt='none',capsize=10,linewidth=3,capthick=3,alpha=.7,)\n",
    "\n",
    "\n",
    "\n",
    "#scale_y=1/100\n",
    "#ticks_y = ticker.FuncFormatter(lambda x, pos: '{0:g}'.format(x/scale_y))\n",
    "#g.yaxis.set_major_formatter(ticks_y)\n",
    "g.set_ylabel('TNR\\nNormalised Fluorescence intensity',size=18,weight ='bold',labelpad=20)\n",
    "g.set_xlabel('Syt1\\nNormalised Fluorescence intensity',size=18,weight ='bold',labelpad=20)\n",
    "\n",
    "g.grid(False)\n",
    "plt.ylim([0.6,1.5])\n",
    "plt.xlim([0.4,2.2])\n",
    "for axis in ['top','bottom','left','right']:\n",
    "    g.spines[axis].set_linewidth(3)\n",
    "    g.spines[axis].set_color('black')\n",
    "    g.spines[axis].set_alpha(.7)\n",
    "    #g.spines[axis].set_fontsize(14)\n",
    "offsets={\"left\":10,\"bottom\":0}\n",
    "trims={\"left\":True,\"bottom\":True,\"right\":False}\n",
    "sns.despine(ax=g,right=True,top=True,trim=True,offset=0)\n",
    "plt.xticks([0.6,0.8,1,1.3,2],size=18,rotation=45,weight='bold')\n",
    "plt.yticks([0.8,1,1.2,1.4],size=18,weight='bold')\n",
    "\n",
    "\n",
    "x1 = [dfmeans[dfmeans[\"bin number\"]==bin][\"mean syt int in bin overall\"] for bin in dfmeans[\"bin number\"].unique()]\n",
    "'''y = [dfmeans[dfmeans[\"bin number\"]==0][var].mean(),\n",
    "                dfmeans[dfmeans[\"bin number\"]==1][var].mean(),\n",
    "                dfmeans[dfmeans[\"bin number\"]==2][var].mean(),\n",
    "                dfmeans[dfmeans[\"bin number\"]==3][var].mean(),\n",
    "                dfmeans[dfmeans[\"bin number\"]==4][var].mean()] # 10, not 9, so the fit isn't perfect\n",
    "'''\n",
    "x=dfmeans[\"mean syt int in bin overall\"]\n",
    "y=dfmeans[\"mean tnr\"]\n",
    "m,b = np.polyfit(x, y, 1) \n",
    "\n",
    "plt.plot( x, m*x+b, 'k',linestyle='dashed',alpha=.4,linewidth=3) \n",
    "\n",
    "#plt.xticks(dfmeans[\"mean syt int in bin overall\"].unique(),size=18)\n",
    "\n",
    "g.xaxis.set_tick_params(width=3)\n",
    "g.yaxis.set_tick_params(width=3)\n",
    "\n",
    "plt.axhline(dfmeans[dfmeans[\"bin number\"]==0][var].mean(),xmin=0.057,xmax=0.17, color='black',alpha=.7,linewidth=3)\n",
    "plt.axhline(dfmeans[dfmeans[\"bin number\"]==1][var].mean(),xmin=0.15,xmax=0.3, color='black',alpha=.7,linewidth=3)\n",
    "plt.axhline(dfmeans[dfmeans[\"bin number\"]==2][var].mean(),xmin=0.26,xmax=0.41, color='black',alpha=.7,linewidth=3)\n",
    "plt.axhline(dfmeans[dfmeans[\"bin number\"]==3][var].mean(),xmin=0.42,xmax=0.59, color='black',alpha=.7,linewidth=3)\n",
    "plt.axhline(dfmeans[dfmeans[\"bin number\"]==4][var].mean(),xmin=0.8,xmax=0.97, color='black',alpha=.7,linewidth=3)\n",
    "\n",
    "\n",
    "\n",
    "\n",
    "diri=\"/Volumes/Macintosh HD/Users/taldankovich/Downloads/figures/\"\n",
    "fig.savefig(diri+'2b_tnrsytcorr_option2.svg', bbox_inches='tight', format='svg')"
   ]
  },
  {
   "cell_type": "code",
   "execution_count": 133,
   "metadata": {},
   "outputs": [
    {
     "data": {
      "text/plain": [
       "array([0.6, 0.8, 1. , 1.3, 2. ])"
      ]
     },
     "execution_count": 133,
     "metadata": {},
     "output_type": "execute_result"
    }
   ],
   "source": [
    "dfmeans[\"mean syt int in bin overall\"].unique()"
   ]
  },
  {
   "cell_type": "code",
   "execution_count": 141,
   "metadata": {},
   "outputs": [
    {
     "data": {
      "text/plain": [
       "[<matplotlib.lines.Line2D at 0x16b0342e8>]"
      ]
     },
     "execution_count": 141,
     "metadata": {},
     "output_type": "execute_result"
    },
    {
     "data": {
      "image/png": "[encoded data removed]",
      "text/plain": [
       "<Figure size 432x288 with 1 Axes>"
      ]
     },
     "metadata": {},
     "output_type": "display_data"
    }
   ],
   "source": []
  },
  {
   "cell_type": "code",
   "execution_count": null,
   "metadata": {},
   "outputs": [],
   "source": [
    "sns.set(font_scale=2.5)\n",
    "sns.set(font=\"Arial\")\n",
    "sns.set_style(\"white\")\n",
    "sns.despine()\n",
    "sns.set_palette(\"Set2\")\n",
    "\n",
    "#y=\"intensity normd 0 to 1\"\n",
    "var=\"mean tnr\"\n",
    "#y=\"intensity raw\"\n",
    "#y=\"raw intensity normd to dio mean\"\n",
    "plt.figure(figsize=(4,5))\n",
    "#order=['2hrs','4hrs','12hrs','No Blocking']\n",
    "#palette ={\"No Blocking\":\"gray\",\"2hrs\":\"magenta\",\"4hrs\":\"magenta\",\"12hrs\":\"magenta\"}\n",
    "\n",
    "'''g=sns.barplot(x=\"mean syt int in bin overall\",y=\"mean tnr\",\n",
    "                data=dfmeans,alpha=0.3,ci=None,color='magenta')\n",
    "\n",
    "def change_width(ax, new_value) :\n",
    "    for patch in ax.patches :\n",
    "        current_width = patch.get_width()\n",
    "        diff = current_width - new_value\n",
    "        \n",
    "        # we change the bar width\n",
    "        patch.set_width(new_value)\n",
    "\n",
    "        # we recenter the bar\n",
    "        patch.set_x(patch.get_x() + diff * .5)\n",
    "        \n",
    "\n",
    "change_width(g, .7)'''\n",
    "\n",
    "g=sns.swarmplot(x=\"mean syt int in bin overall\",y=\"mean tnr\",\n",
    "                data=dfmeans,size=10,hue=\"Exp name\",linewidth=1)\n",
    "\n",
    "plt.errorbar(x=[0,1,2,3,4],\n",
    "             y=[dfmeans[dfmeans[\"bin number\"]==0][var].mean(),\n",
    "                dfmeans[dfmeans[\"bin number\"]==1][var].mean(),\n",
    "                dfmeans[dfmeans[\"bin number\"]==2][var].mean(),\n",
    "                dfmeans[dfmeans[\"bin number\"]==3][var].mean(),\n",
    "                dfmeans[dfmeans[\"bin number\"]==4][var].mean()],\n",
    "             yerr=[dfmeans[dfmeans[\"bin number\"]==0][var].sem(),\n",
    "                   dfmeans[dfmeans[\"bin number\"]==1][var].sem(),\n",
    "                   dfmeans[dfmeans[\"bin number\"]==2][var].sem(),\n",
    "                   dfmeans[dfmeans[\"bin number\"]==3][var].sem(),\n",
    "                   dfmeans[dfmeans[\"bin number\"]==4][var].sem()],\n",
    "             xerr=None,ecolor='black',fmt='none',capsize=10,linewidth=3,capthick=3)\n",
    "\n",
    "#g.hlines(dfmeans[dfmeans[\"bin number\"]==0][var].mean(), xmin=-0.2, xmax=0.6, linewidth=3, color='magenta')\n",
    "#g.hlines(dfmeans[dfmeans[\"bin number\"]==1][var].mean(), xmin=-0.5, xmax=0.5, linewidth=3, color='magenta')\n",
    "#g.hlines(dfmeans[dfmeans[\"bin number\"]==2][var].mean(), xmin=-0.5, xmax=0.5, linewidth=3, color='magenta')\n",
    "#g.hlines(dfmeans[dfmeans[\"bin number\"]==3][var].mean(), xmin=-0.5, xmax=0.5, linewidth=3, color='magenta')\n",
    "#g.hlines(dfmeans[dfmeans[\"bin number\"]==4][var].mean(), xmin=-0.5, xmax=0.5, linewidth=3, color='magenta')\n",
    "\n",
    "\n",
    "\n",
    "#scale_y=1/100\n",
    "#ticks_y = ticker.FuncFormatter(lambda x, pos: '{0:g}'.format(x/scale_y))\n",
    "#g.yaxis.set_major_formatter(ticks_y)\n",
    "g.set_ylabel('TNR Fluorescence intensity (AU)',size=14,weight ='bold',labelpad=20)\n",
    "g.set_xlabel('Syt1 Fluorescence intensity (AU)',size=14,weight ='bold',labelpad=20)\n",
    "plt.xticks(g.get_xticks(),size=16,rotation=45)\n",
    "plt.yticks(g.get_yticks(),size=16)\n",
    "g.grid(False)\n",
    "\n",
    "sns.despine(ax=g,right=True,top=True)\n",
    "for axis in ['top','bottom','left','right']:\n",
    "  g.spines[axis].set_linewidth(3)\n",
    "  g.spines[axis].set_color('black')\n",
    "  g.spines[axis].set_alpha(.7)\n",
    "\n",
    "\n",
    "\n",
    "x = np.arange(0,5,1)\n",
    "y = [dfmeans[dfmeans[\"bin number\"]==0][var].mean(),\n",
    "                dfmeans[dfmeans[\"bin number\"]==1][var].mean(),\n",
    "                dfmeans[dfmeans[\"bin number\"]==2][var].mean(),\n",
    "                dfmeans[dfmeans[\"bin number\"]==3][var].mean(),\n",
    "                dfmeans[dfmeans[\"bin number\"]==4][var].mean()] # 10, not 9, so the fit isn't perfect\n",
    "\n",
    "m,b = np.polyfit(x, y, 1) \n",
    "\n",
    "plt.plot( x, m*x+b, '--k') \n",
    "g.get_legend().set_visible(False)"
   ]
  },
  {
   "cell_type": "code",
   "execution_count": null,
   "metadata": {},
   "outputs": [],
   "source": [
    "pearsonr"
   ]
  },
  {
   "cell_type": "code",
   "execution_count": null,
   "metadata": {},
   "outputs": [],
   "source": [
    "from pydoc import help\n",
    "from scipy.stats.stats import pearsonr\n",
    "[pearson, pval]=pearsonr(dfmeans[\"mean tnr\"],dfmeans[\"mean syt int in bin overall\"])\n",
    "print(str(pearson**2))\n",
    "print(pval)"
   ]
  },
  {
   "cell_type": "markdown",
   "metadata": {},
   "source": [
    "## Representative images"
   ]
  },
  {
   "cell_type": "code",
   "execution_count": null,
   "metadata": {},
   "outputs": [],
   "source": [
    "df2plot.columns"
   ]
  },
  {
   "cell_type": "code",
   "execution_count": null,
   "metadata": {},
   "outputs": [],
   "source": [
    "binno=4\n",
    "\n",
    "\n",
    "df2plot=dfnew[dfnew[synapse_bin_type].astype(int)==binno]\n",
    "df2plot=df2plot.reset_index()\n",
    "\n",
    "\n",
    "def rebin(arr, new_shape):\n",
    "    shape = (new_shape[0], arr.shape[0] // new_shape[0],\n",
    "             new_shape[1], arr.shape[1] // new_shape[1])\n",
    "    return arr.reshape(shape).mean(-1).mean(1)\n",
    "\n",
    "fig=plt.figure(figsize=(5,400))\n",
    "num=1\n",
    "for i in range(200):\n",
    "    randomno=np.random.randint(1,len(df2plot))\n",
    "    ecm=df2plot[\"ecm_around_single_spot bg subtracted\"][randomno]\n",
    "    #ecm=rebin(ecm,[50,50])\n",
    "    synapse=df2plot[\"original_synapse_at_single_spot bg subtracted\"][randomno]\n",
    "    #synapse=rebin(synapse,[50,50])\n",
    "    name=df2plot[\"filename\"][randomno]\n",
    "    fig.add_subplot(200,2,num)\n",
    "    plt.axis('off')\n",
    "    \n",
    "    plt.imshow(ecm,cmap='hot',\n",
    "               vmin=0.95*np.min(dfnew[\"ecm_around_single_spot bg subtracted\"].mean()),\n",
    "               vmax=25*np.max(dfnew[\"ecm_around_single_spot bg subtracted\"].mean()))\n",
    "    scalebar = ScaleBar(20, 'nm', dimension='si-length',box_alpha=0,location='lower right',length_fraction=0.2,\n",
    "                       font_properties={'size':16,'weight':'bold'},color='white',border_pad=0.5) # 1 pixel = 0.2 meter\n",
    "    plt.gca().add_artist(scalebar)\n",
    "    plt.axis('off')\n",
    "    plt.ylabel('Bin: '+str(i))\n",
    "    plt.title(randomno)\n",
    "    fig.add_subplot(200,2,num+1)\n",
    "    plt.imshow(synapse,\n",
    "               cmap='viridis',\n",
    "               vmin=0.95*np.min(dfnew[\"original_synapse_at_single_spot bg subtracted\"].mean()),\n",
    "               vmax=np.max(dfnew[\"original_synapse_at_single_spot bg subtracted\"].mean()))\n",
    "    numbersynapses=len(df2plot[\"original_synapse_at_single_spot bg subtracted\"])\n",
    "    \n",
    "\n",
    "    scalebar = ScaleBar(20, 'nm', dimension='si-length',box_alpha=0,location='lower right',length_fraction=0.2,\n",
    "                       font_properties={'size':0,'weight':'bold'},color='white',border_pad=0.5) # 1 pixel = 0.2 meter\n",
    "    plt.gca().add_artist(scalebar)\n",
    "    plt.axis('off')\n",
    "    num+=2"
   ]
  },
  {
   "cell_type": "markdown",
   "metadata": {},
   "source": [
    "## choose spots to plot nicely"
   ]
  },
  {
   "cell_type": "code",
   "execution_count": 196,
   "metadata": {},
   "outputs": [
    {
     "data": {
      "image/png": "[encoded data removed]",
      "text/plain": [
       "<Figure size 360x360 with 1 Axes>"
      ]
     },
     "metadata": {},
     "output_type": "display_data"
    },
    {
     "data": {
      "image/png": "[encoded data removed]",
      "text/plain": [
       "<Figure size 360x360 with 1 Axes>"
      ]
     },
     "metadata": {},
     "output_type": "display_data"
    },
    {
     "data": {
      "image/png": "[encoded data removed]",
      "text/plain": [
       "<Figure size 360x360 with 1 Axes>"
      ]
     },
     "metadata": {},
     "output_type": "display_data"
    },
    {
     "data": {
      "image/png": "[encoded data removed]",
      "text/plain": [
       "<Figure size 360x360 with 1 Axes>"
      ]
     },
     "metadata": {},
     "output_type": "display_data"
    },
    {
     "data": {
      "image/png": "[encoded data removed]",
      "text/plain": [
       "<Figure size 360x360 with 1 Axes>"
      ]
     },
     "metadata": {},
     "output_type": "display_data"
    },
    {
     "data": {
      "image/png": "[encoded data removed]",
      "text/plain": [
       "<Figure size 360x360 with 1 Axes>"
      ]
     },
     "metadata": {},
     "output_type": "display_data"
    }
   ],
   "source": [
    "diri=\"/Volumes/Macintosh HD/Users/taldankovich/Downloads/figures/\"\n",
    "\n",
    "import image\n",
    "\n",
    "df2plot_bin0=dfnew[dfnew[synapse_bin_type].astype(int)==0]\n",
    "df2plot_bin0=df2plot_bin0.reset_index()\n",
    "\n",
    "df2plot_bin2=dfnew[dfnew[synapse_bin_type].astype(int)==2]\n",
    "df2plot_bin2=df2plot_bin2.reset_index()\n",
    "\n",
    "df2plot_bin4=dfnew[dfnew[synapse_bin_type].astype(int)==4]\n",
    "df2plot_bin4=df2plot_bin4.reset_index()\n",
    "\n",
    "\n",
    "spot_0=8#552 #8\n",
    "spot_2=549#682 #549\n",
    "spot_4=639# 849\n",
    "\n",
    "spots=[spot_0,spot_2,spot_4]\n",
    "\n",
    "vmin=0.003\n",
    "vmax=0.04\n",
    "\n",
    "vminsyn=0.004\n",
    "vmaxsyn=0.075\n",
    "\n",
    "count=1\n",
    "for spot in spots:\n",
    "    if count==1:\n",
    "        df2plot=df2plot_bin0\n",
    "    if count==2:\n",
    "        df2plot=df2plot_bin2\n",
    "    if count==3:\n",
    "        df2plot=df2plot_bin4\n",
    "    ecm=df2plot[\"ecm_around_single_spot bg subtracted\"][spot]\n",
    "    synapse=df2plot[\"original_synapse_at_single_spot bg subtracted\"][spot]\n",
    "    if count==2:\n",
    "        ecm=np.rot90(ecm)\n",
    "        synapse=np.rot90(synapse)\n",
    "    fig_ecm=plt.figure(figsize=(5,5))\n",
    "    plt.axis('off')\n",
    "    plt.imshow(ecm,cmap='gray',\n",
    "               vmin=vmin,\n",
    "               vmax=vmax)\n",
    "    \n",
    "    scalebar = ScaleBar(20, 'nm', dimension='si-length',box_alpha=0,location='lower right',length_fraction=0.2,\n",
    "                       font_properties={'size':0,'weight':'bold'},color='white',border_pad=0.5) # 1 pixel = 0.2 meter\n",
    "    plt.gca().add_artist(scalebar)\n",
    "    \n",
    "    plt.imsave(arr=ecm,cmap='gray',\n",
    "               vmin=vmin,\n",
    "               vmax=vmax,fname=diri+'2c_tnrsytcorr_ecm_bin_'+str(count)+'.tiff')\n",
    "    \n",
    "    \n",
    "    fig_syn=plt.figure(figsize=(5,5))\n",
    "    plt.imshow(synapse,\n",
    "               cmap='gray',\n",
    "               vmin=vminsyn,\n",
    "               vmax=vmaxsyn)\n",
    "    \n",
    "    scalebar = ScaleBar(20, 'nm', dimension='si-length',box_alpha=0,location='lower right',length_fraction=0.2,\n",
    "                       font_properties={'size':0,'weight':'bold'},color='white',border_pad=0.5) # 1 pixel = 0.2 meter\n",
    "    plt.gca().add_artist(scalebar)\n",
    "    plt.axis('off')\n",
    "    plt.imsave(arr=synapse,cmap='gray',\n",
    "               vmin=vmin,\n",
    "               vmax=vmax,fname=diri+'2c_tnrsytcorr_syn_bin_'+str(count)+'.tiff')\n",
    "    \n",
    "    count+=1\n",
    "    \n",
    "    fig_ecm.savefig(diri+'2c_tnrsytcorr_ecm_bin_'+str(count)+'.png', bbox_inches='tight', format='png',pad_inches=0,\n",
    "                   transparent = True)\n",
    "    fig_syn.savefig(diri+'2c_tnrsytcorr_syn_bin_'+str(count)+'.png', bbox_inches='tight', format='png',pad_inches=0,\n",
    "                   transparent = True)\n",
    "    \n",
    "\n"
   ]
  },
  {
   "cell_type": "code",
   "execution_count": null,
   "metadata": {},
   "outputs": [],
   "source": []
  }
 ],
 "metadata": {
  "kernelspec": {
   "display_name": "Python 3",
   "language": "python",
   "name": "python3"
  }
 },
 "nbformat": 4,
 "nbformat_minor": 2
}
