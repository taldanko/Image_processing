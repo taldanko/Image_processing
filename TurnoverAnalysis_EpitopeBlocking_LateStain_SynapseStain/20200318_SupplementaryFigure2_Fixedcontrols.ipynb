{
 "cells": [
  {
   "cell_type": "markdown",
   "metadata": {},
   "source": [
    "## Import modules and functions"
   ]
  },
  {
   "cell_type": "code",
   "execution_count": 13,
   "metadata": {},
   "outputs": [],
   "source": [
    "import numpy as np\n",
    "import os\n",
    "from nd2reader import ND2Reader\n",
    "import matplotlib.pyplot as plt\n",
    "import matplotlib.cm as cm\n",
    "from matplotlib_scalebar.scalebar import ScaleBar\n",
    "import scipy.ndimage as ndi\n",
    "from skimage.filters import rank \n",
    "from scipy.signal import butter, lfilter\n",
    "import scipy.misc as misc\n",
    "from skimage import exposure\n",
    "from PIL import Image\n",
    "import colorcet as cc\n",
    "import matplotlib.colors as clr\n",
    "import pandas as pd\n",
    "import seaborn as sns\n",
    "from scipy import stats\n",
    "import cv2\n",
    "from pyspark import SparkContext, SparkConf\n",
    "import skimage\n",
    "from pathlib import Path\n",
    "\n",
    "def mean2(x):\n",
    "    y = np.sum(x) / np.size(x);\n",
    "    return y\n",
    "def corr2(a,b):\n",
    "    a = a - mean2(a)\n",
    "    b = b - mean2(b)\n",
    "\n",
    "    r = (a*b).sum() / np.sqrt((a*a).sum() * (b*b).sum());\n",
    "    return r\n",
    "from copy import deepcopy\n",
    "from skimage.filters import threshold_otsu,threshold_li\n",
    "import glob\n",
    "from IPython.display import clear_output\n",
    "import scipy.io as spio"
   ]
  },
  {
   "cell_type": "markdown",
   "metadata": {},
   "source": [
    "## Define directory of images"
   ]
  },
  {
   "cell_type": "code",
   "execution_count": 14,
   "metadata": {},
   "outputs": [],
   "source": [
    "expdir='/Volumes/ukps-all$/user/tdanko/Imaging/1_ECM/Fixed culture/Controls/20190908_fixedctrl/' #master folder"
   ]
  },
  {
   "cell_type": "markdown",
   "metadata": {},
   "source": [
    "## Make dictionary for storing results"
   ]
  },
  {
   "cell_type": "code",
   "execution_count": 15,
   "metadata": {},
   "outputs": [],
   "source": [
    "results = {\"filename\":[],\"exp\":[],\n",
    "           \"Manual mask from matlab GUI\":[],\"bg sub int under mask\":[]}\n",
    "path = os.path.dirname(expdir)  \n",
    "outputFolder = os.path.dirname(expdir + \"/new/\")\n",
    "filelist = []\n",
    "for root, _, filenames in os.walk(path):\n",
    "     for filename in filenames:\n",
    "         filelist.append(os.path.join(root, filename))      \n",
    "for i in range(0,len(filelist)):\n",
    "    if filelist[i].endswith(\".nd2\"): \n",
    "        results[\"filename\"].append(filelist[i])\n",
    "        results[\"exp\"].append(filelist[i].split('/')[-2])"
   ]
  },
  {
   "cell_type": "markdown",
   "metadata": {},
   "source": [
    "## Read manual masks from Matlab GUI"
   ]
  },
  {
   "cell_type": "code",
   "execution_count": 16,
   "metadata": {},
   "outputs": [
    {
     "name": "stdout",
     "output_type": "stream",
     "text": [
      "Done!\n"
     ]
    }
   ],
   "source": [
    "## matlab files\n",
    "for im in range(0,len(results[\"filename\"])): \n",
    "    file=results[\"filename\"][im][:-4]+'_mask.mat'\n",
    "    from pathlib import Path\n",
    "    my_file = Path(file)\n",
    "    if my_file.exists():\n",
    "        print(file)\n",
    "        mat = spio.loadmat(file, squeeze_me=True)\n",
    "        mask=mat['totMask']>0.99\n",
    "        results[\"Manual mask from matlab GUI\"].append(mask)\n",
    "    else:\n",
    "        results[\"Manual mask from matlab GUI\"].append(np.nan)\n",
    "clear_output()        \n",
    "print(\"Done!\")"
   ]
  },
  {
   "cell_type": "markdown",
   "metadata": {},
   "source": [
    "## Batch analysis of images - mean intensity"
   ]
  },
  {
   "cell_type": "code",
   "execution_count": 17,
   "metadata": {},
   "outputs": [
    {
     "name": "stdout",
     "output_type": "stream",
     "text": [
      "Total number of images: 148\n",
      "Calculating image no 1 out of148\n",
      "Calculating image no 2 out of148\n",
      "Calculating image no 3 out of148\n",
      "Calculating image no 4 out of148\n",
      "Calculating image no 5 out of148\n",
      "Calculating image no 6 out of148\n",
      "Calculating image no 7 out of148\n",
      "Calculating image no 8 out of148\n",
      "Calculating image no 9 out of148\n",
      "Calculating image no 10 out of148\n",
      "Calculating image no 11 out of148\n",
      "Calculating image no 12 out of148\n",
      "Calculating image no 13 out of148\n",
      "Calculating image no 14 out of148\n",
      "Calculating image no 15 out of148\n",
      "Calculating image no 16 out of148\n",
      "Calculating image no 17 out of148\n",
      "Calculating image no 18 out of148\n",
      "Calculating image no 19 out of148\n",
      "Calculating image no 20 out of148\n",
      "Calculating image no 21 out of148\n",
      "Calculating image no 22 out of148\n",
      "Calculating image no 23 out of148\n",
      "Calculating image no 24 out of148\n",
      "Calculating image no 25 out of148\n",
      "Calculating image no 26 out of148\n",
      "Calculating image no 27 out of148\n",
      "Calculating image no 28 out of148\n",
      "Calculating image no 29 out of148\n",
      "Calculating image no 30 out of148\n",
      "Calculating image no 31 out of148\n",
      "Calculating image no 32 out of148\n",
      "Calculating image no 33 out of148\n",
      "Calculating image no 34 out of148\n",
      "Calculating image no 35 out of148\n",
      "Calculating image no 36 out of148\n",
      "Calculating image no 37 out of148\n",
      "Calculating image no 38 out of148\n",
      "Calculating image no 39 out of148\n",
      "Calculating image no 40 out of148\n",
      "Calculating image no 41 out of148\n",
      "Calculating image no 42 out of148\n",
      "Calculating image no 43 out of148\n",
      "Calculating image no 44 out of148\n",
      "Calculating image no 45 out of148\n",
      "Calculating image no 46 out of148\n",
      "Calculating image no 47 out of148\n",
      "Calculating image no 48 out of148\n",
      "Calculating image no 49 out of148\n",
      "Calculating image no 50 out of148\n",
      "Calculating image no 51 out of148\n",
      "Calculating image no 52 out of148\n",
      "Calculating image no 53 out of148\n",
      "Calculating image no 54 out of148\n",
      "Calculating image no 55 out of148\n",
      "Calculating image no 56 out of148\n",
      "Calculating image no 57 out of148\n",
      "Calculating image no 58 out of148\n",
      "Calculating image no 59 out of148\n",
      "Calculating image no 60 out of148\n",
      "Calculating image no 61 out of148\n",
      "Calculating image no 62 out of148\n",
      "Calculating image no 63 out of148\n",
      "Calculating image no 64 out of148\n",
      "Calculating image no 65 out of148\n",
      "Calculating image no 66 out of148\n",
      "Calculating image no 67 out of148\n",
      "Calculating image no 68 out of148\n",
      "Calculating image no 69 out of148\n",
      "Calculating image no 70 out of148\n",
      "Calculating image no 71 out of148\n",
      "Calculating image no 72 out of148\n",
      "Calculating image no 73 out of148\n",
      "Calculating image no 74 out of148\n",
      "Calculating image no 75 out of148\n",
      "Calculating image no 76 out of148\n",
      "Calculating image no 77 out of148\n",
      "Calculating image no 78 out of148\n",
      "Calculating image no 79 out of148\n",
      "Calculating image no 80 out of148\n",
      "Calculating image no 81 out of148\n",
      "Calculating image no 82 out of148\n",
      "Calculating image no 83 out of148\n",
      "Calculating image no 84 out of148\n",
      "Calculating image no 85 out of148\n",
      "Calculating image no 86 out of148\n",
      "Calculating image no 87 out of148\n",
      "Calculating image no 88 out of148\n",
      "Calculating image no 89 out of148\n",
      "Calculating image no 90 out of148\n",
      "Calculating image no 91 out of148\n",
      "Calculating image no 92 out of148\n",
      "Calculating image no 93 out of148\n",
      "Calculating image no 94 out of148\n",
      "Calculating image no 95 out of148\n",
      "Calculating image no 96 out of148\n",
      "Calculating image no 97 out of148\n",
      "Calculating image no 98 out of148\n",
      "Calculating image no 99 out of148\n",
      "Calculating image no 100 out of148\n",
      "Calculating image no 101 out of148\n",
      "Calculating image no 102 out of148\n",
      "Calculating image no 103 out of148\n",
      "Calculating image no 104 out of148\n",
      "Calculating image no 105 out of148\n",
      "Calculating image no 106 out of148\n",
      "Calculating image no 107 out of148\n",
      "Calculating image no 108 out of148\n",
      "Calculating image no 109 out of148\n",
      "Calculating image no 110 out of148\n",
      "Calculating image no 111 out of148\n",
      "Calculating image no 112 out of148\n",
      "Calculating image no 113 out of148\n",
      "Calculating image no 114 out of148\n",
      "Calculating image no 115 out of148\n",
      "Calculating image no 116 out of148\n",
      "Calculating image no 117 out of148\n",
      "Calculating image no 118 out of148\n",
      "Calculating image no 119 out of148\n",
      "Calculating image no 120 out of148\n",
      "Calculating image no 121 out of148\n",
      "Calculating image no 122 out of148\n",
      "Calculating image no 123 out of148\n",
      "Calculating image no 124 out of148\n",
      "Calculating image no 125 out of148\n",
      "Calculating image no 126 out of148\n",
      "Calculating image no 127 out of148\n",
      "Calculating image no 128 out of148\n",
      "Calculating image no 129 out of148\n",
      "Calculating image no 130 out of148\n",
      "Calculating image no 131 out of148\n",
      "Calculating image no 132 out of148\n",
      "Calculating image no 133 out of148\n",
      "Calculating image no 134 out of148\n",
      "Calculating image no 135 out of148\n",
      "Calculating image no 136 out of148\n",
      "Calculating image no 137 out of148\n",
      "Calculating image no 138 out of148\n",
      "Calculating image no 139 out of148\n",
      "Calculating image no 140 out of148\n",
      "Calculating image no 141 out of148\n",
      "Calculating image no 142 out of148\n",
      "Calculating image no 143 out of148\n",
      "Calculating image no 144 out of148\n",
      "Calculating image no 145 out of148\n",
      "Calculating image no 146 out of148\n",
      "Calculating image no 147 out of148\n",
      "Calculating image no 148 out of148\n"
     ]
    }
   ],
   "source": [
    "print('Total number of images: ' + str(len(results['filename'])))\n",
    "\n",
    "for i in range(0,len(results[\"filename\"])): \n",
    "    flag=False\n",
    "    print('Calculating image no ' + str(i+1) + ' out of' + str(len(results[\"filename\"])))\n",
    "    #read the image\n",
    "    with ND2Reader(results[\"filename\"][i]) as images:\n",
    "        ecm_image=images[1]\n",
    "    #convert to numpy array - a format easier to manipunuclei with code\n",
    "    ecm_image=ecm_image.astype(np.int16)\n",
    "    #read masks \n",
    "    matlab_mask=results[\"Manual mask from matlab GUI\"][i]\n",
    "    if type(matlab_mask)==np.ndarray:\n",
    "        flag=True\n",
    "    #image after background subtraction\n",
    "    #for ecm image\n",
    "    if flag==True:\n",
    "        ecm_matlabmasked_bgreduced=deepcopy(ecm_image)\n",
    "        bg_matlabmask=np.mean(ndi.median_filter(ecm_image[matlab_mask],size=5))+0*np.std(ndi.median_filter(ecm_image[matlab_mask],size=5))\n",
    "        ecm_matlabmasked_bgreduced=np.subtract(ecm_matlabmasked_bgreduced,bg_matlabmask)\n",
    "        ecm_matlabmasked_bgreduced[ecm_matlabmasked_bgreduced<0]=0\n",
    "        ecm_matlabmasked_bgreduced[~matlab_mask]=0\n",
    "        \n",
    "    if flag==True:\n",
    "        results[\"bg sub int under mask\"].append(ecm_matlabmasked_bgreduced[matlab_mask].mean())\n",
    "    else:\n",
    "        results[\"bg sub int under mask\"].append(np.nan)"
   ]
  },
  {
   "cell_type": "markdown",
   "metadata": {},
   "source": [
    "## Make a dataframe of the results"
   ]
  },
  {
   "cell_type": "code",
   "execution_count": 18,
   "metadata": {},
   "outputs": [],
   "source": [
    "df=pd.DataFrame(results)\n",
    "df2=deepcopy(df)\n",
    "df2['Blocked or not']='None'\n",
    "df2.loc[df2['exp'].str.contains('blk'), 'Blocked or not'] = 'Blocked'\n",
    "df2.loc[df2['exp'].str.contains('no'), 'Blocked or not'] = 'Unblocked'\n",
    "\n",
    "df2['Time']='Immediately'\n",
    "\n",
    "df2['TNR or secondary']='None'\n",
    "df2.loc[df2['exp'].str.contains('tnr'), 'TNR or secondary'] = 'TNR'\n",
    "df2.loc[df2['exp'].str.contains('tnr'), 'TNR or secondary'] = 'TNR'\n",
    "\n",
    "df2['expno']='None'\n",
    "df2.loc[df2['filename'].str.contains('exp1'), 'expno'] = 'exp1'\n",
    "df2.loc[df2['filename'].str.contains('exp2'), 'expno'] = 'exp2'\n",
    "df2.loc[df2['filename'].str.contains('exp3'), 'expno'] = 'exp3'\n",
    "\n",
    "df2[\"Condition\"]='None'\n",
    "df2.loc[df2['filename'].str.contains('background_atto647'), 'Condition'] = 'Background - Atto647'\n",
    "df2.loc[df2['filename'].str.contains('background_autofluorescence'), 'Condition'] = 'Background - Autofluorescence'\n",
    "df2.loc[df2['filename'].str.contains('blk_plues12h'), 'Condition'] = 'Block+12, TNR647'\n",
    "df2.loc[df2['filename'].str.contains('blk_plus0h'), 'Condition'] = 'Block+0, TNR647'\n",
    "df2.loc[df2['filename'].str.contains('noblock_tnr647'), 'Condition'] = 'Unblocked TNR647'"
   ]
  },
  {
   "cell_type": "markdown",
   "metadata": {},
   "source": [
    "## Make dataframe with means for individual experiments"
   ]
  },
  {
   "cell_type": "code",
   "execution_count": 19,
   "metadata": {},
   "outputs": [],
   "source": [
    "var=\"bg sub int under mask\"\n",
    "means={\"expname\":[],\"Condition\":[],\"intensity\":[]}\n",
    "df2read=df2\n",
    "for exp in df2read[\"expno\"].unique():\n",
    "    dfcalc=df2read[df2read[\"expno\"]==exp]\n",
    "    dfcalc=dfcalc.reset_index()\n",
    "    for condition in dfcalc[\"Condition\"].unique():\n",
    "        dfcalc_cond=dfcalc[dfcalc[\"Condition\"]==condition]\n",
    "        means[\"expname\"].append(exp)\n",
    "        means[\"Condition\"].append(condition)\n",
    "        means[\"intensity\"].append(dfcalc_cond[var].mean())\n",
    "dfmeans=pd.DataFrame(means)"
   ]
  },
  {
   "cell_type": "markdown",
   "metadata": {},
   "source": [
    "## Export dataframe"
   ]
  },
  {
   "cell_type": "code",
   "execution_count": 22,
   "metadata": {},
   "outputs": [],
   "source": [
    "d={}\n",
    "for condition in dfmeans[\"Condition\"].unique():\n",
    "    d[\"string{0}\".format(condition)]=dfmeans[dfmeans[\"Condition\"]==condition][\"intensity\"].values\n",
    "d=pd.DataFrame(d)\n",
    "d.to_csv(\"/Volumes/Macintosh HD/Users/taldankovich/Downloads/csvs/dfmeans.csv\") "
   ]
  },
  {
   "cell_type": "code",
   "execution_count": 20,
   "metadata": {},
   "outputs": [],
   "source": [
    "dfmeans.to_csv(\"/Volumes/Macintosh HD/Users/taldankovich/Downloads/csvs/dfmeans.csv\")"
   ]
  },
  {
   "cell_type": "markdown",
   "metadata": {},
   "source": [
    "## Check normality"
   ]
  },
  {
   "cell_type": "code",
   "execution_count": 21,
   "metadata": {},
   "outputs": [
    {
     "data": {
      "image/png": "[encoded data removed]",
      "text/plain": [
       "<Figure size 216x216 with 1 Axes>"
      ]
     },
     "metadata": {},
     "output_type": "display_data"
    },
    {
     "data": {
      "image/png": "[encoded data removed]",
      "text/plain": [
       "<Figure size 216x216 with 1 Axes>"
      ]
     },
     "metadata": {},
     "output_type": "display_data"
    },
    {
     "data": {
      "image/png": "[encoded data removed]",
      "text/plain": [
       "<Figure size 216x216 with 1 Axes>"
      ]
     },
     "metadata": {},
     "output_type": "display_data"
    },
    {
     "data": {
      "image/png": "[encoded data removed]",
      "text/plain": [
       "<Figure size 216x216 with 1 Axes>"
      ]
     },
     "metadata": {},
     "output_type": "display_data"
    },
    {
     "data": {
      "image/png": "[encoded data removed]",
      "text/plain": [
       "<Figure size 216x216 with 1 Axes>"
      ]
     },
     "metadata": {},
     "output_type": "display_data"
    }
   ],
   "source": [
    "var=\"bg sub int under mask\"\n",
    "variable=var #change me\n",
    "\n",
    "for cond in df2[\"Condition\"].unique():\n",
    "    dfcond=df2[df2[\"Condition\"]==cond]\n",
    "    x=dfcond[variable].values\n",
    "    normdvar=(x-x.mean())/x.std()\n",
    "    \n",
    "    import scipy.stats as ss\n",
    "    [_,pval]=ss.normaltest(x)\n",
    "    if pval<0.05:\n",
    "        text=\"The variable does not distribute normally\"\n",
    "    else:\n",
    "        text=\"The variable distributes normally\"\n",
    "\n",
    "    sns.set(font_scale=1)\n",
    "    fig=plt.figure(figsize=(3,3))\n",
    "    fig.add_subplot(121)\n",
    "    sns.kdeplot(dfcond[variable],legend=False)\n",
    "    plt.title('Distribution of ' + cond + '\\n'+ text)\n",
    "\n",
    "    "
   ]
  },
  {
   "cell_type": "markdown",
   "metadata": {},
   "source": [
    "## Kruskal Wallis - selected"
   ]
  },
  {
   "cell_type": "code",
   "execution_count": 28,
   "metadata": {},
   "outputs": [
    {
     "data": {
      "text/plain": [
       "KruskalResult(statistic=10.533333333333331, pvalue=0.032340916507057935)"
      ]
     },
     "execution_count": 28,
     "metadata": {},
     "output_type": "execute_result"
    }
   ],
   "source": [
    "var=\"intensity\"\n",
    "bgauto=dfmeans[dfmeans[\"Condition\"]==\"Background - Autofluorescence\"][var].dropna().values\n",
    "bgatto=dfmeans[dfmeans[\"Condition\"]==\"Background - Atto647\"][var].dropna().values\n",
    "bgblockplus0=dfmeans[dfmeans[\"Condition\"]==\"Block+0, TNR647\"][var].dropna().values\n",
    "bgblockplus12=dfmeans[dfmeans[\"Condition\"]==\"Block+12, TNR647\"][var].dropna().values\n",
    "negctrl=dfmeans[dfmeans[\"Condition\"]==\"Unblocked TNR647\"][\"intensity\"].dropna().values\n",
    "\n",
    "stats.kruskal(bgauto, bgatto, bgblockplus0,bgblockplus12,negctrl,)"
   ]
  },
  {
   "cell_type": "markdown",
   "metadata": {},
   "source": [
    "## Dunnet's post hoc comparisons"
   ]
  },
  {
   "cell_type": "code",
   "execution_count": 2,
   "metadata": {},
   "outputs": [
    {
     "ename": "NameError",
     "evalue": "name 'dfmeans' is not defined",
     "output_type": "error",
     "traceback": [
      "\u001b[0;31m---------------------------------------------------------------------------\u001b[0m",
      "\u001b[0;31mNameError\u001b[0m                                 Traceback (most recent call last)",
      "\u001b[0;32m<ipython-input-2-203d85c6df5b>\u001b[0m in \u001b[0;36m<module>\u001b[0;34m\u001b[0m\n\u001b[1;32m      1\u001b[0m \u001b[0;32mimport\u001b[0m \u001b[0mscikit_posthocs\u001b[0m\u001b[0;34m\u001b[0m\u001b[0;34m\u001b[0m\u001b[0m\n\u001b[0;32m----> 2\u001b[0;31m \u001b[0mscikit_posthocs\u001b[0m\u001b[0;34m.\u001b[0m\u001b[0mposthoc_dunn\u001b[0m\u001b[0;34m(\u001b[0m\u001b[0mdfmeans\u001b[0m\u001b[0;34m,\u001b[0m \u001b[0mval_col\u001b[0m\u001b[0;34m=\u001b[0m\u001b[0;34m\"intensity\"\u001b[0m\u001b[0;34m,\u001b[0m \u001b[0mgroup_col\u001b[0m\u001b[0;34m=\u001b[0m\u001b[0;34m\"Condition\"\u001b[0m\u001b[0;34m,\u001b[0m \u001b[0mp_adjust\u001b[0m\u001b[0;34m=\u001b[0m\u001b[0;34m'holm'\u001b[0m\u001b[0;34m,\u001b[0m \u001b[0msort\u001b[0m\u001b[0;34m=\u001b[0m\u001b[0;32mTrue\u001b[0m\u001b[0;34m)\u001b[0m\u001b[0;34m\u001b[0m\u001b[0;34m\u001b[0m\u001b[0m\n\u001b[0m",
      "\u001b[0;31mNameError\u001b[0m: name 'dfmeans' is not defined"
     ]
    }
   ],
   "source": [
    "import scikit_posthocs\n",
    "scikit_posthocs.posthoc_dunn(dfmeans, val_col=\"intensity\", group_col=\"Condition\", p_adjust='holm', sort=True)\n"
   ]
  },
  {
   "cell_type": "markdown",
   "metadata": {},
   "source": [
    "## Multiple ttests with Bonferroni correction (compare each group to no blocking condition)"
   ]
  },
  {
   "cell_type": "code",
   "execution_count": null,
   "metadata": {},
   "outputs": [],
   "source": [
    "from scipy import stats\n",
    "negctrl=dfmeans[dfmeans[\"Condition\"]==\"Unblocked TNR647\"][\"intensity\"].values\n",
    "for item in [\"Background - Autofluorescence\",\"Background - Atto647\",\"Block+0, TNR647\",\"Block+12, TNR647\"]:\n",
    "    vals=dfmeans[dfmeans[\"Condition\"]==item][\"intensity\"].values\n",
    "    [stat, pval]=stats.ttest_ind(negctrl,vals)\n",
    "    print('condition: '+item+' pval: '+str(pval*4))"
   ]
  },
  {
   "cell_type": "code",
   "execution_count": null,
   "metadata": {},
   "outputs": [],
   "source": [
    "var=\"intensity\"\n",
    "bgauto=dfmeans[dfmeans[\"Condition\"]==\"Background - Autofluorescence\"][var].dropna().values\n",
    "bgatto=dfmeans[dfmeans[\"Condition\"]==\"Background - Atto647\"][var].dropna().values\n",
    "bgblockplus0=dfmeans[dfmeans[\"Condition\"]==\"Block+0, TNR647\"][var].dropna().values\n",
    "bgblockplus12=dfmeans[dfmeans[\"Condition\"]==\"Block+12, TNR647\"][var].dropna().values\n",
    "negctrl=dfmeans[dfmeans[\"Condition\"]==\"Unblocked TNR647\"][\"intensity\"].dropna().values\n",
    "\n",
    "stats.f_oneway(bgauto, bgatto, bgblockplus0,bgblockplus12,negctrl)"
   ]
  },
  {
   "cell_type": "code",
   "execution_count": null,
   "metadata": {},
   "outputs": [],
   "source": [
    "import ipywidgets as widgets\n",
    "from ipywidgets import interact\n",
    "import scipy.stats as stats\n",
    "import statsmodels.formula.api as smf\n",
    "import statsmodels.stats.multicomp as multi\n",
    "from statsmodels.stats.libqsturng import psturng\n",
    "\n",
    "x = dfmeans[\"Condition\"]\n",
    "y = dfmeans[var]\n",
    "# DataFrame.\n",
    "mcDate = multi.MultiComparison(y,x)\n",
    "Results = mcDate.tukeyhsd()\n",
    "df = pd.DataFrame(data=Results._results_table.data[1:], columns=Results._results_table.data[0])\n",
    "res=Results\n",
    "pvals=psturng(np.abs(res.meandiffs / res.std_pairs),len(res.groupsunique), res.df_total)\n",
    "df[\"pvals\"]=pvals\n",
    "\n",
    "df"
   ]
  },
  {
   "cell_type": "markdown",
   "metadata": {},
   "source": [
    "## nice plot"
   ]
  },
  {
   "cell_type": "code",
   "execution_count": null,
   "metadata": {},
   "outputs": [],
   "source": [
    "dfmeans"
   ]
  },
  {
   "cell_type": "code",
   "execution_count": 31,
   "metadata": {},
   "outputs": [
    {
     "data": {
      "image/png": "[encoded data removed]",
      "text/plain": [
       "<Figure size 360x432 with 1 Axes>"
      ]
     },
     "metadata": {},
     "output_type": "display_data"
    }
   ],
   "source": [
    "sns.set(font_scale=2.5)\n",
    "sns.set_style(\"ticks\")\n",
    "sns.set_palette(\"Set2\")\n",
    "from matplotlib import ticker\n",
    "\n",
    "fig=plt.figure(figsize=(5,6))\n",
    "\n",
    "df2plot=dfmeans\n",
    "var='intensity'\n",
    "order=['Background - Autofluorescence',\n",
    "       'Background - Atto647',\n",
    "      'Block+0, TNR647',\n",
    "       'Block+12, TNR647',\n",
    "       'Unblocked TNR647'\n",
    "       ]\n",
    "\n",
    "paletteswarm ={\"Background - Autofluorescence\":\"#333333\",\n",
    "               \"Unblocked TNR647\":\"#2F67F8\",\n",
    "               \"Background - Atto647\":\"#2F67F8\",\n",
    "               \"Block+0, TNR647\":\"#2F67F8\",\n",
    "               \"Block+12, TNR647\":\"#2F67F8\"}\n",
    "palette ={\"Background - Autofluorescence\":\"#adadad\",\n",
    "          \"Unblocked TNR647\":\"#abc2fc\",\n",
    "               \"Background - Atto647\":\"#abc2fc\",\n",
    "               \"Block+0, TNR647\":\"#abc2fc\",\n",
    "               \"Block+12, TNR647\":\"#abc2fc\"}\n",
    "\n",
    "\n",
    "g=sns.barplot(data=df2plot,y=var,x=\"Condition\"\n",
    "            ,order=order,palette=palette,ci=None)\n",
    "\n",
    "g=sns.swarmplot(data=df2plot,y=var,x=\"Condition\"\n",
    "            ,order=order,palette=paletteswarm,size=8)\n",
    "col='k'\n",
    "def change_width(ax, new_value) :\n",
    "    for patch in ax.patches :\n",
    "        current_width = patch.get_width()\n",
    "        diff = current_width - new_value\n",
    "        \n",
    "        # we change the bar width\n",
    "        patch.set_width(new_value)\n",
    "\n",
    "        # we recenter the bar\n",
    "        patch.set_x(patch.get_x() + diff * .5)\n",
    "        \n",
    "change_width(g, .8)\n",
    "\n",
    "plt.errorbar(x=np.arange(0,len(order)),\n",
    "             y=[df2plot[df2plot[\"Condition\"]==condtype][var].mean() for condtype in order],\n",
    "             yerr=[df2plot[df2plot[\"Condition\"]==condtype][var].sem() for condtype in order],\n",
    "             xerr=None,ecolor='black',fmt='none',capsize=10,linewidth=3,\n",
    "             capthick=3,zorder=10,\n",
    "            alpha=1)\n",
    "\n",
    "plt.axhline(0, color='#333333',alpha=1,linewidth=4)\n",
    "\n",
    "g.xaxis.set_tick_params(width=4)\n",
    "g.yaxis.set_tick_params(width=4)\n",
    "\n",
    "plt.rcParams['font.sans-serif'] = 'Helvetica'\n",
    "\n",
    "\n",
    "g.set_ylabel('')\n",
    "g.set_xlabel('',color='#333333',alpha=.7)\n",
    "\n",
    "\n",
    "g.grid(False)\n",
    "\n",
    "\n",
    "for axis in ['top','bottom','left','right']:\n",
    "  g.spines[axis].set_linewidth(4)\n",
    "  g.spines[axis].set_color('#333333')\n",
    "  g.spines[axis].set_alpha(1)\n",
    "\n",
    "plt.xticks(g.get_xticks(),['Auto-\\nfluorescence',\n",
    "                           'Secondary\\nantibody alone',\n",
    "      'Block+0',\n",
    "       'Block+12',\n",
    "       'No blocking'\n",
    "       ],\n",
    "           rotation=70,size=24)\n",
    "offsets={\"left\":10,\"bottom\":0}\n",
    "trims={\"left\":True,\"bottom\":False,\"right\":False}\n",
    "sns.despine(ax=g,right=True,top=True,bottom=True,trim=trims,offset=offsets)\n",
    "#plt.yticks([0,2,4,6,8,10,12],fontsize=22,color='#333333')\n",
    "\n",
    "for number in range(1,4):\n",
    "    plt.text(number, 6, \"ns\", ha='center', va='bottom', color=col,size=20, weight='bold')\n",
    "plt.text(4, 35.5, \"**\", ha='center', va='bottom', color=col,size=20, weight='bold')\n",
    "\n",
    "\n",
    "scale_x=10\n",
    "ticks_y=ticker.FuncFormatter(lambda x, pos: '{0:g}' .format(x/scale_x))\n",
    "g=plt.gca()\n",
    "g.yaxis.set_major_formatter(ticks_y)\n",
    "\n",
    "#plt.ylim([0,12.5])\n",
    "'''x1, x2 = 0,4\n",
    "y= 330\n",
    "h=5\n",
    "col='black'\n",
    "plt.plot([x1, x1, x2, x2], [y, y+h, y+h, y], lw=3.5, c=col)\n",
    "plt.text((x1+x2)*.5, y+h, \"***\", ha='center', va='bottom', color=col,size=24, weight='bold')\n",
    "\n",
    "x1, x2 = 1,4\n",
    "y= 330\n",
    "h=5\n",
    "col='black'\n",
    "plt.plot([x1, x1, x2, x2], [y, y+h, y+h, y], lw=3.5, c=col)\n",
    "\n",
    "x1, x2 = 2,4\n",
    "y= 330\n",
    "h=5\n",
    "col='black'\n",
    "plt.plot([x1, x1, x2, x2], [y, y+h, y+h, y], lw=3.5, c=col)\n",
    "\n",
    "x1, x2 = 3,4\n",
    "y= 330\n",
    "h=5\n",
    "col='black'\n",
    "plt.plot([x1, x1, x2, x2], [y, y+h, y+h, y], lw=3.5, c=col)'''\n",
    "\n",
    "\n",
    "diri=\"/Volumes/Macintosh HD/Users/taldankovich/Downloads/figures/\"\n",
    "\n",
    "fig.savefig(diri+'supp1_fixedctrl_new.svg', bbox_inches='tight', format='svg')\n"
   ]
  },
  {
   "cell_type": "code",
   "execution_count": null,
   "metadata": {},
   "outputs": [],
   "source": []
  }
 ],
 "metadata": {
  "kernelspec": {
   "display_name": "Python 3",
   "language": "python",
   "name": "python3"
  },
  "language_info": {
   "codemirror_mode": {
    "name": "ipython",
    "version": 3
   },
   "file_extension": ".py",
   "mimetype": "text/x-python",
   "name": "python",
   "nbconvert_exporter": "python",
   "pygments_lexer": "ipython3",
   "version": "3.7.1"
  }
 },
 "nbformat": 4,
 "nbformat_minor": 2
}
