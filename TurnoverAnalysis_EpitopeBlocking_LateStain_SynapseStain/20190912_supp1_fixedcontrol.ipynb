{
 "cells": [
  {
   "cell_type": "code",
   "execution_count": 1,
   "metadata": {},
   "outputs": [],
   "source": [
    "import numpy as np\n",
    "import os\n",
    "from nd2reader import ND2Reader\n",
    "import matplotlib.pyplot as plt\n",
    "import matplotlib.cm as cm\n",
    "from matplotlib_scalebar.scalebar import ScaleBar\n",
    "import scipy.ndimage as ndi\n",
    "from skimage.filters import rank \n",
    "from scipy.signal import butter, lfilter\n",
    "import scipy.misc as misc\n",
    "from skimage import exposure\n",
    "from PIL import Image\n",
    "import colorcet as cc\n",
    "from scipy.misc import toimage\n",
    "import matplotlib.colors as clr\n",
    "import pandas as pd\n",
    "import seaborn as sns\n",
    "from scipy import stats\n",
    "import cv2\n",
    "from pyspark import SparkContext, SparkConf\n",
    "import skimage\n",
    "from pathlib import Path\n",
    "\n",
    "def mean2(x):\n",
    "    y = np.sum(x) / np.size(x);\n",
    "    return y\n",
    "def corr2(a,b):\n",
    "    a = a - mean2(a)\n",
    "    b = b - mean2(b)\n",
    "\n",
    "    r = (a*b).sum() / np.sqrt((a*a).sum() * (b*b).sum());\n",
    "    return r\n",
    "from copy import deepcopy\n",
    "from skimage.filters import threshold_otsu,threshold_li\n",
    "import glob\n",
    "from IPython.display import clear_output\n",
    "import scipy.io as spio"
   ]
  },
  {
   "cell_type": "code",
   "execution_count": 2,
   "metadata": {},
   "outputs": [],
   "source": [
    "expdir='/Volumes/ukps-all$/user/tdanko/Imaging/1_ECM/Fixed culture/Controls/201908_fixedctrltnr647/' #master folder\n",
    "protein=\"WFA\" #TNR,Agg,WFA,HABP"
   ]
  },
  {
   "cell_type": "code",
   "execution_count": 3,
   "metadata": {},
   "outputs": [],
   "source": [
    "results = {\"filename\":[],\"exp\":[],\n",
    "           \"Manual mask from matlab GUI\":[],\n",
    "           \"intensity\":[],\"int under mask\":[],\"bg sub int under mask\":[],\"bg sub int unmasked\":[]}\n",
    "\n",
    "histogram_results={\"filename\":[],\"exp condition\":[],\n",
    "                   \"ECM raw intensity- Flattened histogram\":[],\n",
    "                   \"Nuclei raw intensity- Flattened histogram\":[],\n",
    "                   \"Synapse raw intensity- Flattened histogram\":[]}\n",
    "regionprops_results={\"filename\":[],\n",
    "                     \"exp condition\":[],\n",
    "                     \"Synapse colour - regionprops soma\":[],\n",
    "                     \"Synapse colour - regionprops neurites\":[]}\n",
    "\n",
    "path = os.path.dirname(expdir)  \n",
    "outputFolder = os.path.dirname(expdir + \"/new/\")\n",
    "filelist = []\n",
    "for root, _, filenames in os.walk(path):\n",
    "     for filename in filenames:\n",
    "         filelist.append(os.path.join(root, filename))      \n",
    "for i in range(0,len(filelist)):\n",
    "    #if \"_analyse\" in str(filelist[i]):\n",
    "     #   if (protein in str(filelist[i]))==True:\n",
    "            if (\"TTX\" in str(filelist[i]))==False:\n",
    "                if filelist[i].endswith(\".nd2\"): \n",
    "                    results[\"filename\"].append(filelist[i])\n",
    "                    results[\"exp\"].append(filelist[i].split('/')[-2])"
   ]
  },
  {
   "cell_type": "code",
   "execution_count": 4,
   "metadata": {},
   "outputs": [
    {
     "name": "stdout",
     "output_type": "stream",
     "text": [
      "1_blocked_immediatetnr647\n",
      "2_blocked_plus12htnr647\n",
      "3_1_blockedatto647\n",
      "3_2_blockedpluis12h_atto647\n",
      "4_noblock_atto\n",
      "6_noblock_tnr647\n",
      "6_notblocked_tnr647\n"
     ]
    }
   ],
   "source": [
    "print(\"\\n\".join(list(sorted(set(results[\"exp\"])))))"
   ]
  },
  {
   "cell_type": "code",
   "execution_count": 5,
   "metadata": {},
   "outputs": [
    {
     "name": "stdout",
     "output_type": "stream",
     "text": [
      "Done!\n"
     ]
    }
   ],
   "source": [
    "## matlab files\n",
    "for im in range(0,len(results[\"filename\"])): \n",
    "    file=results[\"filename\"][im][:-4]+'_mask.mat'\n",
    "    from pathlib import Path\n",
    "    my_file = Path(file)\n",
    "    if my_file.exists():\n",
    "        print(file)\n",
    "        mat = spio.loadmat(file, squeeze_me=True)\n",
    "        mask=mat['totMask']>0.99\n",
    "        results[\"Manual mask from matlab GUI\"].append(mask)\n",
    "    else:\n",
    "        results[\"Manual mask from matlab GUI\"].append(np.nan)\n",
    "clear_output()        \n",
    "print(\"Done!\")"
   ]
  },
  {
   "cell_type": "code",
   "execution_count": 6,
   "metadata": {},
   "outputs": [
    {
     "name": "stdout",
     "output_type": "stream",
     "text": [
      "Total number of images: 182\n",
      "Calculating image no 1 out of182\n",
      "Calculating image no 2 out of182\n",
      "Calculating image no 3 out of182\n",
      "Calculating image no 4 out of182\n",
      "Calculating image no 5 out of182\n",
      "Calculating image no 6 out of182\n",
      "Calculating image no 7 out of182\n",
      "Calculating image no 8 out of182\n",
      "Calculating image no 9 out of182\n",
      "Calculating image no 10 out of182\n",
      "Calculating image no 11 out of182\n",
      "Calculating image no 12 out of182\n",
      "Calculating image no 13 out of182\n",
      "Calculating image no 14 out of182\n",
      "Calculating image no 15 out of182\n",
      "Calculating image no 16 out of182\n",
      "Calculating image no 17 out of182\n",
      "Calculating image no 18 out of182\n",
      "Calculating image no 19 out of182\n",
      "Calculating image no 20 out of182\n",
      "Calculating image no 21 out of182\n",
      "Calculating image no 22 out of182\n",
      "Calculating image no 23 out of182\n",
      "Calculating image no 24 out of182\n",
      "Calculating image no 25 out of182\n",
      "Calculating image no 26 out of182\n",
      "Calculating image no 27 out of182\n",
      "Calculating image no 28 out of182\n",
      "Calculating image no 29 out of182\n",
      "Calculating image no 30 out of182\n",
      "Calculating image no 31 out of182\n",
      "Calculating image no 32 out of182\n",
      "Calculating image no 33 out of182\n",
      "Calculating image no 34 out of182\n",
      "Calculating image no 35 out of182\n",
      "Calculating image no 36 out of182\n",
      "Calculating image no 37 out of182\n",
      "Calculating image no 38 out of182\n",
      "Calculating image no 39 out of182\n"
     ]
    },
    {
     "name": "stderr",
     "output_type": "stream",
     "text": [
      "/Users/taldankovich/anaconda3/lib/python3.7/site-packages/numpy/core/fromnumeric.py:3118: RuntimeWarning: Mean of empty slice.\n",
      "  out=out, **kwargs)\n",
      "/Users/taldankovich/anaconda3/lib/python3.7/site-packages/numpy/core/_methods.py:85: RuntimeWarning: invalid value encountered in double_scalars\n",
      "  ret = ret.dtype.type(ret / rcount)\n",
      "/Users/taldankovich/anaconda3/lib/python3.7/site-packages/numpy/core/_methods.py:140: RuntimeWarning: Degrees of freedom <= 0 for slice\n",
      "  keepdims=keepdims)\n",
      "/Users/taldankovich/anaconda3/lib/python3.7/site-packages/numpy/core/_methods.py:110: RuntimeWarning: invalid value encountered in true_divide\n",
      "  arrmean, rcount, out=arrmean, casting='unsafe', subok=False)\n",
      "/Users/taldankovich/anaconda3/lib/python3.7/site-packages/numpy/core/_methods.py:132: RuntimeWarning: invalid value encountered in double_scalars\n",
      "  ret = ret.dtype.type(ret / rcount)\n",
      "/Users/taldankovich/anaconda3/lib/python3.7/site-packages/ipykernel_launcher.py:38: RuntimeWarning: invalid value encountered in less\n",
      "/Users/taldankovich/anaconda3/lib/python3.7/site-packages/ipykernel_launcher.py:45: RuntimeWarning: Mean of empty slice.\n",
      "/Users/taldankovich/anaconda3/lib/python3.7/site-packages/ipykernel_launcher.py:46: RuntimeWarning: Mean of empty slice.\n"
     ]
    },
    {
     "name": "stdout",
     "output_type": "stream",
     "text": [
      "Calculating image no 40 out of182\n",
      "Calculating image no 41 out of182\n",
      "Calculating image no 42 out of182\n",
      "Calculating image no 43 out of182\n",
      "Calculating image no 44 out of182\n",
      "Calculating image no 45 out of182\n",
      "Calculating image no 46 out of182\n",
      "Calculating image no 47 out of182\n",
      "Calculating image no 48 out of182\n",
      "Calculating image no 49 out of182\n",
      "Calculating image no 50 out of182\n",
      "Calculating image no 51 out of182\n",
      "Calculating image no 52 out of182\n",
      "Calculating image no 53 out of182\n",
      "Calculating image no 54 out of182\n",
      "Calculating image no 55 out of182\n",
      "Calculating image no 56 out of182\n",
      "Calculating image no 57 out of182\n",
      "Calculating image no 58 out of182\n",
      "Calculating image no 59 out of182\n",
      "Calculating image no 60 out of182\n",
      "Calculating image no 61 out of182\n",
      "Calculating image no 62 out of182\n",
      "Calculating image no 63 out of182\n",
      "Calculating image no 64 out of182\n",
      "Calculating image no 65 out of182\n",
      "Calculating image no 66 out of182\n",
      "Calculating image no 67 out of182\n",
      "Calculating image no 68 out of182\n",
      "Calculating image no 69 out of182\n",
      "Calculating image no 70 out of182\n",
      "Calculating image no 71 out of182\n",
      "Calculating image no 72 out of182\n",
      "Calculating image no 73 out of182\n",
      "Calculating image no 74 out of182\n",
      "Calculating image no 75 out of182\n",
      "Calculating image no 76 out of182\n",
      "Calculating image no 77 out of182\n",
      "Calculating image no 78 out of182\n",
      "Calculating image no 79 out of182\n",
      "Calculating image no 80 out of182\n",
      "Calculating image no 81 out of182\n",
      "Calculating image no 82 out of182\n",
      "Calculating image no 83 out of182\n",
      "Calculating image no 84 out of182\n",
      "Calculating image no 85 out of182\n",
      "Calculating image no 86 out of182\n",
      "Calculating image no 87 out of182\n",
      "Calculating image no 88 out of182\n",
      "Calculating image no 89 out of182\n",
      "Calculating image no 90 out of182\n",
      "Calculating image no 91 out of182\n",
      "Calculating image no 92 out of182\n",
      "Calculating image no 93 out of182\n",
      "Calculating image no 94 out of182\n",
      "Calculating image no 95 out of182\n",
      "Calculating image no 96 out of182\n",
      "Calculating image no 97 out of182\n",
      "Calculating image no 98 out of182\n",
      "Calculating image no 99 out of182\n",
      "Calculating image no 100 out of182\n",
      "Calculating image no 101 out of182\n",
      "Calculating image no 102 out of182\n",
      "Calculating image no 103 out of182\n",
      "Calculating image no 104 out of182\n",
      "Calculating image no 105 out of182\n",
      "Calculating image no 106 out of182\n",
      "Calculating image no 107 out of182\n",
      "Calculating image no 108 out of182\n",
      "Calculating image no 109 out of182\n",
      "Calculating image no 110 out of182\n",
      "Calculating image no 111 out of182\n",
      "Calculating image no 112 out of182\n",
      "Calculating image no 113 out of182\n",
      "Calculating image no 114 out of182\n",
      "Calculating image no 115 out of182\n",
      "Calculating image no 116 out of182\n",
      "Calculating image no 117 out of182\n",
      "Calculating image no 118 out of182\n",
      "Calculating image no 119 out of182\n",
      "Calculating image no 120 out of182\n",
      "Calculating image no 121 out of182\n",
      "Calculating image no 122 out of182\n",
      "Calculating image no 123 out of182\n",
      "Calculating image no 124 out of182\n",
      "Calculating image no 125 out of182\n",
      "Calculating image no 126 out of182\n",
      "Calculating image no 127 out of182\n",
      "Calculating image no 128 out of182\n",
      "Calculating image no 129 out of182\n",
      "Calculating image no 130 out of182\n",
      "Calculating image no 131 out of182\n",
      "Calculating image no 132 out of182\n",
      "Calculating image no 133 out of182\n",
      "Calculating image no 134 out of182\n",
      "Calculating image no 135 out of182\n",
      "Calculating image no 136 out of182\n",
      "Calculating image no 137 out of182\n",
      "Calculating image no 138 out of182\n",
      "Calculating image no 139 out of182\n",
      "Calculating image no 140 out of182\n",
      "Calculating image no 141 out of182\n",
      "Calculating image no 142 out of182\n",
      "Calculating image no 143 out of182\n",
      "Calculating image no 144 out of182\n",
      "Calculating image no 145 out of182\n",
      "Calculating image no 146 out of182\n",
      "Calculating image no 147 out of182\n",
      "Calculating image no 148 out of182\n",
      "Calculating image no 149 out of182\n",
      "Calculating image no 150 out of182\n",
      "Calculating image no 151 out of182\n",
      "Calculating image no 152 out of182\n",
      "Calculating image no 153 out of182\n",
      "Calculating image no 154 out of182\n",
      "Calculating image no 155 out of182\n",
      "Calculating image no 156 out of182\n",
      "Calculating image no 157 out of182\n",
      "Calculating image no 158 out of182\n",
      "Calculating image no 159 out of182\n",
      "Calculating image no 160 out of182\n",
      "Calculating image no 161 out of182\n",
      "Calculating image no 162 out of182\n",
      "Calculating image no 163 out of182\n",
      "Calculating image no 164 out of182\n",
      "Calculating image no 165 out of182\n",
      "Calculating image no 166 out of182\n",
      "Calculating image no 167 out of182\n",
      "Calculating image no 168 out of182\n",
      "Calculating image no 169 out of182\n",
      "Calculating image no 170 out of182\n",
      "Calculating image no 171 out of182\n",
      "Calculating image no 172 out of182\n",
      "Calculating image no 173 out of182\n",
      "Calculating image no 174 out of182\n",
      "Calculating image no 175 out of182\n",
      "Calculating image no 176 out of182\n",
      "Calculating image no 177 out of182\n",
      "Calculating image no 178 out of182\n",
      "Calculating image no 179 out of182\n",
      "Calculating image no 180 out of182\n",
      "Calculating image no 181 out of182\n",
      "Calculating image no 182 out of182\n"
     ]
    }
   ],
   "source": [
    "print('Total number of images: ' + str(len(results['filename'])))\n",
    "\n",
    "for i in range(0,len(results[\"filename\"])): \n",
    "    flag=False\n",
    "    print('Calculating image no ' + str(i+1) + ' out of' + str(len(results[\"filename\"])))\n",
    "    #read the image\n",
    "    with ND2Reader(results[\"filename\"][i]) as images:\n",
    "        ecm_image=images[0]\n",
    "    #convert to numpy array - a format easier to manipunuclei with code\n",
    "    ecm_image=ecm_image.astype(np.int16)\n",
    "    \n",
    "    ###################analyses for the raw images -before processing##############\n",
    "    #preserve the raw images\n",
    "    ecm_image_raw = deepcopy(ecm_image)\n",
    "    \n",
    "    #normalize intensity to value between 0 and 1 - also just to make them easier to work with\n",
    "    #ecm_image=np.divide(ecm_image,16383.)\n",
    "    \n",
    "    #read masks\n",
    "    \n",
    "    matlab_mask=results[\"Manual mask from matlab GUI\"][i]\n",
    "    if type(matlab_mask)==np.ndarray:\n",
    "        flag=True\n",
    "    \n",
    "    #images after background subtraction\n",
    "    #for ecm image\n",
    "    bg_somamask=np.mean(ndi.median_filter(ecm_image,size=5))+0*np.std(ndi.median_filter(ecm_image,size=5))\n",
    "    ecm__bgreduced=deepcopy(ecm_image_raw)\n",
    "    ecm__bgreduced=np.subtract(ecm__bgreduced,bg_somamask)\n",
    "    ecm__bgreduced[ecm__bgreduced<0]=0\n",
    "    \n",
    "    if flag==True:\n",
    "        ecm_matlabmasked_bgreduced=deepcopy(ecm_image)\n",
    "\n",
    "\n",
    "        bg_matlabmask=np.mean(ndi.median_filter(ecm_image[matlab_mask],size=5))+0*np.std(ndi.median_filter(ecm_image[matlab_mask],size=5))\n",
    "        ecm_matlabmasked_bgreduced=np.subtract(ecm_matlabmasked_bgreduced,bg_matlabmask)\n",
    "        ecm_matlabmasked_bgreduced[ecm_matlabmasked_bgreduced<0]=0\n",
    "        ecm_matlabmasked_bgreduced[~matlab_mask]=0\n",
    "    \n",
    "        \n",
    "    results[\"intensity\"].append(ecm_image_raw.mean())\n",
    "    results[\"bg sub int unmasked\"].append(ecm__bgreduced.mean())\n",
    "    if flag==True:\n",
    "        results[\"int under mask\"].append(ecm_image_raw[matlab_mask].mean())\n",
    "        results[\"bg sub int under mask\"].append(ecm_matlabmasked_bgreduced[matlab_mask].mean())\n",
    "    else:\n",
    "        results[\"int under mask\"].append(np.nan)\n",
    "        results[\"bg sub int under mask\"].append(np.nan)"
   ]
  },
  {
   "cell_type": "code",
   "execution_count": 7,
   "metadata": {},
   "outputs": [],
   "source": [
    "df=pd.DataFrame(results)"
   ]
  },
  {
   "cell_type": "code",
   "execution_count": 8,
   "metadata": {},
   "outputs": [
    {
     "data": {
      "text/plain": [
       "Index(['filename', 'exp', 'Manual mask from matlab GUI', 'intensity',\n",
       "       'int under mask', 'bg sub int under mask', 'bg sub int unmasked'],\n",
       "      dtype='object')"
      ]
     },
     "execution_count": 8,
     "metadata": {},
     "output_type": "execute_result"
    }
   ],
   "source": [
    "df.columns"
   ]
  },
  {
   "cell_type": "code",
   "execution_count": 9,
   "metadata": {},
   "outputs": [],
   "source": [
    "df2=deepcopy(df)\n",
    "df2['Blocked or not']='None'\n",
    "df2.loc[df2['exp'].str.contains('Blocked'), 'Blocked or not'] = 'Blocked'\n",
    "df2.loc[df2['exp'].str.contains('no'), 'Blocked or not'] = 'Unblocked'\n",
    "\n",
    "df2['Time']='Immediately'\n",
    "\n",
    "df2['TNR or secondary']='None'\n",
    "df2.loc[df2['exp'].str.contains('tnr'), 'TNR or secondary'] = 'TNR'\n",
    "df2.loc[df2['exp'].str.contains('tnr'), 'TNR or secondary'] = 'TNR'\n",
    "\n",
    "df2['expno']='None'\n",
    "df2.loc[df2['filename'].str.contains('exp1'), 'expno'] = 'exp1'\n",
    "df2.loc[df2['filename'].str.contains('exp2'), 'expno'] = 'exp2'\n",
    "df2.loc[df2['filename'].str.contains('exp3'), 'expno'] = 'exp3'\n",
    "\n",
    "df2[\"Condition\"]='None'\n",
    "df2.loc[df2['filename'].str.contains('1_blocked_immediatetnr647'), 'Condition'] = 'Block+0, TNR647'\n",
    "df2.loc[df2['filename'].str.contains('3_1_blockedatto647'), 'Condition'] = 'Block+0, mouseAtto647'\n",
    "df2.loc[df2['filename'].str.contains('2_blocked_plus12htnr647'), 'Condition'] = 'Block+12, TNR647'\n",
    "df2.loc[df2['filename'].str.contains('3_2_blockedpluis12h_atto647'), 'Condition'] = 'Block+12, mouseAtto647'\n",
    "\n",
    "df2.loc[df2['filename'].str.contains('6_notblocked_tnr647'), 'Condition'] = 'Unblocked TNR647'\n",
    "df2.loc[df2['filename'].str.contains('6_noblock_tnr647'), 'Condition'] = 'Unblocked TNR647'\n",
    "df2.loc[df2['filename'].str.contains('4_noblock_atto'), 'Condition'] = 'Unblocked mouseAtto647'\n",
    "\n"
   ]
  },
  {
   "cell_type": "code",
   "execution_count": 10,
   "metadata": {},
   "outputs": [
    {
     "data": {
      "text/plain": [
       "(array([0, 1, 2, 3, 4, 5]), <a list of 6 Text xticklabel objects>)"
      ]
     },
     "execution_count": 10,
     "metadata": {},
     "output_type": "execute_result"
    },
    {
     "data": {
      "image/png": "[encoded data removed]",
      "text/plain": [
       "<Figure size 432x288 with 1 Axes>"
      ]
     },
     "metadata": {
      "needs_background": "light"
     },
     "output_type": "display_data"
    }
   ],
   "source": [
    "var=\"bg sub int under mask\"\n",
    "#var=\"intensity\"\n",
    "#var=\"int under mask\"\n",
    "\n",
    "sns.barplot(x=\"Condition\",y=var,data=df2)\n",
    "plt.xticks(rotation=90)"
   ]
  },
  {
   "cell_type": "code",
   "execution_count": 11,
   "metadata": {},
   "outputs": [],
   "source": [
    "\n",
    "means={\"expname\":[],\"Condition\":[],\"intensity\":[]}\n",
    "\n",
    "df2read=df2\n",
    "           #& (df2[\"expname\"]!=\"20181113_NCAN_analyse\")]\n",
    "\n",
    "\n",
    "for exp in df2read[\"expno\"].unique():\n",
    "    dfcalc=df2read[df2read[\"expno\"]==exp]\n",
    "    dfcalc=dfcalc.reset_index()\n",
    "    for condition in dfcalc[\"Condition\"].unique():\n",
    "        dfcalc_cond=dfcalc[dfcalc[\"Condition\"]==condition]\n",
    "        means[\"expname\"].append(exp)\n",
    "        means[\"Condition\"].append(condition)\n",
    "        means[\"intensity\"].append(dfcalc_cond[var].mean())\n",
    "        means\n",
    "    \n",
    "    \n",
    "    \n",
    "dfmeans=pd.DataFrame(means)"
   ]
  },
  {
   "cell_type": "code",
   "execution_count": 12,
   "metadata": {},
   "outputs": [
    {
     "data": {
      "text/plain": [
       "(array([0, 1, 2, 3, 4, 5]), <a list of 6 Text xticklabel objects>)"
      ]
     },
     "execution_count": 12,
     "metadata": {},
     "output_type": "execute_result"
    },
    {
     "data": {
      "image/png": "[encoded data removed]",
      "text/plain": [
       "<Figure size 432x288 with 1 Axes>"
      ]
     },
     "metadata": {
      "needs_background": "light"
     },
     "output_type": "display_data"
    }
   ],
   "source": [
    "sns.barplot(data=dfmeans,x=\"Condition\",y=\"intensity\")\n",
    "sns.swarmplot(data=dfmeans,x=\"Condition\",y=\"intensity\",color='black')\n",
    "plt.xticks(rotation=90,fontsize=22)"
   ]
  },
  {
   "cell_type": "markdown",
   "metadata": {},
   "source": [
    "## make df with intensity of each exp normalised to background"
   ]
  },
  {
   "cell_type": "code",
   "execution_count": 13,
   "metadata": {},
   "outputs": [
    {
     "data": {
      "text/plain": [
       "Index(['filename', 'exp', 'Manual mask from matlab GUI', 'intensity',\n",
       "       'int under mask', 'bg sub int under mask', 'bg sub int unmasked',\n",
       "       'Blocked or not', 'Time', 'TNR or secondary', 'expno', 'Condition'],\n",
       "      dtype='object')"
      ]
     },
     "execution_count": 13,
     "metadata": {},
     "output_type": "execute_result"
    }
   ],
   "source": [
    "df2.columns"
   ]
  },
  {
   "cell_type": "code",
   "execution_count": 14,
   "metadata": {},
   "outputs": [],
   "source": [
    "var=\"bg sub int under mask\"\n",
    "df_norms={\"expname\":[],\"intensity norm2bg\":[],\"condition\":[]}\n",
    "for exp in df2[\"expno\"].unique():\n",
    "    dfexp=df2[df2[\"expno\"]==exp]\n",
    "    \n",
    "    intensity_attounblocked=dfexp[dfexp[\"Condition\"]==\"Unblocked mouseAtto647\"][var].mean()\n",
    "    \n",
    "    df_norms[\"intensity norm2bg\"].append(1)\n",
    "    df_norms[\"condition\"].append(\"Background (atto647 mouse)\")\n",
    "    df_norms[\"expname\"].append(exp)\n",
    "    \n",
    "    intensity_unblocked=dfexp[dfexp[\"Condition\"]==\"Unblocked TNR647\"][var].mean()/intensity_attounblocked\n",
    "    df_norms[\"intensity norm2bg\"].append(intensity_unblocked)\n",
    "    df_norms[\"expname\"].append(exp)\n",
    "    df_norms[\"condition\"].append(\"Unblocked TNR647\")\n",
    "    \n",
    "    intensity_block0=dfexp[dfexp[\"Condition\"]==\"Block+0, TNR647\"][var].mean()/intensity_attounblocked\n",
    "    df_norms[\"intensity norm2bg\"].append(intensity_block0)\n",
    "    df_norms[\"expname\"].append(exp)\n",
    "    df_norms[\"condition\"].append(\"Block+0, TNR647\")\n",
    "    \n",
    "    intensity_block12=dfexp[dfexp[\"Condition\"]==\"Block+12, TNR647\"][var].mean()/intensity_attounblocked\n",
    "    df_norms[\"intensity norm2bg\"].append(intensity_block12)\n",
    "    df_norms[\"expname\"].append(exp)\n",
    "    df_norms[\"condition\"].append(\"Block+12, TNR647\")\n",
    "    \n",
    "df_norms=pd.DataFrame(df_norms)"
   ]
  },
  {
   "cell_type": "code",
   "execution_count": 15,
   "metadata": {},
   "outputs": [
    {
     "data": {
      "text/plain": [
       "(array([0, 1, 2, 3]), <a list of 4 Text xticklabel objects>)"
      ]
     },
     "execution_count": 15,
     "metadata": {},
     "output_type": "execute_result"
    },
    {
     "data": {
      "image/png": "[encoded data removed]",
      "text/plain": [
       "<Figure size 720x720 with 1 Axes>"
      ]
     },
     "metadata": {
      "needs_background": "light"
     },
     "output_type": "display_data"
    }
   ],
   "source": [
    "plt.figure(figsize=(10,10))\n",
    "sns.barplot(data=df_norms,x=\"condition\",y=\"intensity norm2bg\")\n",
    "plt.xticks(rotation=90)"
   ]
  },
  {
   "cell_type": "code",
   "execution_count": 16,
   "metadata": {},
   "outputs": [
    {
     "data": {
      "text/plain": [
       "2.857118023549687"
      ]
     },
     "execution_count": 16,
     "metadata": {},
     "output_type": "execute_result"
    }
   ],
   "source": [
    "intensity_unblocked"
   ]
  },
  {
   "cell_type": "code",
   "execution_count": null,
   "metadata": {},
   "outputs": [],
   "source": []
  }
 ],
 "metadata": {
  "kernelspec": {
   "display_name": "Python 3",
   "language": "python",
   "name": "python3"
  },
  "language_info": {
   "codemirror_mode": {
    "name": "ipython",
    "version": 3
   },
   "file_extension": ".py",
   "mimetype": "text/x-python",
   "name": "python",
   "nbconvert_exporter": "python",
   "pygments_lexer": "ipython3",
   "version": "3.7.1"
  }
 },
 "nbformat": 4,
 "nbformat_minor": 2
}
