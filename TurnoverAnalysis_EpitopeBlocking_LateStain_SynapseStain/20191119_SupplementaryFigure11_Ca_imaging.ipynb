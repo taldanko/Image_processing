{
 "cells": [
  {
   "cell_type": "markdown",
   "metadata": {},
   "source": [
    "## Import modules and functions"
   ]
  },
  {
   "cell_type": "code",
   "execution_count": 1,
   "metadata": {},
   "outputs": [],
   "source": [
    "import numpy as np\n",
    "import os\n",
    "from nd2reader import ND2Reader\n",
    "import matplotlib.pyplot as plt\n",
    "import matplotlib.cm as cm\n",
    "from matplotlib_scalebar.scalebar import ScaleBar\n",
    "import scipy.ndimage as ndi\n",
    "from skimage.filters import rank \n",
    "from scipy.signal import butter, lfilter\n",
    "import scipy.misc as misc\n",
    "from skimage import exposure\n",
    "from PIL import Image\n",
    "import colorcet as cc\n",
    "import matplotlib.colors as clr\n",
    "import pandas as pd\n",
    "import seaborn as sns\n",
    "from scipy import stats\n",
    "import cv2\n",
    "from pyspark import SparkContext, SparkConf\n",
    "import skimage\n",
    "from pathlib import Path\n",
    "%matplotlib inline\n",
    "def mean2(x):\n",
    "    y = np.sum(x) / np.size(x);\n",
    "    return y\n",
    "def corr2(a,b):\n",
    "    a = a - mean2(a)\n",
    "    b = b - mean2(b)\n",
    "\n",
    "    r = (a*b).sum() / np.sqrt((a*a).sum() * (b*b).sum());\n",
    "    return r\n",
    "from copy import deepcopy\n",
    "from skimage.filters import threshold_otsu,threshold_li\n",
    "import glob\n",
    "from IPython.display import clear_output\n",
    "import scipy.io as spio\n",
    "import pims"
   ]
  },
  {
   "cell_type": "markdown",
   "metadata": {},
   "source": [
    "## Read CSV file with values for stimulation"
   ]
  },
  {
   "cell_type": "code",
   "execution_count": 2,
   "metadata": {},
   "outputs": [],
   "source": [
    "filename=r'/Volumes/ukps-all$/user/tdanko/Imaging/1_ECM/Live Culture/201910_biotinclumps_tnr_calciumimaging/Analysis from Silvio/final analysis files from silvio/final_spontaneousactivity_clumpsvctrl.CSV'"
   ]
  },
  {
   "cell_type": "code",
   "execution_count": 19,
   "metadata": {},
   "outputs": [],
   "source": [
    "df_stim=pd.read_csv(filename,sep=',',header=None)"
   ]
  },
  {
   "cell_type": "code",
   "execution_count": 28,
   "metadata": {},
   "outputs": [],
   "source": [
    "df_stim.columns=['Ctrl spont. frequency','Ctrl spont. amp','Clumps spont. frequency','Clumps spont. amp']"
   ]
  },
  {
   "cell_type": "markdown",
   "metadata": {},
   "source": [
    "## Make stim/ctrl into a categorical variable"
   ]
  },
  {
   "cell_type": "code",
   "execution_count": 29,
   "metadata": {},
   "outputs": [],
   "source": [
    "df_stimnew={\"Ctrl or clump\":[],\"Spont. freq\":[],\"Spont. amp\":[]}\n",
    "\n",
    "for i in range(0,(df_stim[\"Ctrl spont. frequency\"].size - np.isnan(df_stim[\"Ctrl spont. frequency\"]).sum()-1)):\n",
    "    df_stimnew[\"Ctrl or clump\"].append('Ctrl')\n",
    "    df_stimnew[\"Spont. freq\"].append(df_stim['Ctrl spont. frequency'][i])\n",
    "    df_stimnew[\"Spont. amp\"].append(df_stim['Ctrl spont. amp'][i])\n",
    "    \n",
    "for i in range(0,(df_stim[\"Clumps spont. frequency\"].size - np.isnan(df_stim[\"Clumps spont. frequency\"]).sum()-1)):\n",
    "    df_stimnew[\"Ctrl or clump\"].append('Clumps')\n",
    "    df_stimnew[\"Spont. freq\"].append(df_stim['Clumps spont. frequency'][i])\n",
    "    df_stimnew[\"Spont. amp\"].append(df_stim['Clumps spont. amp'][i])\n",
    "\n",
    "df_stimnew=pd.DataFrame(df_stimnew)"
   ]
  },
  {
   "cell_type": "markdown",
   "metadata": {},
   "source": [
    "## Bar plot: ctrl V clumps amp"
   ]
  },
  {
   "cell_type": "code",
   "execution_count": 22,
   "metadata": {},
   "outputs": [
    {
     "data": {
      "image/png": "[encoded data removed]",
      "text/plain": [
       "<Figure size 288x360 with 1 Axes>"
      ]
     },
     "metadata": {},
     "output_type": "display_data"
    }
   ],
   "source": [
    "##bar plot\n",
    "\n",
    "var=\"Spont. amp\"\n",
    "\n",
    "sns.set(font_scale=2.5)\n",
    "sns.set_style(\"ticks\")\n",
    "sns.set_palette(\"Set2\")\n",
    "from matplotlib import ticker\n",
    "\n",
    "colors={\"Clumps\":\"#2F67F8\",\"Ctrl\":\"#333333\"}\n",
    "\n",
    "fig=plt.figure(figsize=(4,5))\n",
    "\n",
    "g=sns.barplot(data=df_stimnew,y=var,x=\"Ctrl or clump\"\n",
    "            ,color=\"#abc2fc\",ci=None)\n",
    "\n",
    "g=sns.swarmplot(data=df_stimnew,y=var,x=\"Ctrl or clump\"\n",
    "            ,color=\"#2F67F8\",size=8)\n",
    "\n",
    "def change_width(ax, new_value) :\n",
    "    for patch in ax.patches :\n",
    "        current_width = patch.get_width()\n",
    "        diff = current_width - new_value\n",
    "        \n",
    "        # we change the bar width\n",
    "        patch.set_width(new_value)\n",
    "\n",
    "        # we recenter the bar\n",
    "        patch.set_x(patch.get_x() + diff * .5)\n",
    "change_width(g, .6)        \n",
    "plt.errorbar(x=[0,1],\n",
    "             y=[df_stimnew[df_stimnew[\"Ctrl or clump\"]==\"Ctrl\"][var].mean(),\n",
    "                df_stimnew[df_stimnew[\"Ctrl or clump\"]==\"Clumps\"][var].mean()],\n",
    "             yerr=[df_stimnew[df_stimnew[\"Ctrl or clump\"]==\"Ctrl\"][var].sem(),\n",
    "                df_stimnew[df_stimnew[\"Ctrl or clump\"]==\"Clumps\"][var].sem()],\n",
    "             xerr=None,\n",
    "             ecolor='black',fmt='none',capsize=10,linewidth=3,\n",
    "             capthick=3,zorder=10,\n",
    "            alpha=1)\n",
    "\n",
    "\n",
    "        \n",
    "\n",
    "plt.ylim([0,1.2])\n",
    "g.xaxis.set_tick_params(width=4)\n",
    "g.yaxis.set_tick_params(width=4)\n",
    "plt.rcParams['font.sans-serif'] = 'Helvetica'\n",
    "for axis in ['top','bottom','left','right']:\n",
    "  g.spines[axis].set_linewidth(4)\n",
    "  g.spines[axis].set_color('#333333')\n",
    "  g.spines[axis].set_alpha(1)\n",
    "offsets={\"left\":10,\"bottom\":0}\n",
    "trims={\"left\":True,\"bottom\":False,\"right\":False}\n",
    "sns.despine(ax=g,right=True,top=True,trim=trims,offset=offsets)\n",
    "g.set_ylabel('')\n",
    "g.set_xlabel('',color='#333333',alpha=.7)\n",
    "plt.xticks(g.get_xticks(),\n",
    "           size=24)\n",
    "plt.yticks(g.get_yticks(),size=24,color='#333333')\n",
    "g.grid(False)\n",
    "\n",
    "x1, x2 = 0,1\n",
    "y= 1.1\n",
    "h=0.01\n",
    "col='black'\n",
    "plt.plot([x1, x1, x2, x2], [y, y+h, y+h, y], lw=3.5, c=col)\n",
    "plt.text((x1+x2)*.5, y+h, \"***\", ha='center', va='bottom', color=col,size=24, weight='bold')\n",
    "\n",
    "diri=\"/Volumes/Macintosh HD/Users/taldankovich/Downloads/figures/\"\n",
    "fig.savefig(diri+'11_spontaneous_amp.svg', bbox_inches='tight', format='svg')"
   ]
  },
  {
   "cell_type": "code",
   "execution_count": 7,
   "metadata": {},
   "outputs": [
    {
     "data": {
      "image/png": "[encoded data removed]",
      "text/plain": [
       "<Figure size 432x288 with 1 Axes>"
      ]
     },
     "metadata": {},
     "output_type": "display_data"
    }
   ],
   "source": [
    "g=sns.boxplot(data=df_stimnew,y=var,x=\"Ctrl or clump\"\n",
    "            ,color=\"#abc2fc\")"
   ]
  },
  {
   "cell_type": "markdown",
   "metadata": {},
   "source": [
    "## Plot spont freq"
   ]
  },
  {
   "cell_type": "code",
   "execution_count": 30,
   "metadata": {},
   "outputs": [
    {
     "data": {
      "image/png": "[encoded data removed]",
      "text/plain": [
       "<Figure size 288x360 with 1 Axes>"
      ]
     },
     "metadata": {},
     "output_type": "display_data"
    }
   ],
   "source": [
    "##bar plot\n",
    "\n",
    "var=\"Spont. freq\"\n",
    "\n",
    "sns.set(font_scale=2.5)\n",
    "sns.set_style(\"ticks\")\n",
    "sns.set_palette(\"Set2\")\n",
    "from matplotlib import ticker\n",
    "\n",
    "colors={\"Clumps\":\"#2F67F8\",\"Ctrl\":\"#333333\"}\n",
    "\n",
    "fig=plt.figure(figsize=(4,5))\n",
    "\n",
    "g=sns.barplot(data=df_stimnew,y=var,x=\"Ctrl or clump\"\n",
    "            ,color=\"#abc2fc\",ci=None)\n",
    "\n",
    "def change_width(ax, new_value) :\n",
    "    for patch in ax.patches :\n",
    "        current_width = patch.get_width()\n",
    "        diff = current_width - new_value\n",
    "        \n",
    "        # we change the bar width\n",
    "        patch.set_width(new_value)\n",
    "\n",
    "        # we recenter the bar\n",
    "        patch.set_x(patch.get_x() + diff * .5)\n",
    "change_width(g, .6)        \n",
    "plt.errorbar(x=[0,1],\n",
    "             y=[df_stimnew[df_stimnew[\"Ctrl or clump\"]==\"Ctrl\"][var].mean(),\n",
    "                df_stimnew[df_stimnew[\"Ctrl or clump\"]==\"Clumps\"][var].mean()],\n",
    "             yerr=[df_stimnew[df_stimnew[\"Ctrl or clump\"]==\"Ctrl\"][var].sem(),\n",
    "                df_stimnew[df_stimnew[\"Ctrl or clump\"]==\"Clumps\"][var].sem()],\n",
    "             xerr=None,\n",
    "             ecolor='black',fmt='none',capsize=10,linewidth=3,\n",
    "             capthick=3,zorder=10,\n",
    "            alpha=1)\n",
    "\n",
    "\n",
    "        \n",
    "\n",
    "plt.ylim([0,3])\n",
    "g.xaxis.set_tick_params(width=4)\n",
    "g.yaxis.set_tick_params(width=4)\n",
    "plt.rcParams['font.sans-serif'] = 'Helvetica'\n",
    "for axis in ['top','bottom','left','right']:\n",
    "  g.spines[axis].set_linewidth(4)\n",
    "  g.spines[axis].set_color('#333333')\n",
    "  g.spines[axis].set_alpha(1)\n",
    "offsets={\"left\":10,\"bottom\":0}\n",
    "trims={\"left\":True,\"bottom\":False,\"right\":False}\n",
    "sns.despine(ax=g,right=True,top=True,trim=trims,offset=offsets)\n",
    "g.set_ylabel('')\n",
    "g.set_xlabel('',color='#333333',alpha=.7)\n",
    "plt.xticks(g.get_xticks(),\n",
    "           size=24)\n",
    "plt.yticks(g.get_yticks(),size=24,color='#333333')\n",
    "g.grid(False)\n",
    "\n",
    "x1, x2 = 0,1\n",
    "y= 2.9\n",
    "h=0.05\n",
    "col='black'\n",
    "plt.plot([x1, x1, x2, x2], [y, y+h, y+h, y], lw=3.5, c=col)\n",
    "plt.text((x1+x2)*.5, y+h, \"***\", ha='center', va='bottom', color=col,size=24, weight='bold')\n",
    "\n",
    "diri=\"/Volumes/Macintosh HD/Users/taldankovich/Downloads/figures/\"\n",
    "fig.savefig(diri+'11_spontaneous_freq.svg', bbox_inches='tight', format='svg')"
   ]
  },
  {
   "cell_type": "markdown",
   "metadata": {},
   "source": [
    "## ttests"
   ]
  },
  {
   "cell_type": "code",
   "execution_count": 27,
   "metadata": {},
   "outputs": [
    {
     "ename": "KeyError",
     "evalue": "'Spont. freq'",
     "output_type": "error",
     "traceback": [
      "\u001b[0;31m---------------------------------------------------------------------------\u001b[0m",
      "\u001b[0;31mKeyError\u001b[0m                                  Traceback (most recent call last)",
      "\u001b[0;32m<ipython-input-27-b443b0724bc3>\u001b[0m in \u001b[0;36m<module>\u001b[0;34m\u001b[0m\n\u001b[1;32m      3\u001b[0m \u001b[0;32mfor\u001b[0m \u001b[0mi\u001b[0m \u001b[0;32min\u001b[0m \u001b[0mrange\u001b[0m\u001b[0;34m(\u001b[0m\u001b[0;36m0\u001b[0m\u001b[0;34m,\u001b[0m\u001b[0;34m(\u001b[0m\u001b[0mdf_stim\u001b[0m\u001b[0;34m[\u001b[0m\u001b[0;34m\"Ctrl spont. frequency\"\u001b[0m\u001b[0;34m]\u001b[0m\u001b[0;34m.\u001b[0m\u001b[0msize\u001b[0m \u001b[0;34m-\u001b[0m \u001b[0mnp\u001b[0m\u001b[0;34m.\u001b[0m\u001b[0misnan\u001b[0m\u001b[0;34m(\u001b[0m\u001b[0mdf_stim\u001b[0m\u001b[0;34m[\u001b[0m\u001b[0;34m\"Ctrl spont. frequency\"\u001b[0m\u001b[0;34m]\u001b[0m\u001b[0;34m)\u001b[0m\u001b[0;34m.\u001b[0m\u001b[0msum\u001b[0m\u001b[0;34m(\u001b[0m\u001b[0;34m)\u001b[0m\u001b[0;34m-\u001b[0m\u001b[0;36m1\u001b[0m\u001b[0;34m)\u001b[0m\u001b[0;34m)\u001b[0m\u001b[0;34m:\u001b[0m\u001b[0;34m\u001b[0m\u001b[0;34m\u001b[0m\u001b[0m\n\u001b[1;32m      4\u001b[0m     \u001b[0mdf_stimnew\u001b[0m\u001b[0;34m[\u001b[0m\u001b[0;34m\"Ctrl or clump\"\u001b[0m\u001b[0;34m]\u001b[0m\u001b[0;34m.\u001b[0m\u001b[0mappend\u001b[0m\u001b[0;34m(\u001b[0m\u001b[0;34m'Ctrl'\u001b[0m\u001b[0;34m)\u001b[0m\u001b[0;34m\u001b[0m\u001b[0;34m\u001b[0m\u001b[0m\n\u001b[0;32m----> 5\u001b[0;31m     \u001b[0mdf_stimnew\u001b[0m\u001b[0;34m[\u001b[0m\u001b[0;34m\"Spont. freq\"\u001b[0m\u001b[0;34m]\u001b[0m\u001b[0;34m.\u001b[0m\u001b[0mappend\u001b[0m\u001b[0;34m(\u001b[0m\u001b[0mdf_stim\u001b[0m\u001b[0;34m[\u001b[0m\u001b[0;34m'Ctrl spont. frequency'\u001b[0m\u001b[0;34m]\u001b[0m\u001b[0;34m[\u001b[0m\u001b[0mi\u001b[0m\u001b[0;34m]\u001b[0m\u001b[0;34m)\u001b[0m\u001b[0;34m\u001b[0m\u001b[0;34m\u001b[0m\u001b[0m\n\u001b[0m\u001b[1;32m      6\u001b[0m     \u001b[0mdf_stimnew\u001b[0m\u001b[0;34m[\u001b[0m\u001b[0;34m\"Spont. amp\"\u001b[0m\u001b[0;34m]\u001b[0m\u001b[0;34m.\u001b[0m\u001b[0mappend\u001b[0m\u001b[0;34m(\u001b[0m\u001b[0mdf_stim\u001b[0m\u001b[0;34m[\u001b[0m\u001b[0;34m'Ctrl spont. amp'\u001b[0m\u001b[0;34m]\u001b[0m\u001b[0;34m[\u001b[0m\u001b[0mi\u001b[0m\u001b[0;34m]\u001b[0m\u001b[0;34m)\u001b[0m\u001b[0;34m\u001b[0m\u001b[0;34m\u001b[0m\u001b[0m\n\u001b[1;32m      7\u001b[0m \u001b[0;34m\u001b[0m\u001b[0m\n",
      "\u001b[0;31mKeyError\u001b[0m: 'Spont. freq'"
     ]
    }
   ],
   "source": [
    "df_stimnew={\"Ctrl or clump\":[],\"Mean int\":[],\"Int error\":[]}\n",
    "\n",
    "for i in range(0,(df_stim[\"Ctrl spont. frequency\"].size - np.isnan(df_stim[\"Ctrl spont. frequency\"]).sum()-1)):\n",
    "    df_stimnew[\"Ctrl or clump\"].append('Ctrl')\n",
    "    df_stimnew[\"Spont. freq\"].append(df_stim['Ctrl spont. frequency'][i])\n",
    "    df_stimnew[\"Spont. amp\"].append(df_stim['Ctrl spont. amp'][i])\n",
    "    \n",
    "for i in range(0,(df_stim[\"Clumps spont. frequency\"].size - np.isnan(df_stim[\"Clumps spont. frequency\"]).sum()-1)):\n",
    "    df_stimnew[\"Ctrl or clump\"].append('Clumps')\n",
    "    df_stimnew[\"Spont. freq\"].append(df_stim['Clumps spont. frequency'][i])\n",
    "    df_stimnew[\"Spont. amp\"].append(df_stim['Clumps spont. amp'][i])\n",
    "\n",
    "df_stimnew=pd.DataFrame(df_stimnew)"
   ]
  },
  {
   "cell_type": "code",
   "execution_count": 31,
   "metadata": {},
   "outputs": [
    {
     "name": "stdout",
     "output_type": "stream",
     "text": [
      "frequency: 8.56768489602095e-10\n",
      "amp: 2.4508258859247915e-06\n"
     ]
    }
   ],
   "source": [
    "dfclumps=df_stimnew[df_stimnew[\"Ctrl or clump\"]==\"Clumps\"]\n",
    "dfctrl=df_stimnew[df_stimnew[\"Ctrl or clump\"]==\"Ctrl\"]\n",
    "\n",
    "ctrl_freq=dfctrl[\"Spont. freq\"]\n",
    "ctrl_ampq=dfctrl[\"Spont. amp\"]\n",
    "\n",
    "clump_freq=dfclumps[\"Spont. freq\"]\n",
    "clump_ampq=dfclumps[\"Spont. amp\"]\n",
    "\n",
    "[stat, pfreq]=stats.ttest_ind(ctrl_freq,clump_freq)\n",
    "[stat, pamp]=stats.ttest_ind(ctrl_ampq,clump_ampq)\n",
    "\n",
    "print('frequency: '+str(pfreq))\n",
    "print('amp: '+str(pamp))"
   ]
  },
  {
   "cell_type": "markdown",
   "metadata": {},
   "source": [
    "## Check normality"
   ]
  },
  {
   "cell_type": "code",
   "execution_count": 24,
   "metadata": {},
   "outputs": [
    {
     "ename": "KeyError",
     "evalue": "'Spont. freq'",
     "output_type": "error",
     "traceback": [
      "\u001b[0;31m---------------------------------------------------------------------------\u001b[0m",
      "\u001b[0;31mKeyError\u001b[0m                                  Traceback (most recent call last)",
      "\u001b[0;32m<ipython-input-24-ed7bc086d253>\u001b[0m in \u001b[0;36m<module>\u001b[0;34m\u001b[0m\n\u001b[1;32m      1\u001b[0m \u001b[0mvariable\u001b[0m\u001b[0;34m=\u001b[0m\u001b[0;34m\"Spont. freq\"\u001b[0m \u001b[0;31m#change me\u001b[0m\u001b[0;34m\u001b[0m\u001b[0;34m\u001b[0m\u001b[0m\n\u001b[1;32m      2\u001b[0m \u001b[0;34m\u001b[0m\u001b[0m\n\u001b[0;32m----> 3\u001b[0;31m \u001b[0mx\u001b[0m\u001b[0;34m=\u001b[0m\u001b[0mdf_stimnew\u001b[0m\u001b[0;34m[\u001b[0m\u001b[0mvariable\u001b[0m\u001b[0;34m]\u001b[0m\u001b[0;34m.\u001b[0m\u001b[0mvalues\u001b[0m\u001b[0;34m\u001b[0m\u001b[0;34m\u001b[0m\u001b[0m\n\u001b[0m\u001b[1;32m      4\u001b[0m \u001b[0mnormdvar\u001b[0m\u001b[0;34m=\u001b[0m\u001b[0;34m(\u001b[0m\u001b[0mx\u001b[0m\u001b[0;34m-\u001b[0m\u001b[0mx\u001b[0m\u001b[0;34m.\u001b[0m\u001b[0mmean\u001b[0m\u001b[0;34m(\u001b[0m\u001b[0;34m)\u001b[0m\u001b[0;34m)\u001b[0m\u001b[0;34m/\u001b[0m\u001b[0mx\u001b[0m\u001b[0;34m.\u001b[0m\u001b[0mstd\u001b[0m\u001b[0;34m(\u001b[0m\u001b[0;34m)\u001b[0m\u001b[0;34m\u001b[0m\u001b[0;34m\u001b[0m\u001b[0m\n\u001b[1;32m      5\u001b[0m \u001b[0mprint\u001b[0m\u001b[0;34m(\u001b[0m\u001b[0mtype\u001b[0m\u001b[0;34m(\u001b[0m\u001b[0mnormdvar\u001b[0m\u001b[0;34m)\u001b[0m\u001b[0;34m)\u001b[0m\u001b[0;34m\u001b[0m\u001b[0;34m\u001b[0m\u001b[0m\n",
      "\u001b[0;31mKeyError\u001b[0m: 'Spont. freq'"
     ]
    }
   ],
   "source": [
    "variable=\"Spont. freq\" #change me\n",
    "\n",
    "x=df_stimnew[variable].values\n",
    "normdvar=(x-x.mean())/x.std()\n",
    "print(type(normdvar))\n",
    "\n",
    "import scipy.stats as ss\n",
    "[_,pval]=ss.kstest(normdvar,'norm')\n",
    "if pval<0.05:\n",
    "    print(\"The variable does not distribute normally\")\n",
    "else:\n",
    "    print(\"The variable distributes normally\")\n",
    "\n",
    "sns.set(font_scale=1)\n",
    "fig=plt.figure(figsize=(10,5))\n",
    "fig.add_subplot(121)\n",
    "sns.kdeplot(df_stimnew[variable],legend=False)\n",
    "plt.title('Distribution of all conditions')\n",
    "\n",
    "    "
   ]
  },
  {
   "cell_type": "code",
   "execution_count": null,
   "metadata": {},
   "outputs": [],
   "source": [
    "[stat, pval]=stats.normaltest(df_stimnew[variable].values, axis=0, nan_policy='propagate')\n",
    "if pval<0.05:\n",
    "    print('not normal :/')"
   ]
  },
  {
   "cell_type": "markdown",
   "metadata": {},
   "source": [
    "## Mann whitney"
   ]
  },
  {
   "cell_type": "code",
   "execution_count": 32,
   "metadata": {},
   "outputs": [
    {
     "name": "stdout",
     "output_type": "stream",
     "text": [
      "frequency: 2.7503209185588855e-08\n",
      "amp: 7.051011846072591e-15\n"
     ]
    }
   ],
   "source": [
    "dfclumps=df_stimnew[df_stimnew[\"Ctrl or clump\"]==\"Clumps\"]\n",
    "dfctrl=df_stimnew[df_stimnew[\"Ctrl or clump\"]==\"Ctrl\"]\n",
    "\n",
    "ctrl_freq=dfctrl[\"Spont. freq\"]\n",
    "ctrl_ampq=dfctrl[\"Spont. amp\"]\n",
    "\n",
    "clump_freq=dfclumps[\"Spont. freq\"]\n",
    "clump_ampq=dfclumps[\"Spont. amp\"]\n",
    "\n",
    "[stat, pfreq]=stats.mannwhitneyu(ctrl_freq,clump_freq)\n",
    "[stat, pamp]=stats.mannwhitneyu(ctrl_ampq,clump_ampq)\n",
    "\n",
    "print('frequency: '+str(pfreq))\n",
    "print('amp: '+str(pamp))"
   ]
  },
  {
   "cell_type": "code",
   "execution_count": 40,
   "metadata": {},
   "outputs": [
    {
     "data": {
      "text/plain": [
       "array([0.017516  , 0.20812   , 0.083692  , 0.26821   , 0.011893  ,\n",
       "       1.6082    , 0.        , 0.088252  , 0.2194    , 2.343     ,\n",
       "       0.4895    , 0.27942   , 0.13877   , 0.18768   , 0.        ,\n",
       "       0.        , 0.1345    , 0.26807   , 0.62429   , 0.        ,\n",
       "       0.25408   , 0.048578  , 0.03776   , 0.36896   , 0.20209   ,\n",
       "       1.0148    , 0.21449   , 0.26434   , 0.88778   , 0.58012   ,\n",
       "       0.1908    , 0.19719   , 0.26123   , 0.15192   , 0.58796   ,\n",
       "       0.73577   , 0.25456   , 1.6159    , 0.013423  , 0.37956   ,\n",
       "       2.4733    , 0.013247  , 0.12191   , 0.087929  , 0.17974   ,\n",
       "       0.        , 0.026056  , 0.16245   , 3.2668    , 0.17017001,\n",
       "       0.11522   , 0.42655   , 0.019251  , 3.2329    , 4.2209    ,\n",
       "       0.040782  , 0.06842   , 4.0456    , 0.037716  , 0.050426  ,\n",
       "       0.12161   , 0.013029  , 1.3432    , 4.2738    , 0.12801   ,\n",
       "       0.051929  , 3.4462    , 4.7358    , 4.9392    , 3.6559    ,\n",
       "       0.068968  , 4.9899    , 0.043797  , 0.017763  ])"
      ]
     },
     "execution_count": 40,
     "metadata": {},
     "output_type": "execute_result"
    }
   ],
   "source": [
    "clump_ampq.values"
   ]
  },
  {
   "cell_type": "markdown",
   "metadata": {},
   "source": [
    "## Read stimulation data"
   ]
  },
  {
   "cell_type": "code",
   "execution_count": 11,
   "metadata": {},
   "outputs": [],
   "source": [
    "filename=r'/Volumes/ukps-all$/user/tdanko/Imaging/1_ECM/Live Culture/201910_biotinclumps_tnr_calciumimaging/Analysis from Silvio/final analysis files from silvio/final_stim_clumpsvctrl.CSV'"
   ]
  },
  {
   "cell_type": "code",
   "execution_count": 12,
   "metadata": {},
   "outputs": [],
   "source": [
    "df_stim=pd.read_csv(filename,sep=',',header=None)"
   ]
  },
  {
   "cell_type": "code",
   "execution_count": 13,
   "metadata": {},
   "outputs": [
    {
     "ename": "ValueError",
     "evalue": "Length mismatch: Expected axis has 4 elements, new values have 5 elements",
     "output_type": "error",
     "traceback": [
      "\u001b[0;31m---------------------------------------------------------------------------\u001b[0m",
      "\u001b[0;31mValueError\u001b[0m                                Traceback (most recent call last)",
      "\u001b[0;32m<ipython-input-13-b2c09418da9e>\u001b[0m in \u001b[0;36m<module>\u001b[0;34m\u001b[0m\n\u001b[0;32m----> 1\u001b[0;31m \u001b[0mdf_stim\u001b[0m\u001b[0;34m.\u001b[0m\u001b[0mcolumns\u001b[0m\u001b[0;34m=\u001b[0m\u001b[0;34m[\u001b[0m\u001b[0;34m'time'\u001b[0m\u001b[0;34m,\u001b[0m\u001b[0;34m'Ctrl mean int'\u001b[0m\u001b[0;34m,\u001b[0m\u001b[0;34m'Ctrl error'\u001b[0m\u001b[0;34m,\u001b[0m\u001b[0;34m'Clumps mean int'\u001b[0m\u001b[0;34m,\u001b[0m\u001b[0;34m'Clumps error'\u001b[0m\u001b[0;34m]\u001b[0m\u001b[0;34m\u001b[0m\u001b[0;34m\u001b[0m\u001b[0m\n\u001b[0m",
      "\u001b[0;32m~/anaconda3/lib/python3.7/site-packages/pandas/core/generic.py\u001b[0m in \u001b[0;36m__setattr__\u001b[0;34m(self, name, value)\u001b[0m\n\u001b[1;32m   5078\u001b[0m         \u001b[0;32mtry\u001b[0m\u001b[0;34m:\u001b[0m\u001b[0;34m\u001b[0m\u001b[0;34m\u001b[0m\u001b[0m\n\u001b[1;32m   5079\u001b[0m             \u001b[0mobject\u001b[0m\u001b[0;34m.\u001b[0m\u001b[0m__getattribute__\u001b[0m\u001b[0;34m(\u001b[0m\u001b[0mself\u001b[0m\u001b[0;34m,\u001b[0m \u001b[0mname\u001b[0m\u001b[0;34m)\u001b[0m\u001b[0;34m\u001b[0m\u001b[0;34m\u001b[0m\u001b[0m\n\u001b[0;32m-> 5080\u001b[0;31m             \u001b[0;32mreturn\u001b[0m \u001b[0mobject\u001b[0m\u001b[0;34m.\u001b[0m\u001b[0m__setattr__\u001b[0m\u001b[0;34m(\u001b[0m\u001b[0mself\u001b[0m\u001b[0;34m,\u001b[0m \u001b[0mname\u001b[0m\u001b[0;34m,\u001b[0m \u001b[0mvalue\u001b[0m\u001b[0;34m)\u001b[0m\u001b[0;34m\u001b[0m\u001b[0;34m\u001b[0m\u001b[0m\n\u001b[0m\u001b[1;32m   5081\u001b[0m         \u001b[0;32mexcept\u001b[0m \u001b[0mAttributeError\u001b[0m\u001b[0;34m:\u001b[0m\u001b[0;34m\u001b[0m\u001b[0;34m\u001b[0m\u001b[0m\n\u001b[1;32m   5082\u001b[0m             \u001b[0;32mpass\u001b[0m\u001b[0;34m\u001b[0m\u001b[0;34m\u001b[0m\u001b[0m\n",
      "\u001b[0;32mpandas/_libs/properties.pyx\u001b[0m in \u001b[0;36mpandas._libs.properties.AxisProperty.__set__\u001b[0;34m()\u001b[0m\n",
      "\u001b[0;32m~/anaconda3/lib/python3.7/site-packages/pandas/core/generic.py\u001b[0m in \u001b[0;36m_set_axis\u001b[0;34m(self, axis, labels)\u001b[0m\n\u001b[1;32m    636\u001b[0m \u001b[0;34m\u001b[0m\u001b[0m\n\u001b[1;32m    637\u001b[0m     \u001b[0;32mdef\u001b[0m \u001b[0m_set_axis\u001b[0m\u001b[0;34m(\u001b[0m\u001b[0mself\u001b[0m\u001b[0;34m,\u001b[0m \u001b[0maxis\u001b[0m\u001b[0;34m,\u001b[0m \u001b[0mlabels\u001b[0m\u001b[0;34m)\u001b[0m\u001b[0;34m:\u001b[0m\u001b[0;34m\u001b[0m\u001b[0;34m\u001b[0m\u001b[0m\n\u001b[0;32m--> 638\u001b[0;31m         \u001b[0mself\u001b[0m\u001b[0;34m.\u001b[0m\u001b[0m_data\u001b[0m\u001b[0;34m.\u001b[0m\u001b[0mset_axis\u001b[0m\u001b[0;34m(\u001b[0m\u001b[0maxis\u001b[0m\u001b[0;34m,\u001b[0m \u001b[0mlabels\u001b[0m\u001b[0;34m)\u001b[0m\u001b[0;34m\u001b[0m\u001b[0;34m\u001b[0m\u001b[0m\n\u001b[0m\u001b[1;32m    639\u001b[0m         \u001b[0mself\u001b[0m\u001b[0;34m.\u001b[0m\u001b[0m_clear_item_cache\u001b[0m\u001b[0;34m(\u001b[0m\u001b[0;34m)\u001b[0m\u001b[0;34m\u001b[0m\u001b[0;34m\u001b[0m\u001b[0m\n\u001b[1;32m    640\u001b[0m \u001b[0;34m\u001b[0m\u001b[0m\n",
      "\u001b[0;32m~/anaconda3/lib/python3.7/site-packages/pandas/core/internals/managers.py\u001b[0m in \u001b[0;36mset_axis\u001b[0;34m(self, axis, new_labels)\u001b[0m\n\u001b[1;32m    153\u001b[0m             raise ValueError(\n\u001b[1;32m    154\u001b[0m                 \u001b[0;34m'Length mismatch: Expected axis has {old} elements, new '\u001b[0m\u001b[0;34m\u001b[0m\u001b[0;34m\u001b[0m\u001b[0m\n\u001b[0;32m--> 155\u001b[0;31m                 'values have {new} elements'.format(old=old_len, new=new_len))\n\u001b[0m\u001b[1;32m    156\u001b[0m \u001b[0;34m\u001b[0m\u001b[0m\n\u001b[1;32m    157\u001b[0m         \u001b[0mself\u001b[0m\u001b[0;34m.\u001b[0m\u001b[0maxes\u001b[0m\u001b[0;34m[\u001b[0m\u001b[0maxis\u001b[0m\u001b[0;34m]\u001b[0m \u001b[0;34m=\u001b[0m \u001b[0mnew_labels\u001b[0m\u001b[0;34m\u001b[0m\u001b[0;34m\u001b[0m\u001b[0m\n",
      "\u001b[0;31mValueError\u001b[0m: Length mismatch: Expected axis has 4 elements, new values have 5 elements"
     ]
    }
   ],
   "source": [
    "df_stim.columns=['time','Ctrl mean int','Ctrl error','Clumps mean int','Clumps error']"
   ]
  },
  {
   "cell_type": "code",
   "execution_count": 15,
   "metadata": {},
   "outputs": [
    {
     "data": {
      "image/png": "[encoded data removed]",
      "text/plain": [
       "<Figure size 432x360 with 1 Axes>"
      ]
     },
     "metadata": {},
     "output_type": "display_data"
    }
   ],
   "source": [
    "sns.set(font_scale=2.5)\n",
    "sns.set_style(\"ticks\")\n",
    "sns.set_palette(\"Set2\")\n",
    "from matplotlib import ticker\n",
    "\n",
    "fig=plt.figure(figsize=(6,5))\n",
    "g=fig.gca()\n",
    "plt.plot(df_stim['time'],df_stim['Ctrl mean int'],color=\"#333333\",linewidth=4)\n",
    "\n",
    "plt.plot(df_stim['time'],df_stim['Clumps mean int'],color=\"#2F67F8\",linewidth=4)\n",
    "plt.legend(['Ctrl','Aggregates'],fontsize=24)\n",
    "\n",
    "x=df_stim['time']\n",
    "y=df_stim['Ctrl mean int']\n",
    "yerr=df_stim['Ctrl error']\n",
    "#plt.errorbar(x,y,yerr,color=\"#333333\",linewidth=2,capsize=6,capthick=3)\n",
    "\n",
    "plt.fill_between(x, y-yerr, y+yerr,\n",
    "    alpha=0.5, edgecolor='#adadad', facecolor='#adadad')\n",
    "\n",
    "x=df_stim['time']\n",
    "y=df_stim['Clumps mean int']\n",
    "yerr=df_stim['Clumps error']\n",
    "#plt.errorbar(x,y,yerr,color=\"#2F67F8\",linewidth=2,capsize=6,capthick=3)\n",
    "\n",
    "plt.fill_between(x, y-yerr, y+yerr,\n",
    "    alpha=0.5, edgecolor='#2F67F8', facecolor='#2F67F8')\n",
    "\n",
    "plt.xlim(0,30)\n",
    "scale_x=1/1\n",
    "ticks_x = ticker.FuncFormatter(lambda x, pos: '{0:g}'.format(x/scale_x))\n",
    "g.yaxis.set_major_formatter(ticks_x)\n",
    "g.xaxis.set_tick_params(width=4)\n",
    "g.yaxis.set_tick_params(width=4)\n",
    "plt.rcParams['font.sans-serif'] = 'Helvetica'\n",
    "for axis in ['top','bottom','left','right']:\n",
    "  g.spines[axis].set_linewidth(4)\n",
    "  g.spines[axis].set_color('#333333')\n",
    "  g.spines[axis].set_alpha(1)\n",
    "offsets={\"left\":10,\"bottom\":0}\n",
    "trims={\"left\":True,\"bottom\":False,\"right\":False}\n",
    "sns.despine(ax=g,right=True,top=True,trim=trims,offset=offsets)\n",
    "g.set_ylabel('')\n",
    "g.set_xlabel('',color='#333333',alpha=.7)\n",
    "plt.xticks(g.get_xticks(),\n",
    "           size=24)\n",
    "plt.yticks(g.get_yticks(),size=24,color='#333333')\n",
    "g.grid(False)\n",
    "\n",
    "diri=\"/Volumes/Macintosh HD/Users/taldankovich/Downloads/figures/\"\n",
    "fig.savefig(diri+'supp11_stimulation.svg', bbox_inches='tight', format='svg')"
   ]
  },
  {
   "cell_type": "markdown",
   "metadata": {},
   "source": [
    "## Number cells"
   ]
  },
  {
   "cell_type": "code",
   "execution_count": 261,
   "metadata": {},
   "outputs": [
    {
     "data": {
      "text/plain": [
       "39"
      ]
     },
     "execution_count": 261,
     "metadata": {},
     "output_type": "execute_result"
    }
   ],
   "source": [
    "df_stim[\"Ctrl mean int\"].size - np.isnan(df_stim[\"Ctrl mean int\"]).sum()"
   ]
  },
  {
   "cell_type": "code",
   "execution_count": 262,
   "metadata": {},
   "outputs": [
    {
     "data": {
      "text/plain": [
       "39"
      ]
     },
     "execution_count": 262,
     "metadata": {},
     "output_type": "execute_result"
    }
   ],
   "source": [
    "df_stim[\"Clumps mean int\"].size - np.isnan(df_stim[\"Clumps mean int\"]).sum()"
   ]
  }
 ],
 "metadata": {
  "kernelspec": {
   "display_name": "Python 3",
   "language": "python",
   "name": "python3"
  },
  "language_info": {
   "codemirror_mode": {
    "name": "ipython",
    "version": 3
   },
   "file_extension": ".py",
   "mimetype": "text/x-python",
   "name": "python",
   "nbconvert_exporter": "python",
   "pygments_lexer": "ipython3",
   "version": "3.7.1"
  }
 },
 "nbformat": 4,
 "nbformat_minor": 2
}
