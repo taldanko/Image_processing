{
 "cells": [
  {
   "cell_type": "code",
   "execution_count": 1,
   "metadata": {},
   "outputs": [],
   "source": [
    "import numpy as np\n",
    "import os\n",
    "from nd2reader import ND2Reader\n",
    "import matplotlib.pyplot as plt\n",
    "import matplotlib.cm as cm\n",
    "from matplotlib_scalebar.scalebar import ScaleBar\n",
    "import scipy.ndimage as ndi\n",
    "from skimage.filters import rank \n",
    "from scipy.signal import butter, lfilter\n",
    "import scipy.misc as misc\n",
    "from skimage import exposure\n",
    "from PIL import Image\n",
    "import colorcet as cc\n",
    "from scipy.misc import toimage\n",
    "import matplotlib.colors as clr\n",
    "import pandas as pd\n",
    "import seaborn as sns\n",
    "from scipy import stats\n",
    "import cv2\n",
    "from pyspark import SparkContext, SparkConf\n",
    "import skimage\n",
    "from pathlib import Path\n",
    "%matplotlib inline\n",
    "def mean2(x):\n",
    "    y = np.sum(x) / np.size(x);\n",
    "    return y\n",
    "def corr2(a,b):\n",
    "    a = a - mean2(a)\n",
    "    b = b - mean2(b)\n",
    "\n",
    "    r = (a*b).sum() / np.sqrt((a*a).sum() * (b*b).sum());\n",
    "    return r\n",
    "from copy import deepcopy\n",
    "from skimage.filters import threshold_otsu,threshold_li\n",
    "import glob\n",
    "from IPython.display import clear_output\n",
    "import scipy.io as spio\n",
    "import pims"
   ]
  },
  {
   "cell_type": "code",
   "execution_count": 7,
   "metadata": {},
   "outputs": [],
   "source": [
    "expdir='/Volumes/ukps-all$/user/tdanko/Imaging/03_Collab/2020_Clara/All files/N2_HPN18DIV/'\n",
    "protein=\"TNR\" #TNR,Agg,WFA,HABP"
   ]
  },
  {
   "cell_type": "code",
   "execution_count": 15,
   "metadata": {},
   "outputs": [],
   "source": [
    "#make synapse results dictionary\n",
    "\n",
    "spots={\"filename\":[]}\n",
    "\n",
    "path = os.path.dirname(expdir)  \n",
    "outputFolder = os.path.dirname(expdir + \"/new/\")\n",
    "filelist = []\n",
    "for root, _, filenames in os.walk(path):\n",
    "     for filename in filenames:\n",
    "         filelist.append(os.path.join(root, filename))      \n",
    "for i in range(0,len(filelist)):\n",
    "    if filelist[i].endswith(\".txt\"): \n",
    "        #if (\"samecellonly\" in str(filelist[i]))==False:\n",
    "            if (\"output_classification\" in str(filelist[i]))==True:\n",
    "                #if (protein in str(filelist[i]))==True:\n",
    "                     if (\"backup\" in str(filelist[i]))==False:\n",
    "                        #if str(filelist[i][:-12]) not in str(spots[\"filename\"]):\n",
    "                            spots[\"filename\"].append(filelist[i])\n",
    "\n",
    "\n",
    "synapses_results={\n",
    "                \"sted spot aligned\":[],\n",
    "                \"vglut spot aligned\":[]}\n",
    "                  \n",
    "num=0\n",
    "for spot in range(0,len(spots[\"filename\"])):\n",
    "    num+=1\n",
    "    print(spots[\"filename\"][spot])\n",
    "    firstpart='/'.join(spots[\"filename\"][spot].split(\"/\")[:-1])\n",
    "    lastpart=spots[\"filename\"][spot].split(\"classification\")[-1]\n",
    "    \n",
    "    file2read=firstpart+'/output_sted_aligned_'+lastpart\n",
    "    synapses_results[\"sted spot aligned\"].append(file2read)\n",
    "    \n",
    "    file2read=firstpart+'/output_homer_aligned_'+lastpart\n",
    "    synapses_results[\"vglut spot aligned\"].append(file2read)\n",
    "    \n",
    "    \n",
    "clear_output() \n",
    "\n"
   ]
  },
  {
   "cell_type": "code",
   "execution_count": 16,
   "metadata": {},
   "outputs": [],
   "source": [
    "for spot in range(0,len(synapses_results[\"sted spot aligned\"])):\n",
    "    file2read=synapses_results[\"sted spot aligned\"][spot]\n",
    "    data=np.asarray(np.loadtxt(file2read,delimiter=','))\n",
    "    im = Image.fromarray(data)\n",
    "    im.save(file2read+'_sted_icy.tif')\n",
    "    \n",
    "    file2read=synapses_results[\"vglut spot aligned\"][spot]\n",
    "    data=np.asarray(np.loadtxt(file2read,delimiter=','))\n",
    "    im = Image.fromarray(data)\n",
    "    im.save(file2read+'_homer_icy.tif')"
   ]
  },
  {
   "cell_type": "code",
   "execution_count": null,
   "metadata": {},
   "outputs": [],
   "source": []
  }
 ],
 "metadata": {
  "kernelspec": {
   "display_name": "Python 3",
   "language": "python",
   "name": "python3"
  },
  "language_info": {
   "codemirror_mode": {
    "name": "ipython",
    "version": 3
   },
   "file_extension": ".py",
   "mimetype": "text/x-python",
   "name": "python",
   "nbconvert_exporter": "python",
   "pygments_lexer": "ipython3",
   "version": "3.7.1"
  }
 },
 "nbformat": 4,
 "nbformat_minor": 2
}
