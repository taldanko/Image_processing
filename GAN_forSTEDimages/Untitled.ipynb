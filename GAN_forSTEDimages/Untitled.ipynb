{
 "cells": [
  {
   "cell_type": "code",
   "execution_count": 4,
   "metadata": {},
   "outputs": [
    {
     "name": "stdout",
     "output_type": "stream",
     "text": [
      "Collecting git+https://github.com/carpedm20/DCGAN-tensorflow.git\n",
      "  Cloning https://github.com/carpedm20/DCGAN-tensorflow.git to /private/var/folders/18/5mlyygnn44v4q451hny_ds040000gn/T/pip-req-build-_2pdair2\n",
      "    Complete output from command python setup.py egg_info:\n",
      "    Traceback (most recent call last):\n",
      "      File \"<string>\", line 1, in <module>\n",
      "      File \"/anaconda3/lib/python3.6/tokenize.py\", line 452, in open\n",
      "        buffer = _builtin_open(filename, 'rb')\n",
      "    FileNotFoundError: [Errno 2] No such file or directory: '/private/var/folders/18/5mlyygnn44v4q451hny_ds040000gn/T/pip-req-build-_2pdair2/setup.py'\n",
      "    \n",
      "    ----------------------------------------\n",
      "\u001b[31mCommand \"python setup.py egg_info\" failed with error code 1 in /private/var/folders/18/5mlyygnn44v4q451hny_ds040000gn/T/pip-req-build-_2pdair2/\u001b[0m\n"
     ]
    }
   ],
   "source": [
    "!pip install git+https://github.com/carpedm20/DCGAN-tensorflow.git"
   ]
  },
  {
   "cell_type": "code",
   "execution_count": 5,
   "metadata": {},
   "outputs": [
    {
     "name": "stdout",
     "output_type": "stream",
     "text": [
      "python: can't open file 'download.py': [Errno 2] No such file or directory\r\n"
     ]
    }
   ],
   "source": [
    "!python download.py mnist celebA"
   ]
  },
  {
   "cell_type": "code",
   "execution_count": null,
   "metadata": {},
   "outputs": [],
   "source": [
    "!python main.py --dataset mnist --input_height=28 --output_height=28 --train\n",
    "!python main.py --dataset celebA --input_height=108 --train --crop"
   ]
  }
 ],
 "metadata": {
  "kernelspec": {
   "display_name": "Python 3",
   "language": "python",
   "name": "python3"
  },
  "language_info": {
   "codemirror_mode": {
    "name": "ipython",
    "version": 3
   },
   "file_extension": ".py",
   "mimetype": "text/x-python",
   "name": "python",
   "nbconvert_exporter": "python",
   "pygments_lexer": "ipython3",
   "version": "3.6.4"
  }
 },
 "nbformat": 4,
 "nbformat_minor": 2
}
