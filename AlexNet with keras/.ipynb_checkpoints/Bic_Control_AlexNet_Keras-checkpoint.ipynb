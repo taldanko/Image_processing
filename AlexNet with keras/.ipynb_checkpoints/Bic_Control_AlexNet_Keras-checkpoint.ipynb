{
 "cells": [
  {
   "cell_type": "markdown",
   "metadata": {},
   "source": [
    "### Import packages"
   ]
  },
  {
   "cell_type": "code",
   "execution_count": null,
   "metadata": {},
   "outputs": [],
   "source": [
    "import numpy as np\n",
    "import os\n",
    "from nd2reader import ND2Reader\n",
    "import matplotlib.pyplot as plt\n",
    "import matplotlib.cm as cm\n",
    "from matplotlib_scalebar.scalebar import ScaleBar\n",
    "import scipy.ndimage as ndi\n",
    "from skimage.filters import rank \n",
    "from scipy.signal import butter, lfilter\n",
    "import scipy.misc as misc\n",
    "from skimage import exposure\n",
    "from PIL import Image\n",
    "import colorcet as cc\n",
    "from scipy.misc import toimage\n",
    "import matplotlib.colors as clr\n",
    "import pandas as pd\n",
    "import seaborn as sns\n",
    "\n",
    "from pyspark import SparkContext, SparkConf\n",
    "\n",
    "\n",
    "%matplotlib inline\n",
    "\n",
    "def mean2(x):\n",
    "    y = np.sum(x) / np.size(x);\n",
    "    return y\n",
    "\n",
    "def corr2(a,b):\n",
    "    a = a - mean2(a)\n",
    "    b = b - mean2(b)\n",
    "\n",
    "    r = (a*b).sum() / np.sqrt((a*a).sum() * (b*b).sum());\n",
    "    return r"
   ]
  },
  {
   "cell_type": "markdown",
   "metadata": {},
   "source": [
    "### Run code below only for the first folder (i.e. creation of image and classification arrays)"
   ]
  },
  {
   "cell_type": "code",
   "execution_count": 2,
   "metadata": {},
   "outputs": [
    {
     "name": "stdout",
     "output_type": "stream",
     "text": [
      "Image no 3 out of 28\n",
      "Image no 4 out of 28\n",
      "Image no 5 out of 28\n",
      "Image no 6 out of 28\n",
      "Image no 7 out of 28\n",
      "Image no 8 out of 28\n",
      "Image no 9 out of 28\n",
      "Image no 10 out of 28\n",
      "Image no 11 out of 28\n",
      "Image no 12 out of 28\n",
      "Image no 13 out of 28\n",
      "Image no 14 out of 28\n",
      "Image no 15 out of 28\n",
      "Image no 16 out of 28\n",
      "Image no 17 out of 28\n",
      "Image no 18 out of 28\n",
      "Image no 19 out of 28\n",
      "Image no 20 out of 28\n",
      "Image no 21 out of 28\n",
      "Image no 22 out of 28\n",
      "Image no 23 out of 28\n",
      "Image no 24 out of 28\n",
      "Image no 25 out of 28\n",
      "Image no 26 out of 28\n",
      "Image no 27 out of 28\n",
      "Image no 28 out of 28\n",
      "Image no 3 out of 30\n",
      "Image no 4 out of 30\n",
      "Image no 5 out of 30\n",
      "Image no 6 out of 30\n",
      "Image no 7 out of 30\n",
      "Image no 8 out of 30\n",
      "Image no 9 out of 30\n",
      "Image no 10 out of 30\n",
      "Image no 11 out of 30\n",
      "Image no 12 out of 30\n",
      "Image no 13 out of 30\n",
      "Image no 14 out of 30\n",
      "Image no 15 out of 30\n",
      "Image no 16 out of 30\n",
      "Image no 17 out of 30\n",
      "Image no 18 out of 30\n",
      "Image no 19 out of 30\n",
      "Image no 20 out of 30\n",
      "Image no 21 out of 30\n",
      "Image no 22 out of 30\n",
      "Image no 23 out of 30\n",
      "Image no 24 out of 30\n",
      "Image no 25 out of 30\n",
      "Image no 26 out of 30\n",
      "Image no 27 out of 30\n",
      "Image no 28 out of 30\n",
      "Image no 29 out of 30\n",
      "Image no 30 out of 30\n",
      "Image no 3 out of 32\n",
      "Image no 4 out of 32\n",
      "Image no 5 out of 32\n",
      "Image no 6 out of 32\n",
      "Image no 7 out of 32\n",
      "Image no 8 out of 32\n",
      "Image no 9 out of 32\n",
      "Image no 10 out of 32\n",
      "Image no 11 out of 32\n",
      "Image no 12 out of 32\n",
      "Image no 13 out of 32\n",
      "Image no 14 out of 32\n",
      "Image no 15 out of 32\n",
      "Image no 16 out of 32\n",
      "Image no 17 out of 32\n",
      "Image no 18 out of 32\n",
      "Image no 19 out of 32\n",
      "Image no 20 out of 32\n",
      "Image no 21 out of 32\n",
      "Image no 22 out of 32\n",
      "Image no 23 out of 32\n",
      "Image no 24 out of 32\n",
      "Image no 25 out of 32\n",
      "Image no 26 out of 32\n",
      "Image no 27 out of 32\n",
      "Image no 28 out of 32\n",
      "Image no 29 out of 32\n",
      "Image no 30 out of 32\n",
      "Image no 31 out of 32\n",
      "Image no 32 out of 32\n",
      "Image no 3 out of 10\n",
      "Image no 4 out of 10\n",
      "Image no 5 out of 10\n",
      "Image no 6 out of 10\n",
      "Image no 7 out of 10\n",
      "Image no 8 out of 10\n",
      "Image no 9 out of 10\n",
      "Image no 10 out of 10\n",
      "Image no 3 out of 10\n",
      "Image no 4 out of 10\n",
      "Image no 5 out of 10\n",
      "Image no 6 out of 10\n",
      "Image no 7 out of 10\n",
      "Image no 8 out of 10\n",
      "Image no 9 out of 10\n",
      "Image no 10 out of 10\n",
      "Image no 3 out of 10\n",
      "Image no 4 out of 10\n",
      "Image no 5 out of 10\n",
      "Image no 6 out of 10\n",
      "Image no 7 out of 10\n",
      "Image no 8 out of 10\n",
      "Image no 9 out of 10\n",
      "Image no 10 out of 10\n",
      "Image no 3 out of 10\n",
      "Image no 4 out of 10\n",
      "Image no 5 out of 10\n",
      "Image no 6 out of 10\n",
      "Image no 7 out of 10\n",
      "Image no 8 out of 10\n",
      "Image no 9 out of 10\n",
      "Image no 10 out of 10\n",
      "Image no 3 out of 9\n",
      "Image no 4 out of 9\n",
      "Image no 5 out of 9\n",
      "Image no 6 out of 9\n",
      "Image no 7 out of 9\n",
      "Image no 8 out of 9\n",
      "Image no 9 out of 9\n",
      "Image no 3 out of 10\n",
      "Image no 4 out of 10\n",
      "Image no 5 out of 10\n",
      "Image no 6 out of 10\n",
      "Image no 7 out of 10\n",
      "Image no 8 out of 10\n",
      "Image no 9 out of 10\n",
      "Image no 10 out of 10\n"
     ]
    }
   ],
   "source": [
    "classification=np.array([])\n",
    "\n",
    "expdir='/Volumes/ukps-all$/user/tdanko/Imaging/1_ECM/Culture/20180511_Turnover_Bic_nb580first_635psecond/TNR/' #master folder\n",
    "\n",
    "early_channel_no=2 #channel number of early incubation colour\n",
    "late_channel_no=3 #channel number of late incubation colour\n",
    "\n",
    "#make a dictionary of all images in the experiment\n",
    "results = {\"filename\":[], \"exp_condition\":[]}\n",
    "filelist = []\n",
    "for root, _, filenames in os.walk(expdir):\n",
    "    for filename in filenames:\n",
    "        filelist.append(os.path.join(root, filename))\n",
    "    for i in range(0,len(filelist)):\n",
    "        if filelist[i].endswith(\".nd2\"):\n",
    "            results[\"filename\"].append(filelist[i])\n",
    "            results[\"exp_condition\"].append(filelist[i].split('/')[-2])\n",
    "for condition in np.unique(results[\"exp_condition\"]):\n",
    "    #make dictionary for files in this condition only\n",
    "    exp_condition_images = [results[\"filename\"][idx] for idx, x in enumerate(results[\"exp_condition\"]) if x == condition ]\n",
    "    exp_condition_images=np.unique(exp_condition_images)\n",
    "    no_images_cond=len(exp_condition_images)\n",
    "    a= ['1DayBic', '1Day_Bic', '1daybic','1DayBic','1dayBic','1day_bic','1day_Bic','1Day_bic','1day_bic']\n",
    "    b=['1Day_Untreated','1day_Untreated','1Day_DMSO','1day_DMSO']\n",
    "    if any(l in str(condition) for l in a):\n",
    "        #first bic image\n",
    "        with ND2Reader(results[\"filename\"][0]) as images:\n",
    "            #read the images\n",
    "            early_image=images[early_channel_no-1]\n",
    "            late_image=images[late_channel_no-1]\n",
    "            #convert to array\n",
    "            early_image=early_image.astype(np.int16)\n",
    "            late_image=late_image.astype(np.int16)\n",
    "            #split images into 4 equal parts\n",
    "            early_1=early_image[0:255,0:255]\n",
    "            late_1=late_image[0:255,0:255]\n",
    "            Image1=np.stack([early_1,late_1],axis=-1)\n",
    "            All_Images=Image1 #append to image array\n",
    "            classification=np.append(arr=classification,values=1) #append to classification array\n",
    "            early_2=early_image[0:255,0:255]\n",
    "            late_2=late_image[0:255,256:-1]\n",
    "            Image2=np.stack([early_2,late_2],axis=-1)\n",
    "            All_Images=np.append(All_Images,[Image2],axis=0)\n",
    "            classification=np.append(arr=classification,values=1) \n",
    "            early_3=early_image[256:-1,0:255]\n",
    "            late_3=late_image[256:-1,0:255]\n",
    "            Image3=np.stack([early_3,late_3],axis=-1)\n",
    "            All_Images=np.append(All_Images,[Image3],axis=0)\n",
    "            classification=np.append(arr=classification,values=1)\n",
    "            early_4=early_image[256:-1,256:-1]\n",
    "            late_4=late_image[256:-1,256:-1]\n",
    "            Image4=np.stack([early_4,late_4],axis=-1)\n",
    "            All_Images=np.append(All_Images,[Image4],axis=0)\n",
    "            classification=np.append(arr=classification,values=1)\n",
    "            \n",
    "        with ND2Reader(results[\"filename\"][1]) as images:\n",
    "            #read the images\n",
    "            early_image=images[early_channel_no-1]\n",
    "            late_image=images[late_channel_no-1]\n",
    "            new_image=np.stack([early_image,late_image],axis=-1)\n",
    "            '''#medfilt \n",
    "            early_image=ndi.filters.median_filter(early_image,size=(3,3))\n",
    "            late_image=ndi.filters.median_filter(late_image,size=(3,3))'''\n",
    "            #convert to array\n",
    "            early_image=early_image.astype(np.int16)\n",
    "            late_image=late_image.astype(np.int16)\n",
    "            Bic_images=np.stack([Bic_images,new_image],axis=0)\n",
    "            classification=np.append(arr=classification,values=1)\n",
    "        continue\n",
    "        \n",
    "    if any(l in str(condition) for l in b):\n",
    "        #first control image\n",
    "        with ND2Reader(results[\"filename\"][0]) as images:\n",
    "            #read the images\n",
    "            early_image=images[early_channel_no-1]\n",
    "            late_image=images[late_channel_no-1]\n",
    "            new_image=np.stack([early_image,late_image],axis=-1)\n",
    "            '''#medfilt \n",
    "            early_image=ndi.filters.median_filter(early_image,size=(3,3))\n",
    "            late_image=ndi.filters.median_filter(late_image,size=(3,3))'''\n",
    "            #convert to array\n",
    "            early_image=early_image.astype(np.int16)\n",
    "            late_image=late_image.astype(np.int16)\n",
    "            Control_images=np.stack([early_image,late_image],axis=-1)\n",
    "            classification=np.append(arr=classification,values=0)\n",
    "        with ND2Reader(results[\"filename\"][1]) as images:\n",
    "            #read the images\n",
    "            early_image=images[early_channel_no-1]\n",
    "            late_image=images[late_channel_no-1]\n",
    "            new_image=np.stack([early_image,late_image],axis=-1)\n",
    "            '''#medfilt \n",
    "            early_image=ndi.filters.median_filter(early_image,size=(3,3))\n",
    "            late_image=ndi.filters.median_filter(late_image,size=(3,3))'''\n",
    "            #convert to array\n",
    "            early_image=early_image.astype(np.int16)\n",
    "            late_image=late_image.astype(np.int16)\n",
    "            Control_images=np.stack([Control_images,new_image],axis=0)\n",
    "            classification=np.append(arr=classification,values=0)\n",
    "        continue\n",
    "\n",
    "for condition in np.unique(results[\"exp_condition\"]):\n",
    "    #make dictionary for files in this condition only\n",
    "    exp_condition_images = [results[\"filename\"][idx] for idx, x in enumerate(results[\"exp_condition\"]) if x == condition ]\n",
    "    exp_condition_images=np.unique(exp_condition_images)\n",
    "    no_images_cond=len(exp_condition_images)\n",
    "    a= ['1DayBic', '1Day_Bic', '1daybic','1DayBic','1dayBic','1day_bic','1day_Bic','1Day_bic','1day_bic']\n",
    "    b=['1Day_Untreated','1day_Untreated','1Day_DMSO','1day_DMSO']\n",
    "    for i in range(2,no_images_cond):\n",
    "        print(\"Image no \"+str(i+1)+\" out of \"+str(no_images_cond))\n",
    "        \n",
    "        if any(l in str(condition) for l in a):\n",
    "            with ND2Reader(results[\"filename\"][i]) as images:\n",
    "                #read the images\n",
    "                early_image=images[early_channel_no-1]\n",
    "                late_image=images[late_channel_no-1]\n",
    "                new_image=np.stack([early_image,late_image],axis=-1)\n",
    "                '''#medfilt \n",
    "                early_image=ndi.filters.median_filter(early_image,size=(3,3))\n",
    "                late_image=ndi.filters.median_filter(late_image,size=(3,3))'''\n",
    "                #convert to array\n",
    "                early_image=early_image.astype(np.int16)\n",
    "                late_image=late_image.astype(np.int16)\n",
    "                Bic_images=np.append(Bic_images,[new_image],axis=0)\n",
    "                classification=np.append(arr=classification,values=1)\n",
    "        \n",
    "        if any(l in str(condition) for l in b):\n",
    "            with ND2Reader(results[\"filename\"][i]) as images:\n",
    "                #read the images\n",
    "                early_image=images[early_channel_no-1]\n",
    "                late_image=images[late_channel_no-1]\n",
    "                new_image=np.stack([early_image,late_image],axis=-1)\n",
    "                '''#medfilt \n",
    "                early_image=ndi.filters.median_filter(early_image,size=(3,3))\n",
    "                late_image=ndi.filters.median_filter(late_image,size=(3,3))'''\n",
    "                #convert to array\n",
    "                early_image=early_image.astype(np.int16)\n",
    "                late_image=late_image.astype(np.int16)\n",
    "                Control_images=np.append(Control_images,[new_image],axis=0)\n",
    "                classification=np.append(arr=classification,values=0)"
   ]
  },
  {
   "cell_type": "code",
   "execution_count": 39,
   "metadata": {},
   "outputs": [
    {
     "data": {
      "text/plain": [
       "(162, 512, 512, 2)"
      ]
     },
     "execution_count": 39,
     "metadata": {},
     "output_type": "execute_result"
    }
   ],
   "source": [
    "Control_images.shape"
   ]
  },
  {
   "cell_type": "code",
   "execution_count": 34,
   "metadata": {},
   "outputs": [
    {
     "data": {
      "text/plain": [
       "<matplotlib.image.AxesImage at 0x1c212d5f60>"
      ]
     },
     "execution_count": 34,
     "metadata": {},
     "output_type": "execute_result"
    },
    {
     "data": {
      "image/png": "[encoded data removed]",
      "text/plain": [
       "<matplotlib.figure.Figure at 0x1c28b370b8>"
      ]
     },
     "metadata": {},
     "output_type": "display_data"
    }
   ],
   "source": [
    "plt.imshow(Control_images[116,:,:,0])"
   ]
  },
  {
   "cell_type": "markdown",
   "metadata": {},
   "source": [
    "### Run below for sequential folders"
   ]
  },
  {
   "cell_type": "code",
   "execution_count": 36,
   "metadata": {},
   "outputs": [],
   "source": [
    "expdir='/Volumes/ukps-all$/user/tdanko/Imaging/1_ECM/Culture/20180214_Turnover_Bic_TNR_nb580first_nb653psecond/' #master folder\n",
    "\n",
    "early_channel_no=2 #channel number of early incubation colour\n",
    "late_channel_no=1 #channel number of late incubation colour\n",
    "\n",
    "#make a dictionary of all images in the experiment\n",
    "results = {\"filename\":[], \"exp_condition\":[]}\n",
    "filelist = []\n",
    "for root, _, filenames in os.walk(expdir):\n",
    "    for filename in filenames:\n",
    "        filelist.append(os.path.join(root, filename))\n",
    "    for i in range(0,len(filelist)):\n",
    "        if filelist[i].endswith(\".nd2\"):\n",
    "            results[\"filename\"].append(filelist[i])\n",
    "            results[\"exp_condition\"].append(filelist[i].split('/')[-2])"
   ]
  },
  {
   "cell_type": "code",
   "execution_count": 37,
   "metadata": {},
   "outputs": [
    {
     "name": "stdout",
     "output_type": "stream",
     "text": [
      "Image no 1 out of 14\n",
      "Image no 2 out of 14\n",
      "Image no 3 out of 14\n",
      "Image no 4 out of 14\n",
      "Image no 5 out of 14\n",
      "Image no 6 out of 14\n",
      "Image no 7 out of 14\n",
      "Image no 8 out of 14\n",
      "Image no 9 out of 14\n",
      "Image no 10 out of 14\n",
      "Image no 11 out of 14\n",
      "Image no 12 out of 14\n",
      "Image no 13 out of 14\n",
      "Image no 14 out of 14\n",
      "Image no 1 out of 15\n",
      "Image no 2 out of 15\n",
      "Image no 3 out of 15\n",
      "Image no 4 out of 15\n",
      "Image no 5 out of 15\n",
      "Image no 6 out of 15\n",
      "Image no 7 out of 15\n",
      "Image no 8 out of 15\n",
      "Image no 9 out of 15\n",
      "Image no 10 out of 15\n",
      "Image no 11 out of 15\n",
      "Image no 12 out of 15\n",
      "Image no 13 out of 15\n",
      "Image no 14 out of 15\n",
      "Image no 15 out of 15\n",
      "Image no 1 out of 15\n",
      "Image no 2 out of 15\n",
      "Image no 3 out of 15\n",
      "Image no 4 out of 15\n",
      "Image no 5 out of 15\n",
      "Image no 6 out of 15\n",
      "Image no 7 out of 15\n",
      "Image no 8 out of 15\n",
      "Image no 9 out of 15\n",
      "Image no 10 out of 15\n",
      "Image no 11 out of 15\n",
      "Image no 12 out of 15\n",
      "Image no 13 out of 15\n",
      "Image no 14 out of 15\n",
      "Image no 15 out of 15\n",
      "Image no 1 out of 16\n",
      "Image no 2 out of 16\n",
      "Image no 3 out of 16\n",
      "Image no 4 out of 16\n",
      "Image no 5 out of 16\n",
      "Image no 6 out of 16\n",
      "Image no 7 out of 16\n",
      "Image no 8 out of 16\n",
      "Image no 9 out of 16\n",
      "Image no 10 out of 16\n",
      "Image no 11 out of 16\n",
      "Image no 12 out of 16\n",
      "Image no 13 out of 16\n",
      "Image no 14 out of 16\n",
      "Image no 15 out of 16\n",
      "Image no 16 out of 16\n",
      "Image no 1 out of 10\n",
      "Image no 2 out of 10\n",
      "Image no 3 out of 10\n",
      "Image no 4 out of 10\n",
      "Image no 5 out of 10\n",
      "Image no 6 out of 10\n",
      "Image no 7 out of 10\n",
      "Image no 8 out of 10\n",
      "Image no 9 out of 10\n",
      "Image no 10 out of 10\n",
      "Image no 1 out of 9\n",
      "Image no 2 out of 9\n",
      "Image no 3 out of 9\n",
      "Image no 4 out of 9\n",
      "Image no 5 out of 9\n",
      "Image no 6 out of 9\n",
      "Image no 7 out of 9\n",
      "Image no 8 out of 9\n",
      "Image no 9 out of 9\n",
      "Image no 1 out of 9\n",
      "Image no 2 out of 9\n",
      "Image no 3 out of 9\n",
      "Image no 4 out of 9\n",
      "Image no 5 out of 9\n",
      "Image no 6 out of 9\n",
      "Image no 7 out of 9\n",
      "Image no 8 out of 9\n",
      "Image no 9 out of 9\n",
      "Image no 1 out of 10\n",
      "Image no 2 out of 10\n",
      "Image no 3 out of 10\n",
      "Image no 4 out of 10\n",
      "Image no 5 out of 10\n",
      "Image no 6 out of 10\n",
      "Image no 7 out of 10\n",
      "Image no 8 out of 10\n",
      "Image no 9 out of 10\n",
      "Image no 10 out of 10\n",
      "Image no 1 out of 10\n",
      "Image no 2 out of 10\n",
      "Image no 3 out of 10\n",
      "Image no 4 out of 10\n",
      "Image no 5 out of 10\n",
      "Image no 6 out of 10\n",
      "Image no 7 out of 10\n",
      "Image no 8 out of 10\n",
      "Image no 9 out of 10\n",
      "Image no 10 out of 10\n",
      "Image no 1 out of 4\n",
      "Image no 2 out of 4\n",
      "Image no 3 out of 4\n",
      "Image no 4 out of 4\n",
      "Image no 1 out of 5\n",
      "Image no 2 out of 5\n",
      "Image no 3 out of 5\n",
      "Image no 4 out of 5\n",
      "Image no 5 out of 5\n",
      "Image no 1 out of 10\n",
      "Image no 2 out of 10\n",
      "Image no 3 out of 10\n",
      "Image no 4 out of 10\n",
      "Image no 5 out of 10\n",
      "Image no 6 out of 10\n",
      "Image no 7 out of 10\n",
      "Image no 8 out of 10\n",
      "Image no 9 out of 10\n",
      "Image no 10 out of 10\n"
     ]
    }
   ],
   "source": [
    "for condition in np.unique(results[\"exp_condition\"]):\n",
    "    #make dictionary for files in this condition only\n",
    "    exp_condition_images = [results[\"filename\"][idx] for idx, x in enumerate(results[\"exp_condition\"]) if x == condition ]\n",
    "    exp_condition_images=np.unique(exp_condition_images)\n",
    "    no_images_cond=len(exp_condition_images)\n",
    "    a= ['1DayBic', '1Day_Bic', '1daybic','1DayBic','1dayBic','1day_bic','1day_Bic','1Day_bic','1day_bic']\n",
    "    b=['1Day_Untreated','1day_Untreated','1Day_DMSO','1day_DMSO']\n",
    "    for i in range(0,no_images_cond):\n",
    "        print(\"Image no \"+str(i+1)+\" out of \"+str(no_images_cond))\n",
    "        \n",
    "        if any(l in str(condition) for l in a):\n",
    "            with ND2Reader(results[\"filename\"][i]) as images:\n",
    "                #read the images\n",
    "                early_image=images[early_channel_no-1]\n",
    "                late_image=images[late_channel_no-1]\n",
    "                new_image=np.stack([early_image,late_image],axis=-1)\n",
    "                '''#medfilt \n",
    "                early_image=ndi.filters.median_filter(early_image,size=(3,3))\n",
    "                late_image=ndi.filters.median_filter(late_image,size=(3,3))'''\n",
    "                #convert to array\n",
    "                early_image=early_image.astype(np.int16)\n",
    "                late_image=late_image.astype(np.int16)\n",
    "                Bic_images=np.append(Bic_images,[new_image],axis=0)\n",
    "                classification=np.append(arr=classification,values=1)\n",
    "        \n",
    "        if any(l in str(condition) for l in b):\n",
    "            with ND2Reader(results[\"filename\"][i]) as images:\n",
    "                #read the images\n",
    "                early_image=images[early_channel_no-1]\n",
    "                late_image=images[late_channel_no-1]\n",
    "                new_image=np.stack([early_image,late_image],axis=-1)\n",
    "                '''#medfilt \n",
    "                early_image=ndi.filters.median_filter(early_image,size=(3,3))\n",
    "                late_image=ndi.filters.median_filter(late_image,size=(3,3))'''\n",
    "                #convert to array\n",
    "                early_image=early_image.astype(np.int16)\n",
    "                late_image=late_image.astype(np.int16)\n",
    "                Control_images=np.append(Control_images,[new_image],axis=0)\n",
    "                classification=np.append(arr=classification,values=0)\n",
    "            \n",
    "\n"
   ]
  },
  {
   "cell_type": "code",
   "execution_count": 40,
   "metadata": {},
   "outputs": [],
   "source": [
    "# Save numpy file\n",
    "np.save('classification.npy', classification)\n",
    "np.save('Bic_images.npy',Bic_images)\n",
    "np.save('Control_images.npy',Control_images)"
   ]
  },
  {
   "cell_type": "code",
   "execution_count": 41,
   "metadata": {},
   "outputs": [
    {
     "name": "stdout",
     "output_type": "stream",
     "text": [
      "Bic images shape (127, 512, 512, 2)\n",
      "Ctrl images shape (162, 512, 512, 2)\n",
      "Classifications array shape (289,)\n"
     ]
    }
   ],
   "source": [
    "#Print dimensions\n",
    "print('Bic images shape '+str(Bic_images.shape))\n",
    "print('Ctrl images shape '+str(Control_images.shape))\n",
    "print('Classifications array shape '+str(classification.shape))"
   ]
  },
  {
   "cell_type": "markdown",
   "metadata": {},
   "source": [
    "## AlexNet with keras"
   ]
  },
  {
   "cell_type": "code",
   "execution_count": 42,
   "metadata": {},
   "outputs": [
    {
     "name": "stderr",
     "output_type": "stream",
     "text": [
      "/anaconda3/lib/python3.6/site-packages/h5py/__init__.py:36: FutureWarning: Conversion of the second argument of issubdtype from `float` to `np.floating` is deprecated. In future, it will be treated as `np.float64 == np.dtype(float).type`.\n",
      "  from ._conv import register_converters as _register_converters\n",
      "Using TensorFlow backend.\n"
     ]
    }
   ],
   "source": [
    "# (1) Importing dependency\n",
    "import keras\n",
    "from keras.models import Sequential\n",
    "from keras.layers import Dense, Activation, Dropout, Flatten,\\\n",
    " Conv2D, MaxPooling2D\n",
    "from keras.layers.normalization import BatchNormalization\n",
    "import numpy as np\n",
    "np.random.seed(1000)"
   ]
  },
  {
   "cell_type": "code",
   "execution_count": 43,
   "metadata": {},
   "outputs": [],
   "source": [
    "# (2) Get Data\n",
    "import tflearn.datasets.oxflower17 as oxflower17\n",
    "x, y = oxflower17.load_data(one_hot=True)\n"
   ]
  },
  {
   "cell_type": "code",
   "execution_count": 51,
   "metadata": {},
   "outputs": [
    {
     "data": {
      "text/plain": [
       "(162, 512, 512, 2)"
      ]
     },
     "execution_count": 51,
     "metadata": {},
     "output_type": "execute_result"
    }
   ],
   "source": [
    "Control_images.shape"
   ]
  },
  {
   "cell_type": "code",
   "execution_count": 68,
   "metadata": {},
   "outputs": [
    {
     "data": {
      "text/plain": [
       "array([0., 1.])"
      ]
     },
     "execution_count": 68,
     "metadata": {},
     "output_type": "execute_result"
    }
   ],
   "source": [
    "bic_ones=np.ones(127)\n",
    "bic_zeros=np.zeros(127)\n",
    "bicclass=np.stack([bic_ones,bic_zeros],axis=1)\n",
    "control_ones=np.ones(162)\n",
    "control_zeros=np.zeros(162)\n",
    "bicclass=np.stack([bic_ones,bic_zeros],axis=1)\n",
    "controlclass=np.stack([control_zeros,control_ones],axis=1)\n",
    "\n",
    "y=np.concatenate([bicclass,controlclass])\n",
    "y[180,:]\n",
    "#bicclass.shape"
   ]
  },
  {
   "cell_type": "code",
   "execution_count": 53,
   "metadata": {},
   "outputs": [
    {
     "data": {
      "text/plain": [
       "array([1., 1., 1., 1., 1., 1., 1., 1., 1., 1., 1., 1., 1., 1., 1., 1., 1.,\n",
       "       1., 1., 1., 1., 1., 1., 1., 1., 1., 1., 1., 1., 1., 1., 1., 1., 1.,\n",
       "       1., 1., 1., 1., 1., 1., 1., 1., 1., 1., 1., 1., 1., 1., 1., 1., 1.,\n",
       "       1., 1., 1., 1., 1., 1., 1., 1., 1., 1., 1., 1., 1., 1., 1., 1., 1.,\n",
       "       1., 1., 1., 1., 1., 1., 1., 1., 1., 1., 1., 1., 1., 1., 1., 1., 1.,\n",
       "       1., 1., 1., 1., 1., 1., 1., 1., 1., 1., 1., 1., 1., 1., 1., 1., 1.,\n",
       "       1., 1., 1., 1., 1., 1., 1., 1., 1., 1., 1., 1., 1., 1., 1., 1., 1.,\n",
       "       1., 1., 1., 1., 1., 1., 1., 1., 0., 0., 0., 0., 0., 0., 0., 0., 0.,\n",
       "       0., 0., 0., 0., 0., 0., 0., 0., 0., 0., 0., 0., 0., 0., 0., 0., 0.,\n",
       "       0., 0., 0., 0., 0., 0., 0., 0., 0., 0., 0., 0., 0., 0., 0., 0., 0.,\n",
       "       0., 0., 0., 0., 0., 0., 0., 0., 0., 0., 0., 0., 0., 0., 0., 0., 0.,\n",
       "       0., 0., 0., 0., 0., 0., 0., 0., 0., 0., 0., 0., 0., 0., 0., 0., 0.,\n",
       "       0., 0., 0., 0., 0., 0., 0., 0., 0., 0., 0., 0., 0., 0., 0., 0., 0.,\n",
       "       0., 0., 0., 0., 0., 0., 0., 0., 0., 0., 0., 0., 0., 0., 0., 0., 0.,\n",
       "       0., 0., 0., 0., 0., 0., 0., 0., 0., 0., 0., 0., 0., 0., 0., 0., 0.,\n",
       "       0., 0., 0., 0., 0., 0., 0., 0., 0., 0., 0., 0., 0., 0., 0., 0., 0.,\n",
       "       0., 0., 0., 0., 0., 0., 0., 0., 0., 0., 0., 0., 0., 0., 0., 0., 0.])"
      ]
     },
     "execution_count": 53,
     "metadata": {},
     "output_type": "execute_result"
    }
   ],
   "source": [
    "y"
   ]
  },
  {
   "cell_type": "code",
   "execution_count": 49,
   "metadata": {},
   "outputs": [
    {
     "data": {
      "text/plain": [
       "(289, 512, 512, 2)"
      ]
     },
     "execution_count": 49,
     "metadata": {},
     "output_type": "execute_result"
    }
   ],
   "source": [
    "x=np.concatenate([Bic_images,Control_images],axis=0)\n",
    "x.shape"
   ]
  },
  {
   "cell_type": "code",
   "execution_count": 69,
   "metadata": {},
   "outputs": [
    {
     "name": "stdout",
     "output_type": "stream",
     "text": [
      "_________________________________________________________________\n",
      "Layer (type)                 Output Shape              Param #   \n",
      "=================================================================\n",
      "conv2d_11 (Conv2D)           (None, 126, 126, 96)      23328     \n",
      "_________________________________________________________________\n",
      "activation_19 (Activation)   (None, 126, 126, 96)      0         \n",
      "_________________________________________________________________\n",
      "max_pooling2d_7 (MaxPooling2 (None, 63, 63, 96)        0         \n",
      "_________________________________________________________________\n",
      "batch_normalization_17 (Batc (None, 63, 63, 96)        384       \n",
      "_________________________________________________________________\n",
      "conv2d_12 (Conv2D)           (None, 53, 53, 256)       2973952   \n",
      "_________________________________________________________________\n",
      "activation_20 (Activation)   (None, 53, 53, 256)       0         \n",
      "_________________________________________________________________\n",
      "max_pooling2d_8 (MaxPooling2 (None, 26, 26, 256)       0         \n",
      "_________________________________________________________________\n",
      "batch_normalization_18 (Batc (None, 26, 26, 256)       1024      \n",
      "_________________________________________________________________\n",
      "conv2d_13 (Conv2D)           (None, 24, 24, 384)       885120    \n",
      "_________________________________________________________________\n",
      "activation_21 (Activation)   (None, 24, 24, 384)       0         \n",
      "_________________________________________________________________\n",
      "batch_normalization_19 (Batc (None, 24, 24, 384)       1536      \n",
      "_________________________________________________________________\n",
      "conv2d_14 (Conv2D)           (None, 22, 22, 384)       1327488   \n",
      "_________________________________________________________________\n",
      "activation_22 (Activation)   (None, 22, 22, 384)       0         \n",
      "_________________________________________________________________\n",
      "batch_normalization_20 (Batc (None, 22, 22, 384)       1536      \n",
      "_________________________________________________________________\n",
      "conv2d_15 (Conv2D)           (None, 20, 20, 256)       884992    \n",
      "_________________________________________________________________\n",
      "activation_23 (Activation)   (None, 20, 20, 256)       0         \n",
      "_________________________________________________________________\n",
      "max_pooling2d_9 (MaxPooling2 (None, 10, 10, 256)       0         \n",
      "_________________________________________________________________\n",
      "batch_normalization_21 (Batc (None, 10, 10, 256)       1024      \n",
      "_________________________________________________________________\n",
      "flatten_3 (Flatten)          (None, 25600)             0         \n",
      "_________________________________________________________________\n",
      "dense_9 (Dense)              (None, 4096)              104861696 \n",
      "_________________________________________________________________\n",
      "activation_24 (Activation)   (None, 4096)              0         \n",
      "_________________________________________________________________\n",
      "dropout_7 (Dropout)          (None, 4096)              0         \n",
      "_________________________________________________________________\n",
      "batch_normalization_22 (Batc (None, 4096)              16384     \n",
      "_________________________________________________________________\n",
      "dense_10 (Dense)             (None, 4096)              16781312  \n",
      "_________________________________________________________________\n",
      "activation_25 (Activation)   (None, 4096)              0         \n",
      "_________________________________________________________________\n",
      "dropout_8 (Dropout)          (None, 4096)              0         \n",
      "_________________________________________________________________\n",
      "batch_normalization_23 (Batc (None, 4096)              16384     \n",
      "_________________________________________________________________\n",
      "dense_11 (Dense)             (None, 1000)              4097000   \n",
      "_________________________________________________________________\n",
      "activation_26 (Activation)   (None, 1000)              0         \n",
      "_________________________________________________________________\n",
      "dropout_9 (Dropout)          (None, 1000)              0         \n",
      "_________________________________________________________________\n",
      "batch_normalization_24 (Batc (None, 1000)              4000      \n",
      "_________________________________________________________________\n",
      "dense_12 (Dense)             (None, 2)                 2002      \n",
      "_________________________________________________________________\n",
      "activation_27 (Activation)   (None, 2)                 0         \n",
      "=================================================================\n",
      "Total params: 131,879,162\n",
      "Trainable params: 131,858,026\n",
      "Non-trainable params: 21,136\n",
      "_________________________________________________________________\n"
     ]
    }
   ],
   "source": [
    "# (3) Create a sequential model\n",
    "model = Sequential()\n",
    "\n",
    "# 1st Convolutional Layer\n",
    "model.add(Conv2D(filters=96, input_shape=(512,512,2), kernel_size=(11,11),\\\n",
    " strides=(4,4), padding='valid'))\n",
    "model.add(Activation('relu'))\n",
    "# Pooling \n",
    "model.add(MaxPooling2D(pool_size=(2,2), strides=(2,2), padding='valid'))\n",
    "# Batch Normalisation before passing it to the next layer\n",
    "model.add(BatchNormalization())\n",
    "\n",
    "# 2nd Convolutional Layer\n",
    "model.add(Conv2D(filters=256, kernel_size=(11,11), strides=(1,1), padding='valid'))\n",
    "model.add(Activation('relu'))\n",
    "# Pooling\n",
    "model.add(MaxPooling2D(pool_size=(2,2), strides=(2,2), padding='valid'))\n",
    "# Batch Normalisation\n",
    "model.add(BatchNormalization())\n",
    "\n",
    "# 3rd Convolutional Layer\n",
    "model.add(Conv2D(filters=384, kernel_size=(3,3), strides=(1,1), padding='valid'))\n",
    "model.add(Activation('relu'))\n",
    "# Batch Normalisation\n",
    "model.add(BatchNormalization())\n",
    "\n",
    "# 4th Convolutional Layer\n",
    "model.add(Conv2D(filters=384, kernel_size=(3,3), strides=(1,1), padding='valid'))\n",
    "model.add(Activation('relu'))\n",
    "# Batch Normalisation\n",
    "model.add(BatchNormalization())\n",
    "\n",
    "# 5th Convolutional Layer\n",
    "model.add(Conv2D(filters=256, kernel_size=(3,3), strides=(1,1), padding='valid'))\n",
    "model.add(Activation('relu'))\n",
    "# Pooling\n",
    "model.add(MaxPooling2D(pool_size=(2,2), strides=(2,2), padding='valid'))\n",
    "# Batch Normalisation\n",
    "model.add(BatchNormalization())\n",
    "\n",
    "# Passing it to a dense layer\n",
    "model.add(Flatten())\n",
    "# 1st Dense Layer\n",
    "model.add(Dense(4096, input_shape=(224*224*3,)))\n",
    "model.add(Activation('relu'))\n",
    "# Add Dropout to prevent overfitting\n",
    "model.add(Dropout(0.4))\n",
    "# Batch Normalisation\n",
    "model.add(BatchNormalization())\n",
    "\n",
    "# 2nd Dense Layer\n",
    "model.add(Dense(4096))\n",
    "model.add(Activation('relu'))\n",
    "# Add Dropout\n",
    "model.add(Dropout(0.4))\n",
    "# Batch Normalisation\n",
    "model.add(BatchNormalization())\n",
    "\n",
    "# 3rd Dense Layer\n",
    "model.add(Dense(1000))\n",
    "model.add(Activation('relu'))\n",
    "# Add Dropout\n",
    "model.add(Dropout(0.4))\n",
    "# Batch Normalisation\n",
    "model.add(BatchNormalization())\n",
    "\n",
    "# Output Layer\n",
    "model.add(Dense(2))\n",
    "model.add(Activation('softmax'))\n",
    "\n",
    "model.summary()\n"
   ]
  },
  {
   "cell_type": "code",
   "execution_count": null,
   "metadata": {},
   "outputs": [],
   "source": [
    "x.shape"
   ]
  },
  {
   "cell_type": "code",
   "execution_count": 79,
   "metadata": {},
   "outputs": [],
   "source": [
    "# (4) Compile \n",
    "model.compile(loss='categorical_crossentropy', optimizer='adam',\\\n",
    " metrics=['accuracy'])"
   ]
  },
  {
   "cell_type": "code",
   "execution_count": 84,
   "metadata": {},
   "outputs": [
    {
     "name": "stdout",
     "output_type": "stream",
     "text": [
      "Train on 231 samples, validate on 58 samples\n",
      "Epoch 1/30\n",
      "231/231 [==============================] - 312s 1s/step - loss: 0.6778 - acc: 0.6190 - val_loss: 2.3918 - val_acc: 0.0690\n",
      "Epoch 2/30\n",
      "231/231 [==============================] - 309s 1s/step - loss: 0.7086 - acc: 0.6017 - val_loss: 2.4573 - val_acc: 0.0862\n",
      "Epoch 3/30\n",
      "231/231 [==============================] - 282s 1s/step - loss: 0.6450 - acc: 0.6147 - val_loss: 3.0088 - val_acc: 0.0862\n",
      "Epoch 4/30\n",
      "231/231 [==============================] - 274s 1s/step - loss: 0.6637 - acc: 0.5974 - val_loss: 2.9428 - val_acc: 0.0690\n",
      "Epoch 5/30\n",
      "231/231 [==============================] - 275s 1s/step - loss: 0.6817 - acc: 0.5844 - val_loss: 2.0183 - val_acc: 0.0517\n",
      "Epoch 6/30\n",
      "231/231 [==============================] - 276s 1s/step - loss: 0.6877 - acc: 0.5455 - val_loss: 1.1584 - val_acc: 0.1379\n",
      "Epoch 7/30\n",
      "231/231 [==============================] - 278s 1s/step - loss: 0.6658 - acc: 0.5887 - val_loss: 1.2957 - val_acc: 0.1207\n",
      "Epoch 8/30\n",
      "231/231 [==============================] - 274s 1s/step - loss: 0.6722 - acc: 0.5931 - val_loss: 2.1051 - val_acc: 0.0000e+00\n",
      "Epoch 9/30\n",
      "231/231 [==============================] - 278s 1s/step - loss: 0.6244 - acc: 0.6147 - val_loss: 2.3047 - val_acc: 0.0000e+00\n",
      "Epoch 10/30\n",
      "231/231 [==============================] - 276s 1s/step - loss: 0.6077 - acc: 0.6623 - val_loss: 2.3217 - val_acc: 0.0172\n",
      "Epoch 11/30\n",
      "231/231 [==============================] - 277s 1s/step - loss: 0.6406 - acc: 0.6364 - val_loss: 2.0956 - val_acc: 0.0172\n",
      "Epoch 12/30\n",
      "231/231 [==============================] - 274s 1s/step - loss: 0.6214 - acc: 0.6147 - val_loss: 1.8209 - val_acc: 0.0690\n",
      "Epoch 13/30\n",
      "231/231 [==============================] - 278s 1s/step - loss: 0.6259 - acc: 0.6190 - val_loss: 1.7973 - val_acc: 0.0862\n",
      "Epoch 14/30\n",
      "231/231 [==============================] - 279s 1s/step - loss: 0.6510 - acc: 0.5541 - val_loss: 1.8896 - val_acc: 0.0517\n",
      "Epoch 15/30\n",
      "231/231 [==============================] - 280s 1s/step - loss: 0.6142 - acc: 0.6061 - val_loss: 2.0072 - val_acc: 0.0345\n",
      "Epoch 16/30\n",
      "231/231 [==============================] - 272s 1s/step - loss: 0.6293 - acc: 0.6017 - val_loss: 2.0706 - val_acc: 0.0345\n",
      "Epoch 17/30\n",
      "231/231 [==============================] - 272s 1s/step - loss: 0.5969 - acc: 0.6234 - val_loss: 2.0955 - val_acc: 0.0345\n",
      "Epoch 18/30\n",
      "231/231 [==============================] - 275s 1s/step - loss: 0.6365 - acc: 0.6147 - val_loss: 2.1084 - val_acc: 0.0517\n",
      "Epoch 19/30\n",
      "231/231 [==============================] - 292s 1s/step - loss: 0.6116 - acc: 0.6017 - val_loss: 2.0899 - val_acc: 0.0345\n",
      "Epoch 20/30\n",
      "231/231 [==============================] - 45190s 196s/step - loss: 0.6079 - acc: 0.6017 - val_loss: 1.9586 - val_acc: 0.0345\n",
      "Epoch 21/30\n",
      "231/231 [==============================] - 340s 1s/step - loss: 0.6118 - acc: 0.6017 - val_loss: 1.7345 - val_acc: 0.0517\n",
      "Epoch 22/30\n",
      "231/231 [==============================] - 277s 1s/step - loss: 0.6238 - acc: 0.6407 - val_loss: 1.7109 - val_acc: 0.0345\n",
      "Epoch 23/30\n",
      "192/231 [=======================>......] - ETA: 51s - loss: 0.6039 - acc: 0.6667 "
     ]
    },
    {
     "ename": "KeyboardInterrupt",
     "evalue": "",
     "output_type": "error",
     "traceback": [
      "\u001b[0;31m---------------------------------------------------------------------------\u001b[0m",
      "\u001b[0;31mKeyboardInterrupt\u001b[0m                         Traceback (most recent call last)",
      "\u001b[0;32m<ipython-input-84-48e5a0905b67>\u001b[0m in \u001b[0;36m<module>\u001b[0;34m()\u001b[0m\n\u001b[1;32m      1\u001b[0m \u001b[0;31m# (5) Train\u001b[0m\u001b[0;34m\u001b[0m\u001b[0;34m\u001b[0m\u001b[0m\n\u001b[0;32m----> 2\u001b[0;31m \u001b[0mhistory\u001b[0m\u001b[0;34m=\u001b[0m\u001b[0mmodel\u001b[0m\u001b[0;34m.\u001b[0m\u001b[0mfit\u001b[0m\u001b[0;34m(\u001b[0m\u001b[0mx\u001b[0m\u001b[0;34m,\u001b[0m \u001b[0my\u001b[0m\u001b[0;34m,\u001b[0m \u001b[0mbatch_size\u001b[0m\u001b[0;34m=\u001b[0m\u001b[0;36m64\u001b[0m\u001b[0;34m,\u001b[0m \u001b[0mepochs\u001b[0m\u001b[0;34m=\u001b[0m\u001b[0;36m30\u001b[0m\u001b[0;34m,\u001b[0m \u001b[0mverbose\u001b[0m\u001b[0;34m=\u001b[0m\u001b[0;36m1\u001b[0m\u001b[0;34m,\u001b[0m \u001b[0mvalidation_split\u001b[0m\u001b[0;34m=\u001b[0m\u001b[0;36m0.2\u001b[0m\u001b[0;34m,\u001b[0m \u001b[0mshuffle\u001b[0m\u001b[0;34m=\u001b[0m\u001b[0;32mTrue\u001b[0m\u001b[0;34m)\u001b[0m\u001b[0;34m\u001b[0m\u001b[0m\n\u001b[0m",
      "\u001b[0;32m/anaconda3/lib/python3.6/site-packages/keras/engine/training.py\u001b[0m in \u001b[0;36mfit\u001b[0;34m(self, x, y, batch_size, epochs, verbose, callbacks, validation_split, validation_data, shuffle, class_weight, sample_weight, initial_epoch, steps_per_epoch, validation_steps, **kwargs)\u001b[0m\n\u001b[1;32m   1040\u001b[0m                                         \u001b[0minitial_epoch\u001b[0m\u001b[0;34m=\u001b[0m\u001b[0minitial_epoch\u001b[0m\u001b[0;34m,\u001b[0m\u001b[0;34m\u001b[0m\u001b[0m\n\u001b[1;32m   1041\u001b[0m                                         \u001b[0msteps_per_epoch\u001b[0m\u001b[0;34m=\u001b[0m\u001b[0msteps_per_epoch\u001b[0m\u001b[0;34m,\u001b[0m\u001b[0;34m\u001b[0m\u001b[0m\n\u001b[0;32m-> 1042\u001b[0;31m                                         validation_steps=validation_steps)\n\u001b[0m\u001b[1;32m   1043\u001b[0m \u001b[0;34m\u001b[0m\u001b[0m\n\u001b[1;32m   1044\u001b[0m     def evaluate(self, x=None, y=None,\n",
      "\u001b[0;32m/anaconda3/lib/python3.6/site-packages/keras/engine/training_arrays.py\u001b[0m in \u001b[0;36mfit_loop\u001b[0;34m(model, f, ins, out_labels, batch_size, epochs, verbose, callbacks, val_f, val_ins, shuffle, callback_metrics, initial_epoch, steps_per_epoch, validation_steps)\u001b[0m\n\u001b[1;32m    197\u001b[0m                     \u001b[0mins_batch\u001b[0m\u001b[0;34m[\u001b[0m\u001b[0mi\u001b[0m\u001b[0;34m]\u001b[0m \u001b[0;34m=\u001b[0m \u001b[0mins_batch\u001b[0m\u001b[0;34m[\u001b[0m\u001b[0mi\u001b[0m\u001b[0;34m]\u001b[0m\u001b[0;34m.\u001b[0m\u001b[0mtoarray\u001b[0m\u001b[0;34m(\u001b[0m\u001b[0;34m)\u001b[0m\u001b[0;34m\u001b[0m\u001b[0m\n\u001b[1;32m    198\u001b[0m \u001b[0;34m\u001b[0m\u001b[0m\n\u001b[0;32m--> 199\u001b[0;31m                 \u001b[0mouts\u001b[0m \u001b[0;34m=\u001b[0m \u001b[0mf\u001b[0m\u001b[0;34m(\u001b[0m\u001b[0mins_batch\u001b[0m\u001b[0;34m)\u001b[0m\u001b[0;34m\u001b[0m\u001b[0m\n\u001b[0m\u001b[1;32m    200\u001b[0m                 \u001b[0;32mif\u001b[0m \u001b[0;32mnot\u001b[0m \u001b[0misinstance\u001b[0m\u001b[0;34m(\u001b[0m\u001b[0mouts\u001b[0m\u001b[0;34m,\u001b[0m \u001b[0mlist\u001b[0m\u001b[0;34m)\u001b[0m\u001b[0;34m:\u001b[0m\u001b[0;34m\u001b[0m\u001b[0m\n\u001b[1;32m    201\u001b[0m                     \u001b[0mouts\u001b[0m \u001b[0;34m=\u001b[0m \u001b[0;34m[\u001b[0m\u001b[0mouts\u001b[0m\u001b[0;34m]\u001b[0m\u001b[0;34m\u001b[0m\u001b[0m\n",
      "\u001b[0;32m/anaconda3/lib/python3.6/site-packages/keras/backend/tensorflow_backend.py\u001b[0m in \u001b[0;36m__call__\u001b[0;34m(self, inputs)\u001b[0m\n\u001b[1;32m   2659\u001b[0m                 \u001b[0;32mreturn\u001b[0m \u001b[0mself\u001b[0m\u001b[0;34m.\u001b[0m\u001b[0m_legacy_call\u001b[0m\u001b[0;34m(\u001b[0m\u001b[0minputs\u001b[0m\u001b[0;34m)\u001b[0m\u001b[0;34m\u001b[0m\u001b[0m\n\u001b[1;32m   2660\u001b[0m \u001b[0;34m\u001b[0m\u001b[0m\n\u001b[0;32m-> 2661\u001b[0;31m             \u001b[0;32mreturn\u001b[0m \u001b[0mself\u001b[0m\u001b[0;34m.\u001b[0m\u001b[0m_call\u001b[0m\u001b[0;34m(\u001b[0m\u001b[0minputs\u001b[0m\u001b[0;34m)\u001b[0m\u001b[0;34m\u001b[0m\u001b[0m\n\u001b[0m\u001b[1;32m   2662\u001b[0m         \u001b[0;32melse\u001b[0m\u001b[0;34m:\u001b[0m\u001b[0;34m\u001b[0m\u001b[0m\n\u001b[1;32m   2663\u001b[0m             \u001b[0;32mif\u001b[0m \u001b[0mpy_any\u001b[0m\u001b[0;34m(\u001b[0m\u001b[0mis_tensor\u001b[0m\u001b[0;34m(\u001b[0m\u001b[0mx\u001b[0m\u001b[0;34m)\u001b[0m \u001b[0;32mfor\u001b[0m \u001b[0mx\u001b[0m \u001b[0;32min\u001b[0m \u001b[0minputs\u001b[0m\u001b[0;34m)\u001b[0m\u001b[0;34m:\u001b[0m\u001b[0;34m\u001b[0m\u001b[0m\n",
      "\u001b[0;32m/anaconda3/lib/python3.6/site-packages/keras/backend/tensorflow_backend.py\u001b[0m in \u001b[0;36m_call\u001b[0;34m(self, inputs)\u001b[0m\n\u001b[1;32m   2629\u001b[0m                                 \u001b[0msymbol_vals\u001b[0m\u001b[0;34m,\u001b[0m\u001b[0;34m\u001b[0m\u001b[0m\n\u001b[1;32m   2630\u001b[0m                                 session)\n\u001b[0;32m-> 2631\u001b[0;31m         \u001b[0mfetched\u001b[0m \u001b[0;34m=\u001b[0m \u001b[0mself\u001b[0m\u001b[0;34m.\u001b[0m\u001b[0m_callable_fn\u001b[0m\u001b[0;34m(\u001b[0m\u001b[0;34m*\u001b[0m\u001b[0marray_vals\u001b[0m\u001b[0;34m)\u001b[0m\u001b[0;34m\u001b[0m\u001b[0m\n\u001b[0m\u001b[1;32m   2632\u001b[0m         \u001b[0;32mreturn\u001b[0m \u001b[0mfetched\u001b[0m\u001b[0;34m[\u001b[0m\u001b[0;34m:\u001b[0m\u001b[0mlen\u001b[0m\u001b[0;34m(\u001b[0m\u001b[0mself\u001b[0m\u001b[0;34m.\u001b[0m\u001b[0moutputs\u001b[0m\u001b[0;34m)\u001b[0m\u001b[0;34m]\u001b[0m\u001b[0;34m\u001b[0m\u001b[0m\n\u001b[1;32m   2633\u001b[0m \u001b[0;34m\u001b[0m\u001b[0m\n",
      "\u001b[0;32m/anaconda3/lib/python3.6/site-packages/tensorflow/python/client/session.py\u001b[0m in \u001b[0;36m__call__\u001b[0;34m(self, *args)\u001b[0m\n\u001b[1;32m   1449\u001b[0m         \u001b[0;32mif\u001b[0m \u001b[0mself\u001b[0m\u001b[0;34m.\u001b[0m\u001b[0m_session\u001b[0m\u001b[0;34m.\u001b[0m\u001b[0m_created_with_new_api\u001b[0m\u001b[0;34m:\u001b[0m\u001b[0;34m\u001b[0m\u001b[0m\n\u001b[1;32m   1450\u001b[0m           return tf_session.TF_SessionRunCallable(\n\u001b[0;32m-> 1451\u001b[0;31m               self._session._session, self._handle, args, status, None)\n\u001b[0m\u001b[1;32m   1452\u001b[0m         \u001b[0;32melse\u001b[0m\u001b[0;34m:\u001b[0m\u001b[0;34m\u001b[0m\u001b[0m\n\u001b[1;32m   1453\u001b[0m           return tf_session.TF_DeprecatedSessionRunCallable(\n",
      "\u001b[0;31mKeyboardInterrupt\u001b[0m: "
     ]
    }
   ],
   "source": [
    "# (5) Train\n",
    "history=model.fit(x, y, batch_size=64, epochs=30, verbose=1, \\\n",
    "validation_split=0.2, shuffle=True)"
   ]
  },
  {
   "cell_type": "code",
   "execution_count": 81,
   "metadata": {},
   "outputs": [
    {
     "name": "stdout",
     "output_type": "stream",
     "text": [
      "dict_keys(['val_loss', 'val_acc', 'loss', 'acc'])\n"
     ]
    }
   ],
   "source": [
    "# list all data in history\n",
    "print(history.history.keys())\n"
   ]
  },
  {
   "cell_type": "code",
   "execution_count": 82,
   "metadata": {},
   "outputs": [
    {
     "data": {
      "image/png": "[encoded data removed]",
      "text/plain": [
       "<matplotlib.figure.Figure at 0x1c2acc27f0>"
      ]
     },
     "metadata": {},
     "output_type": "display_data"
    }
   ],
   "source": [
    "# summarize history for accuracy\n",
    "plt.plot(history.history['acc'])\n",
    "plt.plot(history.history['val_acc'])\n",
    "plt.title('model accuracy')\n",
    "plt.ylabel('accuracy')\n",
    "plt.xlabel('epoch')\n",
    "plt.legend(['train', 'test'], loc='upper left')\n",
    "plt.show()"
   ]
  },
  {
   "cell_type": "code",
   "execution_count": 83,
   "metadata": {},
   "outputs": [
    {
     "data": {
      "image/png": "[encoded data removed]",
      "text/plain": [
       "<matplotlib.figure.Figure at 0x1c2acc2080>"
      ]
     },
     "metadata": {},
     "output_type": "display_data"
    }
   ],
   "source": [
    "# summarize history for loss\n",
    "plt.plot(history.history['loss'])\n",
    "plt.plot(history.history['val_loss'])\n",
    "plt.title('model loss')\n",
    "plt.ylabel('loss')\n",
    "plt.xlabel('epoch')\n",
    "plt.legend(['train', 'test'], loc='upper left')\n",
    "plt.show()"
   ]
  },
  {
   "cell_type": "code",
   "execution_count": null,
   "metadata": {},
   "outputs": [],
   "source": []
  }
 ],
 "metadata": {
  "kernelspec": {
   "display_name": "Python 3",
   "language": "python",
   "name": "python3"
  },
  "language_info": {
   "codemirror_mode": {
    "name": "ipython",
    "version": 3
   },
   "file_extension": ".py",
   "mimetype": "text/x-python",
   "name": "python",
   "nbconvert_exporter": "python",
   "pygments_lexer": "ipython3",
   "version": "3.6.4"
  }
 },
 "nbformat": 4,
 "nbformat_minor": 2
}
