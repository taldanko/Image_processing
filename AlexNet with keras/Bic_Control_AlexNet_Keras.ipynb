{
 "cells": [
  {
   "cell_type": "markdown",
   "metadata": {},
   "source": [
    "### Import packages"
   ]
  },
  {
   "cell_type": "code",
   "execution_count": 1,
   "metadata": {},
   "outputs": [],
   "source": [
    "import numpy as np\n",
    "import os\n",
    "from nd2reader import ND2Reader\n",
    "import matplotlib.pyplot as plt\n",
    "import matplotlib.cm as cm\n",
    "from matplotlib_scalebar.scalebar import ScaleBar\n",
    "import scipy.ndimage as ndi\n",
    "from skimage.filters import rank \n",
    "from scipy.signal import butter, lfilter\n",
    "import scipy.misc as misc\n",
    "from skimage import exposure\n",
    "from PIL import Image\n",
    "import colorcet as cc\n",
    "from scipy.misc import toimage\n",
    "import matplotlib.colors as clr\n",
    "import pandas as pd\n",
    "import seaborn as sns\n",
    "\n",
    "from pyspark import SparkContext, SparkConf\n",
    "\n",
    "\n",
    "%matplotlib inline\n",
    "\n",
    "def mean2(x):\n",
    "    y = np.sum(x) / np.size(x);\n",
    "    return y\n",
    "\n",
    "def corr2(a,b):\n",
    "    a = a - mean2(a)\n",
    "    b = b - mean2(b)\n",
    "\n",
    "    r = (a*b).sum() / np.sqrt((a*a).sum() * (b*b).sum());\n",
    "    return r"
   ]
  },
  {
   "cell_type": "markdown",
   "metadata": {},
   "source": [
    "### Run code below only for the first folder (i.e. creation of image and classification arrays)"
   ]
  },
  {
   "cell_type": "code",
   "execution_count": 2,
   "metadata": {},
   "outputs": [
    {
     "name": "stdout",
     "output_type": "stream",
     "text": [
      "Image no 2 out of 28\n",
      "Image no 3 out of 28\n",
      "Image no 4 out of 28\n",
      "Image no 5 out of 28\n",
      "Image no 6 out of 28\n",
      "Image no 7 out of 28\n",
      "Image no 8 out of 28\n",
      "Image no 9 out of 28\n",
      "Image no 10 out of 28\n",
      "Image no 11 out of 28\n",
      "Image no 12 out of 28\n",
      "Image no 13 out of 28\n",
      "Image no 14 out of 28\n",
      "Image no 15 out of 28\n",
      "Image no 16 out of 28\n",
      "Image no 17 out of 28\n",
      "Image no 18 out of 28\n",
      "Image no 19 out of 28\n",
      "Image no 20 out of 28\n",
      "Image no 21 out of 28\n",
      "Image no 22 out of 28\n",
      "Image no 23 out of 28\n",
      "Image no 24 out of 28\n",
      "Image no 25 out of 28\n",
      "Image no 26 out of 28\n",
      "Image no 27 out of 28\n",
      "Image no 28 out of 28\n",
      "Image no 1 out of 30\n",
      "Image no 2 out of 30\n",
      "Image no 3 out of 30\n",
      "Image no 4 out of 30\n",
      "Image no 5 out of 30\n",
      "Image no 6 out of 30\n",
      "Image no 7 out of 30\n",
      "Image no 8 out of 30\n",
      "Image no 9 out of 30\n",
      "Image no 10 out of 30\n",
      "Image no 11 out of 30\n",
      "Image no 12 out of 30\n",
      "Image no 13 out of 30\n",
      "Image no 14 out of 30\n",
      "Image no 15 out of 30\n",
      "Image no 16 out of 30\n",
      "Image no 17 out of 30\n",
      "Image no 18 out of 30\n",
      "Image no 19 out of 30\n",
      "Image no 20 out of 30\n",
      "Image no 21 out of 30\n",
      "Image no 22 out of 30\n",
      "Image no 23 out of 30\n",
      "Image no 24 out of 30\n",
      "Image no 25 out of 30\n",
      "Image no 26 out of 30\n",
      "Image no 27 out of 30\n",
      "Image no 28 out of 30\n",
      "Image no 29 out of 30\n",
      "Image no 30 out of 30\n"
     ]
    }
   ],
   "source": [
    "classification=np.array([])\n",
    "\n",
    "expdir='/Volumes/ukps-all$/user/tdanko/Imaging/1_ECM/Culture/20180511_Turnover_Bic_nb580first_635psecond/TNR/' #master folder\n",
    "\n",
    "early_channel_no=2 #channel number of early incubation colour\n",
    "late_channel_no=3 #channel number of late incubation colour\n",
    "\n",
    "#make a dictionary of all images in the experiment\n",
    "results = {\"filename\":[], \"exp_condition\":[]}\n",
    "filelist = []\n",
    "for root, _, filenames in os.walk(expdir):\n",
    "    for filename in filenames:\n",
    "        filelist.append(os.path.join(root, filename))\n",
    "    for i in range(0,len(filelist)):\n",
    "        if filelist[i].endswith(\".nd2\"):\n",
    "            results[\"filename\"].append(filelist[i])\n",
    "            results[\"exp_condition\"].append(filelist[i].split('/')[-2])\n",
    "\n",
    "#create the images array by adding the first bic image           \n",
    "for condition in np.unique(results[\"exp_condition\"]):\n",
    "    #make dictionary for files in this condition only\n",
    "    exp_condition_images = [results[\"filename\"][idx] for idx, x in enumerate(results[\"exp_condition\"]) if x == condition ]\n",
    "    exp_condition_images=np.unique(exp_condition_images)\n",
    "    no_images_cond=len(exp_condition_images)\n",
    "    a= ['1DayBic', '1Day_Bic', '1daybic','1DayBic','1dayBic','1day_bic','1day_Bic','1Day_bic','1day_bic']\n",
    "    b=['1Day_Untreated','1day_Untreated','1Day_DMSO','1day_DMSO']\n",
    "    if any(l in str(condition) for l in a):\n",
    "        #first bic image\n",
    "        with ND2Reader(results[\"filename\"][0]) as images:\n",
    "            #read the images\n",
    "            early_image=images[early_channel_no-1]\n",
    "            late_image=images[late_channel_no-1]\n",
    "            #convert to array\n",
    "            early_image=early_image.astype(np.int16)\n",
    "            late_image=late_image.astype(np.int16)\n",
    "            #split images into 4 equal parts\n",
    "            early_1=early_image[0:255,0:255]\n",
    "            late_1=late_image[0:255,0:255]\n",
    "            Image1=np.stack([early_1,late_1],axis=-1)\n",
    "            All_Images=Image1 #append to image array\n",
    "            classification=np.append(arr=classification,values=1) #append to classification array\n",
    "            early_2=early_image[0:255,0:255]\n",
    "            late_2=late_image[0:255,256:-1]\n",
    "            Image2=np.stack([early_2,late_2],axis=-1)\n",
    "            All_Images=np.stack([All_Images,Image2],axis=0)\n",
    "            classification=np.append(arr=classification,values=1) \n",
    "            early_3=early_image[256:-1,0:255]\n",
    "            late_3=late_image[256:-1,0:255]\n",
    "            Image3=np.stack([early_3,late_3],axis=-1)\n",
    "            All_Images=np.append(All_Images,[Image3],axis=0)\n",
    "            classification=np.append(arr=classification,values=1)\n",
    "            early_4=early_image[256:-1,256:-1]\n",
    "            late_4=late_image[256:-1,256:-1]\n",
    "            Image4=np.stack([early_4,late_4],axis=-1)\n",
    "            All_Images=np.append(All_Images,[Image4],axis=0)\n",
    "            classification=np.append(arr=classification,values=1)\n",
    "            \n",
    "        break\n",
    "\n",
    "#Continue by appending image 1:-1 of bic and 0:-1 of control\n",
    "\n",
    "for condition in np.unique(results[\"exp_condition\"]):\n",
    "    #make dictionary for files in this condition only\n",
    "    exp_condition_images = [results[\"filename\"][idx] for idx, x in enumerate(results[\"exp_condition\"]) if x == condition ]\n",
    "    exp_condition_images=np.unique(exp_condition_images)\n",
    "    no_images_cond=len(exp_condition_images)\n",
    "    a= ['1DayBic', '1Day_Bic', '1daybic','1DayBic','1dayBic','1day_bic','1day_Bic','1Day_bic','1day_bic']\n",
    "    b=['1Day_Untreated','1day_Untreated','1Day_DMSO','1day_DMSO']\n",
    "    \n",
    "    if any(l in str(condition) for l in a):\n",
    "        for i in range(1,no_images_cond):\n",
    "            print(\"Image no \"+str(i+1)+\" out of \"+str(no_images_cond))\n",
    "            with ND2Reader(results[\"filename\"][i]) as images:\n",
    "                #read the images\n",
    "                early_image=images[early_channel_no-1]\n",
    "                late_image=images[late_channel_no-1]\n",
    "                #convert to array\n",
    "                early_image=early_image.astype(np.int16)\n",
    "                late_image=late_image.astype(np.int16)\n",
    "                #split images into 4 equal parts\n",
    "                early_1=early_image[0:255,0:255]\n",
    "                late_1=late_image[0:255,0:255]\n",
    "                Image1=np.stack([early_1,late_1],axis=-1)\n",
    "                All_Images=np.append(All_Images,[Image1],axis=0)\n",
    "                classification=np.append(arr=classification,values=1) #append to classification array\n",
    "                early_2=early_image[0:255,0:255]\n",
    "                late_2=late_image[0:255,256:-1]\n",
    "                Image2=np.stack([early_2,late_2],axis=-1)\n",
    "                All_Images=np.append(All_Images,[Image2],axis=0)\n",
    "                classification=np.append(arr=classification,values=1) \n",
    "                early_3=early_image[256:-1,0:255]\n",
    "                late_3=late_image[256:-1,0:255]\n",
    "                Image3=np.stack([early_3,late_3],axis=-1)\n",
    "                All_Images=np.append(All_Images,[Image3],axis=0)\n",
    "                classification=np.append(arr=classification,values=1)\n",
    "                early_4=early_image[256:-1,256:-1]\n",
    "                late_4=late_image[256:-1,256:-1]\n",
    "                Image4=np.stack([early_4,late_4],axis=-1)\n",
    "                All_Images=np.append(All_Images,[Image4],axis=0)\n",
    "                classification=np.append(arr=classification,values=1)\n",
    "        continue\n",
    "    if any(l in str(condition) for l in b):\n",
    "        for i in range(0,no_images_cond):\n",
    "            print(\"Image no \"+str(i+1)+\" out of \"+str(no_images_cond))\n",
    "            with ND2Reader(results[\"filename\"][i]) as images:\n",
    "                #read the images\n",
    "                early_image=images[early_channel_no-1]\n",
    "                late_image=images[late_channel_no-1]\n",
    "                #convert to array\n",
    "                early_image=early_image.astype(np.int16)\n",
    "                late_image=late_image.astype(np.int16)\n",
    "                #split images into 4 equal parts\n",
    "                early_1=early_image[0:255,0:255]\n",
    "                late_1=late_image[0:255,0:255]\n",
    "                Image1=np.stack([early_1,late_1],axis=-1)\n",
    "                All_Images=np.append(All_Images,[Image1],axis=0)\n",
    "                classification=np.append(arr=classification,values=0) #append to classification array\n",
    "                early_2=early_image[0:255,0:255]\n",
    "                late_2=late_image[0:255,256:-1]\n",
    "                Image2=np.stack([early_2,late_2],axis=-1)\n",
    "                All_Images=np.append(All_Images,[Image2],axis=0)\n",
    "                classification=np.append(arr=classification,values=0) \n",
    "                early_3=early_image[256:-1,0:255]\n",
    "                late_3=late_image[256:-1,0:255]\n",
    "                Image3=np.stack([early_3,late_3],axis=-1)\n",
    "                All_Images=np.append(All_Images,[Image3],axis=0)\n",
    "                classification=np.append(arr=classification,values=0)\n",
    "                early_4=early_image[256:-1,256:-1]\n",
    "                late_4=late_image[256:-1,256:-1]\n",
    "                Image4=np.stack([early_4,late_4],axis=-1)\n",
    "                All_Images=np.append(All_Images,[Image4],axis=0)\n",
    "                classification=np.append(arr=classification,values=0)\n",
    "            continue"
   ]
  },
  {
   "cell_type": "code",
   "execution_count": 3,
   "metadata": {},
   "outputs": [
    {
     "data": {
      "text/plain": [
       "(232,)"
      ]
     },
     "execution_count": 3,
     "metadata": {},
     "output_type": "execute_result"
    }
   ],
   "source": [
    "classification.shape"
   ]
  },
  {
   "cell_type": "code",
   "execution_count": 4,
   "metadata": {},
   "outputs": [
    {
     "data": {
      "text/plain": [
       "<matplotlib.image.AxesImage at 0x1c20e04eb8>"
      ]
     },
     "execution_count": 4,
     "metadata": {},
     "output_type": "execute_result"
    },
    {
     "data": {
      "image/png": "[encoded data removed]",
      "text/plain": [
       "<matplotlib.figure.Figure at 0x110d9a4e0>"
      ]
     },
     "metadata": {},
     "output_type": "display_data"
    }
   ],
   "source": [
    "plt.imshow(All_Images[110,:,:,0])"
   ]
  },
  {
   "cell_type": "markdown",
   "metadata": {},
   "source": [
    "### Run below for sequential folders"
   ]
  },
  {
   "cell_type": "code",
   "execution_count": 11,
   "metadata": {},
   "outputs": [],
   "source": [
    "expdir='/Volumes/ukps-all$/user/tdanko/Imaging/1_ECM/Culture/20180214_Turnover_Bic_TNR_nb580first_nb653psecond/' #master folder\n",
    "\n",
    "early_channel_no=2 #channel number of early incubation colour\n",
    "late_channel_no=1 #channel number of late incubation colour\n",
    "\n",
    "#make a dictionary of all images in the experiment\n",
    "results = {\"filename\":[], \"exp_condition\":[]}\n",
    "filelist = []\n",
    "for root, _, filenames in os.walk(expdir):\n",
    "    for filename in filenames:\n",
    "        filelist.append(os.path.join(root, filename))\n",
    "    for i in range(0,len(filelist)):\n",
    "        if filelist[i].endswith(\".nd2\"):\n",
    "            results[\"filename\"].append(filelist[i])\n",
    "            results[\"exp_condition\"].append(filelist[i].split('/')[-2])"
   ]
  },
  {
   "cell_type": "code",
   "execution_count": 12,
   "metadata": {},
   "outputs": [
    {
     "name": "stdout",
     "output_type": "stream",
     "text": [
      "Image no 1 out of 14\n",
      "Image no 2 out of 14\n",
      "Image no 3 out of 14\n",
      "Image no 4 out of 14\n",
      "Image no 5 out of 14\n",
      "Image no 6 out of 14\n",
      "Image no 7 out of 14\n",
      "Image no 8 out of 14\n",
      "Image no 9 out of 14\n",
      "Image no 10 out of 14\n",
      "Image no 11 out of 14\n",
      "Image no 12 out of 14\n",
      "Image no 13 out of 14\n",
      "Image no 14 out of 14\n",
      "Image no 1 out of 15\n",
      "Image no 2 out of 15\n",
      "Image no 3 out of 15\n",
      "Image no 4 out of 15\n",
      "Image no 5 out of 15\n",
      "Image no 6 out of 15\n",
      "Image no 7 out of 15\n",
      "Image no 8 out of 15\n",
      "Image no 9 out of 15\n",
      "Image no 10 out of 15\n",
      "Image no 11 out of 15\n",
      "Image no 12 out of 15\n",
      "Image no 13 out of 15\n",
      "Image no 14 out of 15\n",
      "Image no 15 out of 15\n"
     ]
    }
   ],
   "source": [
    "for condition in np.unique(results[\"exp_condition\"]):\n",
    "    #make dictionary for files in this condition only\n",
    "    exp_condition_images = [results[\"filename\"][idx] for idx, x in enumerate(results[\"exp_condition\"]) if x == condition ]\n",
    "    exp_condition_images=np.unique(exp_condition_images)\n",
    "    no_images_cond=len(exp_condition_images)\n",
    "    a= ['1DayBic', '1Day_Bic', '1daybic','1DayBic','1dayBic','1day_bic','1day_Bic','1Day_bic','1day_bic']\n",
    "    b=['1Day_Untreated','1day_Untreated','1Day_DMSO','1day_DMSO']\n",
    "    \n",
    "    if any(l in str(condition) for l in a):\n",
    "        for i in range(0,no_images_cond):\n",
    "            print(\"Image no \"+str(i+1)+\" out of \"+str(no_images_cond))\n",
    "            with ND2Reader(results[\"filename\"][i]) as images:\n",
    "                #read the images\n",
    "                early_image=images[early_channel_no-1]\n",
    "                late_image=images[late_channel_no-1]\n",
    "                #convert to array\n",
    "                early_image=early_image.astype(np.int16)\n",
    "                late_image=late_image.astype(np.int16)\n",
    "                #split images into 4 equal parts\n",
    "                early_1=early_image[0:255,0:255]\n",
    "                late_1=late_image[0:255,0:255]\n",
    "                Image1=np.stack([early_1,late_1],axis=-1)\n",
    "                All_Images=np.append(All_Images,[Image1],axis=0)\n",
    "                classification=np.append(arr=classification,values=1) #append to classification array\n",
    "                early_2=early_image[0:255,0:255]\n",
    "                late_2=late_image[0:255,256:-1]\n",
    "                Image2=np.stack([early_2,late_2],axis=-1)\n",
    "                All_Images=np.append(All_Images,[Image2],axis=0)\n",
    "                classification=np.append(arr=classification,values=1) \n",
    "                early_3=early_image[256:-1,0:255]\n",
    "                late_3=late_image[256:-1,0:255]\n",
    "                Image3=np.stack([early_3,late_3],axis=-1)\n",
    "                All_Images=np.append(All_Images,[Image3],axis=0)\n",
    "                classification=np.append(arr=classification,values=1)\n",
    "                early_4=early_image[256:-1,256:-1]\n",
    "                late_4=late_image[256:-1,256:-1]\n",
    "                Image4=np.stack([early_4,late_4],axis=-1)\n",
    "                All_Images=np.append(All_Images,[Image4],axis=0)\n",
    "                classification=np.append(arr=classification,values=1)\n",
    "        continue\n",
    "    if any(l in str(condition) for l in b):\n",
    "        for i in range(0,no_images_cond):\n",
    "            print(\"Image no \"+str(i+1)+\" out of \"+str(no_images_cond))\n",
    "            with ND2Reader(results[\"filename\"][i]) as images:\n",
    "                #read the images\n",
    "                early_image=images[early_channel_no-1]\n",
    "                late_image=images[late_channel_no-1]\n",
    "                #convert to array\n",
    "                early_image=early_image.astype(np.int16)\n",
    "                late_image=late_image.astype(np.int16)\n",
    "                #split images into 4 equal parts\n",
    "                early_1=early_image[0:255,0:255]\n",
    "                late_1=late_image[0:255,0:255]\n",
    "                Image1=np.stack([early_1,late_1],axis=-1)\n",
    "                All_Images=np.append(All_Images,[Image1],axis=0)\n",
    "                classification=np.append(arr=classification,values=0) #append to classification array\n",
    "                early_2=early_image[0:255,0:255]\n",
    "                late_2=late_image[0:255,256:-1]\n",
    "                Image2=np.stack([early_2,late_2],axis=-1)\n",
    "                All_Images=np.append(All_Images,[Image2],axis=0)\n",
    "                classification=np.append(arr=classification,values=0) \n",
    "                early_3=early_image[256:-1,0:255]\n",
    "                late_3=late_image[256:-1,0:255]\n",
    "                Image3=np.stack([early_3,late_3],axis=-1)\n",
    "                All_Images=np.append(All_Images,[Image3],axis=0)\n",
    "                classification=np.append(arr=classification,values=0)\n",
    "                early_4=early_image[256:-1,256:-1]\n",
    "                late_4=late_image[256:-1,256:-1]\n",
    "                Image4=np.stack([early_4,late_4],axis=-1)\n",
    "                All_Images=np.append(All_Images,[Image4],axis=0)\n",
    "                classification=np.append(arr=classification,values=0)\n",
    "            continue"
   ]
  },
  {
   "cell_type": "code",
   "execution_count": 14,
   "metadata": {},
   "outputs": [],
   "source": [
    "# Save numpy files\n",
    "np.save('classification.npy', classification)\n",
    "np.save('All_Images.npy',All_Images)"
   ]
  },
  {
   "cell_type": "code",
   "execution_count": 15,
   "metadata": {},
   "outputs": [
    {
     "name": "stdout",
     "output_type": "stream",
     "text": [
      "All images shape (1156, 255, 255, 2)\n",
      "Classifications array shape (1156,)\n"
     ]
    }
   ],
   "source": [
    "#Print dimensions\n",
    "print('All images shape '+str(All_Images.shape))\n",
    "print('Classifications array shape '+str(classification.shape))"
   ]
  },
  {
   "cell_type": "markdown",
   "metadata": {},
   "source": [
    "## AlexNet with keras"
   ]
  },
  {
   "cell_type": "code",
   "execution_count": 16,
   "metadata": {},
   "outputs": [
    {
     "name": "stderr",
     "output_type": "stream",
     "text": [
      "/anaconda3/lib/python3.6/site-packages/h5py/__init__.py:36: FutureWarning: Conversion of the second argument of issubdtype from `float` to `np.floating` is deprecated. In future, it will be treated as `np.float64 == np.dtype(float).type`.\n",
      "  from ._conv import register_converters as _register_converters\n",
      "Using TensorFlow backend.\n"
     ]
    }
   ],
   "source": [
    "# (1) Importing dependency\n",
    "import keras\n",
    "from keras.models import Sequential\n",
    "from keras.layers import Dense, Activation, Dropout, Flatten,\\\n",
    " Conv2D, MaxPooling2D\n",
    "from keras.layers.normalization import BatchNormalization\n",
    "import numpy as np\n",
    "np.random.seed(1000)"
   ]
  },
  {
   "cell_type": "code",
   "execution_count": 69,
   "metadata": {},
   "outputs": [],
   "source": [
    "# (2) Get Data\n",
    "import tflearn.datasets.oxflower17 as oxflower17\n",
    "x, y = oxflower17.load_data(one_hot=True)\n"
   ]
  },
  {
   "cell_type": "code",
   "execution_count": 75,
   "metadata": {},
   "outputs": [
    {
     "data": {
      "text/plain": [
       "array([0., 0., 0., 0., 0., 0., 0., 0., 0., 0., 0., 0., 0., 0., 0., 1., 0.])"
      ]
     },
     "execution_count": 75,
     "metadata": {},
     "output_type": "execute_result"
    }
   ],
   "source": [
    "y[0,:]"
   ]
  },
  {
   "cell_type": "code",
   "execution_count": 73,
   "metadata": {},
   "outputs": [
    {
     "data": {
      "text/plain": [
       "(1360, 224, 224, 3)"
      ]
     },
     "execution_count": 73,
     "metadata": {},
     "output_type": "execute_result"
    }
   ],
   "source": [
    "x.shape"
   ]
  },
  {
   "cell_type": "code",
   "execution_count": 17,
   "metadata": {},
   "outputs": [],
   "source": [
    "x=All_Images\n",
    "y=classification"
   ]
  },
  {
   "cell_type": "code",
   "execution_count": 29,
   "metadata": {},
   "outputs": [
    {
     "data": {
      "text/plain": [
       "(1156,)"
      ]
     },
     "execution_count": 29,
     "metadata": {},
     "output_type": "execute_result"
    }
   ],
   "source": [
    "classification.shape"
   ]
  },
  {
   "cell_type": "code",
   "execution_count": 44,
   "metadata": {},
   "outputs": [
    {
     "ename": "SyntaxError",
     "evalue": "invalid syntax (<ipython-input-44-fe3cea4b45e1>, line 1)",
     "output_type": "error",
     "traceback": [
      "\u001b[0;36m  File \u001b[0;32m\"<ipython-input-44-fe3cea4b45e1>\"\u001b[0;36m, line \u001b[0;32m1\u001b[0m\n\u001b[0;31m    classdouble=np.ones(,2)\u001b[0m\n\u001b[0m                        ^\u001b[0m\n\u001b[0;31mSyntaxError\u001b[0m\u001b[0;31m:\u001b[0m invalid syntax\n"
     ]
    }
   ],
   "source": [
    "classdouble=np.ones(,2)\n",
    "for i in range(0,len(y)):\n",
    "        if y[i]==1:\n",
    "            classdouble=np.append(arr=classdouble,values=[1,0],axis=0) \n",
    "        if y[i]==0:\n",
    "            classdouble=np.append(arr=classdouble,values=[0,1],axis=0) "
   ]
  },
  {
   "cell_type": "code",
   "execution_count": 55,
   "metadata": {},
   "outputs": [],
   "source": [
    "def all_idx(idx, axis):\n",
    "    grid = np.ogrid[tuple(map(slice, idx.shape))]\n",
    "    grid.insert(axis, idx)\n",
    "    return tuple(grid)\n",
    "def onehot_initialization(a):\n",
    "    ncols = a.max()+1\n",
    "    out = np.zeros(a.shape + (ncols,), dtype=int)\n",
    "    out[all_idx(a, axis=2)] = 1\n",
    "    return out"
   ]
  },
  {
   "cell_type": "code",
   "execution_count": 56,
   "metadata": {},
   "outputs": [
    {
     "data": {
      "text/plain": [
       "(1156, 2)"
      ]
     },
     "execution_count": 56,
     "metadata": {},
     "output_type": "execute_result"
    }
   ],
   "source": [
    "classint=classification.astype(int)\n",
    "classdouble=onehot_initialization(classint)\n",
    "classdouble.shape"
   ]
  },
  {
   "cell_type": "code",
   "execution_count": 64,
   "metadata": {},
   "outputs": [
    {
     "data": {
      "text/plain": [
       "array([[1, 0],\n",
       "       [1, 0],\n",
       "       [1, 0],\n",
       "       [1, 0],\n",
       "       [1, 0]])"
      ]
     },
     "execution_count": 64,
     "metadata": {},
     "output_type": "execute_result"
    }
   ],
   "source": [
    "#classification[1000:1005]\n",
    "classdouble[1000:1005,:]"
   ]
  },
  {
   "cell_type": "code",
   "execution_count": 65,
   "metadata": {},
   "outputs": [],
   "source": [
    "y=classdouble"
   ]
  },
  {
   "cell_type": "code",
   "execution_count": 66,
   "metadata": {},
   "outputs": [
    {
     "name": "stdout",
     "output_type": "stream",
     "text": [
      "_________________________________________________________________\n",
      "Layer (type)                 Output Shape              Param #   \n",
      "=================================================================\n",
      "conv2d_11 (Conv2D)           (None, 62, 62, 96)        23328     \n",
      "_________________________________________________________________\n",
      "activation_19 (Activation)   (None, 62, 62, 96)        0         \n",
      "_________________________________________________________________\n",
      "max_pooling2d_7 (MaxPooling2 (None, 31, 31, 96)        0         \n",
      "_________________________________________________________________\n",
      "batch_normalization_17 (Batc (None, 31, 31, 96)        384       \n",
      "_________________________________________________________________\n",
      "conv2d_12 (Conv2D)           (None, 21, 21, 256)       2973952   \n",
      "_________________________________________________________________\n",
      "activation_20 (Activation)   (None, 21, 21, 256)       0         \n",
      "_________________________________________________________________\n",
      "max_pooling2d_8 (MaxPooling2 (None, 10, 10, 256)       0         \n",
      "_________________________________________________________________\n",
      "batch_normalization_18 (Batc (None, 10, 10, 256)       1024      \n",
      "_________________________________________________________________\n",
      "conv2d_13 (Conv2D)           (None, 8, 8, 384)         885120    \n",
      "_________________________________________________________________\n",
      "activation_21 (Activation)   (None, 8, 8, 384)         0         \n",
      "_________________________________________________________________\n",
      "batch_normalization_19 (Batc (None, 8, 8, 384)         1536      \n",
      "_________________________________________________________________\n",
      "conv2d_14 (Conv2D)           (None, 6, 6, 384)         1327488   \n",
      "_________________________________________________________________\n",
      "activation_22 (Activation)   (None, 6, 6, 384)         0         \n",
      "_________________________________________________________________\n",
      "batch_normalization_20 (Batc (None, 6, 6, 384)         1536      \n",
      "_________________________________________________________________\n",
      "conv2d_15 (Conv2D)           (None, 4, 4, 256)         884992    \n",
      "_________________________________________________________________\n",
      "activation_23 (Activation)   (None, 4, 4, 256)         0         \n",
      "_________________________________________________________________\n",
      "max_pooling2d_9 (MaxPooling2 (None, 2, 2, 256)         0         \n",
      "_________________________________________________________________\n",
      "batch_normalization_21 (Batc (None, 2, 2, 256)         1024      \n",
      "_________________________________________________________________\n",
      "flatten_3 (Flatten)          (None, 1024)              0         \n",
      "_________________________________________________________________\n",
      "dense_9 (Dense)              (None, 4096)              4198400   \n",
      "_________________________________________________________________\n",
      "activation_24 (Activation)   (None, 4096)              0         \n",
      "_________________________________________________________________\n",
      "dropout_7 (Dropout)          (None, 4096)              0         \n",
      "_________________________________________________________________\n",
      "batch_normalization_22 (Batc (None, 4096)              16384     \n",
      "_________________________________________________________________\n",
      "dense_10 (Dense)             (None, 4096)              16781312  \n",
      "_________________________________________________________________\n",
      "activation_25 (Activation)   (None, 4096)              0         \n",
      "_________________________________________________________________\n",
      "dropout_8 (Dropout)          (None, 4096)              0         \n",
      "_________________________________________________________________\n",
      "batch_normalization_23 (Batc (None, 4096)              16384     \n",
      "_________________________________________________________________\n",
      "dense_11 (Dense)             (None, 1000)              4097000   \n",
      "_________________________________________________________________\n",
      "activation_26 (Activation)   (None, 1000)              0         \n",
      "_________________________________________________________________\n",
      "dropout_9 (Dropout)          (None, 1000)              0         \n",
      "_________________________________________________________________\n",
      "batch_normalization_24 (Batc (None, 1000)              4000      \n",
      "_________________________________________________________________\n",
      "dense_12 (Dense)             (None, 2)                 2002      \n",
      "_________________________________________________________________\n",
      "activation_27 (Activation)   (None, 2)                 0         \n",
      "=================================================================\n",
      "Total params: 31,215,866\n",
      "Trainable params: 31,194,730\n",
      "Non-trainable params: 21,136\n",
      "_________________________________________________________________\n"
     ]
    }
   ],
   "source": [
    "# (3) Create a sequential model\n",
    "model = Sequential()\n",
    "\n",
    "# 1st Convolutional Layer\n",
    "model.add(Conv2D(filters=96, input_shape=(255,255,2), kernel_size=(11,11),\\\n",
    " strides=(4,4), padding='valid'))\n",
    "model.add(Activation('relu'))\n",
    "# Pooling \n",
    "model.add(MaxPooling2D(pool_size=(2,2), strides=(2,2), padding='valid'))\n",
    "# Batch Normalisation before passing it to the next layer\n",
    "model.add(BatchNormalization())\n",
    "\n",
    "# 2nd Convolutional Layer\n",
    "model.add(Conv2D(filters=256, kernel_size=(11,11), strides=(1,1), padding='valid'))\n",
    "model.add(Activation('relu'))\n",
    "# Pooling\n",
    "model.add(MaxPooling2D(pool_size=(2,2), strides=(2,2), padding='valid'))\n",
    "# Batch Normalisation\n",
    "model.add(BatchNormalization())\n",
    "\n",
    "# 3rd Convolutional Layer\n",
    "model.add(Conv2D(filters=384, kernel_size=(3,3), strides=(1,1), padding='valid'))\n",
    "model.add(Activation('relu'))\n",
    "# Batch Normalisation\n",
    "model.add(BatchNormalization())\n",
    "\n",
    "# 4th Convolutional Layer\n",
    "model.add(Conv2D(filters=384, kernel_size=(3,3), strides=(1,1), padding='valid'))\n",
    "model.add(Activation('relu'))\n",
    "# Batch Normalisation\n",
    "model.add(BatchNormalization())\n",
    "\n",
    "# 5th Convolutional Layer\n",
    "model.add(Conv2D(filters=256, kernel_size=(3,3), strides=(1,1), padding='valid'))\n",
    "model.add(Activation('relu'))\n",
    "# Pooling\n",
    "model.add(MaxPooling2D(pool_size=(2,2), strides=(2,2), padding='valid'))\n",
    "# Batch Normalisation\n",
    "model.add(BatchNormalization())\n",
    "\n",
    "# Passing it to a dense layer\n",
    "model.add(Flatten())\n",
    "# 1st Dense Layer\n",
    "model.add(Dense(4096, input_shape=(224*224*3,)))\n",
    "model.add(Activation('relu'))\n",
    "# Add Dropout to prevent overfitting\n",
    "model.add(Dropout(0.4))\n",
    "# Batch Normalisation\n",
    "model.add(BatchNormalization())\n",
    "\n",
    "# 2nd Dense Layer\n",
    "model.add(Dense(4096))\n",
    "model.add(Activation('relu'))\n",
    "# Add Dropout\n",
    "model.add(Dropout(0.4))\n",
    "# Batch Normalisation\n",
    "model.add(BatchNormalization())\n",
    "\n",
    "# 3rd Dense Layer\n",
    "model.add(Dense(1000))\n",
    "model.add(Activation('relu'))\n",
    "# Add Dropout\n",
    "model.add(Dropout(0.4))\n",
    "# Batch Normalisation\n",
    "model.add(BatchNormalization())\n",
    "\n",
    "# Output Layer\n",
    "model.add(Dense(2))\n",
    "model.add(Activation('softmax'))\n",
    "\n",
    "model.summary()\n"
   ]
  },
  {
   "cell_type": "code",
   "execution_count": 67,
   "metadata": {},
   "outputs": [],
   "source": [
    "# (4) Compile \n",
    "model.compile(loss='categorical_crossentropy', optimizer='adam',\\\n",
    " metrics=['accuracy'])"
   ]
  },
  {
   "cell_type": "code",
   "execution_count": 68,
   "metadata": {},
   "outputs": [
    {
     "name": "stdout",
     "output_type": "stream",
     "text": [
      "Train on 867 samples, validate on 289 samples\n",
      "Epoch 1/30\n",
      "867/867 [==============================] - 230s 265ms/step - loss: 1.5519 - acc: 0.5098 - val_loss: 8.9297 - val_acc: 0.3772\n",
      "Epoch 2/30\n",
      "867/867 [==============================] - 199s 229ms/step - loss: 0.9556 - acc: 0.4971 - val_loss: 1.1723 - val_acc: 0.3910\n",
      "Epoch 3/30\n",
      "867/867 [==============================] - 192s 222ms/step - loss: 0.9116 - acc: 0.5190 - val_loss: 6.1879 - val_acc: 0.3772\n",
      "Epoch 4/30\n",
      "867/867 [==============================] - 200s 231ms/step - loss: 0.8629 - acc: 0.5225 - val_loss: 4.1458 - val_acc: 0.3841\n",
      "Epoch 5/30\n",
      "867/867 [==============================] - 204s 235ms/step - loss: 0.9084 - acc: 0.5098 - val_loss: 4.6055 - val_acc: 0.3772\n",
      "Epoch 6/30\n",
      "867/867 [==============================] - 203s 234ms/step - loss: 0.8256 - acc: 0.4948 - val_loss: 1.5018 - val_acc: 0.3841\n",
      "Epoch 7/30\n",
      "867/867 [==============================] - 187s 215ms/step - loss: 0.7930 - acc: 0.4971 - val_loss: 1.3110 - val_acc: 0.4256\n",
      "Epoch 8/30\n",
      "867/867 [==============================] - 181s 209ms/step - loss: 0.7846 - acc: 0.5121 - val_loss: 0.8469 - val_acc: 0.4048\n",
      "Epoch 9/30\n",
      "867/867 [==============================] - 182s 210ms/step - loss: 0.7887 - acc: 0.5294 - val_loss: 0.7213 - val_acc: 0.5225\n",
      "Epoch 10/30\n",
      "867/867 [==============================] - 181s 209ms/step - loss: 0.7580 - acc: 0.5225 - val_loss: 0.7395 - val_acc: 0.5363\n",
      "Epoch 11/30\n",
      "867/867 [==============================] - 194s 224ms/step - loss: 0.7768 - acc: 0.5398 - val_loss: 1.0234 - val_acc: 0.3910\n",
      "Epoch 12/30\n",
      "867/867 [==============================] - 203s 234ms/step - loss: 0.7580 - acc: 0.5190 - val_loss: 1.0806 - val_acc: 0.3910\n",
      "Epoch 13/30\n",
      "867/867 [==============================] - 186s 214ms/step - loss: 0.7512 - acc: 0.5202 - val_loss: 1.2293 - val_acc: 0.3910\n",
      "Epoch 14/30\n",
      "867/867 [==============================] - 182s 210ms/step - loss: 0.7694 - acc: 0.5456 - val_loss: 0.7571 - val_acc: 0.5813\n",
      "Epoch 15/30\n",
      "867/867 [==============================] - 184s 212ms/step - loss: 0.7484 - acc: 0.5456 - val_loss: 0.8631 - val_acc: 0.4048\n",
      "Epoch 16/30\n",
      "867/867 [==============================] - 193s 222ms/step - loss: 0.7249 - acc: 0.5456 - val_loss: 0.7908 - val_acc: 0.4775\n",
      "Epoch 17/30\n",
      "867/867 [==============================] - 181s 209ms/step - loss: 0.7535 - acc: 0.5409 - val_loss: 0.6888 - val_acc: 0.6228\n",
      "Epoch 18/30\n",
      "867/867 [==============================] - 181s 209ms/step - loss: 0.7204 - acc: 0.5271 - val_loss: 0.9752 - val_acc: 0.4014\n",
      "Epoch 19/30\n",
      "867/867 [==============================] - 181s 209ms/step - loss: 0.7288 - acc: 0.5559 - val_loss: 0.7393 - val_acc: 0.3979\n",
      "Epoch 20/30\n",
      "312/867 [=========>....................] - ETA: 1:46 - loss: 0.7344 - acc: 0.5513"
     ]
    },
    {
     "ename": "KeyboardInterrupt",
     "evalue": "",
     "output_type": "error",
     "traceback": [
      "\u001b[0;31m---------------------------------------------------------------------------\u001b[0m",
      "\u001b[0;31mKeyboardInterrupt\u001b[0m                         Traceback (most recent call last)",
      "\u001b[0;32m<ipython-input-68-080ed2560107>\u001b[0m in \u001b[0;36m<module>\u001b[0;34m()\u001b[0m\n\u001b[1;32m      1\u001b[0m \u001b[0;31m# (5) Train\u001b[0m\u001b[0;34m\u001b[0m\u001b[0;34m\u001b[0m\u001b[0m\n\u001b[0;32m----> 2\u001b[0;31m \u001b[0mhistory\u001b[0m\u001b[0;34m=\u001b[0m\u001b[0mmodel\u001b[0m\u001b[0;34m.\u001b[0m\u001b[0mfit\u001b[0m\u001b[0;34m(\u001b[0m\u001b[0mx\u001b[0m\u001b[0;34m,\u001b[0m \u001b[0my\u001b[0m\u001b[0;34m,\u001b[0m \u001b[0mbatch_size\u001b[0m\u001b[0;34m=\u001b[0m\u001b[0;36m24\u001b[0m\u001b[0;34m,\u001b[0m \u001b[0mepochs\u001b[0m\u001b[0;34m=\u001b[0m\u001b[0;36m30\u001b[0m\u001b[0;34m,\u001b[0m \u001b[0mverbose\u001b[0m\u001b[0;34m=\u001b[0m\u001b[0;36m1\u001b[0m\u001b[0;34m,\u001b[0m \u001b[0mvalidation_split\u001b[0m\u001b[0;34m=\u001b[0m\u001b[0;36m0.25\u001b[0m\u001b[0;34m,\u001b[0m \u001b[0mshuffle\u001b[0m\u001b[0;34m=\u001b[0m\u001b[0;32mTrue\u001b[0m\u001b[0;34m)\u001b[0m\u001b[0;34m\u001b[0m\u001b[0m\n\u001b[0m",
      "\u001b[0;32m/anaconda3/lib/python3.6/site-packages/keras/engine/training.py\u001b[0m in \u001b[0;36mfit\u001b[0;34m(self, x, y, batch_size, epochs, verbose, callbacks, validation_split, validation_data, shuffle, class_weight, sample_weight, initial_epoch, steps_per_epoch, validation_steps, **kwargs)\u001b[0m\n\u001b[1;32m   1040\u001b[0m                                         \u001b[0minitial_epoch\u001b[0m\u001b[0;34m=\u001b[0m\u001b[0minitial_epoch\u001b[0m\u001b[0;34m,\u001b[0m\u001b[0;34m\u001b[0m\u001b[0m\n\u001b[1;32m   1041\u001b[0m                                         \u001b[0msteps_per_epoch\u001b[0m\u001b[0;34m=\u001b[0m\u001b[0msteps_per_epoch\u001b[0m\u001b[0;34m,\u001b[0m\u001b[0;34m\u001b[0m\u001b[0m\n\u001b[0;32m-> 1042\u001b[0;31m                                         validation_steps=validation_steps)\n\u001b[0m\u001b[1;32m   1043\u001b[0m \u001b[0;34m\u001b[0m\u001b[0m\n\u001b[1;32m   1044\u001b[0m     def evaluate(self, x=None, y=None,\n",
      "\u001b[0;32m/anaconda3/lib/python3.6/site-packages/keras/engine/training_arrays.py\u001b[0m in \u001b[0;36mfit_loop\u001b[0;34m(model, f, ins, out_labels, batch_size, epochs, verbose, callbacks, val_f, val_ins, shuffle, callback_metrics, initial_epoch, steps_per_epoch, validation_steps)\u001b[0m\n\u001b[1;32m    197\u001b[0m                     \u001b[0mins_batch\u001b[0m\u001b[0;34m[\u001b[0m\u001b[0mi\u001b[0m\u001b[0;34m]\u001b[0m \u001b[0;34m=\u001b[0m \u001b[0mins_batch\u001b[0m\u001b[0;34m[\u001b[0m\u001b[0mi\u001b[0m\u001b[0;34m]\u001b[0m\u001b[0;34m.\u001b[0m\u001b[0mtoarray\u001b[0m\u001b[0;34m(\u001b[0m\u001b[0;34m)\u001b[0m\u001b[0;34m\u001b[0m\u001b[0m\n\u001b[1;32m    198\u001b[0m \u001b[0;34m\u001b[0m\u001b[0m\n\u001b[0;32m--> 199\u001b[0;31m                 \u001b[0mouts\u001b[0m \u001b[0;34m=\u001b[0m \u001b[0mf\u001b[0m\u001b[0;34m(\u001b[0m\u001b[0mins_batch\u001b[0m\u001b[0;34m)\u001b[0m\u001b[0;34m\u001b[0m\u001b[0m\n\u001b[0m\u001b[1;32m    200\u001b[0m                 \u001b[0;32mif\u001b[0m \u001b[0;32mnot\u001b[0m \u001b[0misinstance\u001b[0m\u001b[0;34m(\u001b[0m\u001b[0mouts\u001b[0m\u001b[0;34m,\u001b[0m \u001b[0mlist\u001b[0m\u001b[0;34m)\u001b[0m\u001b[0;34m:\u001b[0m\u001b[0;34m\u001b[0m\u001b[0m\n\u001b[1;32m    201\u001b[0m                     \u001b[0mouts\u001b[0m \u001b[0;34m=\u001b[0m \u001b[0;34m[\u001b[0m\u001b[0mouts\u001b[0m\u001b[0;34m]\u001b[0m\u001b[0;34m\u001b[0m\u001b[0m\n",
      "\u001b[0;32m/anaconda3/lib/python3.6/site-packages/keras/backend/tensorflow_backend.py\u001b[0m in \u001b[0;36m__call__\u001b[0;34m(self, inputs)\u001b[0m\n\u001b[1;32m   2659\u001b[0m                 \u001b[0;32mreturn\u001b[0m \u001b[0mself\u001b[0m\u001b[0;34m.\u001b[0m\u001b[0m_legacy_call\u001b[0m\u001b[0;34m(\u001b[0m\u001b[0minputs\u001b[0m\u001b[0;34m)\u001b[0m\u001b[0;34m\u001b[0m\u001b[0m\n\u001b[1;32m   2660\u001b[0m \u001b[0;34m\u001b[0m\u001b[0m\n\u001b[0;32m-> 2661\u001b[0;31m             \u001b[0;32mreturn\u001b[0m \u001b[0mself\u001b[0m\u001b[0;34m.\u001b[0m\u001b[0m_call\u001b[0m\u001b[0;34m(\u001b[0m\u001b[0minputs\u001b[0m\u001b[0;34m)\u001b[0m\u001b[0;34m\u001b[0m\u001b[0m\n\u001b[0m\u001b[1;32m   2662\u001b[0m         \u001b[0;32melse\u001b[0m\u001b[0;34m:\u001b[0m\u001b[0;34m\u001b[0m\u001b[0m\n\u001b[1;32m   2663\u001b[0m             \u001b[0;32mif\u001b[0m \u001b[0mpy_any\u001b[0m\u001b[0;34m(\u001b[0m\u001b[0mis_tensor\u001b[0m\u001b[0;34m(\u001b[0m\u001b[0mx\u001b[0m\u001b[0;34m)\u001b[0m \u001b[0;32mfor\u001b[0m \u001b[0mx\u001b[0m \u001b[0;32min\u001b[0m \u001b[0minputs\u001b[0m\u001b[0;34m)\u001b[0m\u001b[0;34m:\u001b[0m\u001b[0;34m\u001b[0m\u001b[0m\n",
      "\u001b[0;32m/anaconda3/lib/python3.6/site-packages/keras/backend/tensorflow_backend.py\u001b[0m in \u001b[0;36m_call\u001b[0;34m(self, inputs)\u001b[0m\n\u001b[1;32m   2629\u001b[0m                                 \u001b[0msymbol_vals\u001b[0m\u001b[0;34m,\u001b[0m\u001b[0;34m\u001b[0m\u001b[0m\n\u001b[1;32m   2630\u001b[0m                                 session)\n\u001b[0;32m-> 2631\u001b[0;31m         \u001b[0mfetched\u001b[0m \u001b[0;34m=\u001b[0m \u001b[0mself\u001b[0m\u001b[0;34m.\u001b[0m\u001b[0m_callable_fn\u001b[0m\u001b[0;34m(\u001b[0m\u001b[0;34m*\u001b[0m\u001b[0marray_vals\u001b[0m\u001b[0;34m)\u001b[0m\u001b[0;34m\u001b[0m\u001b[0m\n\u001b[0m\u001b[1;32m   2632\u001b[0m         \u001b[0;32mreturn\u001b[0m \u001b[0mfetched\u001b[0m\u001b[0;34m[\u001b[0m\u001b[0;34m:\u001b[0m\u001b[0mlen\u001b[0m\u001b[0;34m(\u001b[0m\u001b[0mself\u001b[0m\u001b[0;34m.\u001b[0m\u001b[0moutputs\u001b[0m\u001b[0;34m)\u001b[0m\u001b[0;34m]\u001b[0m\u001b[0;34m\u001b[0m\u001b[0m\n\u001b[1;32m   2633\u001b[0m \u001b[0;34m\u001b[0m\u001b[0m\n",
      "\u001b[0;32m/anaconda3/lib/python3.6/site-packages/tensorflow/python/client/session.py\u001b[0m in \u001b[0;36m__call__\u001b[0;34m(self, *args)\u001b[0m\n\u001b[1;32m   1449\u001b[0m         \u001b[0;32mif\u001b[0m \u001b[0mself\u001b[0m\u001b[0;34m.\u001b[0m\u001b[0m_session\u001b[0m\u001b[0;34m.\u001b[0m\u001b[0m_created_with_new_api\u001b[0m\u001b[0;34m:\u001b[0m\u001b[0;34m\u001b[0m\u001b[0m\n\u001b[1;32m   1450\u001b[0m           return tf_session.TF_SessionRunCallable(\n\u001b[0;32m-> 1451\u001b[0;31m               self._session._session, self._handle, args, status, None)\n\u001b[0m\u001b[1;32m   1452\u001b[0m         \u001b[0;32melse\u001b[0m\u001b[0;34m:\u001b[0m\u001b[0;34m\u001b[0m\u001b[0m\n\u001b[1;32m   1453\u001b[0m           return tf_session.TF_DeprecatedSessionRunCallable(\n",
      "\u001b[0;31mKeyboardInterrupt\u001b[0m: "
     ]
    }
   ],
   "source": [
    "# (5) Train\n",
    "history=model.fit(x, y, batch_size=24, epochs=30, verbose=1, \\\n",
    "validation_split=0.25, shuffle=True)"
   ]
  },
  {
   "cell_type": "code",
   "execution_count": null,
   "metadata": {},
   "outputs": [],
   "source": [
    "# list all data in history\n",
    "print(history.history.keys())\n"
   ]
  },
  {
   "cell_type": "code",
   "execution_count": null,
   "metadata": {},
   "outputs": [],
   "source": [
    "# summarize history for accuracy\n",
    "plt.plot(history.history['acc'])\n",
    "plt.plot(history.history['val_acc'])\n",
    "plt.title('model accuracy')\n",
    "plt.ylabel('accuracy')\n",
    "plt.xlabel('epoch')\n",
    "plt.legend(['train', 'test'], loc='upper left')\n",
    "plt.show()"
   ]
  },
  {
   "cell_type": "code",
   "execution_count": null,
   "metadata": {},
   "outputs": [],
   "source": [
    "# summarize history for loss\n",
    "plt.plot(history.history['loss'])\n",
    "plt.plot(history.history['val_loss'])\n",
    "plt.title('model loss')\n",
    "plt.ylabel('loss')\n",
    "plt.xlabel('epoch')\n",
    "plt.legend(['train', 'test'], loc='upper left')\n",
    "plt.show()"
   ]
  },
  {
   "cell_type": "code",
   "execution_count": null,
   "metadata": {},
   "outputs": [],
   "source": []
  }
 ],
 "metadata": {
  "kernelspec": {
   "display_name": "Python 3",
   "language": "python",
   "name": "python3"
  },
  "language_info": {
   "codemirror_mode": {
    "name": "ipython",
    "version": 3
   },
   "file_extension": ".py",
   "mimetype": "text/x-python",
   "name": "python",
   "nbconvert_exporter": "python",
   "pygments_lexer": "ipython3",
   "version": "3.6.4"
  }
 },
 "nbformat": 4,
 "nbformat_minor": 2
}
